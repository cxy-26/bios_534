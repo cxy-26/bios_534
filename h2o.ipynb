{
 "cells": [
  {
   "cell_type": "code",
   "execution_count": 2,
   "metadata": {},
   "outputs": [
    {
     "name": "stdout",
     "output_type": "stream",
     "text": [
      "Checking whether there is an H2O instance running at http://localhost:54321 ..... not found.\n",
      "Attempting to start a local H2O server...\n",
      "  Java Version: java version \"13.0.2\" 2020-01-14; Java(TM) SE Runtime Environment (build 13.0.2+8); Java HotSpot(TM) 64-Bit Server VM (build 13.0.2+8, mixed mode, sharing)\n",
      "  Starting server from /Users/esteban/opt/anaconda3/lib/python3.7/site-packages/h2o/backend/bin/h2o.jar\n",
      "  Ice root: /var/folders/8l/xpk2d_2x1c1116bc25zcdvmr0000gn/T/tmpal4i85a6\n",
      "  JVM stdout: /var/folders/8l/xpk2d_2x1c1116bc25zcdvmr0000gn/T/tmpal4i85a6/h2o_esteban_started_from_python.out\n",
      "  JVM stderr: /var/folders/8l/xpk2d_2x1c1116bc25zcdvmr0000gn/T/tmpal4i85a6/h2o_esteban_started_from_python.err\n",
      "  Server is running at http://127.0.0.1:54321\n",
      "Connecting to H2O server at http://127.0.0.1:54321 ... successful.\n"
     ]
    },
    {
     "data": {
      "text/html": [
       "<div style=\"overflow:auto\"><table style=\"width:50%\"><tr><td>H2O_cluster_uptime:</td>\n",
       "<td>03 secs</td></tr>\n",
       "<tr><td>H2O_cluster_timezone:</td>\n",
       "<td>America/New_York</td></tr>\n",
       "<tr><td>H2O_data_parsing_timezone:</td>\n",
       "<td>UTC</td></tr>\n",
       "<tr><td>H2O_cluster_version:</td>\n",
       "<td>3.32.0.2</td></tr>\n",
       "<tr><td>H2O_cluster_version_age:</td>\n",
       "<td>1 month and 26 days </td></tr>\n",
       "<tr><td>H2O_cluster_name:</td>\n",
       "<td>H2O_from_python_esteban_9wa1d7</td></tr>\n",
       "<tr><td>H2O_cluster_total_nodes:</td>\n",
       "<td>1</td></tr>\n",
       "<tr><td>H2O_cluster_free_memory:</td>\n",
       "<td>2 Gb</td></tr>\n",
       "<tr><td>H2O_cluster_total_cores:</td>\n",
       "<td>8</td></tr>\n",
       "<tr><td>H2O_cluster_allowed_cores:</td>\n",
       "<td>8</td></tr>\n",
       "<tr><td>H2O_cluster_status:</td>\n",
       "<td>accepting new members, healthy</td></tr>\n",
       "<tr><td>H2O_connection_url:</td>\n",
       "<td>http://127.0.0.1:54321</td></tr>\n",
       "<tr><td>H2O_connection_proxy:</td>\n",
       "<td>{\"http\": null, \"https\": null}</td></tr>\n",
       "<tr><td>H2O_internal_security:</td>\n",
       "<td>False</td></tr>\n",
       "<tr><td>H2O_API_Extensions:</td>\n",
       "<td>Amazon S3, XGBoost, Algos, AutoML, Core V3, TargetEncoder, Core V4</td></tr>\n",
       "<tr><td>Python_version:</td>\n",
       "<td>3.7.7 final</td></tr></table></div>"
      ],
      "text/plain": [
       "--------------------------  ------------------------------------------------------------------\n",
       "H2O_cluster_uptime:         03 secs\n",
       "H2O_cluster_timezone:       America/New_York\n",
       "H2O_data_parsing_timezone:  UTC\n",
       "H2O_cluster_version:        3.32.0.2\n",
       "H2O_cluster_version_age:    1 month and 26 days\n",
       "H2O_cluster_name:           H2O_from_python_esteban_9wa1d7\n",
       "H2O_cluster_total_nodes:    1\n",
       "H2O_cluster_free_memory:    2 Gb\n",
       "H2O_cluster_total_cores:    8\n",
       "H2O_cluster_allowed_cores:  8\n",
       "H2O_cluster_status:         accepting new members, healthy\n",
       "H2O_connection_url:         http://127.0.0.1:54321\n",
       "H2O_connection_proxy:       {\"http\": null, \"https\": null}\n",
       "H2O_internal_security:      False\n",
       "H2O_API_Extensions:         Amazon S3, XGBoost, Algos, AutoML, Core V3, TargetEncoder, Core V4\n",
       "Python_version:             3.7.7 final\n",
       "--------------------------  ------------------------------------------------------------------"
      ]
     },
     "metadata": {},
     "output_type": "display_data"
    }
   ],
   "source": [
    "import h2o\n",
    "h2o.init()"
   ]
  },
  {
   "cell_type": "code",
   "execution_count": 5,
   "metadata": {},
   "outputs": [
    {
     "name": "stdout",
     "output_type": "stream",
     "text": [
      "Information on the H2o instance \n",
      " \n",
      "Network Test: Launched from /127.0.0.1:54321\n"
     ]
    },
    {
     "data": {
      "text/html": [
       "<div>\n",
       "<style scoped>\n",
       "    .dataframe tbody tr th:only-of-type {\n",
       "        vertical-align: middle;\n",
       "    }\n",
       "\n",
       "    .dataframe tbody tr th {\n",
       "        vertical-align: top;\n",
       "    }\n",
       "\n",
       "    .dataframe thead th {\n",
       "        text-align: right;\n",
       "    }\n",
       "</style>\n",
       "<table border=\"1\" class=\"dataframe\">\n",
       "  <thead>\n",
       "    <tr style=\"text-align: right;\">\n",
       "      <th></th>\n",
       "      <th>destination</th>\n",
       "      <th>1_bytes</th>\n",
       "      <th>1024_bytes</th>\n",
       "      <th>1048576_bytes</th>\n",
       "    </tr>\n",
       "  </thead>\n",
       "  <tbody>\n",
       "    <tr>\n",
       "      <th>0</th>\n",
       "      <td>all - collective bcast/reduce</td>\n",
       "      <td>342 usec, 5.7 KB/S</td>\n",
       "      <td>128 usec, 15.2 MB/S</td>\n",
       "      <td>100 usec, 19.47 GB/S</td>\n",
       "    </tr>\n",
       "    <tr>\n",
       "      <th>1</th>\n",
       "      <td>self /127.0.0.1:54321</td>\n",
       "      <td>357 usec, 5.5 KB/S</td>\n",
       "      <td>177 usec, 11.0 MB/S</td>\n",
       "      <td>123 usec, 15.76 GB/S</td>\n",
       "    </tr>\n",
       "  </tbody>\n",
       "</table>\n",
       "</div>"
      ],
      "text/plain": [
       "                     destination             1_bytes           1024_bytes  \\\n",
       "0  all - collective bcast/reduce  342 usec, 5.7 KB/S  128 usec, 15.2 MB/S   \n",
       "1          self /127.0.0.1:54321  357 usec, 5.5 KB/S  177 usec, 11.0 MB/S   \n",
       "\n",
       "          1048576_bytes  \n",
       "0  100 usec, 19.47 GB/S  \n",
       "1  123 usec, 15.76 GB/S  "
      ]
     },
     "metadata": {},
     "output_type": "display_data"
    },
    {
     "name": "stdout",
     "output_type": "stream",
     "text": [
      "{'__meta': {'schema_version': 3, 'schema_name': 'NetworkTestV3', 'schema_type': 'NetworkTest'}, '_exclude_fields': '', 'microseconds_collective': [342.868, 128.0874, 100.312], 'bandwidths_collective': [5833.148616960463, 15989082.454636442, 20906292367.812428], 'microseconds': [[357.43390000000005], [177.50279999999998], [123.913]], 'bandwidths': [[5595.440163901633], [11537846.163553478], [16924390499.786142]], 'nodes': ['/127.0.0.1:54321'], 'table': }\n"
     ]
    }
   ],
   "source": [
    "res = h2o.api(\"GET /3/NetworkTest\")\n",
    "print(\"Information on the H2o instance \\n\",res)"
   ]
  },
  {
   "cell_type": "code",
   "execution_count": 4,
   "metadata": {},
   "outputs": [
    {
     "name": "stdout",
     "output_type": "stream",
     "text": [
      "\n",
      "Network Test: Launched from /127.0.0.1:54321\n"
     ]
    },
    {
     "data": {
      "text/html": [
       "<div>\n",
       "<style scoped>\n",
       "    .dataframe tbody tr th:only-of-type {\n",
       "        vertical-align: middle;\n",
       "    }\n",
       "\n",
       "    .dataframe tbody tr th {\n",
       "        vertical-align: top;\n",
       "    }\n",
       "\n",
       "    .dataframe thead th {\n",
       "        text-align: right;\n",
       "    }\n",
       "</style>\n",
       "<table border=\"1\" class=\"dataframe\">\n",
       "  <thead>\n",
       "    <tr style=\"text-align: right;\">\n",
       "      <th></th>\n",
       "      <th>destination</th>\n",
       "      <th>1_bytes</th>\n",
       "      <th>1024_bytes</th>\n",
       "      <th>1048576_bytes</th>\n",
       "    </tr>\n",
       "  </thead>\n",
       "  <tbody>\n",
       "    <tr>\n",
       "      <th>0</th>\n",
       "      <td>all - collective bcast/reduce</td>\n",
       "      <td>1.713 msec, 1.1 KB/S</td>\n",
       "      <td>131 usec, 14.9 MB/S</td>\n",
       "      <td>123 usec, 15.86 GB/S</td>\n",
       "    </tr>\n",
       "    <tr>\n",
       "      <th>1</th>\n",
       "      <td>self /127.0.0.1:54321</td>\n",
       "      <td>726 usec, 2.7 KB/S</td>\n",
       "      <td>163 usec, 11.9 MB/S</td>\n",
       "      <td>66 usec, 29.52 GB/S</td>\n",
       "    </tr>\n",
       "  </tbody>\n",
       "</table>\n",
       "</div>"
      ],
      "text/plain": [
       "                     destination                 1_bytes           1024_bytes  \\\n",
       "0  all - collective bcast/reduce    1.713 msec, 1.1 KB/S  131 usec, 14.9 MB/S   \n",
       "1          self /127.0.0.1:54321      726 usec, 2.7 KB/S  163 usec, 11.9 MB/S   \n",
       "\n",
       "          1048576_bytes  \n",
       "0  123 usec, 15.86 GB/S  \n",
       "1   66 usec, 29.52 GB/S  "
      ]
     },
     "metadata": {},
     "output_type": "display_data"
    },
    {
     "data": {
      "text/plain": [
       "{'__meta': {'schema_version': 3,\n",
       "  'schema_name': 'NetworkTestV3',\n",
       "  'schema_type': 'NetworkTest'},\n",
       " '_exclude_fields': '',\n",
       " 'microseconds_collective': [1713.5244, 131.2306, 123.17960000000001],\n",
       " 'bandwidths_collective': [1167.1850135311759,\n",
       "  15606116.2564219,\n",
       "  17025156762.970493],\n",
       " 'microseconds': [[726.2216], [163.777], [66.1734]],\n",
       " 'bandwidths': [[2753.980327767723],\n",
       "  [12504808.367475288],\n",
       "  [31691767386.895638]],\n",
       " 'nodes': ['/127.0.0.1:54321'],\n",
       " 'table': }"
      ]
     },
     "execution_count": 4,
     "metadata": {},
     "output_type": "execute_result"
    }
   ],
   "source": [
    "res"
   ]
  },
  {
   "cell_type": "code",
   "execution_count": null,
   "metadata": {},
   "outputs": [],
   "source": []
  }
 ],
 "metadata": {
  "kernelspec": {
   "display_name": "Python 3",
   "language": "python",
   "name": "python3"
  },
  "language_info": {
   "codemirror_mode": {
    "name": "ipython",
    "version": 3
   },
   "file_extension": ".py",
   "mimetype": "text/x-python",
   "name": "python",
   "nbconvert_exporter": "python",
   "pygments_lexer": "ipython3",
   "version": "3.7.7"
  }
 },
 "nbformat": 4,
 "nbformat_minor": 4
}
