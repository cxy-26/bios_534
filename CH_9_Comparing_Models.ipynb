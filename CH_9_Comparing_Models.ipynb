{
 "cells": [
  {
   "cell_type": "markdown",
   "metadata": {},
   "source": [
    "# Comparing Models\n",
    "\n",
    "Steve Pittard wsp@emory.edu (citations to other sources are inline) \n",
    "\n",
    "We could look at models individually to see how they perform against each other.  It also provides an opportunity to introduce the concept of hyperparameters which are important to consider since many ML methods will use them. We have already established the concept of a confusion matrix which helps us compute some interesting metrics including:\n",
    "\n",
    "- sensitivity\n",
    "- specificty\n",
    "- accuracy\n",
    "\n",
    "There are also some composite measures such as F1, AUC (Area Under Curve). Before trying to compare individual models we usually establish one or more of these as the metric by which we will judge the predictive power of various models we might build. Note that we aren't obligated to build lots of models and it might make more sense to build a basic model and fine tune it, without over training it though, to get the more realistic performance we can on unseen data. It does is little good to have a model that performance extraordinarily well on training data but fails to realistically apply to new data. Let's ease into the dicussion by continuing with Decision Trees.\n",
    "\n",
    "Many people are also surprised to learn that random Forests (or even a single Decision Tree) can be used to predict a numeric outcome, but they can be. The advantages of using random Forests include the following:\n",
    "\n",
    "- easy to use\n",
    "- resistant to overfitting\n",
    "- accurate use for non linear models\n",
    "- can be used to predict numeric or binary outcomes \n",
    "\n",
    "Disadvantages include:\n",
    "\n",
    "- the rf function requires setting hyperparameters \n",
    "- adjustment of hyperparameters can be specific to the data set\n",
    "- default vlaues will requie adjustment or \"tuning\"\n",
    "\n",
    "\n",
    "<img src=\"pics/bagging.png\" width =\"600\" height=600>\n",
    "\n",
    "See [Wikipedia Commons](https://commons.wikimedia.org/wiki/File:DTE_Bagging.png) \n",
    "\n",
    "Let's look at some of the tree methods (again) since we don't have to worry about scaling and converting categoies via one hot encoding. We want to see if we can get comparable performance from the various methods. \n",
    "\n",
    "## Back To Basics\n",
    "\n",
    "We will start out with a basic approach here of building a couple of models to focus on what we can do at the individual model level first and then move beyond that."
   ]
  },
  {
   "cell_type": "code",
   "execution_count": 34,
   "metadata": {},
   "outputs": [],
   "source": [
    "import pandas as pd\n",
    "from sklearn.model_selection import train_test_split\n",
    "\n",
    "url = \"https://raw.githubusercontent.com/steviep42/bios534_spring_2020/master/data/pima.csv\"\n",
    "pm = pd.read_csv(url, sep=',')\n",
    "\n",
    "X = pm.drop('diabetes',axis=1)\n",
    "y = pm.diabetes\n",
    "\n",
    "# There is a reason I'm doing the following which I will\n",
    "# later explain\n",
    "\n",
    "X_train = X\n",
    "y_train = y"
   ]
  },
  {
   "cell_type": "markdown",
   "metadata": {},
   "source": [
    "So now let's build a Decision Tree Classifier on this X, y data."
   ]
  },
  {
   "cell_type": "code",
   "execution_count": 35,
   "metadata": {},
   "outputs": [
    {
     "data": {
      "text/plain": [
       "0.837"
      ]
     },
     "execution_count": 35,
     "metadata": {},
     "output_type": "execute_result"
    }
   ],
   "source": [
    "from sklearn.tree import DecisionTreeClassifier\n",
    "dtc = DecisionTreeClassifier(max_depth=5)\n",
    "dtc.fit(X_train,y_train)\n",
    "dtc.score(X_train,y_train).round(3)"
   ]
  },
  {
   "cell_type": "markdown",
   "metadata": {},
   "source": [
    "So what method does the \"score\" method use ? It uses accuracy which may not be the best metric for the job. However, since it is easy to compute, we frequently use it as a quick assessment. How would we look at other scoring metrics ? We've done this before but check out this list from the [scikit-learn page on metrics](https://scikit-learn.org/stable/modules/classes.html#module-sklearn.metrics) A good overview is the classification_report function"
   ]
  },
  {
   "cell_type": "code",
   "execution_count": 36,
   "metadata": {},
   "outputs": [
    {
     "name": "stdout",
     "output_type": "stream",
     "text": [
      "              precision    recall  f1-score   support\n",
      "\n",
      "         neg       0.85      0.90      0.88       500\n",
      "         pos       0.80      0.71      0.75       268\n",
      "\n",
      "    accuracy                           0.84       768\n",
      "   macro avg       0.83      0.81      0.82       768\n",
      "weighted avg       0.84      0.84      0.83       768\n",
      "\n"
     ]
    }
   ],
   "source": [
    "from sklearn.metrics import classification_report\n",
    "# classification report takes the true y vals and the estimated y vals\n",
    "\n",
    "# Train the model\n",
    "dtc.fit(X_train,y_train)\n",
    "\n",
    "# Predict on the train data\n",
    "y_dtc_preds = dtc.predict(X_train)\n",
    "\n",
    "print(classification_report(y_train,y_dtc_preds))"
   ]
  },
  {
   "cell_type": "markdown",
   "metadata": {},
   "source": [
    "The problem here is that it's just a report and if we needed to access this information then we need to set an argument to get the dictionary with the results. "
   ]
  },
  {
   "cell_type": "code",
   "execution_count": 37,
   "metadata": {},
   "outputs": [
    {
     "name": "stdout",
     "output_type": "stream",
     "text": [
      "neg {'precision': 0.8544423440453687, 'recall': 0.904, 'f1-score': 0.8785228377065112, 'support': 500} \n",
      "\n",
      "pos {'precision': 0.799163179916318, 'recall': 0.7126865671641791, 'f1-score': 0.7534516765285996, 'support': 268} \n",
      "\n",
      "accuracy 0.8372395833333334 \n",
      "\n",
      "macro avg {'precision': 0.8268027619808433, 'recall': 0.8083432835820896, 'f1-score': 0.8159872571175554, 'support': 768} \n",
      "\n",
      "weighted avg {'precision': 0.8351522190628353, 'recall': 0.8372395833333334, 'f1-score': 0.8348782137538024, 'support': 768} \n",
      "\n",
      "Accuracy is:  0.837\n"
     ]
    }
   ],
   "source": [
    "my_class = classification_report(y_train,y_dtc_preds,output_dict=True)\n",
    "[print(key, value,\"\\n\") for key, value in my_class.items()]\n",
    "print(\"Accuracy is: \",round(my_class['accuracy'],3))"
   ]
  },
  {
   "cell_type": "markdown",
   "metadata": {},
   "source": [
    "You can also pull in more information like the recall (sensitivty) or AUC and ROC curve which are good metrics for classification problems. However, keep in mind that what we are dealing with under the hood are probabilities that an observation is positive or negative. What we get when making a prediction is a \"pos\" or \"neg\" label although this decision is made using probabilities. "
   ]
  },
  {
   "cell_type": "code",
   "execution_count": 38,
   "metadata": {},
   "outputs": [
    {
     "data": {
      "text/plain": [
       "array([[0.13513514, 0.86486486],\n",
       "       [0.8490566 , 0.1509434 ],\n",
       "       [0.33333333, 0.66666667],\n",
       "       [0.99333333, 0.00666667],\n",
       "       [0.13513514, 0.86486486],\n",
       "       [1.        , 0.        ],\n",
       "       [0.91666667, 0.08333333],\n",
       "       [0.5952381 , 0.4047619 ],\n",
       "       [0.24      , 0.76      ]])"
      ]
     },
     "execution_count": 38,
     "metadata": {},
     "output_type": "execute_result"
    }
   ],
   "source": [
    "# The first column represents the probability of \"neg\"\n",
    "# The second column represents the probability of \"pos\"\n",
    "dtc.predict_proba(X_train)[0:9]"
   ]
  },
  {
   "cell_type": "code",
   "execution_count": 39,
   "metadata": {},
   "outputs": [
    {
     "data": {
      "text/plain": [
       "array(['pos', 'neg', 'pos', 'neg', 'pos', 'neg', 'neg', 'neg', 'pos'],\n",
       "      dtype=object)"
      ]
     },
     "execution_count": 39,
     "metadata": {},
     "output_type": "execute_result"
    }
   ],
   "source": [
    "dtc.predict(X_train)[0:9]"
   ]
  },
  {
   "cell_type": "markdown",
   "metadata": {},
   "source": [
    "And if we are going to be generating the AUC then we need the probabilities as opposed to the labels since to get the AUC requires looking at various thresholds."
   ]
  },
  {
   "cell_type": "code",
   "execution_count": 40,
   "metadata": {},
   "outputs": [
    {
     "data": {
      "text/plain": [
       "0.911"
      ]
     },
     "execution_count": 40,
     "metadata": {},
     "output_type": "execute_result"
    }
   ],
   "source": [
    "from sklearn.metrics import roc_auc_score\n",
    "#\n",
    "pred = dtc.predict_proba(X_train)\n",
    "roc_auc_score(y_train, pred[:,1]).round(3)"
   ]
  },
  {
   "cell_type": "code",
   "execution_count": 41,
   "metadata": {},
   "outputs": [
    {
     "name": "stdout",
     "output_type": "stream",
     "text": [
      "AUC is: 0.91\n"
     ]
    },
    {
     "data": {
      "image/png": "[encoded data removed]",
      "text/plain": [
       "<Figure size 432x288 with 1 Axes>"
      ]
     },
     "metadata": {
      "needs_background": "light"
     },
     "output_type": "display_data"
    }
   ],
   "source": [
    "# Plot the ROC Curve\n",
    "import matplotlib.pyplot as plt\n",
    "from sklearn.metrics import plot_roc_curve, roc_curve\n",
    "\n",
    "# The plot_roc_curve takes the model and the X, y data\n",
    "# It handles the probability extraction for us\n",
    "plot_roc_curve(dtc, X_train, y_train)\n",
    "\n",
    "print(\"AUC is:\",round(roc_auc_score(y_train,dtc.predict_proba(X_train)[:,1]),2))\n",
    "\n",
    "plt.grid()\n",
    "plt.plot([0, 1], [0, 1], color = 'black', linewidth = 1, linestyle=\"dotted\")\n",
    "plt.title(f\"ROC Curve\")\n",
    "plt.show()\n"
   ]
  },
  {
   "cell_type": "markdown",
   "metadata": {},
   "source": [
    "## Self Comparison\n",
    "\n",
    "So we could try to see how a series of single trees would perform given bootstrap sampling of the training data. Note that we would be creating a training and test pair from the existing X_train by sampling it with replacement which will result in some duplicated records. After that, we could then use the records that were NOT sampled as a test data set. This is also known as the OOB \"out-of-band\" samples. Here, we are managing the sampling of the data ourselves."
   ]
  },
  {
   "cell_type": "code",
   "execution_count": 42,
   "metadata": {},
   "outputs": [
    {
     "name": "stdout",
     "output_type": "stream",
     "text": [
      "The shape of X_train_spl: (768, 8)\n",
      "The shape of X_oob: (272, 8)\n"
     ]
    }
   ],
   "source": [
    "import numpy as np\n",
    "from sklearn.utils import resample\n",
    "from collections import Counter\n",
    "\n",
    "# Get a bootstrapped sample\n",
    "idx_spl = resample(np.arange(X_train.shape[0]))\n",
    "X_train_spl = X_train.iloc[idx_spl]\n",
    "y_train_spl = y_train.iloc[idx_spl]\n",
    "\n",
    "# Verify that some records are duplicates as per the \n",
    "[count for item, count in Counter(idx_spl).items()][0:10]\n",
    "\n",
    "idx_oob = np.setdiff1d(np.arange(X_train.shape[0]),idx_spl)\n",
    "X_oob = X_train.iloc[idx_oob]\n",
    "y_oob = y_train.iloc[idx_oob]\n",
    "\n",
    "#\n",
    "print(\"The shape of X_train_spl:\",X_train_spl.shape)\n",
    "print(\"The shape of X_oob:\",X_oob.shape)\n"
   ]
  },
  {
   "cell_type": "markdown",
   "metadata": {},
   "source": [
    "Let's make a loop to evaluate an arbitray number of individual trees using the defaults to the DecisionTreeClassifier function. Each time through the loop, we will work with a variation of the X_train data and store the predicted OOB accuracy. "
   ]
  },
  {
   "cell_type": "code",
   "execution_count": 44,
   "metadata": {},
   "outputs": [
    {
     "data": {
      "image/png": "[encoded data removed]",
      "text/plain": [
       "<Figure size 576x432 with 2 Axes>"
      ]
     },
     "metadata": {
      "needs_background": "light"
     },
     "output_type": "display_data"
    }
   ],
   "source": [
    "scores = []\n",
    "num_of_trees = 300\n",
    "for ii in range(num_of_trees):\n",
    "    \n",
    "    # Get a bootstrapped sample\n",
    "    # Sample with replacement\n",
    "    idx_spl = resample(np.arange(X_train.shape[0]))\n",
    "    X_train_spl = X_train.iloc[idx_spl]\n",
    "    y_train_spl = y_train.iloc[idx_spl]\n",
    "\n",
    "    # Get the indicies that we not used in the training sample\n",
    "    idx_oob = np.setdiff1d(np.arange(X_train.shape[0]),idx_spl)\n",
    "    X_oob = X_train.iloc[idx_oob]\n",
    "    y_oob = y_train.iloc[idx_oob]\n",
    "    \n",
    "    # Build the Decisition tree\n",
    "    dtc = DecisionTreeClassifier()\n",
    "    dtc.fit(X_train_spl,y_train_spl)\n",
    "    \n",
    "    # Get Accuracy\n",
    "    acc = dtc.score(X_train,y_train)\n",
    "    \n",
    "    # Score the Decision Tree on the OOB data\n",
    "    scores.append(acc.round(3))\n",
    "\n",
    "# Plot the accuracy of an increasing number of trees\n",
    "import matplotlib.pyplot as plt\n",
    "# Creates two subplots and unpacks the output array immediately\n",
    "f, (ax1, ax2) = plt.subplots(2, 1,figsize=(8,6))\n",
    "\n",
    "ax1.plot(range(len(scores)),scores)\n",
    "ax1.set_title(f\"Accuracy Over %s Trees - OOB\" % num_of_trees)\n",
    "ax1.grid()\n",
    "\n",
    "ax2.boxplot(scores)\n",
    "ax2.set_title(f\"OOB Accuracy for %s Trees\" % num_of_trees)\n",
    "ax2.grid()\n",
    "plt.tight_layout()"
   ]
  },
  {
   "cell_type": "markdown",
   "metadata": {},
   "source": [
    "## Hyperparameter Tuning\n",
    "\n",
    "We don't really see a pattern here except that the accuracy varies over a range of values. We haven't attempted to alter any of the default parameters used by the method itself so the variation we see is likely due to the bootstrapping. The point of this exercise is to show how the default DecisionTreeClassifier alone can vary significantly over different versions of the data. So perhaps tuning it might help increase accuracy or other metrics we might select. Let's look at AUC Well also play around the with **max_depth** parameter."
   ]
  },
  {
   "cell_type": "code",
   "execution_count": 45,
   "metadata": {},
   "outputs": [
    {
     "data": {
      "text/plain": [
       "0.998"
      ]
     },
     "execution_count": 45,
     "metadata": {},
     "output_type": "execute_result"
    }
   ],
   "source": [
    "dtc = DecisionTreeClassifier(max_depth=10)\n",
    "\n",
    "# Train the model\n",
    "dtc.fit(X_train,y_train)\n",
    "\n",
    "# Predict on the train data\n",
    "y_dtc_preds = dtc.predict_proba(X_train)\n",
    "\n",
    "pred = dtc.predict_proba(X_train)\n",
    "roc_auc_score(y_train, pred[:,1]).round(3)"
   ]
  },
  {
   "cell_type": "markdown",
   "metadata": {},
   "source": [
    "And we could play this game again, and again, and again"
   ]
  },
  {
   "cell_type": "code",
   "execution_count": 46,
   "metadata": {},
   "outputs": [
    {
     "data": {
      "image/png": "[encoded data removed]",
      "text/plain": [
       "<Figure size 432x288 with 1 Axes>"
      ]
     },
     "metadata": {
      "needs_background": "light"
     },
     "output_type": "display_data"
    }
   ],
   "source": [
    "def dt(max_depth=1):\n",
    "    dtc = DecisionTreeClassifier(max_depth=max_depth)\n",
    "\n",
    "    # Train the model\n",
    "    dtc.fit(X_train,y_train)\n",
    "\n",
    "    # Predict on the train data\n",
    "    y_dtc_preds = dtc.predict_proba(X_train)\n",
    "\n",
    "    pred = dtc.predict_proba(X_train)\n",
    "    return(roc_auc_score(y_train, pred[:,1]).round(3))\n",
    "\n",
    "auc_scores = [dt(max_depth=depth) for depth in np.arange(1,20)]\n",
    "plt.plot(np.arange(1,20),auc_scores)\n",
    "plt.title(\"AUC as a function of max_Depth\")\n",
    "plt.xlabel(\"Depth of Decistion Tree\")\n",
    "plt.ylabel(\"AUC Value\")\n",
    "plt.grid()"
   ]
  },
  {
   "cell_type": "markdown",
   "metadata": {},
   "source": [
    "We could even write a function that handles this for us. And while we are at it, why not also report the accuracy of the predictions on the training data ? It's not that difficult to add in since it is on the same scale (0 - 1.0). "
   ]
  },
  {
   "cell_type": "code",
   "execution_count": 47,
   "metadata": {},
   "outputs": [
    {
     "data": {
      "image/png": "[encoded data removed]",
      "text/plain": [
       "<Figure size 432x288 with 1 Axes>"
      ]
     },
     "metadata": {
      "needs_background": "light"
     },
     "output_type": "display_data"
    }
   ],
   "source": [
    "def dt(max_depth=1):\n",
    "    dtc = DecisionTreeClassifier(max_depth=max_depth)\n",
    "\n",
    "    # Train the model\n",
    "    dtc.fit(X_train,y_train)\n",
    "\n",
    "    # Get Prediction Probabilities on the train data\n",
    "    pred = dtc.predict_proba(X_train)\n",
    "    auc  = roc_auc_score(y_train, pred[:,1]).round(3)\n",
    "    \n",
    "    # Get the accuracy\n",
    "    acc = dtc.score(X_train,y_train)\n",
    "    return([acc.round(3),auc.round(3)])\n",
    "\n",
    "# Try a number of trees up to an include 20\n",
    "hold = [dt(max_depth=depth) for depth in np.arange(1,20)]\n",
    "\n",
    "hold_df = pd.DataFrame(hold,columns=['acc','auc'])\n",
    "\n",
    "plt.plot(hold_df.index.values,hold_df.acc,label=\"Accuracy\")\n",
    "plt.plot(hold_df.index.values,hold_df.auc,label=\"AUC\")\n",
    "\n",
    "plt.title(\"Accuracy and AUC as a function of max_Depth\")\n",
    "plt.xlabel(\"Depth of Decision Tree\")\n",
    "plt.xlim([0,20])\n",
    "\n",
    "plt.ylabel(\"AUC and Accuracy Values\")\n",
    "plt.legend()\n",
    "plt.grid()"
   ]
  },
  {
   "cell_type": "code",
   "execution_count": 48,
   "metadata": {},
   "outputs": [
    {
     "data": {
      "image/png": "[encoded data removed]",
      "text/plain": [
       "<Figure size 576x576 with 2 Axes>"
      ]
     },
     "metadata": {
      "needs_background": "light"
     },
     "output_type": "display_data"
    }
   ],
   "source": [
    "plt.figure(figsize=(8,8))\n",
    "plt.subplot(2,1,1)\n",
    "plt.plot(hold_df.index.values,hold_df.acc,label=\"Accuracy\")\n",
    "plt.plot(hold_df.index.values,hold_df.auc,label=\"AUC\")\n",
    "\n",
    "plt.title(\"Accuracy and AUC as a function of max_Depth\")\n",
    "plt.xlabel(\"Depth of Decision Tree\")\n",
    "plt.ylabel(\"AUC and Accuracy Values\")\n",
    "plt.legend()\n",
    "plt.xlim([0,20])\n",
    "\n",
    "plt.grid()\n",
    "\n",
    "plt.subplot(2,1,2)\n",
    "hold_df.boxplot(['acc','auc'])\n",
    "plt.title(\"Accuracy and AUC\")\n",
    "plt.tight_layout(h_pad=.8,pad=.8)\n"
   ]
  },
  {
   "cell_type": "markdown",
   "metadata": {},
   "source": [
    "Have we accomplished very much ? Not sure, especially when considering that there are a number of hyperparameters that go along with a Decision Tree - not just the max_depth. That's just one of them. Note that we could experiment with several of these and in combination with each other."
   ]
  },
  {
   "cell_type": "code",
   "execution_count": 49,
   "metadata": {},
   "outputs": [
    {
     "name": "stdout",
     "output_type": "stream",
     "text": [
      "ccp_alpha\n",
      "class_weight\n",
      "criterion\n",
      "max_depth\n",
      "max_features\n",
      "max_leaf_nodes\n",
      "min_impurity_decrease\n",
      "min_impurity_split\n",
      "min_samples_leaf\n",
      "min_samples_split\n",
      "min_weight_fraction_leaf\n",
      "presort\n",
      "random_state\n",
      "splitter\n"
     ]
    }
   ],
   "source": [
    "mydt = DecisionTreeClassifier()\n",
    "print(\"\\n\".join(mydt.get_params().keys()))"
   ]
  },
  {
   "cell_type": "code",
   "execution_count": 50,
   "metadata": {},
   "outputs": [
    {
     "name": "stdout",
     "output_type": "stream",
     "text": [
      "  criterion  accuracy    auc\n",
      "0      gini     0.837  0.911\n",
      "1   entropy     0.836  0.907 \n",
      "\n",
      "Best Combination of paramters :\n",
      "   criterion  accuracy    auc\n",
      "0      gini     0.837  0.911\n"
     ]
    }
   ],
   "source": [
    "# setup a list that corresponds to a hyperparamter\n",
    "criterion = ['gini','entropy']\n",
    "\n",
    "scoring = []\n",
    "for c in criterion:\n",
    "    dtc = DecisionTreeClassifier(criterion=c,max_depth=5)\n",
    "    dtc.fit(X_train,y_train)\n",
    "         \n",
    "    # Get Accuracy\n",
    "    acc = dtc.score(X_train,y_train)\n",
    "        \n",
    "    # Get AUC\n",
    "    pred = dtc.predict_proba(X_train)\n",
    "    auc  = roc_auc_score(y_train, pred[:,1]).round(3)\n",
    "    \n",
    "    scoring.append([c,acc.round(3),auc.round(3)])\n",
    " \n",
    "score_df = pd.DataFrame(scoring,columns=['criterion','accuracy','auc'])\n",
    "score_df.sort_values(by=['accuracy','auc'], inplace=True, ascending=False)\n",
    "\n",
    "print(score_df,\"\\n\")\n",
    "print(\"Best Combination of paramters :\\n\",score_df.head(1))"
   ]
  },
  {
   "cell_type": "markdown",
   "metadata": {},
   "source": [
    "Okay, well that was cool and it was straightforward enough. We see that in this case that \"gini\" was the best criteria to select. \n",
    "\n",
    "Next, we could experiment with the \"criterion\" and \"splitter\" arguments to see if varying these will impact (or improve) the accuracy of any of the trees we might make. Let's see what we can get from this approach.\n",
    "\n",
    "<img src=\"pics/hyp1.png\" width =\"600\" height=600>\n",
    "\n",
    "In general, if you want to see the parameters for a scikit-learn method you could obviously look at the scikit-learn documentation for the [method under consideration](https://scikit-learn.org/stable/modules/generated/sklearn.tree.DecisionTreeClassifier.html?highlight=decisiontree%20classifier#sklearn.tree.DecisionTreeClassifier). Let's add on to our most recent example:"
   ]
  },
  {
   "cell_type": "code",
   "execution_count": 51,
   "metadata": {},
   "outputs": [
    {
     "name": "stdout",
     "output_type": "stream",
     "text": [
      "  criterion splitter  accuracy    auc\n",
      "0      gini     best     0.837  0.911\n",
      "2   entropy     best     0.836  0.907\n",
      "1      gini   random     0.793  0.843\n",
      "3   entropy   random     0.773  0.811 \n",
      "\n",
      "Optimal combination of paramters :\n",
      "   criterion splitter  accuracy    auc\n",
      "0      gini     best     0.837  0.911\n"
     ]
    }
   ],
   "source": [
    "# setup two lists, each of which corresponds to a hyperparamter\n",
    "criterion = ['gini','entropy']\n",
    "splitter  = ['best','random']\n",
    "\n",
    "scoring = []\n",
    "for c in criterion:\n",
    "    for s in splitter:\n",
    "        dtc = DecisionTreeClassifier(criterion=c,splitter=s,max_depth=5)\n",
    "        dtc.fit(X_train,y_train)\n",
    "         \n",
    "        # Get Accuracy\n",
    "        acc = dtc.score(X_train,y_train)\n",
    "        \n",
    "        # Get AUC\n",
    "        pred = dtc.predict_proba(X_train)\n",
    "        auc  = roc_auc_score(y_train, pred[:,1]).round(3)\n",
    "   \n",
    "        scoring.append([c,s,acc.round(3),auc.round(3)])\n",
    " \n",
    "score_df = pd.DataFrame(scoring,columns=['criterion','splitter','accuracy','auc'])\n",
    "score_df.sort_values(by=['accuracy','auc'], inplace=True, ascending=False)\n",
    "\n",
    "print(score_df,\"\\n\")\n",
    "print(\"Optimal combination of paramters :\\n\",score_df.head(1))"
   ]
  },
  {
   "cell_type": "markdown",
   "metadata": {},
   "source": [
    "And let's keep going. This time we'll add back in the the max_depth paramter."
   ]
  },
  {
   "cell_type": "code",
   "execution_count": 52,
   "metadata": {},
   "outputs": [
    {
     "name": "stdout",
     "output_type": "stream",
     "text": [
      "   criterion splitter  max_depth  accuracy    auc\n",
      "7       gini     best          8     0.936  0.983\n",
      "23   entropy     best          8     0.902  0.974\n",
      "6       gini     best          7     0.895  0.964\n",
      "22   entropy     best          7     0.872  0.954\n",
      "5       gini     best          6     0.852  0.937\n",
      "21   entropy     best          6     0.844  0.932\n",
      "31   entropy   random          8     0.842  0.926\n",
      "4       gini     best          5     0.837  0.911\n",
      "20   entropy     best          5     0.836  0.907\n",
      "30   entropy   random          7     0.824  0.892\n",
      "15      gini   random          8     0.805  0.885\n",
      "29   entropy   random          6     0.801  0.870\n",
      "3       gini     best          4     0.792  0.877\n",
      "19   entropy     best          4     0.786  0.874\n",
      "13      gini   random          6     0.780  0.859\n",
      "14      gini   random          7     0.779  0.848\n",
      "12      gini   random          5     0.777  0.818\n",
      "2       gini     best          3     0.776  0.837\n",
      "18   entropy     best          3     0.773  0.845\n",
      "1       gini     best          2     0.772  0.795\n",
      "17   entropy     best          2     0.772  0.795\n",
      "11      gini   random          4     0.767  0.819\n",
      "28   entropy   random          5     0.757  0.789\n",
      "9       gini   random          2     0.747  0.735\n",
      "8       gini   random          1     0.741  0.661\n",
      "25   entropy   random          2     0.738  0.757\n",
      "27   entropy   random          4     0.737  0.788\n",
      "0       gini     best          1     0.736  0.716\n",
      "16   entropy     best          1     0.736  0.716\n",
      "26   entropy   random          3     0.717  0.757\n",
      "10      gini   random          3     0.710  0.763\n",
      "24   entropy   random          1     0.651  0.624 \n",
      "\n",
      "Optimal combination of paramters :\n",
      "   criterion splitter  max_depth  accuracy    auc\n",
      "7      gini     best          8     0.936  0.983\n"
     ]
    }
   ],
   "source": [
    "# setup two lists, each of which corresponds to a hyperparamter\n",
    "criterion = ['gini','entropy']\n",
    "splitter  = ['best','random']\n",
    "max_depth = np.arange(1,9)\n",
    "\n",
    "scoring = []\n",
    "for c in criterion:\n",
    "    for s in splitter:\n",
    "        for m in max_depth:\n",
    "            dtc = DecisionTreeClassifier(criterion=c,splitter=s,max_depth=m)\n",
    "            dtc.fit(X_train,y_train)\n",
    "\n",
    "            # Get Accuracy\n",
    "            acc = dtc.score(X_train,y_train)\n",
    "\n",
    "            # Get AUC\n",
    "            pred = dtc.predict_proba(X_train)\n",
    "            auc  = roc_auc_score(y_train, pred[:,1]).round(3)\n",
    "\n",
    "            scoring.append([c,s,m,acc.round(3),auc.round(3)])\n",
    "\n",
    "score_df = pd.DataFrame(scoring,columns=['criterion','splitter','max_depth','accuracy','auc'])\n",
    "score_df.sort_values(by=['accuracy','auc'], inplace=True, ascending=False)\n",
    "print(score_df,\"\\n\")\n",
    "print(\"Optimal combination of paramters :\\n\",score_df.head(1))"
   ]
  },
  {
   "cell_type": "markdown",
   "metadata": {},
   "source": [
    "What we have done here is to create a **grid** of combinations that we use as input into the method. Then we collect the results in terms of accuracy and auc to sort the results to find the optimal arrangement of parameter combinations to get the \"best\" result. Note that we don't have a very big \"grid\" here although for a human to keep track of this would be a challenge. But when considering the large number of hyperparameters for the method, we might want to figure something else out. "
   ]
  },
  {
   "cell_type": "markdown",
   "metadata": {},
   "source": [
    "Do we need to be doing this by hand when there is a function that can help us figure out the best parameters to use which is also based on cross fold validation ?\n",
    "\n",
    "## Cross Validated Grid Search \n",
    "\n",
    "Grid Search can be considered as a complete investigation of all possible combinations of the specified hyperparamters. In the case of the above example we have the following combinations for each invocation of the DecisionTree function:\n",
    "\n",
    "- Iteration #1: criterion='gini', splitter='best'\n",
    "- Iteration #2: criterion='gini', splitter='random'\n",
    "- Iteration #3: criterion='entropy', splitter='best'\n",
    "- Iteration #4: criterion='entropy', splitter = 'random'\n",
    "\n",
    "While this is very complete and surgical approach it can be inefficient if there are many hyperparameter combinations. For example, searching 10 different parameter values for each of 4 parameters would involve 10,000 invocations of the Tree function. But, scikit-learn does provide a function to help us with this."
   ]
  },
  {
   "cell_type": "code",
   "execution_count": 99,
   "metadata": {},
   "outputs": [
    {
     "data": {
      "text/plain": [
       "GridSearchCV(cv=5, estimator=DecisionTreeClassifier(),\n",
       "             param_grid=[{'criterion': ['gini', 'entropy'],\n",
       "                          'splitter': ['best', 'random']}],\n",
       "             return_train_score=True, verbose=1)"
      ]
     },
     "execution_count": 99,
     "metadata": {},
     "output_type": "execute_result"
    }
   ],
   "source": [
    "from sklearn.model_selection import GridSearchCV\n",
    "\n",
    "param_grid = [\n",
    "  {'criterion': ['gini','entropy'], \n",
    "   'splitter': ['best','random']}\n",
    "]\n",
    "\n",
    "dtc = DecisionTreeClassifier()\n",
    "gridsearch = GridSearchCV(dtc, \n",
    "                          param_grid, \n",
    "                          cv=5, \n",
    "                          return_train_score=True,\n",
    "                          verbose=1)\n",
    "\n",
    "# Check out what we get back\n",
    "gridsearch"
   ]
  },
  {
   "cell_type": "code",
   "execution_count": 100,
   "metadata": {},
   "outputs": [
    {
     "name": "stdout",
     "output_type": "stream",
     "text": [
      "Fitting 5 folds for each of 4 candidates, totalling 20 fits\n"
     ]
    },
    {
     "name": "stderr",
     "output_type": "stream",
     "text": [
      "[Parallel(n_jobs=1)]: Using backend SequentialBackend with 1 concurrent workers.\n",
      "[Parallel(n_jobs=1)]: Done  20 out of  20 | elapsed:    0.2s finished\n"
     ]
    },
    {
     "name": "stdout",
     "output_type": "stream",
     "text": [
      "Best parameters are:  {'criterion': 'gini', 'splitter': 'best'}\n",
      "Best accuracy:  0.726\n"
     ]
    }
   ],
   "source": [
    "gs_results = gridsearch.fit(X_train, y_train)\n",
    "\n",
    "print(\"Best parameters are: \",gs_results.best_params_)\n",
    "print(\"Best accuracy: \",gs_results.best_score_.round(3))"
   ]
  },
  {
   "cell_type": "markdown",
   "metadata": {},
   "source": [
    "### Question for you ! Why did the accuracy go down so much when compared to our previous models ?\n",
    "\n",
    "As with all of the other scikit results, we can extract lots of information from the results object as it contains a great deal of information."
   ]
  },
  {
   "cell_type": "code",
   "execution_count": 88,
   "metadata": {},
   "outputs": [
    {
     "data": {
      "text/plain": [
       "{'mean_fit_time': array([0.00430388, 0.00344219, 0.00438938, 0.00281587]),\n",
       " 'std_fit_time': array([0.00067654, 0.00063694, 0.00062234, 0.00019829]),\n",
       " 'mean_score_time': array([0.00207682, 0.00286317, 0.00212994, 0.00171661]),\n",
       " 'std_score_time': array([0.00021894, 0.0005012 , 0.00055351, 0.00015074]),\n",
       " 'param_criterion': masked_array(data=['gini', 'gini', 'entropy', 'entropy'],\n",
       "              mask=[False, False, False, False],\n",
       "        fill_value='?',\n",
       "             dtype=object),\n",
       " 'param_splitter': masked_array(data=['best', 'random', 'best', 'random'],\n",
       "              mask=[False, False, False, False],\n",
       "        fill_value='?',\n",
       "             dtype=object),\n",
       " 'params': [{'criterion': 'gini', 'splitter': 'best'},\n",
       "  {'criterion': 'gini', 'splitter': 'random'},\n",
       "  {'criterion': 'entropy', 'splitter': 'best'},\n",
       "  {'criterion': 'entropy', 'splitter': 'random'}],\n",
       " 'split0_test_score': array([0.76699029, 0.72815534, 0.75728155, 0.75728155]),\n",
       " 'split1_test_score': array([0.67961165, 0.65048544, 0.69902913, 0.59223301]),\n",
       " 'split2_test_score': array([0.70873786, 0.69902913, 0.74757282, 0.66990291]),\n",
       " 'split3_test_score': array([0.76699029, 0.70873786, 0.69902913, 0.7184466 ]),\n",
       " 'split4_test_score': array([0.69607843, 0.68627451, 0.68627451, 0.74509804]),\n",
       " 'mean_test_score': array([0.72368171, 0.69453646, 0.71783743, 0.69659242]),\n",
       " 'std_test_score': array([0.03654777, 0.02592622, 0.02878803, 0.06019433]),\n",
       " 'rank_test_score': array([1, 4, 2, 3], dtype=int32),\n",
       " 'split0_train_score': array([1., 1., 1., 1.]),\n",
       " 'split1_train_score': array([1., 1., 1., 1.]),\n",
       " 'split2_train_score': array([1., 1., 1., 1.]),\n",
       " 'split3_train_score': array([1., 1., 1., 1.]),\n",
       " 'split4_train_score': array([1., 1., 1., 1.]),\n",
       " 'mean_train_score': array([1., 1., 1., 1.]),\n",
       " 'std_train_score': array([0., 0., 0., 0.])}"
      ]
     },
     "execution_count": 88,
     "metadata": {},
     "output_type": "execute_result"
    }
   ],
   "source": [
    "gs_results.cv_results_"
   ]
  },
  {
   "cell_type": "markdown",
   "metadata": {},
   "source": [
    "One thing to do, which we've already done, is to pick out just what we want but it's helpful to know that we can easily turn this dictionary into a data frame without too much trouble."
   ]
  },
  {
   "cell_type": "code",
   "execution_count": 89,
   "metadata": {},
   "outputs": [
    {
     "data": {
      "text/html": [
       "<div>\n",
       "<style scoped>\n",
       "    .dataframe tbody tr th:only-of-type {\n",
       "        vertical-align: middle;\n",
       "    }\n",
       "\n",
       "    .dataframe tbody tr th {\n",
       "        vertical-align: top;\n",
       "    }\n",
       "\n",
       "    .dataframe thead th {\n",
       "        text-align: right;\n",
       "    }\n",
       "</style>\n",
       "<table border=\"1\" class=\"dataframe\">\n",
       "  <thead>\n",
       "    <tr style=\"text-align: right;\">\n",
       "      <th></th>\n",
       "      <th>mean_fit_time</th>\n",
       "      <th>std_fit_time</th>\n",
       "      <th>mean_score_time</th>\n",
       "      <th>std_score_time</th>\n",
       "      <th>param_criterion</th>\n",
       "      <th>param_splitter</th>\n",
       "      <th>params</th>\n",
       "      <th>split0_test_score</th>\n",
       "      <th>split1_test_score</th>\n",
       "      <th>split2_test_score</th>\n",
       "      <th>...</th>\n",
       "      <th>mean_test_score</th>\n",
       "      <th>std_test_score</th>\n",
       "      <th>rank_test_score</th>\n",
       "      <th>split0_train_score</th>\n",
       "      <th>split1_train_score</th>\n",
       "      <th>split2_train_score</th>\n",
       "      <th>split3_train_score</th>\n",
       "      <th>split4_train_score</th>\n",
       "      <th>mean_train_score</th>\n",
       "      <th>std_train_score</th>\n",
       "    </tr>\n",
       "  </thead>\n",
       "  <tbody>\n",
       "    <tr>\n",
       "      <th>0</th>\n",
       "      <td>0.004304</td>\n",
       "      <td>0.000677</td>\n",
       "      <td>0.002077</td>\n",
       "      <td>0.000219</td>\n",
       "      <td>gini</td>\n",
       "      <td>best</td>\n",
       "      <td>{'criterion': 'gini', 'splitter': 'best'}</td>\n",
       "      <td>0.766990</td>\n",
       "      <td>0.679612</td>\n",
       "      <td>0.708738</td>\n",
       "      <td>...</td>\n",
       "      <td>0.723682</td>\n",
       "      <td>0.036548</td>\n",
       "      <td>1</td>\n",
       "      <td>1.0</td>\n",
       "      <td>1.0</td>\n",
       "      <td>1.0</td>\n",
       "      <td>1.0</td>\n",
       "      <td>1.0</td>\n",
       "      <td>1.0</td>\n",
       "      <td>0.0</td>\n",
       "    </tr>\n",
       "    <tr>\n",
       "      <th>1</th>\n",
       "      <td>0.003442</td>\n",
       "      <td>0.000637</td>\n",
       "      <td>0.002863</td>\n",
       "      <td>0.000501</td>\n",
       "      <td>gini</td>\n",
       "      <td>random</td>\n",
       "      <td>{'criterion': 'gini', 'splitter': 'random'}</td>\n",
       "      <td>0.728155</td>\n",
       "      <td>0.650485</td>\n",
       "      <td>0.699029</td>\n",
       "      <td>...</td>\n",
       "      <td>0.694536</td>\n",
       "      <td>0.025926</td>\n",
       "      <td>4</td>\n",
       "      <td>1.0</td>\n",
       "      <td>1.0</td>\n",
       "      <td>1.0</td>\n",
       "      <td>1.0</td>\n",
       "      <td>1.0</td>\n",
       "      <td>1.0</td>\n",
       "      <td>0.0</td>\n",
       "    </tr>\n",
       "    <tr>\n",
       "      <th>2</th>\n",
       "      <td>0.004389</td>\n",
       "      <td>0.000622</td>\n",
       "      <td>0.002130</td>\n",
       "      <td>0.000554</td>\n",
       "      <td>entropy</td>\n",
       "      <td>best</td>\n",
       "      <td>{'criterion': 'entropy', 'splitter': 'best'}</td>\n",
       "      <td>0.757282</td>\n",
       "      <td>0.699029</td>\n",
       "      <td>0.747573</td>\n",
       "      <td>...</td>\n",
       "      <td>0.717837</td>\n",
       "      <td>0.028788</td>\n",
       "      <td>2</td>\n",
       "      <td>1.0</td>\n",
       "      <td>1.0</td>\n",
       "      <td>1.0</td>\n",
       "      <td>1.0</td>\n",
       "      <td>1.0</td>\n",
       "      <td>1.0</td>\n",
       "      <td>0.0</td>\n",
       "    </tr>\n",
       "    <tr>\n",
       "      <th>3</th>\n",
       "      <td>0.002816</td>\n",
       "      <td>0.000198</td>\n",
       "      <td>0.001717</td>\n",
       "      <td>0.000151</td>\n",
       "      <td>entropy</td>\n",
       "      <td>random</td>\n",
       "      <td>{'criterion': 'entropy', 'splitter': 'random'}</td>\n",
       "      <td>0.757282</td>\n",
       "      <td>0.592233</td>\n",
       "      <td>0.669903</td>\n",
       "      <td>...</td>\n",
       "      <td>0.696592</td>\n",
       "      <td>0.060194</td>\n",
       "      <td>3</td>\n",
       "      <td>1.0</td>\n",
       "      <td>1.0</td>\n",
       "      <td>1.0</td>\n",
       "      <td>1.0</td>\n",
       "      <td>1.0</td>\n",
       "      <td>1.0</td>\n",
       "      <td>0.0</td>\n",
       "    </tr>\n",
       "  </tbody>\n",
       "</table>\n",
       "<p>4 rows × 22 columns</p>\n",
       "</div>"
      ],
      "text/plain": [
       "   mean_fit_time  std_fit_time  mean_score_time  std_score_time  \\\n",
       "0       0.004304      0.000677         0.002077        0.000219   \n",
       "1       0.003442      0.000637         0.002863        0.000501   \n",
       "2       0.004389      0.000622         0.002130        0.000554   \n",
       "3       0.002816      0.000198         0.001717        0.000151   \n",
       "\n",
       "  param_criterion param_splitter  \\\n",
       "0            gini           best   \n",
       "1            gini         random   \n",
       "2         entropy           best   \n",
       "3         entropy         random   \n",
       "\n",
       "                                           params  split0_test_score  \\\n",
       "0       {'criterion': 'gini', 'splitter': 'best'}           0.766990   \n",
       "1     {'criterion': 'gini', 'splitter': 'random'}           0.728155   \n",
       "2    {'criterion': 'entropy', 'splitter': 'best'}           0.757282   \n",
       "3  {'criterion': 'entropy', 'splitter': 'random'}           0.757282   \n",
       "\n",
       "   split1_test_score  split2_test_score  ...  mean_test_score  std_test_score  \\\n",
       "0           0.679612           0.708738  ...         0.723682        0.036548   \n",
       "1           0.650485           0.699029  ...         0.694536        0.025926   \n",
       "2           0.699029           0.747573  ...         0.717837        0.028788   \n",
       "3           0.592233           0.669903  ...         0.696592        0.060194   \n",
       "\n",
       "   rank_test_score  split0_train_score  split1_train_score  \\\n",
       "0                1                 1.0                 1.0   \n",
       "1                4                 1.0                 1.0   \n",
       "2                2                 1.0                 1.0   \n",
       "3                3                 1.0                 1.0   \n",
       "\n",
       "   split2_train_score  split3_train_score  split4_train_score  \\\n",
       "0                 1.0                 1.0                 1.0   \n",
       "1                 1.0                 1.0                 1.0   \n",
       "2                 1.0                 1.0                 1.0   \n",
       "3                 1.0                 1.0                 1.0   \n",
       "\n",
       "   mean_train_score  std_train_score  \n",
       "0               1.0              0.0  \n",
       "1               1.0              0.0  \n",
       "2               1.0              0.0  \n",
       "3               1.0              0.0  \n",
       "\n",
       "[4 rows x 22 columns]"
      ]
     },
     "execution_count": 89,
     "metadata": {},
     "output_type": "execute_result"
    }
   ],
   "source": [
    "rez = pd.DataFrame(gs_results.cv_results_)\n",
    "rez"
   ]
  },
  {
   "cell_type": "markdown",
   "metadata": {},
   "source": [
    "So if we move back to the RandomForests we can see that it will do both bootstrapping while building a specified number of trees while producing an aggregate model that can be used to make predictions. Let's rerun it to see what the baseline accuracy might look like. \n",
    "\n",
    "Straight out of the box, it offers a higher level of accuracy than the single DecisionTreeClassifier but that's not surprising since a single tree can be volatile when compared with another. "
   ]
  },
  {
   "cell_type": "code",
   "execution_count": 79,
   "metadata": {},
   "outputs": [
    {
     "data": {
      "text/plain": [
       "1.0"
      ]
     },
     "execution_count": 79,
     "metadata": {},
     "output_type": "execute_result"
    }
   ],
   "source": [
    "from sklearn.ensemble import RandomForestClassifier\n",
    "\n",
    "rf = RandomForestClassifier()\n",
    "rf.fit(X_train,y_train)\n",
    "rf.score(X_train,y_train).round(3)"
   ]
  },
  {
   "cell_type": "markdown",
   "metadata": {},
   "source": [
    "Why does the prediction offer perfect results ? Because it is learning the data perfectly. Note that we have been making predictions using training data - they very data we used to create the model in the first place. This of course, does not do much for telling us how well the model will perform on unseen data. At this point, let's move to the train / test approach where test data is held out. We'll get more sensible results from the model as it relates to its ability to predict unseen data."
   ]
  },
  {
   "cell_type": "code",
   "execution_count": 80,
   "metadata": {},
   "outputs": [
    {
     "data": {
      "text/plain": [
       "0.744"
      ]
     },
     "execution_count": 80,
     "metadata": {},
     "output_type": "execute_result"
    }
   ],
   "source": [
    "from sklearn.model_selection import train_test_split\n",
    "X_train, X_test, y_train, y_test = train_test_split(X, y, test_size=0.33, random_state=42)\n",
    "\n",
    "rf = RandomForestClassifier()\n",
    "rf.fit(X_train,y_train)\n",
    "rf.score(X_test,y_test).round(3)"
   ]
  },
  {
   "cell_type": "markdown",
   "metadata": {},
   "source": [
    "This matches what we got above in the GridSearchCV call since it does cross fold validation for us. \n",
    "\n",
    "\n",
    "Keep in mind that the number of trees (estimators) used to \"vote on\" an outcome is something that you control. The number of trees to make is specified before running the function. Since the sampling is bootstrap-based, some of the rows from the input will be duplicated perhaps more than once whereas other rows will not be involved at all in the training. These are commonly known as Out of Bag samples. After a give tree is formed it is then used to predict performance on the OOB samples to arrive at an OOB error. A reasonable question might be, how well does the accuracy perform as a function of a number of trees ? "
   ]
  },
  {
   "cell_type": "code",
   "execution_count": 81,
   "metadata": {},
   "outputs": [
    {
     "data": {
      "image/png": "[encoded data removed]",
      "text/plain": [
       "<Figure size 432x288 with 1 Axes>"
      ]
     },
     "metadata": {
      "needs_background": "light"
     },
     "output_type": "display_data"
    }
   ],
   "source": [
    "num_of_trees = np.arange(100,1000,100).tolist()\n",
    "\n",
    "scores = []\n",
    "for ii in num_of_trees:\n",
    "    rf = RandomForestClassifier(n_estimators=ii)\n",
    "    rf.fit(X_train,y_train)\n",
    "    scores.append(rf.score(X_test,y_test).round(3))\n",
    "\n",
    "plt.plot(num_of_trees,scores,'go--')\n",
    "plt.title(\"Accuracy For Various Numbers of Trees In The Forest\")\n",
    "plt.xticks(rotation=90)\n",
    "plt.grid()"
   ]
  },
  {
   "cell_type": "markdown",
   "metadata": {},
   "source": [
    "As with the single decision tree, we could look at some type of hyperparameter tuning scenario to see if we could improve performance. "
   ]
  },
  {
   "cell_type": "code",
   "execution_count": 60,
   "metadata": {},
   "outputs": [
    {
     "name": "stdout",
     "output_type": "stream",
     "text": [
      "{'criterion': 'entropy', 'max_depth': 7, 'max_features': 'sqrt', 'n_estimators': 200}\n",
      "Best Score:  0.78\n"
     ]
    }
   ],
   "source": [
    "param_grid = { \n",
    "    'n_estimators': [200, 500],\n",
    "    'max_features': ['auto', 'sqrt', 'log2'],\n",
    "    'max_depth' : [4,5,6,7,8],\n",
    "    'criterion' :['gini', 'entropy']\n",
    "}\n",
    "\n",
    "rfc = RandomForestClassifier(bootstrap=True)\n",
    "\n",
    "cv_rfc = GridSearchCV(estimator=rfc, \n",
    "                      param_grid=param_grid, \n",
    "                      cv= 5,\n",
    "                      n_jobs=-1)\n",
    "cv_rfc.fit(X_train, y_train)\n",
    "\n",
    "print(cv_rfc.best_params_)\n",
    "print(\"Best Score: \",cv_rfc.best_score_.round(2))"
   ]
  },
  {
   "cell_type": "markdown",
   "metadata": {},
   "source": [
    "Now let's try it out on the test data"
   ]
  },
  {
   "cell_type": "code",
   "execution_count": 62,
   "metadata": {},
   "outputs": [
    {
     "data": {
      "text/plain": [
       "0.76"
      ]
     },
     "execution_count": 62,
     "metadata": {},
     "output_type": "execute_result"
    }
   ],
   "source": [
    "from sklearn.metrics import accuracy_score\n",
    "rfc = RandomForestClassifier(bootstrap=True,\n",
    "                             criterion='entropy',\n",
    "                             max_depth=7,\n",
    "                             max_features='sqrt',\n",
    "                             n_estimators=200)\n",
    "\n",
    "ypreds = rfc.fit(X_train,y_train).predict(X_test)\n",
    "accuracy_score(y_test, ypreds).round(3)"
   ]
  },
  {
   "cell_type": "markdown",
   "metadata": {},
   "source": [
    "In reality, we dont' have to refit the random forest because the GridSearchCV process provides the best performing model in the form of **best_estimator_**."
   ]
  },
  {
   "cell_type": "code",
   "execution_count": 63,
   "metadata": {},
   "outputs": [
    {
     "name": "stdout",
     "output_type": "stream",
     "text": [
      "RandomForestClassifier(criterion='entropy', max_depth=7, max_features='sqrt',\n",
      "                       n_estimators=200)\n"
     ]
    },
    {
     "data": {
      "text/plain": [
       "0.772"
      ]
     },
     "execution_count": 63,
     "metadata": {},
     "output_type": "execute_result"
    }
   ],
   "source": [
    "best_rf = cv_rfc.best_estimator_\n",
    "print(best_rf)\n",
    "\n",
    "#\n",
    "ypreds = best_rf.fit(X_train,y_train).predict(X_test)\n",
    "accuracy_score(y_test, ypreds).round(3)"
   ]
  },
  {
   "cell_type": "markdown",
   "metadata": {},
   "source": [
    "There are other types of searches wherein we can specify a distribution or range of values which represent a source to be sampled. That is, not every value will be tried. With GridSearchCV, every combination will be attempted so the search is exhaustive. This is also why doing a gridsearch across a very large parameter space can consume lots of CPU and memory. \n",
    "\n",
    "Random search can be just as aggressive although it is possible to specify how many samples will be taken from a parameter space so as to mitigate possible CPU over load. The **n_iter** of argument, which is 10 by default, indicates the number of times to sample from a given parameter space."
   ]
  },
  {
   "cell_type": "code",
   "execution_count": 29,
   "metadata": {},
   "outputs": [
    {
     "data": {
      "text/plain": [
       "RandomizedSearchCV(cv=5, estimator=RandomForestClassifier(), n_iter=8,\n",
       "                   n_jobs=-1,\n",
       "                   param_distributions={'bootstrap': [True, False],\n",
       "                                        'max_depth': [10, 20, 30, 40, 50, 60,\n",
       "                                                      70, 80, 90, 100, 110,\n",
       "                                                      None],\n",
       "                                        'max_features': ['auto', 'sqrt'],\n",
       "                                        'min_samples_leaf': range(1, 20),\n",
       "                                        'min_samples_split': range(2, 9),\n",
       "                                        'n_estimators': array([100, 101, 102, 103, 104, 105, 106, 107, 108, 109, 110, 111, 112,\n",
       "       113, 1...\n",
       "       906, 907, 908, 909, 910, 911, 912, 913, 914, 915, 916, 917, 918,\n",
       "       919, 920, 921, 922, 923, 924, 925, 926, 927, 928, 929, 930, 931,\n",
       "       932, 933, 934, 935, 936, 937, 938, 939, 940, 941, 942, 943, 944,\n",
       "       945, 946, 947, 948, 949, 950, 951, 952, 953, 954, 955, 956, 957,\n",
       "       958, 959, 960, 961, 962, 963, 964, 965, 966, 967, 968, 969, 970,\n",
       "       971, 972, 973, 974, 975, 976, 977, 978, 979, 980, 981, 982, 983,\n",
       "       984, 985, 986, 987, 988, 989, 990, 991, 992, 993, 994, 995, 996,\n",
       "       997, 998, 999])},\n",
       "                   random_state=123)"
      ]
     },
     "execution_count": 29,
     "metadata": {},
     "output_type": "execute_result"
    }
   ],
   "source": [
    "from sklearn.model_selection import RandomizedSearchCV\n",
    "\n",
    "random_grid = {'bootstrap': [True, False],\n",
    "               'max_depth': [10, 20, 30, 40, 50, 60, 70, 80, 90, 100, 110, None],\n",
    "               'max_features': ['auto', 'sqrt'],\n",
    "               'min_samples_leaf': range(1,20),\n",
    "               'min_samples_split': range(2,9),\n",
    "               'n_estimators': np.arange(100,1000)}\n",
    "\n",
    "rfc = RandomForestClassifier()\n",
    "rs_rfc = RandomizedSearchCV(estimator=rfc, \n",
    "                            param_distributions=random_grid, \n",
    "                            cv = 5,\n",
    "                            n_iter=8,\n",
    "                            n_jobs=-1,\n",
    "                            random_state=123)\n",
    "\n",
    "# check out the Randomized search object\n",
    "rs_rfc"
   ]
  },
  {
   "cell_type": "code",
   "execution_count": 66,
   "metadata": {},
   "outputs": [
    {
     "name": "stdout",
     "output_type": "stream",
     "text": [
      "Best Params: \n",
      " {'max_depth': 50}\n",
      "Accuracy: {'max_depth': 50}\n",
      "('max_depth', 50)\n"
     ]
    }
   ],
   "source": [
    "# Because sampling is being used, as opposed to the exhaustive search, it \n",
    "# should be faster\n",
    "\n",
    "rs_rfc.fit(X_train,y_train)\n",
    "print(\"Best Params: \\n\",rs_rfc.best_params_)\n",
    "print(\"Accuracy:\",rs_rfc.best_params_)\n",
    "\n",
    "for i in rs_rfc.best_params_.items():\n",
    "\tprint(i)\n"
   ]
  },
  {
   "cell_type": "code",
   "execution_count": 71,
   "metadata": {},
   "outputs": [
    {
     "data": {
      "text/plain": [
       "0.76"
      ]
     },
     "execution_count": 71,
     "metadata": {},
     "output_type": "execute_result"
    }
   ],
   "source": [
    "#\n",
    "ypreds = rs_rfc.best_estimator_.predict(X_test)\n",
    "accuracy_score(y_test, ypreds).round(3)"
   ]
  },
  {
   "cell_type": "code",
   "execution_count": 74,
   "metadata": {},
   "outputs": [
    {
     "data": {
      "text/plain": [
       "[{'max_depth': 60},\n",
       " {'max_depth': 10},\n",
       " {'max_depth': 50},\n",
       " {'max_depth': 100},\n",
       " {'max_depth': 90},\n",
       " {'max_depth': 80},\n",
       " {'max_depth': 110},\n",
       " {'max_depth': 40}]"
      ]
     },
     "execution_count": 74,
     "metadata": {},
     "output_type": "execute_result"
    }
   ],
   "source": [
    "# Note that 8 samples were taken as specified\n",
    "rs_rfc.cv_results_['params']"
   ]
  },
  {
   "cell_type": "markdown",
   "metadata": {},
   "source": [
    "## Validation Set\n",
    "\n",
    "When building a model, we generate a training and test data set. We use the former to build a model and, if we are using something like the caret package, that process involves cross fold validation or bootstrap sampling to generate a good estimate for out-of-sample error. We then apply the model to the test data frame.\n",
    "\n",
    "If we are using a method that has hyperparamters then maybe we want an intermediate data set to help validate our ultimate choice of hyperparameters. By taking this approach we can still keep our test data set off to the side for later use with the trained and validated model. Using this idea doesn’t require us to do much beyond generating a third data set.\n",
    "\n",
    "- The training set is used to build the classifier\n",
    "- The validation set is used to tune the algorithm hyperparameters repeatedly. \n",
    "- So there will be some overfitting here, but that is why there is another stage:\n",
    "\n",
    "The test set must not be touched until the classifier is final to prevent \n",
    "overfitting. It serves to estimate the true accuracy, if you would put the model \n",
    "into production. The only problem is that there really isn't a **scikit-learn** function to help us with the creation of the three datasets.  "
   ]
  },
  {
   "cell_type": "code",
   "execution_count": 32,
   "metadata": {},
   "outputs": [
    {
     "data": {
      "text/plain": [
       "0.73"
      ]
     },
     "execution_count": 32,
     "metadata": {},
     "output_type": "execute_result"
    }
   ],
   "source": [
    "train, validate, test = np.split(pm.sample(frac=1), \n",
    "                                 [int(.6*len(pm)), int(.8*len(pm))])\n",
    "\n",
    "rfc = RandomForestClassifier()\n",
    "\n",
    "X_v_train = train.drop('diabetes',axis=1)\n",
    "y_v_train = train.diabetes\n",
    "#\n",
    "X_v_test  = test.drop('diabetes',axis=1)\n",
    "y_v_test  = test.diabetes\n",
    "\n",
    "rfc.fit(X_v_train,y_v_train)\n",
    "rfc.score(X_v_test,y_v_test).round(2)"
   ]
  },
  {
   "cell_type": "markdown",
   "metadata": {},
   "source": [
    "So now we can do hyperparamter tuning using the validation set. The important thing to note here is that we aren't using the test data frame at all to do any training. By using the validation set we are also introducing some needed variation to the hyperparameter tuning process. "
   ]
  },
  {
   "cell_type": "code",
   "execution_count": 96,
   "metadata": {},
   "outputs": [
    {
     "name": "stdout",
     "output_type": "stream",
     "text": [
      "Fitting 5 folds for each of 15 candidates, totalling 75 fits\n"
     ]
    },
    {
     "name": "stderr",
     "output_type": "stream",
     "text": [
      "[Parallel(n_jobs=-1)]: Using backend LokyBackend with 8 concurrent workers.\n",
      "[Parallel(n_jobs=-1)]: Done  34 tasks      | elapsed:    8.9s\n",
      "[Parallel(n_jobs=-1)]: Done  75 out of  75 | elapsed:   15.5s finished\n"
     ]
    },
    {
     "name": "stdout",
     "output_type": "stream",
     "text": [
      "Best Params: \n",
      " {'n_estimators': 346, 'min_samples_split': 7, 'min_samples_leaf': 12, 'max_features': 'auto', 'max_depth': 90, 'bootstrap': True}\n",
      "Accuracy: 0.7597849462365591\n"
     ]
    }
   ],
   "source": [
    "from sklearn.model_selection import RandomizedSearchCV\n",
    "\n",
    "random_grid = {'bootstrap': [True, False],\n",
    "               'max_depth': [10, 20, 30, 40, 50, 60, 70, 80, 90, 100, 110, None],\n",
    "               'max_features': ['auto', 'sqrt'],\n",
    "               'min_samples_leaf': range(1,20),\n",
    "               'min_samples_split': range(2,9),\n",
    "               'n_estimators': np.arange(100,1000)}\n",
    "\n",
    "rfc = RandomForestClassifier()\n",
    "rs_rfc = RandomizedSearchCV(estimator=rfc, \n",
    "                            param_distributions=random_grid, \n",
    "                            cv = 5,\n",
    "                            n_iter=15,\n",
    "                            n_jobs=-1,\n",
    "                            random_state=123,\n",
    "                            verbose=1)\n",
    "\n",
    "# \n",
    "validate_train_x = validate.drop('diabetes',axis=1)\n",
    "validate_train_y = validate.diabetes\n",
    "\n",
    "# \n",
    "rs_rfc.fit(validate_train_x, validate_train_y)\n",
    "print(\"Best Params: \\n\",rs_rfc.best_params_)\n",
    "print(\"Accuracy:\",rs_rfc.best_score_)"
   ]
  },
  {
   "cell_type": "markdown",
   "metadata": {},
   "source": [
    "And finally, we will fit the Random Forest using the \"optimal\" parameter set after which we will see how it performs on the test dataset. "
   ]
  },
  {
   "cell_type": "code",
   "execution_count": 78,
   "metadata": {},
   "outputs": [
    {
     "data": {
      "text/plain": [
       "0.76"
      ]
     },
     "execution_count": 78,
     "metadata": {},
     "output_type": "execute_result"
    }
   ],
   "source": [
    "rs_rfc.best_estimator_.fit(validate_train_x,validate_train_y)\n",
    "rs_rfc.best_estimator_.score(X_test,y_test).round(2)"
   ]
  },
  {
   "cell_type": "markdown",
   "metadata": {},
   "source": [
    "See https://jessesw.com/XG-Boost/"
   ]
  },
  {
   "cell_type": "markdown",
   "metadata": {},
   "source": [
    "With GridSearchCV, you can be certain that all combinations were tried which is a good way to remove doubt. This assumes of course that the range of values that you picked adequately reflects an appropriate search space. Are you leaving some values out that could provide even better performance ?\n",
    "In the ranges you have specified, are they granular enough ? \n",
    "\n",
    "With RandomSearchCV, the more samples you test from the value set, the more confident the search will be\n",
    "although if you sample aggressively then the search process can become computationally intensive like GridSearchCV. The strenght of the RandomSearchCV is that you can specify a very large range of values \n",
    "for a hyperparameter (as long as it makes sense) and then specify the number of times to sample from it. As long as it's not a large space then the run time will be shorter than with GridSearchCV.\n",
    "\n",
    "So what happened here ? \n",
    "\n",
    "1) Trained some models using Decision Tree Classifier\n",
    "2) Trained some models using Random Forests\n",
    "3) Used GridSearchCV\n",
    "4) Used RandomSearchCV\n",
    "\n"
   ]
  },
  {
   "cell_type": "markdown",
   "metadata": {},
   "source": [
    "## Comparing Other Models\n",
    "\n",
    "It's easy to compare models as long as you make some committment to using the same data. \n",
    "\n"
   ]
  },
  {
   "cell_type": "code",
   "execution_count": 135,
   "metadata": {},
   "outputs": [
    {
     "name": "stdout",
     "output_type": "stream",
     "text": [
      "KNN: 0.723831 (0.059857)\n",
      "DT: 0.684766 (0.077849)\n",
      "NB: 0.744985 (0.075413)\n",
      "RF: 0.749020 (0.069092)\n"
     ]
    },
    {
     "data": {
      "image/png": "[encoded data removed]",
      "text/plain": [
       "<Figure size 432x288 with 1 Axes>"
      ]
     },
     "metadata": {
      "needs_background": "light"
     },
     "output_type": "display_data"
    }
   ],
   "source": [
    "from sklearn.model_selection import cross_val_score, cross_validate\n",
    "from sklearn.model_selection import KFold\n",
    "from sklearn.neighbors import KNeighborsClassifier\n",
    "from sklearn.discriminant_analysis import LinearDiscriminantAnalysis\n",
    "from sklearn.naive_bayes import GaussianNB\n",
    "\n",
    "models = []\n",
    "models.append(('KNN', KNeighborsClassifier()))\n",
    "models.append(('DT', DecisionTreeClassifier()))\n",
    "models.append(('NB', GaussianNB()))\n",
    "models.append(('RF', RandomForestClassifier()))\n",
    "\n",
    "\n",
    "results = []\n",
    "names = []\n",
    "scoring = 'accuracy'\n",
    "for name, model in models:\n",
    "\tkfold = KFold(n_splits=10, random_state=123, shuffle=True)\n",
    "\tcv_results = model_selection.cross_val_score(model, \n",
    "                                                 X_train, \n",
    "                                                 y_train, \n",
    "                                                 cv=kfold, \n",
    "                                                 scoring=scoring)\n",
    "\tresults.append(cv_results)\n",
    "\tnames.append(name)\n",
    "\tmsg = \"%s: %f (%f)\" % (name, cv_results.mean(), cv_results.std())\n",
    "\tprint(msg) \n",
    "    \n",
    "fig = plt.figure()\n",
    "fig.suptitle('Algorithm Comparison')\n",
    "ax = fig.add_subplot(111)\n",
    "plt.boxplot(results)\n",
    "ax.set_xticklabels(names)\n",
    "plt.grid()\n",
    "plt.show()"
   ]
  },
  {
   "cell_type": "code",
   "execution_count": 129,
   "metadata": {},
   "outputs": [
    {
     "data": {
      "text/html": [
       "<div>\n",
       "<style scoped>\n",
       "    .dataframe tbody tr th:only-of-type {\n",
       "        vertical-align: middle;\n",
       "    }\n",
       "\n",
       "    .dataframe tbody tr th {\n",
       "        vertical-align: top;\n",
       "    }\n",
       "\n",
       "    .dataframe thead th {\n",
       "        text-align: right;\n",
       "    }\n",
       "</style>\n",
       "<table border=\"1\" class=\"dataframe\">\n",
       "  <thead>\n",
       "    <tr style=\"text-align: right;\">\n",
       "      <th></th>\n",
       "      <th>0</th>\n",
       "      <th>1</th>\n",
       "      <th>2</th>\n",
       "      <th>3</th>\n",
       "      <th>4</th>\n",
       "      <th>5</th>\n",
       "      <th>6</th>\n",
       "      <th>7</th>\n",
       "      <th>8</th>\n",
       "      <th>9</th>\n",
       "    </tr>\n",
       "  </thead>\n",
       "  <tbody>\n",
       "    <tr>\n",
       "      <th>0</th>\n",
       "      <td>0.769231</td>\n",
       "      <td>0.730769</td>\n",
       "      <td>0.653846</td>\n",
       "      <td>0.634615</td>\n",
       "      <td>0.745098</td>\n",
       "      <td>0.784314</td>\n",
       "      <td>0.666667</td>\n",
       "      <td>0.764706</td>\n",
       "      <td>0.745098</td>\n",
       "      <td>0.686275</td>\n",
       "    </tr>\n",
       "    <tr>\n",
       "      <th>1</th>\n",
       "      <td>0.769231</td>\n",
       "      <td>0.769231</td>\n",
       "      <td>0.653846</td>\n",
       "      <td>0.711538</td>\n",
       "      <td>0.784314</td>\n",
       "      <td>0.666667</td>\n",
       "      <td>0.725490</td>\n",
       "      <td>0.745098</td>\n",
       "      <td>0.666667</td>\n",
       "      <td>0.686275</td>\n",
       "    </tr>\n",
       "    <tr>\n",
       "      <th>2</th>\n",
       "      <td>0.826923</td>\n",
       "      <td>0.807692</td>\n",
       "      <td>0.673077</td>\n",
       "      <td>0.711538</td>\n",
       "      <td>0.764706</td>\n",
       "      <td>0.882353</td>\n",
       "      <td>0.705882</td>\n",
       "      <td>0.666667</td>\n",
       "      <td>0.745098</td>\n",
       "      <td>0.745098</td>\n",
       "    </tr>\n",
       "  </tbody>\n",
       "</table>\n",
       "</div>"
      ],
      "text/plain": [
       "          0         1         2         3         4         5         6  \\\n",
       "0  0.769231  0.730769  0.653846  0.634615  0.745098  0.784314  0.666667   \n",
       "1  0.769231  0.769231  0.653846  0.711538  0.784314  0.666667  0.725490   \n",
       "2  0.826923  0.807692  0.673077  0.711538  0.764706  0.882353  0.705882   \n",
       "\n",
       "          7         8         9  \n",
       "0  0.764706  0.745098  0.686275  \n",
       "1  0.745098  0.666667  0.686275  \n",
       "2  0.666667  0.745098  0.745098  "
      ]
     },
     "execution_count": 129,
     "metadata": {},
     "output_type": "execute_result"
    }
   ],
   "source": [
    "pd.DataFrame(results)"
   ]
  },
  {
   "cell_type": "code",
   "execution_count": null,
   "metadata": {},
   "outputs": [],
   "source": []
  }
 ],
 "metadata": {
  "kernelspec": {
   "display_name": "Python 3",
   "language": "python",
   "name": "python3"
  },
  "language_info": {
   "codemirror_mode": {
    "name": "ipython",
    "version": 3
   },
   "file_extension": ".py",
   "mimetype": "text/x-python",
   "name": "python",
   "nbconvert_exporter": "python",
   "pygments_lexer": "ipython3",
   "version": "3.7.7"
  }
 },
 "nbformat": 4,
 "nbformat_minor": 4
}
