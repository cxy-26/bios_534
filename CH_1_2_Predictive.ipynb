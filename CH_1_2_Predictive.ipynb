{
 "cells": [
  {
   "cell_type": "markdown",
   "metadata": {},
   "source": [
    "# Predictive Learning in Python\n",
    "\n",
    "Steve Pittard wsp@emory.edu (citations to other sources are inline) \n",
    "\n",
    "\n",
    "# Preface\n",
    "\n",
    "Predictive Modeling is a type of Machine Learning which itself is a sub branch of Artificial Intelligence. The [following graphic](https://blogs.nvidia.com/blog/2016/07/29/whats-difference-artificial-intelligence-machine-learning-deep-learning-ai/) provides us with some history of these domains. This is helpful if you are trying to orient yourself in the world of analytics and machine learning. Note that AI has been around for quite some time. The Wikipedia definition of AI is:\n",
    "\n",
    "> The study of “intelligent agents”: any device that perceives its environment and takes actions that maximize its chance of successfully achieving its goals\n",
    "\n",
    "\n",
    "<img src=\"pics/histofai.png\" width =\"660\" height=660>\n",
    "\n",
    "## Machine Learning\n",
    "\n",
    "Machine Learning relies upon “patterns and inference”\" to “perform a specific task without using explicit instructions”. It is a form of Applied AI that attempts to automatically learn from experience without being explicitly programmed. Think of Predictive Modeling as a subset of this which falls into two categories:\n",
    "\n",
    "### Supervised\n",
    "\n",
    "Algorithms that build a model on a set of data containing both the inputs and the desired outputs (“labels” or known numeric values). When you want to map input to known output labels. Build a model that, when applied to “new” data, will hopefully predict the correct label.\n",
    "\n",
    "<img src=\"pics/super_class_regress.png\" width =\"660\" height=660>\n",
    "\n",
    "Some common techniques for Supervised learning include: Generalized Linear Models (GLM), Logistic Regression, Random Forests, Decision Trees, Neural Networks, Multivariate Adaptive Regression Splines (MARS), and K Nearest Neighbors.\n",
    "\n",
    "### Unsupervised\n",
    "\n",
    "Algorithms that take a set of data that contains only inputs, and find structure in the data (e.g. clustering of data points)\n",
    "\n",
    "<img src=\"pics/unsupervised_class.png\" width =\"550\" height=550>\n",
    "\n",
    "Some common techniques for unsupervised learning include: hierarchical clustering, k-means clustering, mixture models, DBSCAN, Association Rules, Neural Networks\n",
    "\n",
    "## Predictive Modeling\n",
    "\n",
    "This lecture is concerned primarily with Predictive Modeling. Some examples of Predictive Modeling include:\n",
    "\n",
    "- Predict current CD4 cell count of an HIV-positive patient using genome sequences\n",
    "\n",
    "- Predict Success of Grant Applications\n",
    "\n",
    "- Use attributes of chemical compounds to predict likelihood of hepatic injury\n",
    "\n",
    "- How many copies of a new book will sell ?\n",
    "\n",
    "- Will a customer change Internet Service Providers ?\n",
    "\n",
    "In this domain there are generally two types of predictive models.\n",
    "\n",
    "\n",
    "## In-Sample vs Out-Of-Sample Error\n",
    "\n",
    "The goal of predictive model is to generate models that can generalize to new data. It would be good if any model we generate could provide a good estimate of out of sample error. It’s easy to generate a model on an entire data set (in sample data) and then turn around and use that data for prediction. But how will it perform on new data ? Haven’t we just over trained our model ?\n",
    "1.4 Performance Metrics\n",
    "\n",
    "For either case (regression vs classification) we need some type of metric or measure to let us know how well a given model will work on new or unseen data - also known as “out of sample” data. for Classification problems we look at things like “sensitivity”, “specificity”, “accuracy”, and “Area Under Curve”.\n",
    "\n",
    "For Quantitative outcomes, we look at things like Root Mean Square Error (RMSE) or Mean Absolute Error (MAE). Here is the formula for Root Mean Square Error (RMSE). P represents a vector of predictions and O represents a vector of the observed (true) values.\n",
    "\n",
    "$$ RMSE = \\sqrt\\frac{\\sum_i^n(P_i-O_i)^2}{n} $$\n",
    "\n",
    "## Black Box\n",
    "\n",
    "The good news is that you can treat building predictive models as a “Black Box”. The bad news is that you can treat building predictive models as a “Black Box”.\n",
    "\n",
    "<img src=\"pics/black_box.png\" width =\"650\" height=650>\n",
    "\n",
    "\n"
   ]
  },
  {
   "cell_type": "markdown",
   "metadata": {},
   "source": [
    "# Predictive / Supervised Learning\n",
    "\n",
    "In Predictive Learning it is customary to apply methods to build models on existing data to help you\n",
    "\n",
    "    Understand the data at hand and\n",
    "    Build a model to predict outcomes on related information\n",
    "\n",
    "Of course, number 2 assumes that what you already know in terms of the data and model is suitable for application to a more general situation when this might not be the case.\n",
    "\n",
    "# Explanation Vs Prediction\n",
    "\n",
    "Sometimes you just want to build a model (apply a method) to explain the data at hand as opposed to using it to predict outcomes for incoming data of a related nature. Not all models need to be predictive and in fact it might be useful to first get a basic understanding of the data before attempting to extend it to new information.\n",
    "\n",
    ">  “A common misconception in various scientific fields is that predictive power can be inferred from explanatory power. However, the two are different and should be assessed separately.”\n",
    "\n",
    "    — Gamit Shmueli - “To Explain or Predict”\n",
    "\n",
    "Given a data set, there might be some variable therein that you would like to predict in terms of other variables. Ideally you would like to automate this process but not at the expense of understanding the underlying statistical considerations. The process should also be done in a way that allows one to define a specific performance measure / metric that can then be used to compare performance across a number of “models”.\n",
    "\n",
    "Relative to explanatory work you wish to drill down into the data to better understand it and are less concerned about how any resulting model might apply to unseen or new data. In this case you might not look at other data sets or permutated versions of the data in which case you just build different models against the same data while trying out different features to arrive a the “best” model.\n",
    "\n",
    "In predictive work, we typically use techniques such as cross fold validation and bootstrapping to provide us with different versions of the data to “train” a model after which we validate it on some “test” data that has been held out. So in this context, you will probably be looking at multiple versions of the original data set which adds to the overhead somewhat.\n",
    "\n",
    "## Titanic Data\n",
    "\n",
    "A good example of exploratory and explanatory work is the often referred to “Titanic” data set that has lots of information on the passengers who traveled on the ill-fated Titanic ship. This data set is used in many Data Science type educational contexts to talk about building models. [Here](http://ghunt03.github.io/DAProjects/DAP02/TitanicDatasetInvestigation.html) is a notebook which explores the titanic data in greater depth. The following presents some basic visualizations:\n",
    "\n",
    "<img src=\"pics/titanic.png\" width =\"330\" height=330>\n",
    "\n",
    "While it might be interesting to learn from this data, no model we come up with will help us save any lives - well at least not retroactively. Obviously, we have learned a great deal about ship travel since that time though it's still a safe bet that if you are in the 3rd class then your deck level will probably still be more populated than first 1st class.\n",
    "\n",
    "<img src=\"pics/kaggle.png\" width =\"630\" height=630>\n",
    "\n"
   ]
  },
  {
   "cell_type": "code",
   "execution_count": 119,
   "metadata": {},
   "outputs": [
    {
     "name": "stdout",
     "output_type": "stream",
     "text": [
      "There are 1046 rows and 6 columns in this data frame \n",
      "\n"
     ]
    },
    {
     "data": {
      "text/html": [
       "<div>\n",
       "<style scoped>\n",
       "    .dataframe tbody tr th:only-of-type {\n",
       "        vertical-align: middle;\n",
       "    }\n",
       "\n",
       "    .dataframe tbody tr th {\n",
       "        vertical-align: top;\n",
       "    }\n",
       "\n",
       "    .dataframe thead th {\n",
       "        text-align: right;\n",
       "    }\n",
       "</style>\n",
       "<table border=\"1\" class=\"dataframe\">\n",
       "  <thead>\n",
       "    <tr style=\"text-align: right;\">\n",
       "      <th></th>\n",
       "      <th>pclass</th>\n",
       "      <th>survived</th>\n",
       "      <th>sex</th>\n",
       "      <th>age</th>\n",
       "      <th>sibsp</th>\n",
       "      <th>parch</th>\n",
       "    </tr>\n",
       "  </thead>\n",
       "  <tbody>\n",
       "    <tr>\n",
       "      <th>0</th>\n",
       "      <td>1st</td>\n",
       "      <td>1</td>\n",
       "      <td>female</td>\n",
       "      <td>29.0000</td>\n",
       "      <td>0</td>\n",
       "      <td>0</td>\n",
       "    </tr>\n",
       "    <tr>\n",
       "      <th>1</th>\n",
       "      <td>1st</td>\n",
       "      <td>1</td>\n",
       "      <td>male</td>\n",
       "      <td>0.9167</td>\n",
       "      <td>1</td>\n",
       "      <td>2</td>\n",
       "    </tr>\n",
       "    <tr>\n",
       "      <th>2</th>\n",
       "      <td>1st</td>\n",
       "      <td>0</td>\n",
       "      <td>female</td>\n",
       "      <td>2.0000</td>\n",
       "      <td>1</td>\n",
       "      <td>2</td>\n",
       "    </tr>\n",
       "    <tr>\n",
       "      <th>3</th>\n",
       "      <td>1st</td>\n",
       "      <td>0</td>\n",
       "      <td>male</td>\n",
       "      <td>30.0000</td>\n",
       "      <td>1</td>\n",
       "      <td>2</td>\n",
       "    </tr>\n",
       "    <tr>\n",
       "      <th>4</th>\n",
       "      <td>1st</td>\n",
       "      <td>0</td>\n",
       "      <td>female</td>\n",
       "      <td>25.0000</td>\n",
       "      <td>1</td>\n",
       "      <td>2</td>\n",
       "    </tr>\n",
       "  </tbody>\n",
       "</table>\n",
       "</div>"
      ],
      "text/plain": [
       "  pclass  survived     sex      age  sibsp  parch\n",
       "0    1st         1  female  29.0000      0      0\n",
       "1    1st         1    male   0.9167      1      2\n",
       "2    1st         0  female   2.0000      1      2\n",
       "3    1st         0    male  30.0000      1      2\n",
       "4    1st         0  female  25.0000      1      2"
      ]
     },
     "execution_count": 119,
     "metadata": {},
     "output_type": "execute_result"
    }
   ],
   "source": [
    "import pandas as pd\n",
    "url = \"https://raw.githubusercontent.com/steviep42/bios534_spring_2020/master/data/etitanic.csv\"\n",
    "\n",
    "titanic = pd.read_csv(url)\n",
    "\n",
    "print('There are %s rows and %s columns in this data frame \\n' % (str(titanic.shape[0]),str(titanic.shape[1])))\n",
    "\n",
    "titanic.head()"
   ]
  },
  {
   "cell_type": "code",
   "execution_count": 120,
   "metadata": {},
   "outputs": [
    {
     "data": {
      "text/plain": [
       "0    lived\n",
       "1    lived\n",
       "2     died\n",
       "3     died\n",
       "4     died\n",
       "Name: survived, dtype: object"
      ]
     },
     "execution_count": 120,
     "metadata": {},
     "output_type": "execute_result"
    }
   ],
   "source": [
    "# Let's map the 0 and 1 to, respectively, \"died\" and \"lived\"\n",
    "titanic.survived.replace(to_replace=[0, 1], value=['died', 'lived'],inplace=True)\n",
    "\n",
    "# Now the survived column should be easier to interpret\n",
    "titanic.survived[0:5]"
   ]
  },
  {
   "cell_type": "markdown",
   "metadata": {},
   "source": [
    "So then we look at different plots to become acquainted with the data. "
   ]
  },
  {
   "cell_type": "code",
   "execution_count": 121,
   "metadata": {},
   "outputs": [
    {
     "name": "stdout",
     "output_type": "stream",
     "text": [
      "sex\n",
      "female    388\n",
      "male      658\n",
      "dtype: int64 \n",
      "\n"
     ]
    }
   ],
   "source": [
    "# Shows how many female / male on the boat\n",
    "print(titanic.groupby('sex').size(),\"\\n\")"
   ]
  },
  {
   "cell_type": "code",
   "execution_count": 122,
   "metadata": {},
   "outputs": [
    {
     "name": "stdout",
     "output_type": "stream",
     "text": [
      "sex       female  male\n",
      "survived              \n",
      "died          96   523\n",
      "lived        292   135 \n",
      "\n"
     ]
    },
    {
     "data": {
      "text/plain": [
       "<AxesSubplot:xlabel='survived'>"
      ]
     },
     "execution_count": 122,
     "metadata": {},
     "output_type": "execute_result"
    },
    {
     "data": {
      "image/png": "[encoded data removed]",
      "text/plain": [
       "<Figure size 432x288 with 1 Axes>"
      ]
     },
     "metadata": {
      "needs_background": "light"
     },
     "output_type": "display_data"
    }
   ],
   "source": [
    "# Survival rates by gender \n",
    "\n",
    "table = pd.crosstab(titanic['survived'],titanic['sex'])\n",
    "print(table,\"\\n\")\n",
    "\n",
    "table.plot(kind='bar', stacked=True)"
   ]
  },
  {
   "cell_type": "markdown",
   "metadata": {},
   "source": [
    "Next, we’ll see the survival rates by Passenger Class. If you saw the movie Titanic then you know what this will look like:"
   ]
  },
  {
   "cell_type": "code",
   "execution_count": 123,
   "metadata": {},
   "outputs": [
    {
     "name": "stdout",
     "output_type": "stream",
     "text": [
      "survived  died  lived\n",
      "pclass               \n",
      "1st        103    181\n",
      "2nd        146    115\n",
      "3rd        370    131\n"
     ]
    }
   ],
   "source": [
    "table = pd.crosstab(titanic['pclass'],titanic['survived'])\n",
    "print(table)"
   ]
  },
  {
   "cell_type": "code",
   "execution_count": 124,
   "metadata": {},
   "outputs": [
    {
     "data": {
      "text/plain": [
       "<AxesSubplot:xlabel='pclass'>"
      ]
     },
     "execution_count": 124,
     "metadata": {},
     "output_type": "execute_result"
    },
    {
     "data": {
      "image/png": "[encoded data removed]",
      "text/plain": [
       "<Figure size 432x288 with 1 Axes>"
      ]
     },
     "metadata": {
      "needs_background": "light"
     },
     "output_type": "display_data"
    }
   ],
   "source": [
    "table.plot(kind='bar', stacked=True)"
   ]
  },
  {
   "cell_type": "code",
   "execution_count": 125,
   "metadata": {},
   "outputs": [
    {
     "name": "stdout",
     "output_type": "stream",
     "text": [
      "Men:\n",
      " survived  died  lived\n",
      "pclass               \n",
      "1st         98     53\n",
      "2nd        135     23\n",
      "3rd        290     59\n",
      "\n",
      "Women:\n",
      " survived  died  lived\n",
      "pclass               \n",
      "1st          5    128\n",
      "2nd         11     92\n",
      "3rd         80     72\n"
     ]
    }
   ],
   "source": [
    "# Extract information for male vs female\n",
    "male   = titanic[titanic.sex=='male']\n",
    "female = titanic[titanic.sex=='female']\n",
    "\n",
    "# Create tables for passenger class vs survived\n",
    "mtable = pd.crosstab(male['pclass'],male['survived'])\n",
    "ftable = pd.crosstab(female['pclass'],female['survived'])\n",
    "\n",
    "#\n",
    "print(\"Men:\\n\",mtable)\n",
    "print(\"\\nWomen:\\n\",ftable)"
   ]
  },
  {
   "cell_type": "code",
   "execution_count": 126,
   "metadata": {},
   "outputs": [
    {
     "data": {
      "text/plain": [
       "Text(0.5, 1.0, 'Female')"
      ]
     },
     "execution_count": 126,
     "metadata": {},
     "output_type": "execute_result"
    },
    {
     "data": {
      "image/png": "[encoded data removed]",
      "text/plain": [
       "<Figure size 432x288 with 2 Axes>"
      ]
     },
     "metadata": {
      "needs_background": "light"
     },
     "output_type": "display_data"
    }
   ],
   "source": [
    "# But it's better to make a plot\n",
    "import matplotlib.pyplot as plt\n",
    "fig, axes = plt.subplots(1,2)\n",
    "\n",
    "# Plot the men\n",
    "mtable.plot(kind='bar', stacked=True,ax=axes[1])\n",
    "axes[1].set_title(\"Male\")\n",
    "\n",
    "# Plot the women\n",
    "ftable.plot(kind='bar', stacked=True,ax=axes[0])\n",
    "axes[0].set_title(\"Female\")"
   ]
  },
  {
   "cell_type": "markdown",
   "metadata": {},
   "source": [
    "We could even look at age distributions here. What patterns do you see here ? Did young children fare better than say someone who was 25-35 ?"
   ]
  },
  {
   "cell_type": "code",
   "execution_count": 127,
   "metadata": {},
   "outputs": [
    {
     "data": {
      "image/png": "[encoded data removed]",
      "text/plain": [
       "<Figure size 432x288 with 1 Axes>"
      ]
     },
     "metadata": {
      "needs_background": "light"
     },
     "output_type": "display_data"
    }
   ],
   "source": [
    "# See https://stackoverflow.com/questions/6871201/plot-two-histograms-on-single-chart-with-matplotlib\n",
    "\n",
    "died = titanic[titanic.survived == 'died']\n",
    "survived = titanic[titanic.survived == 'lived']\n",
    "\n",
    "plt.hist([died.age,survived.age],12,label=['died','survived'],color=['red','blue'])\n",
    "plt.legend(loc=\"upper right\")\n",
    "plt.title(\"Histogram of Passenger Age\")\n",
    "plt.grid()"
   ]
  },
  {
   "cell_type": "markdown",
   "metadata": {},
   "source": [
    "Here were will look at the age histogram of survived vs died for each Passenger Class"
   ]
  },
  {
   "cell_type": "code",
   "execution_count": 128,
   "metadata": {},
   "outputs": [
    {
     "data": {
      "image/png": "[encoded data removed]",
      "text/plain": [
       "<Figure size 648x648 with 6 Axes>"
      ]
     },
     "metadata": {
      "needs_background": "light"
     },
     "output_type": "display_data"
    }
   ],
   "source": [
    "# We could replace the above with the following\n",
    "titanic.hist(column='age',by=['pclass','survived'],sharex=True, figsize=(9,9))\n",
    "plt.show()"
   ]
  },
  {
   "cell_type": "code",
   "execution_count": 129,
   "metadata": {},
   "outputs": [
    {
     "data": {
      "image/png": "[encoded data removed]",
      "text/plain": [
       "<Figure size 648x648 with 4 Axes>"
      ]
     },
     "metadata": {
      "needs_background": "light"
     },
     "output_type": "display_data"
    }
   ],
   "source": [
    "# We could replace the above with the following\n",
    "titanic.hist(column='age',by=['sex','survived'],sharex=True, figsize=(9,9))\n",
    "plt.show()"
   ]
  },
  {
   "cell_type": "code",
   "execution_count": 130,
   "metadata": {},
   "outputs": [
    {
     "data": {
      "text/plain": [
       "<seaborn.axisgrid.FacetGrid at 0x1a2a7ee0d0>"
      ]
     },
     "execution_count": 130,
     "metadata": {},
     "output_type": "execute_result"
    },
    {
     "data": {
      "image/png": "[encoded data removed]",
      "text/plain": [
       "<Figure size 708.125x216 with 1 Axes>"
      ]
     },
     "metadata": {
      "needs_background": "light"
     },
     "output_type": "display_data"
    }
   ],
   "source": [
    "import seaborn as sns\n",
    "as_fig = sns.FacetGrid(titanic,hue='survived',aspect=3)\n",
    "\n",
    "as_fig.map(sns.kdeplot,'age',shade=True)\n",
    "as_fig.add_legend()"
   ]
  },
  {
   "cell_type": "markdown",
   "metadata": {},
   "source": [
    "What in this data would you like to predict ? Survival is an obvious one. But survival as a function of what ? "
   ]
  },
  {
   "cell_type": "markdown",
   "metadata": {},
   "source": [
    "# Bias Vs. Variance\n",
    "\n",
    "See this [blog](https://thatdatatho.com/2018/08/08/explaining-bias-variance-trade-off-machine-learning/) for more information\n",
    "\n",
    "## Bias\n",
    "\n",
    "Think of the term bias as meaning deviation from the truth or reality. If a model fits some data very well then deviations from the actual values will be small which is what you might expect when applying the model to the very data used to produce it. You are able to explain the data but not then be able to use it to predict outcomes without experiencing large variance.\n",
    "\n",
    "Any performance metric that is computed on the data “as is” will typically be somewhat optimistic in the context of predictive utility. The model you build on some data might fit the data very well (low bias) but then does not do very well when applied to a new data set wherein the model exhibits large variance. A model might not, on average, fit some existing data very well (high bias) but results in more predictable results (lower variance) when applied to new data.\n",
    "\n",
    "## Variance\n",
    "\n",
    "The concept of variance generally refers to a given algorithm’s sensitivity to unfamiliar or new data. An algorithm that has been well-trained, or even over trained, on a data set might exhibit low bias in that it “knows” or “hugs” the data very well. However, when given new data that might not be from the same distribution as the “training” data then large and/or unpredictable variance might result. If you flip this around a bit, an algorithm whose bias is high generally means that it deviates from the “truth” perhaps to a significant degree. Correspondingly, when the resulting model is applied to new or unseen data it will behave in a more predictable manner, generally resulting in lower variance. This isn’t always a bad thing. Maybe a more biased model is quick and easy to compute and it’s estimated performance (as determined by some metric such as RMSE) might be acceptable when applied to new data.\n",
    "\n",
    "The general conclusion is that there is a trade off between Bias and Variance. The higher the bias, the lower the variance and the higher the variance, the lower the bias.\n",
    "\n",
    "<img src=\"pics/targets.png\" width =\"500\" height=500>\n",
    "\n",
    "# Overfitting And Underfitting\n",
    "\n",
    "If we overfit some data we then undermine our ability to apply it to new data in a way that results in good performance. This is the case where we have high model bias and resulting high variability when it is applied to new data. If you do “too good of a job” of learning some data then you might actually be unknowingly modeling inherent sources of error.\n",
    "\n",
    "\n",
    "<img src=\"pics/overfitt.png\" width =\"500\" height=500>\n",
    "\n",
    "<img src=\"pics/overfit.png\" width =\"500\" height=500>\n",
    "\n",
    "If we underfit some data then consider that we haven’t “learned enough” from it to ensure low bias (deviations from reality). On the other hand if the model does a “good enough job” of describing the data then maybe it’s not a big deal especially since, when applied to new data, it doesn’t exhibit a high degree of variance.\n",
    "\n",
    "Simpler models, such as linear regression, can be like this - easy to understand but somewhat biased in their assessment of data. Depending on the size of the data it might be computationally less expensive to build more biased models.\n",
    "\n",
    "<img src=\"pics/underfit.png\" width =\"500\" height=500>\n",
    "\n",
    "Let's build two models using two different methods on some data. \n",
    "Which one of the models is more biased ?"
   ]
  },
  {
   "cell_type": "code",
   "execution_count": 131,
   "metadata": {},
   "outputs": [],
   "source": [
    "# Read in some data\n",
    "url = \"https://raw.githubusercontent.com/steviep42/bios534_spring_2020/master/data/mtcars.csv\"\n",
    "\n",
    "# Setup some helpful tools\n",
    "import pandas as pd\n",
    "mtcars = pd.read_csv(url)"
   ]
  },
  {
   "cell_type": "code",
   "execution_count": 139,
   "metadata": {},
   "outputs": [
    {
     "data": {
      "image/png": "[encoded data removed]",
      "text/plain": [
       "<Figure size 576x576 with 1 Axes>"
      ]
     },
     "metadata": {
      "needs_background": "light"
     },
     "output_type": "display_data"
    }
   ],
   "source": [
    "import matplotlib.pyplot as plt\n",
    "plt.figure(figsize=(8,8))\n",
    "plt.scatter(mtcars.wt, mtcars.mpg)\n",
    "plt.title('MPG vs Weight - Which Model is Better ?')\n",
    "plt.xlabel('Weight / 1000')\n",
    "plt.ylabel('MPG')\n",
    "\n",
    "# Build a Quick Regression Line\n",
    "\n",
    "import numpy as np\n",
    "m, b = np.polyfit(mtcars.wt, mtcars.mpg, 1)\n",
    "plt.plot(mtcars.wt, m*mtcars.wt+b,color=\"red\")\n",
    "\n",
    "# Let's do a prediction with a Decision Tree\n",
    "\n",
    "from sklearn.tree import DecisionTreeRegressor\n",
    "tree_model = DecisionTreeRegressor()\n",
    "tree_model.fit(mtcars.wt.values.reshape(-1,1),mtcars.mpg.values)\n",
    "\n",
    "# It's Prediction Time !\n",
    "\n",
    "preds = tree_model.predict(mtcars.wt.values.reshape(-1,1))\n",
    "\n",
    "# Gotta sort the points (for whatever reason)\n",
    "\n",
    "list=zip(*sorted(zip(*(mtcars.wt.values,preds))))\n",
    "# Plot the predictions\n",
    "plt.plot(*list,color=\"green\")\n",
    "\n",
    "plt.legend([\"Regression\", \"Decision Tree\"], loc =\"upper right\") \n",
    "plt.grid()\n",
    "plt.show()"
   ]
  },
  {
   "cell_type": "markdown",
   "metadata": {},
   "source": [
    "Based on the above graph, which model is more biased ? which one would exhbiit the most variance when applied to unseen data ? Models that are moderaltely or highly biased generally have less variability when applied to new data whereas less biased models generally have higher variability when applied to new data. Obviously, striking a balance between the two is desirable. There are techniques to help with this."
   ]
  },
  {
   "cell_type": "markdown",
   "metadata": {},
   "source": [
    "# Some Important Terminology\n",
    "\n",
    "While we could start building a lot of other models at this point it would be wise to review some jargon in the world of predictive modeling so we can understand how to fully exploit the variables (also known as “features”) in our data. This is very important. Let’s start out with a basic example involving the most (over)used data set in R Education - the “mtcars” data frame. However, we've already read this information in above. Here is a more detailed description of the data. \n",
    "\n",
    "**Motor Trend Car Road Tests**\n",
    "\n",
    "The data was extracted from the 1974 Motor Trend US magazine, and comprises fuel consumption and 10 aspects of automobile  design and performance for 32 automobiles (1973–74 models). A data frame with 32 observations on 11 (numeric) variables.\n",
    "\n",
    "- mpg   Miles/(US) gallon\n",
    "- cyl   Number of cylinders\n",
    "- disp  Displacement (cu.in.)\n",
    "- hp    Gross horsepower\n",
    "- drat  Rear axle ratio\n",
    "- wt    Weight (1000 lbs)\n",
    "- qsec  1/4 mile time\n",
    "- vs    Engine (0 = V-shaped, 1 = straight)\n",
    "- am    Transmission (0 = automatic, 1 = manual)\n",
    "- gear  Number of forward gears\n",
    "- carb  Number of carburetors"
   ]
  },
  {
   "cell_type": "markdown",
   "metadata": {},
   "source": [
    "We need to understand the variables in this data frame beyond the superficial. Let’s say that we wanted to predict the mpg for a given car using other variables in the data frame. We might also want to predict whether a car has an automatic or manual transmission based on some other variables. Some jargon would be useful here. For example, if we wanted to predict the mpg, consider the following graphic:\n",
    "\n",
    "<img src=\"pics/jargon1.png\" width =\"650\" height=650>\n",
    "\n",
    "Or if we wanted to predict the transmission type - the jargon is the same but the variable type is different:\n",
    "\n",
    "<img src=\"pics/jargon2.png\" width =\"650\" height=650>\n",
    "\n",
    "In the first case we are attempting to predict a numeric quantity whereas in the second case we are predicting a binary outcome (a 0 or 1) which corresponds to, respectively, an automatic or manual transmission. The fact that it appears to be numeric is a bit deceptive since it’s just a label - we wouldn’t compute on this number. So how do we get to know the data ? Plotting it might be one way but there are a couple of ways to get some clues up front using some code:"
   ]
  },
  {
   "cell_type": "code",
   "execution_count": 11,
   "metadata": {},
   "outputs": [
    {
     "data": {
      "text/plain": [
       "mpg     25\n",
       "cyl      3\n",
       "disp    27\n",
       "hp      22\n",
       "drat    22\n",
       "wt      29\n",
       "qsec    30\n",
       "vs       2\n",
       "am       2\n",
       "gear     3\n",
       "carb     6\n",
       "dtype: int64"
      ]
     },
     "execution_count": 11,
     "metadata": {},
     "output_type": "execute_result"
    }
   ],
   "source": [
    "mtcars.head()\n",
    "\n",
    "# Number of Unique Values in Each Column\n",
    "mtcars.nunique()"
   ]
  },
  {
   "cell_type": "markdown",
   "metadata": {},
   "source": [
    "Be on the lookout for columns that don’t have very many unique values such as vs, am, and cyl. These are more likely categories by which we might summarize the continuous quantities. As an example - what is the average mpg for each transmission type ?\n",
    "\n",
    "What is the average mpg for all cylinder types ? Even though all the variables appear to be numeric doesn’t mean that they can be “computed” on. Does it make sense to take the average of the transmission type ? It’s either 0 or 1 (auto or manual). There is no such thing as a car with a 0.40625 transmission."
   ]
  },
  {
   "cell_type": "code",
   "execution_count": 147,
   "metadata": {},
   "outputs": [
    {
     "name": "stdout",
     "output_type": "stream",
     "text": [
      "Mean of am is: 0.40625 \n",
      "\n",
      "Better to treat this as a category:\n",
      " 0    19\n",
      "1    13\n",
      "Name: am, dtype: int64 \n",
      "\n",
      "Average MPG Mean for Transmission Type: am\n",
      "0    17.147368\n",
      "1    24.392308\n",
      "Name: mpg, dtype: float64\n"
     ]
    }
   ],
   "source": [
    "# Taking the mean of a category doesn't make sense\n",
    "print(\"Mean of am is:\",mtcars.am.mean(),\"\\n\")\n",
    "\n",
    "# Better to count the number of observations in each category\n",
    "print(\"Better to treat this as a category:\\n\",mtcars.am.value_counts(),\"\\n\")\n",
    "\n",
    "# We can group by category and then take them mean of another column\n",
    "print(\"Average MPG Mean for Transmission Type:\", mtcars.groupby('am').mpg.mean())"
   ]
  },
  {
   "cell_type": "markdown",
   "metadata": {},
   "source": [
    "# Levels Of Measurement\n",
    "\n",
    "We should review the concepts behind the “levels of measurement” which are helpful in classifying the variables we have in this, or other, data frames. Here is a graphic which summarizes them. (Note: see [this video](https://www.youtube.com/watch?v=LPHYPXBK_ks) from which the graphics were taken).\n",
    "\n",
    "<img src=\"pics/lom.png\" width =\"650\" height=650>\n",
    "\n",
    "## Nominal \n",
    "\n",
    "- The lowest level of measurement\n",
    "- Discrete Categories\n",
    "- No Order\n",
    "- Binary\n",
    "- Qualitative or Categorical\n",
    "\n",
    "Examples include gender (assuming binary M/F), colors (“red”,“blue”,“pink”), marital status, religion, political affiliation (“republican”,“democrat”), smoker (“Y/N”), names\n",
    "\n",
    "Possible measures for this type of information include Mode, Range, Percentage\n",
    "\n",
    "## Ordinal\n",
    "\n",
    "\n",
    "- Ordered Categories\n",
    "- Relative Rankings\n",
    "- Unknown Distance Between Rankings\n",
    "- Zero Is Arbitrary\n",
    "\n",
    "Examples include “first, second, third”, “low, middle, high”, Likert scales, size (small, medium,large), movie ratings, satisfaction ratings, pain ratings (1-10)\n",
    "\n",
    "Possible measures include all those for nominal data with the addition of Median, Percentile, and Rank order or correlations. Can be counted but not measured granulalrly.\n",
    "\n",
    "## Interval\n",
    "\n",
    "\n",
    "- Ordered categories\n",
    "- Equal distance between values\n",
    "- Known and accepted unit of measurement\n",
    "- Zero is arbitrary\n",
    "\n",
    "The difference between two variables is on an interval. Fahrenheit or Celsius temp (0 does not represent and absolute lowest value). Interval scales tell us about order and differences. Elevation, time of day.\n",
    "\n",
    "Measures include all those for Ordinal with the addition of mean, standard deviation, addition, and subtraction. However, multiplication and division wouldn’t make sense given that there is no absolute zero. Would a cylinder value of 0 make sense ?\n",
    "\n",
    "## Ratio\n",
    "\n",
    "\n",
    "- Equal Intervals\n",
    "- Ordered\n",
    "- Natural Zero\n",
    "\n",
    "Examples include Weight, Height, Time (stopwatch) degrees Kelvin, blood pressure,\n",
    "\n",
    "Can use all Interval tests, descriptive and inferential statistics, can make comparisons, add, subtract, multiply, divide.\n",
    "\n",
    "<img src=\"pics/ops.png\" width =\"650\" height=650>\n",
    "\n",
    "Decision Tree for Levels of Measurement\n",
    "\n",
    "<img src=\"pics/dt.png\" width =\"650\" height=650>\n"
   ]
  }
 ],
 "metadata": {
  "kernelspec": {
   "display_name": "Python 3",
   "language": "python",
   "name": "python3"
  },
  "language_info": {
   "codemirror_mode": {
    "name": "ipython",
    "version": 3
   },
   "file_extension": ".py",
   "mimetype": "text/x-python",
   "name": "python",
   "nbconvert_exporter": "python",
   "pygments_lexer": "ipython3",
   "version": "3.7.7"
  }
 },
 "nbformat": 4,
 "nbformat_minor": 4
}
