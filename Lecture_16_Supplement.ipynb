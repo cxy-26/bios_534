{
 "cells": [
  {
   "cell_type": "markdown",
   "id": "06ce77ff-bc4c-4cb9-8d30-313ab4daabf3",
   "metadata": {},
   "source": [
    "# BIOS 534 Machine Learning\n",
    "\n",
    "This notebook summarizes the workflow presented in Lecture 16 which introduced scikit-learn. You could (and should) experiment with different scikit estimators. By this, I mean rather than using Linear Regression you could maybe use Ridge, Lasso, or ElasticNet Regression. You can always check the [scikit home page](https://scikit-learn.org/stable/modules/classes.html#module-sklearn.linear_model) for information about what is available for your area of interest \n"
   ]
  },
  {
   "cell_type": "markdown",
   "id": "073d0a54-8e0f-4e98-91ef-8f36dc5c5e63",
   "metadata": {},
   "source": [
    "## 1) Get Some Data\n",
    "\n",
    "Here we will work with the very simple data set mtcars which has 32 rows and 11 columns"
   ]
  },
  {
   "cell_type": "code",
   "execution_count": 35,
   "id": "3f43bbc7-21ac-40ba-b1ad-e7c7e3c88d75",
   "metadata": {},
   "outputs": [
    {
     "name": "stdout",
     "output_type": "stream",
     "text": [
      "    mpg  cyl   disp   hp  drat     wt   qsec  vs  am  gear  carb\n",
      "0  21.0    6  160.0  110  3.90  2.620  16.46   0   1     4     4\n",
      "1  21.0    6  160.0  110  3.90  2.875  17.02   0   1     4     4\n",
      "2  22.8    4  108.0   93  3.85  2.320  18.61   1   1     4     1\n",
      "3  21.4    6  258.0  110  3.08  3.215  19.44   1   0     3     1\n",
      "4  18.7    8  360.0  175  3.15  3.440  17.02   0   0     3     2 \n",
      "\n"
     ]
    }
   ],
   "source": [
    "import pandas as pd\n",
    "url = \"https://raw.githubusercontent.com/steviep42/bios534_spring_2020/master/data/mtcars.csv\"\n",
    "mtcars = pd.read_csv(url)\n",
    "\n",
    "print(mtcars.head(),\"\\n\")"
   ]
  },
  {
   "cell_type": "markdown",
   "id": "a6f6b181-4a94-46db-9968-557520b814c9",
   "metadata": {},
   "source": [
    "## 2) Determine What You Wish to Predict\n",
    "\n",
    "In many cases you will be told what to predict. However, in the so called real world it will be part of your job to make this determination based on exploratory data analysis in combination with some stated objective. Here we will be predicting the miles per gallon of cars."
   ]
  },
  {
   "cell_type": "code",
   "execution_count": 36,
   "id": "852e0b09-2974-4e93-afb3-938644925049",
   "metadata": {},
   "outputs": [
    {
     "data": {
      "text/plain": [
       "Text(0, 0.5, 'Miles Per Gallon')"
      ]
     },
     "execution_count": 36,
     "metadata": {},
     "output_type": "execute_result"
    },
    {
     "data": {
      "image/png": "[encoded data removed]",
      "text/plain": [
       "<Figure size 432x288 with 1 Axes>"
      ]
     },
     "metadata": {
      "needs_background": "light"
     },
     "output_type": "display_data"
    }
   ],
   "source": [
    "mtcars.boxplot('mpg')\n",
    "import matplotlib.pyplot as plt\n",
    "plt.title(\"Distribution of MPG\")\n",
    "plt.ylabel(\"Miles Per Gallon\")"
   ]
  },
  {
   "cell_type": "markdown",
   "id": "9b85c9df-53c1-42ac-9578-d22e99b0b8c0",
   "metadata": {},
   "source": [
    "## 3) Decide on the Approach (Regression)\n",
    "\n",
    "In this case it will be regression since **mpg** is a continuous quanity. There are many types of regression, but we'll stick with Linear regression for now. "
   ]
  },
  {
   "cell_type": "markdown",
   "id": "5fe73022-a9ff-44ab-ac7e-5397dd1317d1",
   "metadata": {},
   "source": [
    "## 4) Linear Regression\n",
    "\n",
    "We could go ahead an setup a model if we wanted. We haven't spearated the data yet so this is more in prepration for fitting the model. "
   ]
  },
  {
   "cell_type": "code",
   "execution_count": 73,
   "id": "957d20f8-0c64-4e51-a2ea-0cea30bdc176",
   "metadata": {},
   "outputs": [
    {
     "data": {
      "text/plain": [
       "LinearRegression()"
      ]
     },
     "execution_count": 73,
     "metadata": {},
     "output_type": "execute_result"
    }
   ],
   "source": [
    "from sklearn.linear_model import LinearRegression\n",
    "lm_model = LinearRegression()\n",
    "lm_model"
   ]
  },
  {
   "cell_type": "markdown",
   "id": "31c77d18-81c3-4e67-be8a-d944734a1c9e",
   "metadata": {},
   "source": [
    "## 5) Separate the data into X (predictors) and y (target)\n",
    "\n",
    "This might depend on the original format of the data. In this case we have pandas data frame by virtue of the fact that we used a Pandas function to read in the CSV data. However, many of the scikit-learn estiamtors expect a numpy type array structure as opposed to data frames. As mentioned in class, the convention with scikit is to separate the predictors in a strcture called **X** and the target into a structure called **y**."
   ]
  },
  {
   "cell_type": "code",
   "execution_count": 74,
   "id": "e8f8dfc0-9f2e-4bef-9624-00054d329c0c",
   "metadata": {},
   "outputs": [],
   "source": [
    "# Strip out the predictors. For now we use all columns except the target of course\n",
    "X = mtcars.drop('mpg',axis=1).to_numpy()\n",
    "\n",
    "# Strip out the target into \"y\"\n",
    "y = mtcars.mpg.to_numpy()"
   ]
  },
  {
   "cell_type": "markdown",
   "id": "06e6c4a5-8613-4217-b673-f6f8feede797",
   "metadata": {},
   "source": [
    "## 6) Create a Training and Test pair on the X and y data\n",
    "\n",
    "This is easy using the scikit-learn functions\n"
   ]
  },
  {
   "cell_type": "code",
   "execution_count": 75,
   "id": "a490b0b6-d67d-4bc6-99d9-849ba3982370",
   "metadata": {},
   "outputs": [
    {
     "name": "stdout",
     "output_type": "stream",
     "text": [
      "Training set has dimensions of: (25, 10) and Testing set has dimensions of (25,) \n",
      "\n"
     ]
    }
   ],
   "source": [
    "from sklearn.model_selection import train_test_split\n",
    "\n",
    "# This creates an 80 / 20 training testing pair. \n",
    "X_train, X_test, y_train, y_test = train_test_split(X,\n",
    "                                                    y,\n",
    "                                                    test_size=.20,\n",
    "                                                    random_state=1)\n",
    "\n",
    "print(\"Training set has dimensions of:\",X_train.shape,\"and Testing set has dimensions of\",y_train.shape,\"\\n\")"
   ]
  },
  {
   "cell_type": "markdown",
   "id": "40052814-4438-406a-a6c1-53701dfe43c5",
   "metadata": {},
   "source": [
    "## 7) Decide on a Performance Metric \n",
    "\n",
    "So since we are doing Regression in this case, we could choose Root Mean Sqaured Error. scikit-learn has a number of scoring methods so we don't have to write our own functions to do this. \n",
    "\n",
    "Sometimes though, the scoring methods implemented in scikit have to be manipulated to get what you want. \n",
    "\n",
    "But worry about that for later. You will notice that we import the **mean_squared_error** function below which has an argument (\"squared\") that if set to **True** will take the square root of the result thus giving us the RMSE."
   ]
  },
  {
   "cell_type": "code",
   "execution_count": 76,
   "id": "a420370b-e689-4766-9951-53ace26dcb9f",
   "metadata": {},
   "outputs": [],
   "source": [
    "from sklearn.metrics import mean_squared_error"
   ]
  },
  {
   "cell_type": "markdown",
   "id": "73dadedf-45f9-40e4-ad96-2565a6c52c0f",
   "metadata": {},
   "source": [
    "## 8) Fit the Model and Make Predictions\n",
    "\n",
    "All scikit estimators have **fit** and **predict** methods which is not surprising since that's what we need to do with models.\n"
   ]
  },
  {
   "cell_type": "code",
   "execution_count": 77,
   "id": "b30e518b-191c-4a3b-b90a-a50002240585",
   "metadata": {},
   "outputs": [],
   "source": [
    "# Fit the model\n",
    "lm_model.fit(X_train, y_train)\n",
    "\n",
    "# Make predictions on the training data\n",
    "yhat_training_preds = lm_model.predict(X_train)\n",
    "\n",
    "# Make predictions on the testing data\n",
    "yhat_testing_preds = lm_model.predict(X_test)"
   ]
  },
  {
   "cell_type": "markdown",
   "id": "6fbfc74e-620a-489e-b3fb-5027d15c2d1b",
   "metadata": {},
   "source": [
    "## 9) Observe Error in Terms of Performance Metric (e.g. RMSE)"
   ]
  },
  {
   "cell_type": "code",
   "execution_count": 78,
   "id": "3eaefaa7-af16-4fe3-aaf1-b33f8ed08d3b",
   "metadata": {},
   "outputs": [
    {
     "name": "stdout",
     "output_type": "stream",
     "text": [
      "Training RMSE: 3.738 Testing RMSE: 11.521  \n",
      "\n"
     ]
    }
   ],
   "source": [
    "# Training Error\n",
    "train_error = mean_squared_error(yhat_training_preds, y_train,squared=True)\n",
    "\n",
    "# Testing Error\n",
    "test_error = mean_squared_error(yhat_testing_preds, y_test,squared=True)\n",
    "\n",
    "print(\"Training RMSE: %5.3f Testing RMSE: %5.3f  \\n\" % (train_error, test_error))"
   ]
  },
  {
   "cell_type": "code",
   "execution_count": null,
   "id": "ba27b7c7-7e50-4aef-80e4-1c9781130a09",
   "metadata": {},
   "outputs": [],
   "source": []
  }
 ],
 "metadata": {
  "kernelspec": {
   "display_name": "Python 3 (ipykernel)",
   "language": "python",
   "name": "python3"
  },
  "language_info": {
   "codemirror_mode": {
    "name": "ipython",
    "version": 3
   },
   "file_extension": ".py",
   "mimetype": "text/x-python",
   "name": "python",
   "nbconvert_exporter": "python",
   "pygments_lexer": "ipython3",
   "version": "3.8.12"
  }
 },
 "nbformat": 4,
 "nbformat_minor": 5
}
