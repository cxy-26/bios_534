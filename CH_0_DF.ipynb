{
 "cells": [
  {
   "cell_type": "markdown",
   "metadata": {},
   "source": [
    "# Key Data Structures\n",
    "\n",
    "Steve Pittard wsp@emory.edu (citations to other sources are inline) \n",
    "\n",
    "Unlike R which has data frames as a built in data type, the Python language requires us to load a package called pandas which endows Python with dataframe-like capability. Think of data frames as being a generlization of the table format so favored by Excel enthusiasts the world over. Tabular data is easy on the human eye because generally speaking each row relates to a single observation (not always) and each column represents some tpye of measurement of attribute of that observation. \n",
    "\n",
    "Using the Excel comparison, a single dataframe can be considered as a single \"worksheet\" although one could have a structure in Python (like a dictionary or list) which could contain one or more data frames. However, we usually restrict our attention to a single dataframe at any given time. We can create dataframes ourselves though it's more common for us to get them by reading in files such as .csv files or even Excel files since Python allows us to do this. \n",
    "\n",
    "Of course, there are different ways in which data arrives such as by webscraping or by querying a database. It's also possible that we might use an Application Programming Interface (API) to get data in which case the data might be returned in JSON or XML format which would then require us to parse it into something more convenient. The summary is that we can't always count on data being in tabular format though frequently it is. We might have to massage the data into a format on its way to becoming a data frame. Let's look at a couple of examples."
   ]
  },
  {
   "cell_type": "markdown",
   "metadata": {},
   "source": [
    "## Lists\n",
    "\n",
    "Let's walk through some basic examples. First up we'll review lists. A list is a container of one or more values in some type of presumed order. That is, we talk about things like the \"first element\", \"second element\" and so on until the \"last element\" is reached. Also, the actual list values themselves could be of different types which means that the list can contain a mixture of information. \n",
    "\n",
    "The following examples are not necessarily reflective of immediately practical situations but are contrived to make clear certain points which will be useful to know once you start looking at structures returned by scikit-learn. Knowing how to manage lists and dictionaries winds up being very important to get the information you want when you are accessing the quality of a model. "
   ]
  },
  {
   "cell_type": "code",
   "execution_count": 13,
   "metadata": {},
   "outputs": [
    {
     "name": "stdout",
     "output_type": "stream",
     "text": [
      "[0, '2', 3, '4', 'test']\n",
      "The length of this list is 5\n",
      "[0, '2', 3]\n",
      "[0, '2', 3]\n",
      "test\n",
      "test\n",
      "4\n",
      "['2', 3, '4', 'test']\n"
     ]
    }
   ],
   "source": [
    "simple_list = [0,'2',3,'4','test']\n",
    "\n",
    "print(simple_list)\n",
    "\n",
    "print(\"The length of this list is %d\" % len(simple_list))\n",
    "\n",
    "# Let's access various elements via an index or slices\n",
    "\n",
    "print(simple_list[0:3])    # Slice from 0,1,2\n",
    "\n",
    "print(simple_list[:3])     # Same as above \n",
    "\n",
    "print(simple_list[4])      # Last element\n",
    "\n",
    "print(simple_list[-1])     # Last element\n",
    "\n",
    "print(simple_list[-2])     # Second from the last element\n",
    "\n",
    "print(simple_list[1:])     # Get the first element and everything thereafter\n",
    "\n",
    "# We can change an element's value \n",
    "\n",
    "simple_list[1] = 2"
   ]
  },
  {
   "cell_type": "markdown",
   "metadata": {},
   "source": [
    "More sophisticated structures are possible. We could have lists with lists as elements. This can be confusing at first."
   ]
  },
  {
   "cell_type": "code",
   "execution_count": 12,
   "metadata": {},
   "outputs": [
    {
     "name": "stdout",
     "output_type": "stream",
     "text": [
      "[[0, 1], 10]\n"
     ]
    },
    {
     "data": {
      "text/plain": [
       "[list, int, int]"
      ]
     },
     "execution_count": 12,
     "metadata": {},
     "output_type": "execute_result"
    }
   ],
   "source": [
    "new_list = [[0,1],10,20]\n",
    "print(new_list[0:2])\n",
    "\n",
    "# What is the type of each list element\n",
    "[type(item) for item in new_list]"
   ]
  },
  {
   "cell_type": "markdown",
   "metadata": {},
   "source": [
    "We can also have something more practical. Imagine a list wherein each element could represent an employee."
   ]
  },
  {
   "cell_type": "code",
   "execution_count": 11,
   "metadata": {},
   "outputs": [
    {
     "name": "stdout",
     "output_type": "stream",
     "text": [
      "John Doe's salary is 90000\n"
     ]
    }
   ],
   "source": [
    "jdoe  = [\"John Doe\",\"1313 Mockingbird Lane\",\"Project Manager\",90000,\"01-01-2015\"]\n",
    "mdoe  = [\"Mary Doe\",\"1915 Eustice Pkwy\",\"Administrator\",100000,\"12-12-2010\"]\n",
    "\n",
    "# Note the elements don't have a name so we need to index by position\n",
    "employees = [jdoe, mdoe]\n",
    "print(\"John Doe's salary is %d\" % employees[0][3])"
   ]
  },
  {
   "cell_type": "markdown",
   "metadata": {},
   "source": [
    "### Operations on lists\n",
    "\n",
    "There are a variety of operations which are possible on lists:\n",
    "    \n",
    "<img src=\"pics/slatt.png\">\n"
   ]
  },
  {
   "cell_type": "code",
   "execution_count": 14,
   "metadata": {},
   "outputs": [
    {
     "name": "stdout",
     "output_type": "stream",
     "text": [
      "[0, 2, 3, '4', 'test']\n",
      "['test', '4', 3, 2, 0]\n",
      "[0, 2, 3, '4', 'test']\n"
     ]
    },
    {
     "data": {
      "text/plain": [
       "[int, int, int, str, str]"
      ]
     },
     "execution_count": 14,
     "metadata": {},
     "output_type": "execute_result"
    }
   ],
   "source": [
    "# Print the list\n",
    "print(simple_list)\n",
    "\n",
    "# Reverse it - note that there is no output\n",
    "simple_list.reverse()\n",
    "\n",
    "# Now print the list again\n",
    "print(simple_list)\n",
    "\n",
    "# Okay - we could reverse the reverse operation\n",
    "simple_list.reverse()\n",
    "\n",
    "# Now print the list again\n",
    "print(simple_list)\n",
    "\n",
    "# Print the type of each element\n",
    "[type(item) for item in simple_list]"
   ]
  },
  {
   "cell_type": "code",
   "execution_count": 15,
   "metadata": {},
   "outputs": [
    {
     "name": "stdout",
     "output_type": "stream",
     "text": [
      "[0, 2, 3, '4', 'test', 27]\n",
      "[2, 3, '4', 'test', 27]\n"
     ]
    }
   ],
   "source": [
    "# Append to the list\n",
    "simple_list.append(27)\n",
    "print(simple_list)\n",
    "\n",
    "# Now delete an element\n",
    "del(simple_list[0])\n",
    "print(simple_list)"
   ]
  },
  {
   "cell_type": "markdown",
   "metadata": {},
   "source": [
    "Check for list memebership. With such a simple list, the utility of this is not apparent though it can save you a lot of work if you have a very large list structure. "
   ]
  },
  {
   "cell_type": "code",
   "execution_count": 16,
   "metadata": {},
   "outputs": [
    {
     "name": "stdout",
     "output_type": "stream",
     "text": [
      "True\n",
      "False\n"
     ]
    }
   ],
   "source": [
    "print(27 in simple_list)\n",
    "print(27 not in simple_list)"
   ]
  },
  {
   "cell_type": "markdown",
   "metadata": {},
   "source": [
    "List can be sorted as long as the elements are all of the same type as it doen't make sense to sort a heterogenous list. "
   ]
  },
  {
   "cell_type": "code",
   "execution_count": 19,
   "metadata": {},
   "outputs": [
    {
     "name": "stdout",
     "output_type": "stream",
     "text": [
      "[0, 20, -5, 6]\n",
      "[-5, 0, 6, 20]\n",
      "The value 6 appears at position 2 within the list\n",
      "[7, 5, 9, 6, 8, 8, 5, 7, 5, 9, 5, 5, 9, 5, 5, 9, 8, 6, 6, 8]\n",
      "A value of 7 occurs at [0, 7]\n",
      "[0 7]\n"
     ]
    }
   ],
   "source": [
    "import numpy as np\n",
    "\n",
    "same_list = [0,20,-5,6]\n",
    "print(same_list)\n",
    "\n",
    "# Now sort it\n",
    "same_list.sort()\n",
    "print(same_list)\n",
    "\n",
    "# At what position does the value of \"6\" appear ?\n",
    "print(\"The value %d appears at position %d within the list\" % (6,same_list.index(6)))\n",
    "\n",
    "# If we had a larger list and wanted all occurrences of a value\n",
    "my_nums = list(np.random.randint(5,10,size=20))\n",
    "print(my_nums)\n",
    "\n",
    "# Find all occurences of a \"7\"\n",
    "indices = [i for i, x in enumerate(my_nums) if x == 7]\n",
    "print(\"A value of 7 occurs at %s\" % str(indices))\n",
    "\n",
    "import numpy as np\n",
    "# Numpy also has a solution which works well for really big lists\n",
    "ii = np.where(np.array(my_nums) == 7)[0]\n",
    "print(ii)"
   ]
  },
  {
   "cell_type": "markdown",
   "metadata": {},
   "source": [
    "### From Lists To Data Frames\n",
    "\n",
    "These next examples motivate how and why it might be useful to create a data frame out of lists especially those like the ones above. There is also the situation wherein we have array data that resembles matrix data emerging from scientific experiments. Let's simulate some of that here using the numpy module. "
   ]
  },
  {
   "cell_type": "code",
   "execution_count": 24,
   "metadata": {},
   "outputs": [],
   "source": [
    "import pandas as pd\n",
    "\n",
    "# generate some random data in the form of a 10 row by 3 column array\n",
    "data = np.random.randint(10,99,size=(3,3))"
   ]
  },
  {
   "cell_type": "markdown",
   "metadata": {},
   "source": [
    "So let's generate 5 of these arrays and store them in a list. The following scenario is not uncommon in scientific circles where an experiment might dump data every 10 minutes over the course of a multi-day experiment after which you might want to combine it all into a conveninet data structure. It's also possible you might want to first filter through the data to exclude data thought to be corrupt. "
   ]
  },
  {
   "cell_type": "code",
   "execution_count": 25,
   "metadata": {},
   "outputs": [
    {
     "name": "stdout",
     "output_type": "stream",
     "text": [
      "[ 9 26  5]\n",
      "[15 16 12]\n",
      "[29  8 18]\n",
      "(3, 3)\n",
      "(3, 3)\n",
      "(3, 3)\n"
     ]
    },
    {
     "data": {
      "text/html": [
       "<div>\n",
       "<style scoped>\n",
       "    .dataframe tbody tr th:only-of-type {\n",
       "        vertical-align: middle;\n",
       "    }\n",
       "\n",
       "    .dataframe tbody tr th {\n",
       "        vertical-align: top;\n",
       "    }\n",
       "\n",
       "    .dataframe thead th {\n",
       "        text-align: right;\n",
       "    }\n",
       "</style>\n",
       "<table border=\"1\" class=\"dataframe\">\n",
       "  <thead>\n",
       "    <tr style=\"text-align: right;\">\n",
       "      <th></th>\n",
       "      <th>d1</th>\n",
       "      <th>d2</th>\n",
       "      <th>d3</th>\n",
       "    </tr>\n",
       "  </thead>\n",
       "  <tbody>\n",
       "    <tr>\n",
       "      <th>0</th>\n",
       "      <td>9</td>\n",
       "      <td>26</td>\n",
       "      <td>5</td>\n",
       "    </tr>\n",
       "    <tr>\n",
       "      <th>1</th>\n",
       "      <td>8</td>\n",
       "      <td>26</td>\n",
       "      <td>22</td>\n",
       "    </tr>\n",
       "    <tr>\n",
       "      <th>2</th>\n",
       "      <td>17</td>\n",
       "      <td>8</td>\n",
       "      <td>22</td>\n",
       "    </tr>\n",
       "    <tr>\n",
       "      <th>3</th>\n",
       "      <td>15</td>\n",
       "      <td>16</td>\n",
       "      <td>12</td>\n",
       "    </tr>\n",
       "    <tr>\n",
       "      <th>4</th>\n",
       "      <td>22</td>\n",
       "      <td>12</td>\n",
       "      <td>11</td>\n",
       "    </tr>\n",
       "  </tbody>\n",
       "</table>\n",
       "</div>"
      ],
      "text/plain": [
       "   d1  d2  d3\n",
       "0   9  26   5\n",
       "1   8  26  22\n",
       "2  17   8  22\n",
       "3  15  16  12\n",
       "4  22  12  11"
      ]
     },
     "execution_count": 25,
     "metadata": {},
     "output_type": "execute_result"
    }
   ],
   "source": [
    "# Generate a 3x3 array from random integers between 5 and 30\n",
    "myl = [np.random.randint(5,30,size=(3,3)) for _ in range(3)]\n",
    "\n",
    "# List first row in every data frame\n",
    "[print(i[0]) for i in myl]\n",
    "\n",
    "# Verify the shape for every elment\n",
    "[print(i.shape) for i in myl]\n",
    "\n",
    "# We could put these in a dataframe\n",
    "newdf = pd.DataFrame(np.concatenate(myl),columns=['d1','d2','d3'])\n",
    "newdf.head()"
   ]
  },
  {
   "cell_type": "markdown",
   "metadata": {},
   "source": [
    "### From Dictionaries To Data Frames\n",
    "\n",
    "Extending the above concept, many times we have data structures in dictonaries which are data structures that can involve heterogeneous data. Arrays and Series can accomodate only one data type at a time. Lists and dictonaries can handle both types. Lists can even contain dictionaries (and vice versa) such as the following which mimics what happens when you get weather updates from an on line service using an API."
   ]
  },
  {
   "cell_type": "code",
   "execution_count": 26,
   "metadata": {},
   "outputs": [],
   "source": [
    "data = [ {'area': 'atlanta', 'rainfall': 100, 'temperature': 20}, \n",
    "         {'area': 'macon',   'rainfall': 70,  'temperature': 25}, \n",
    "         {'area': 'marietta','rainfall': 200, 'temperature': 39 }] "
   ]
  },
  {
   "cell_type": "markdown",
   "metadata": {},
   "source": [
    "So what if we wanted to summarize the rainfall for all cities ?"
   ]
  },
  {
   "cell_type": "code",
   "execution_count": 27,
   "metadata": {},
   "outputs": [
    {
     "name": "stdout",
     "output_type": "stream",
     "text": [
      "Mean rain fall is 123.333\n"
     ]
    }
   ],
   "source": [
    "rain = []\n",
    "for i, somedata in enumerate(data):\n",
    "    rain.append(data[i]['rainfall'])\n",
    "print(f\"Mean rain fall is {np.mean(rain).round(3)}\")"
   ]
  },
  {
   "cell_type": "markdown",
   "metadata": {},
   "source": [
    "But this is not convenient and wouldn't scale very well so better to make a data frame out of this since data frames have associated methods which eliminate the need to write summary loops. "
   ]
  },
  {
   "cell_type": "code",
   "execution_count": 28,
   "metadata": {},
   "outputs": [
    {
     "name": "stdout",
     "output_type": "stream",
     "text": [
      "       area  rainfall  temperature\n",
      "0   atlanta       100           20\n",
      "1     macon        70           25\n",
      "2  marietta       200           39\n",
      " Mean rain fall is 123.33333333333333\n"
     ]
    }
   ],
   "source": [
    "# Create a data from directly \n",
    "weather_df = pd.DataFrame.from_dict(data)\n",
    "\n",
    "# Check it out\n",
    "print(weather_df)\n",
    "\n",
    "# Get the average of any column\n",
    "print(f\" Mean rain fall is {weather_df.rainfall.mean()}\")"
   ]
  },
  {
   "cell_type": "code",
   "execution_count": 29,
   "metadata": {},
   "outputs": [
    {
     "data": {
      "text/html": [
       "<div>\n",
       "<style scoped>\n",
       "    .dataframe tbody tr th:only-of-type {\n",
       "        vertical-align: middle;\n",
       "    }\n",
       "\n",
       "    .dataframe tbody tr th {\n",
       "        vertical-align: top;\n",
       "    }\n",
       "\n",
       "    .dataframe thead th {\n",
       "        text-align: right;\n",
       "    }\n",
       "</style>\n",
       "<table border=\"1\" class=\"dataframe\">\n",
       "  <thead>\n",
       "    <tr style=\"text-align: right;\">\n",
       "      <th></th>\n",
       "      <th>rainfall</th>\n",
       "      <th>temperature</th>\n",
       "    </tr>\n",
       "  </thead>\n",
       "  <tbody>\n",
       "    <tr>\n",
       "      <th>count</th>\n",
       "      <td>3.000000</td>\n",
       "      <td>3.000000</td>\n",
       "    </tr>\n",
       "    <tr>\n",
       "      <th>mean</th>\n",
       "      <td>123.333333</td>\n",
       "      <td>28.000000</td>\n",
       "    </tr>\n",
       "    <tr>\n",
       "      <th>std</th>\n",
       "      <td>68.068593</td>\n",
       "      <td>9.848858</td>\n",
       "    </tr>\n",
       "    <tr>\n",
       "      <th>min</th>\n",
       "      <td>70.000000</td>\n",
       "      <td>20.000000</td>\n",
       "    </tr>\n",
       "    <tr>\n",
       "      <th>25%</th>\n",
       "      <td>85.000000</td>\n",
       "      <td>22.500000</td>\n",
       "    </tr>\n",
       "    <tr>\n",
       "      <th>50%</th>\n",
       "      <td>100.000000</td>\n",
       "      <td>25.000000</td>\n",
       "    </tr>\n",
       "    <tr>\n",
       "      <th>75%</th>\n",
       "      <td>150.000000</td>\n",
       "      <td>32.000000</td>\n",
       "    </tr>\n",
       "    <tr>\n",
       "      <th>max</th>\n",
       "      <td>200.000000</td>\n",
       "      <td>39.000000</td>\n",
       "    </tr>\n",
       "  </tbody>\n",
       "</table>\n",
       "</div>"
      ],
      "text/plain": [
       "         rainfall  temperature\n",
       "count    3.000000     3.000000\n",
       "mean   123.333333    28.000000\n",
       "std     68.068593     9.848858\n",
       "min     70.000000    20.000000\n",
       "25%     85.000000    22.500000\n",
       "50%    100.000000    25.000000\n",
       "75%    150.000000    32.000000\n",
       "max    200.000000    39.000000"
      ]
     },
     "execution_count": 29,
     "metadata": {},
     "output_type": "execute_result"
    }
   ],
   "source": [
    "# Better yet\n",
    "weather_df.describe()"
   ]
  },
  {
   "cell_type": "markdown",
   "metadata": {},
   "source": [
    "More complex dictionaries are possible such as the one below which nests information underneath the **Temperature** key. Actually, these types of structures are common particualrly when extracing information from an API which typically will return JSON formatted information. JSON looks very much like a Python dictionary. "
   ]
  },
  {
   "cell_type": "code",
   "execution_count": 30,
   "metadata": {},
   "outputs": [
    {
     "data": {
      "text/plain": [
       "{'Unit': 'F', 'Value': 54.3}"
      ]
     },
     "execution_count": 30,
     "metadata": {},
     "output_type": "execute_result"
    }
   ],
   "source": [
    "weather = {\n",
    "    'Country': 'USA',\n",
    "    'City': 'Washington, D.C.',\n",
    "    'Temperature': {\n",
    "        'Unit': 'F',\n",
    "        'Value': 54.3\n",
    "    }\n",
    "}\n",
    "    \n",
    "weather.get(\"Temperature\",0)"
   ]
  },
  {
   "cell_type": "markdown",
   "metadata": {},
   "source": [
    "### More About Dictionaries\n",
    "\n",
    "More explanation about dictionaries would be helpful here. Unlike lists, items in dictionaries are unordered. While visually there appears to be a \"first\" element, the internal structure doesn't reflect any specific order. Notice the following. Attempting to access a dictionary as if it were a list will fail. Notice first that we create the dictionary by using brace characters instead of brackets. A distinct advantage of using dictionaries is that we can name the elements using an intutiive label if we so desire.\n",
    "\n",
    "```python\n",
    "weather = {'area': 'atlanta', 'rainfall': 100, 'temperature': 20}\n",
    "weather[0]\n",
    "```\n",
    "<img src=\"pics/errors.png\">\n"
   ]
  },
  {
   "cell_type": "code",
   "execution_count": 31,
   "metadata": {},
   "outputs": [
    {
     "name": "stdout",
     "output_type": "stream",
     "text": [
      "Keys are  dict_keys(['area', 'rainfall', 'temperature'])\n",
      "Itmes are dict_items([('area', 'atlanta'), ('rainfall', 100), ('temperature', 20)])\n"
     ]
    }
   ],
   "source": [
    "# Dictonaries have \"keys\" corresponding to which there are items\n",
    "\n",
    "weather = {'area': 'atlanta', 'rainfall': 100, 'temperature': 20}\n",
    "print(\"Keys are \",weather.keys())\n",
    "print(\"Itmes are\",weather.items())"
   ]
  },
  {
   "cell_type": "markdown",
   "metadata": {},
   "source": [
    "While the dictionary has more intelligible names, there is less transparency when attempting to access the names and values of the dictionary when compared to the list structure. With lists, you just pick the index or slice and get what you want. We can do things like the following although unless we know the name of the information we want, then we have to loop through the structure to see what's in it."
   ]
  },
  {
   "cell_type": "code",
   "execution_count": 32,
   "metadata": {},
   "outputs": [
    {
     "name": "stdout",
     "output_type": "stream",
     "text": [
      "100\n",
      "100\n",
      "0\n"
     ]
    }
   ],
   "source": [
    "# This is common though discouraged\n",
    "print(weather['rainfall'])\n",
    "\n",
    "# Use of the get method is encouraged because if the \n",
    "# key doesn't exist then we can return a value (e.g. 0)\n",
    "# If we use the first method we get an error\n",
    "print(weather.get('rainfall',0))\n",
    "\n",
    "# What if the key doesn't exist ?\n",
    "# This returns a value of zero\n",
    "print(weather.get('aaa',0))"
   ]
  },
  {
   "cell_type": "code",
   "execution_count": 33,
   "metadata": {},
   "outputs": [
    {
     "name": "stdout",
     "output_type": "stream",
     "text": [
      "Item 0 has value area\n",
      "Item 1 has value rainfall\n",
      "Item 2 has value temperature\n",
      "\n",
      "\n",
      "Item area has value atlanta\n",
      "Item rainfall has value 100\n",
      "Item temperature has value 20\n",
      "\n",
      "\n",
      "Item area has value atlanta\n",
      "Item rainfall has value 100\n",
      "Item temperature has value 20\n"
     ]
    }
   ],
   "source": [
    "for key, value in enumerate(weather):\n",
    "    print(\"Item %s has value %s\" % (key, str(value)))\n",
    "\n",
    "print(\"\\n\")\n",
    "\n",
    "# Check this out\n",
    "for key, value in weather.items():\n",
    "    print(\"Item %s has value %s\" % (key,str(value)))\n",
    "    \n",
    "print(\"\\n\")\n",
    "\n",
    "\n",
    "# And one more pattern of access\n",
    "for key in weather.keys():\n",
    "    print(\"Item %s has value %s\" % (key,str(weather.get(key,0))))"
   ]
  },
  {
   "cell_type": "markdown",
   "metadata": {},
   "source": [
    "Here is a practical example of what one could do with a dictionary. We want to count the number of times any single character appears within a sentence. This is a very crude form of text modeling wherein we could do frequency analysis of letters. Obviosuly we would expect the vowels to be more frequent. "
   ]
  },
  {
   "cell_type": "code",
   "execution_count": 34,
   "metadata": {},
   "outputs": [
    {
     "data": {
      "text/plain": [
       "{'I': 1,\n",
       " 't': 6,\n",
       " ' ': 13,\n",
       " 'w': 2,\n",
       " 'a': 4,\n",
       " 's': 3,\n",
       " 'b': 1,\n",
       " 'r': 5,\n",
       " 'i': 6,\n",
       " 'g': 2,\n",
       " 'h': 3,\n",
       " 'c': 3,\n",
       " 'o': 2,\n",
       " 'l': 3,\n",
       " 'd': 3,\n",
       " 'y': 1,\n",
       " 'n': 4,\n",
       " 'A': 1,\n",
       " 'p': 1,\n",
       " ',': 1,\n",
       " 'e': 5,\n",
       " 'k': 2,\n",
       " '.': 1}"
      ]
     },
     "execution_count": 34,
     "metadata": {},
     "output_type": "execute_result"
    }
   ],
   "source": [
    "import pprint\n",
    "message = 'It was a bright cold day in April, and the clocks were striking thirteen.'\n",
    "count = {}\n",
    "\n",
    "for character in message:\n",
    "    count.setdefault(character, 0)\n",
    "    count[character] = count[character] + 1\n",
    "\n",
    "count"
   ]
  },
  {
   "cell_type": "code",
   "execution_count": 35,
   "metadata": {},
   "outputs": [
    {
     "data": {
      "text/plain": [
       "{'i': 7,\n",
       " 't': 6,\n",
       " ' ': 13,\n",
       " 'w': 2,\n",
       " 'a': 5,\n",
       " 's': 3,\n",
       " 'b': 1,\n",
       " 'r': 5,\n",
       " 'g': 2,\n",
       " 'h': 3,\n",
       " 'c': 3,\n",
       " 'o': 2,\n",
       " 'l': 3,\n",
       " 'd': 3,\n",
       " 'y': 1,\n",
       " 'n': 4,\n",
       " 'p': 1,\n",
       " ',': 1,\n",
       " 'e': 5,\n",
       " 'k': 2,\n",
       " '.': 1}"
      ]
     },
     "execution_count": 35,
     "metadata": {},
     "output_type": "execute_result"
    }
   ],
   "source": [
    "# Let's normalize everything to lower case so we don't have\n",
    "# ambiguities \n",
    "\n",
    "count = {}\n",
    "\n",
    "for character in message.lower():\n",
    "    count.setdefault(character, 0)\n",
    "    count[character] = count[character] + 1\n",
    "\n",
    "count"
   ]
  },
  {
   "cell_type": "markdown",
   "metadata": {},
   "source": [
    "Is there a way to sort this stucture to make it easy to see what the most frequently used letters were ? Note that if you just type the name of the dictionary it will simply print it out in some random order. Let's see what happens when we try to sort. This first example will look at the items in the dictionary and look at the first element (they key name) and sort by that which since these are letters then they will be in alphabetical order. "
   ]
  },
  {
   "cell_type": "code",
   "execution_count": 36,
   "metadata": {},
   "outputs": [
    {
     "name": "stdout",
     "output_type": "stream",
     "text": [
      "dict_items([('i', 7), ('t', 6), (' ', 13), ('w', 2), ('a', 5), ('s', 3), ('b', 1), ('r', 5), ('g', 2), ('h', 3), ('c', 3), ('o', 2), ('l', 3), ('d', 3), ('y', 1), ('n', 4), ('p', 1), (',', 1), ('e', 5), ('k', 2), ('.', 1)])\n",
      "\n",
      "\n"
     ]
    },
    {
     "data": {
      "text/plain": [
       "[(' ', 13),\n",
       " (',', 1),\n",
       " ('.', 1),\n",
       " ('a', 5),\n",
       " ('b', 1),\n",
       " ('c', 3),\n",
       " ('d', 3),\n",
       " ('e', 5),\n",
       " ('g', 2),\n",
       " ('h', 3),\n",
       " ('i', 7),\n",
       " ('k', 2),\n",
       " ('l', 3),\n",
       " ('n', 4),\n",
       " ('o', 2),\n",
       " ('p', 1),\n",
       " ('r', 5),\n",
       " ('s', 3),\n",
       " ('t', 6),\n",
       " ('w', 2),\n",
       " ('y', 1)]"
      ]
     },
     "execution_count": 36,
     "metadata": {},
     "output_type": "execute_result"
    }
   ],
   "source": [
    "print(count.items())\n",
    "print(\"\\n\")\n",
    "\n",
    "# Sort the items\n",
    "sorted(count.items())"
   ]
  },
  {
   "cell_type": "code",
   "execution_count": 37,
   "metadata": {},
   "outputs": [
    {
     "data": {
      "text/plain": [
       "[(' ', 13),\n",
       " ('i', 7),\n",
       " ('t', 6),\n",
       " ('a', 5),\n",
       " ('r', 5),\n",
       " ('e', 5),\n",
       " ('n', 4),\n",
       " ('s', 3),\n",
       " ('h', 3),\n",
       " ('c', 3),\n",
       " ('l', 3),\n",
       " ('d', 3),\n",
       " ('w', 2),\n",
       " ('g', 2),\n",
       " ('o', 2),\n",
       " ('k', 2),\n",
       " ('b', 1),\n",
       " ('y', 1),\n",
       " ('p', 1),\n",
       " (',', 1),\n",
       " ('.', 1)]"
      ]
     },
     "execution_count": 37,
     "metadata": {},
     "output_type": "execute_result"
    }
   ],
   "source": [
    "sorted_freq = sorted(count.items(), key = lambda kv: kv[1], reverse=True)\n",
    "sorted_freq"
   ]
  },
  {
   "cell_type": "markdown",
   "metadata": {},
   "source": [
    "All of this is kind of a pain so a better approach is to turn the dictionary into a data frame which generally speaking makes things easier to manage. Let's do this."
   ]
  },
  {
   "cell_type": "code",
   "execution_count": 38,
   "metadata": {},
   "outputs": [
    {
     "data": {
      "image/png": "[encoded data removed]",
      "text/plain": [
       "<Figure size 576x576 with 1 Axes>"
      ]
     },
     "metadata": {
      "needs_background": "light"
     },
     "output_type": "display_data"
    }
   ],
   "source": [
    "import matplotlib.pyplot as plt\n",
    "\n",
    "# Let's use a data frame to help us out\n",
    "newdf = pd.DataFrame.from_dict(count.items())\n",
    "newdf.columns = ['letter','frequency']\n",
    "\n",
    "# Now let's sort the data frame\n",
    "newdf.sort_values('frequency',inplace=True)\n",
    "\n",
    "# Replace the \" \" with the word \"space\"\n",
    "newdf.replace(\" \",\"space\",inplace=True)\n",
    "\n",
    "# Make the plot happen\n",
    "newdf.set_index(\"letter\").plot(kind=\"barh\",title=\"Letter frequency\", figsize=(8,8)) \n",
    "plt.grid()"
   ]
  },
  {
   "cell_type": "markdown",
   "metadata": {},
   "source": [
    "Let's work through the following example which uses an API to fetch some information. Check out this [web page](https://www.engineeringbigdata.com/api-and-json-example-in-python/) which contains the primary content for most of this example. This uses the [Datamuse API Word-Finding Query](http://www.datamuse.com/api/)\n",
    "\n",
    "\n",
    "> The Datamuse API is a free API that requires no sign-up or tokens for use. This API is great for developers as a word-finding query engine and is for use in your apps to find words that will match a set of constraints. Also, developers can specify a wide variety of constraints such as meaning, spelling, sound, vocabulary in the word-finding query.\n",
    "\n",
    "In this example we will find words with a meaning similar to \"engineering big data\". This is a very basic example API and JSON code to print out the data that this tutorial is searching for. As one can see, there is no need for API keys or tokens in this example."
   ]
  },
  {
   "cell_type": "code",
   "execution_count": 39,
   "metadata": {},
   "outputs": [
    {
     "name": "stdout",
     "output_type": "stream",
     "text": [
      "[{'word': 'monty', 'score': 57740, 'tags': ['n', 'prop']}, {'word': 'boa constrictor', 'score': 51312, 'tags': ['n']}, {'word': 'snake', 'score': 51311, 'tags': ['n']}, {'word': 'crocodile', 'score': 51310, 'tags': ['n']}, {'word': 'reptile', 'score': 51309, 'tags': ['n']}]\n"
     ]
    }
   ],
   "source": [
    "import json\n",
    "import urllib.request as urllib2\n",
    " \n",
    "api_url = 'https://api.datamuse.com/words?ml=python&max=5'\n",
    "data = json.load(urllib2.urlopen(api_url))\n",
    " \n",
    "def datamuse_api():\n",
    "    print(data)\n",
    " \n",
    "datamuse_api()"
   ]
  },
  {
   "cell_type": "markdown",
   "metadata": {},
   "source": [
    "We won't be working through the rest of the example on the website although it is pretty interesting. It basically looks for words that are similar to \"Python\". As for our interests, the larger point here is that we now have what appears to be a dictionary although it is also JSON. We can parse this information into a dataframe and work with much easier there as long as we understand the process isn't perfect. Note that the tags column can have a list with multiple values. We might want to make other columns to hold tags or somehow make the number of tags symmetrial. "
   ]
  },
  {
   "cell_type": "code",
   "execution_count": 40,
   "metadata": {},
   "outputs": [
    {
     "data": {
      "text/html": [
       "<div>\n",
       "<style scoped>\n",
       "    .dataframe tbody tr th:only-of-type {\n",
       "        vertical-align: middle;\n",
       "    }\n",
       "\n",
       "    .dataframe tbody tr th {\n",
       "        vertical-align: top;\n",
       "    }\n",
       "\n",
       "    .dataframe thead th {\n",
       "        text-align: right;\n",
       "    }\n",
       "</style>\n",
       "<table border=\"1\" class=\"dataframe\">\n",
       "  <thead>\n",
       "    <tr style=\"text-align: right;\">\n",
       "      <th></th>\n",
       "      <th>word</th>\n",
       "      <th>score</th>\n",
       "      <th>tags</th>\n",
       "    </tr>\n",
       "  </thead>\n",
       "  <tbody>\n",
       "    <tr>\n",
       "      <th>0</th>\n",
       "      <td>monty</td>\n",
       "      <td>57740</td>\n",
       "      <td>[n, prop]</td>\n",
       "    </tr>\n",
       "    <tr>\n",
       "      <th>1</th>\n",
       "      <td>boa constrictor</td>\n",
       "      <td>51312</td>\n",
       "      <td>[n]</td>\n",
       "    </tr>\n",
       "    <tr>\n",
       "      <th>2</th>\n",
       "      <td>snake</td>\n",
       "      <td>51311</td>\n",
       "      <td>[n]</td>\n",
       "    </tr>\n",
       "    <tr>\n",
       "      <th>3</th>\n",
       "      <td>crocodile</td>\n",
       "      <td>51310</td>\n",
       "      <td>[n]</td>\n",
       "    </tr>\n",
       "    <tr>\n",
       "      <th>4</th>\n",
       "      <td>reptile</td>\n",
       "      <td>51309</td>\n",
       "      <td>[n]</td>\n",
       "    </tr>\n",
       "  </tbody>\n",
       "</table>\n",
       "</div>"
      ],
      "text/plain": [
       "              word  score       tags\n",
       "0            monty  57740  [n, prop]\n",
       "1  boa constrictor  51312        [n]\n",
       "2            snake  51311        [n]\n",
       "3        crocodile  51310        [n]\n",
       "4          reptile  51309        [n]"
      ]
     },
     "execution_count": 40,
     "metadata": {},
     "output_type": "execute_result"
    }
   ],
   "source": [
    "pd.DataFrame.from_dict(data)"
   ]
  },
  {
   "cell_type": "markdown",
   "metadata": {},
   "source": [
    "### Dictionaries And scikit-learn\n",
    "\n",
    "Dictionaries are very important to understand as they are frequently used in scikit-learn work."
   ]
  },
  {
   "cell_type": "code",
   "execution_count": 41,
   "metadata": {},
   "outputs": [
    {
     "data": {
      "text/plain": [
       "['mean_fit_time',\n",
       " 'mean_score_time',\n",
       " 'mean_test_score',\n",
       " 'param_C',\n",
       " 'param_kernel',\n",
       " 'params',\n",
       " 'rank_test_score',\n",
       " 'split0_test_score',\n",
       " 'split1_test_score',\n",
       " 'split2_test_score',\n",
       " 'split3_test_score',\n",
       " 'split4_test_score',\n",
       " 'std_fit_time',\n",
       " 'std_score_time',\n",
       " 'std_test_score']"
      ]
     },
     "execution_count": 41,
     "metadata": {},
     "output_type": "execute_result"
    }
   ],
   "source": [
    "from sklearn import svm, datasets\n",
    "from sklearn.model_selection import GridSearchCV\n",
    "\n",
    "# Load some data\n",
    "iris = datasets.load_iris()\n",
    "\n",
    "# Set some parameters for the SVM method\n",
    "parameters = {'kernel':('linear', 'rbf'), 'C':[1, 10]}\n",
    "\n",
    "# Make an instance of s SVM\n",
    "svc = svm.SVC()\n",
    "\n",
    "# Now do the GridSearch\n",
    "clf = GridSearchCV(svc, parameters)\n",
    "clf.fit(iris.data, iris.target)\n",
    "\n",
    "# guess what we get back ?\n",
    "sorted(clf.cv_results_.keys())"
   ]
  },
  {
   "cell_type": "code",
   "execution_count": 42,
   "metadata": {},
   "outputs": [
    {
     "data": {
      "text/plain": [
       "{'mean_fit_time': array([0.00075746, 0.00074677, 0.00054026, 0.00050435]),\n",
       " 'std_fit_time': array([7.20716926e-05, 4.69778749e-05, 3.78585882e-05, 1.25115019e-05]),\n",
       " 'mean_score_time': array([0.00046239, 0.00035357, 0.00031466, 0.00032144]),\n",
       " 'std_score_time': array([1.77538238e-04, 3.49587009e-05, 6.90819057e-05, 1.06330239e-04]),\n",
       " 'param_C': masked_array(data=[1, 1, 10, 10],\n",
       "              mask=[False, False, False, False],\n",
       "        fill_value='?',\n",
       "             dtype=object),\n",
       " 'param_kernel': masked_array(data=['linear', 'rbf', 'linear', 'rbf'],\n",
       "              mask=[False, False, False, False],\n",
       "        fill_value='?',\n",
       "             dtype=object),\n",
       " 'params': [{'C': 1, 'kernel': 'linear'},\n",
       "  {'C': 1, 'kernel': 'rbf'},\n",
       "  {'C': 10, 'kernel': 'linear'},\n",
       "  {'C': 10, 'kernel': 'rbf'}],\n",
       " 'split0_test_score': array([0.96666667, 0.96666667, 1.        , 0.96666667]),\n",
       " 'split1_test_score': array([1.        , 0.96666667, 1.        , 1.        ]),\n",
       " 'split2_test_score': array([0.96666667, 0.96666667, 0.9       , 0.96666667]),\n",
       " 'split3_test_score': array([0.96666667, 0.93333333, 0.96666667, 0.96666667]),\n",
       " 'split4_test_score': array([1., 1., 1., 1.]),\n",
       " 'mean_test_score': array([0.98      , 0.96666667, 0.97333333, 0.98      ]),\n",
       " 'std_test_score': array([0.01632993, 0.02108185, 0.03887301, 0.01632993]),\n",
       " 'rank_test_score': array([1, 4, 3, 1], dtype=int32)}"
      ]
     },
     "execution_count": 42,
     "metadata": {},
     "output_type": "execute_result"
    }
   ],
   "source": [
    "clf.cv_results_"
   ]
  },
  {
   "cell_type": "code",
   "execution_count": 43,
   "metadata": {},
   "outputs": [
    {
     "name": "stdout",
     "output_type": "stream",
     "text": [
      "<class 'numpy.ndarray'>\n",
      "<class 'numpy.ndarray'>\n",
      "<class 'numpy.ndarray'>\n",
      "<class 'numpy.ndarray'>\n",
      "<class 'numpy.ma.core.MaskedArray'>\n",
      "<class 'numpy.ma.core.MaskedArray'>\n",
      "<class 'list'>\n",
      "<class 'numpy.ndarray'>\n",
      "<class 'numpy.ndarray'>\n",
      "<class 'numpy.ndarray'>\n",
      "<class 'numpy.ndarray'>\n",
      "<class 'numpy.ndarray'>\n",
      "<class 'numpy.ndarray'>\n",
      "<class 'numpy.ndarray'>\n",
      "<class 'numpy.ndarray'>\n"
     ]
    }
   ],
   "source": [
    "results = clf.cv_results_\n",
    "for key, value in results.items():\n",
    "    print(type(value))"
   ]
  },
  {
   "cell_type": "code",
   "execution_count": 44,
   "metadata": {},
   "outputs": [
    {
     "data": {
      "text/plain": [
       "[{'C': 1, 'kernel': 'linear'},\n",
       " {'C': 1, 'kernel': 'rbf'},\n",
       " {'C': 10, 'kernel': 'linear'},\n",
       " {'C': 10, 'kernel': 'rbf'}]"
      ]
     },
     "execution_count": 44,
     "metadata": {},
     "output_type": "execute_result"
    }
   ],
   "source": [
    "results.get('params')"
   ]
  },
  {
   "cell_type": "markdown",
   "metadata": {},
   "source": [
    "## Series \n",
    "\n",
    "Series can thought of as one dimensional arrays or one dimensional data frames. The R equivalent of Series is a vector structure. One of the more common uses for Series is as a random number generator for various simulations. The advantage of using a Series of things is that there are lots of methods that can be used on them. Still, many times they wind up becoming part of a matrix or dataframe so in general we don't do a lot of work using just one Series object. "
   ]
  },
  {
   "cell_type": "code",
   "execution_count": 45,
   "metadata": {},
   "outputs": [
    {
     "name": "stdout",
     "output_type": "stream",
     "text": [
      "Mean is: 24.5\n",
      "Cumulative sum is: 1225\n",
      "Series Description: count    50.00000\n",
      "mean     24.50000\n",
      "std      14.57738\n",
      "min       0.00000\n",
      "25%      12.25000\n",
      "50%      24.50000\n",
      "75%      36.75000\n",
      "max      49.00000\n",
      "dtype: float64\n"
     ]
    }
   ],
   "source": [
    "import pandas as pd\n",
    "my_series = pd.Series(range(50))\n",
    "\n",
    "print(\"Mean is:\",my_series.mean())\n",
    "print(\"Cumulative sum is:\",my_series.cumsum()[49])\n",
    "print(\"Series Description:\",my_series.describe())"
   ]
  },
  {
   "cell_type": "code",
   "execution_count": 46,
   "metadata": {},
   "outputs": [
    {
     "name": "stdout",
     "output_type": "stream",
     "text": [
      "0    25\n",
      "1    39\n",
      "2    12\n",
      "3    41\n",
      "4    49\n",
      "5    23\n",
      "6    48\n",
      "7    17\n",
      "8    22\n",
      "9    42\n",
      "dtype: int64\n"
     ]
    },
    {
     "data": {
      "text/plain": [
       "<AxesSubplot:title={'center':'Line Plot'}>"
      ]
     },
     "execution_count": 46,
     "metadata": {},
     "output_type": "execute_result"
    },
    {
     "data": {
      "image/png": "[encoded data removed]",
      "text/plain": [
       "<Figure size 432x288 with 1 Axes>"
      ]
     },
     "metadata": {
      "needs_background": "light"
     },
     "output_type": "display_data"
    }
   ],
   "source": [
    "import random\n",
    "random.shuffle(my_series)  # Shuffle in list values around\n",
    "\n",
    "# the numbers are now shuffled\n",
    "print(my_series[0:10])\n",
    "\n",
    "# Series have built in plot methods\n",
    "my_series.plot.line(title=\"Line Plot\")"
   ]
  },
  {
   "cell_type": "code",
   "execution_count": 47,
   "metadata": {},
   "outputs": [
    {
     "name": "stdout",
     "output_type": "stream",
     "text": [
      "Random set of uniform numbers: [0.13357263 0.12042512 0.42318254 0.01763445]\n",
      "Random uniform array:\n",
      " [[0.21307329 0.76984429 0.54936635 0.05195312]\n",
      " [0.03694946 0.58045079 0.01931945 0.96360083]\n",
      " [0.55391444 0.18825436 0.44476412 0.63233379]\n",
      " [0.32681079 0.33033953 0.97882539 0.61917089]]\n",
      "Random integer array:\n",
      " [7 5 9 6 9]\n"
     ]
    },
    {
     "data": {
      "text/plain": [
       "<AxesSubplot:ylabel='Frequency'>"
      ]
     },
     "execution_count": 47,
     "metadata": {},
     "output_type": "execute_result"
    },
    {
     "data": {
      "image/png": "[encoded data removed]",
      "text/plain": [
       "<Figure size 432x288 with 1 Axes>"
      ]
     },
     "metadata": {
      "needs_background": "light"
     },
     "output_type": "display_data"
    }
   ],
   "source": [
    "# Get an array of the given shape and populate it with random samples \n",
    "# from a uniform distribution over [0, 1).\n",
    "\n",
    "print(\"Random set of uniform numbers:\",np.random.rand(4))\n",
    "print(\"Random uniform array:\\n\",np.random.rand(4,4))\n",
    "\n",
    "# Return random integers from the “discrete uniform” distribution \n",
    "print(\"Random integer array:\\n\",np.random.randint(5,10,size=5))\n",
    "\n",
    "# Turn the array into a Series which has built in plot methods\n",
    "pd.Series(np.random.randint(1,10000,size=1000)).plot.hist()"
   ]
  },
  {
   "cell_type": "markdown",
   "metadata": {},
   "source": [
    "Here is a powerful way to generate data from common statisitcal distributions."
   ]
  },
  {
   "cell_type": "code",
   "execution_count": 48,
   "metadata": {},
   "outputs": [
    {
     "data": {
      "text/plain": [
       "array([[6.37800189, 0.83974761, 7.06099055, 3.54165036],\n",
       "       [2.74632915, 3.21025941, 2.3810294 , 4.64622193]])"
      ]
     },
     "execution_count": 48,
     "metadata": {},
     "output_type": "execute_result"
    },
    {
     "data": {
      "image/png": "[encoded data removed]",
      "text/plain": [
       "<Figure size 432x288 with 1 Axes>"
      ]
     },
     "metadata": {
      "needs_background": "light"
     },
     "output_type": "display_data"
    }
   ],
   "source": [
    "# 10,000 values from a N(0,1) distribution\n",
    "plt.hist(np.random.normal(0,1,10000))\n",
    "\n",
    "np.random.normal(3, 2.5, size=(2, 4))"
   ]
  },
  {
   "cell_type": "code",
   "execution_count": 49,
   "metadata": {},
   "outputs": [
    {
     "data": {
      "text/plain": [
       "Text(0.5, 1.0, 'Uniform Distribution')"
      ]
     },
     "execution_count": 49,
     "metadata": {},
     "output_type": "execute_result"
    },
    {
     "data": {
      "image/png": "[encoded data removed]",
      "text/plain": [
       "<Figure size 432x288 with 1 Axes>"
      ]
     },
     "metadata": {
      "needs_background": "light"
     },
     "output_type": "display_data"
    }
   ],
   "source": [
    "uni = np.random.uniform(1,10,100000)\n",
    "plt.hist(uni)\n",
    "plt.title(\"Uniform Distribution\")"
   ]
  },
  {
   "cell_type": "markdown",
   "metadata": {},
   "source": [
    "## Data Frame Walkthrough\n",
    "\n",
    "As an Emory affiliate, you have free access to the catalogue of O'Reilly and Safari technical publications which are likely to be helpful to you in this course and in general programming and machine learning work. Go to the [login link](https://business.library.emory.edu/research-learning/databases/safari.php) which will then take you to the O'Reilly login page. \n",
    "\n",
    "<img src=\"pics/oreilly.png\">\n",
    "\n",
    "It might ask you to identify your institution although I think you have to click the \"don't see my institution listed\" category after which is will ask you for your Emory id information. This processs should allow you total access to the entire catalogue. In this notebook I'm using material based in part on the following publication:\n",
    "\n",
    "> The Data Wrangling Workshop - Second Edition\n",
    "  By Brian Lipp, Shubhadeep Roychowdhury and Dr. Tirthajyoti Sarkar\n",
    "\n",
    "You can refer directly to that publication if you so wish though I also include lots of examples that aren't part of that text.  "
   ]
  },
  {
   "cell_type": "code",
   "execution_count": 420,
   "metadata": {},
   "outputs": [
    {
     "data": {
      "text/html": [
       "<div>\n",
       "<style scoped>\n",
       "    .dataframe tbody tr th:only-of-type {\n",
       "        vertical-align: middle;\n",
       "    }\n",
       "\n",
       "    .dataframe tbody tr th {\n",
       "        vertical-align: top;\n",
       "    }\n",
       "\n",
       "    .dataframe thead th {\n",
       "        text-align: right;\n",
       "    }\n",
       "</style>\n",
       "<table border=\"1\" class=\"dataframe\">\n",
       "  <thead>\n",
       "    <tr style=\"text-align: right;\">\n",
       "      <th></th>\n",
       "      <th>Row ID</th>\n",
       "      <th>Order ID</th>\n",
       "      <th>Order Date</th>\n",
       "      <th>Ship Date</th>\n",
       "      <th>Ship Mode</th>\n",
       "      <th>Customer ID</th>\n",
       "      <th>Customer Name</th>\n",
       "      <th>Segment</th>\n",
       "      <th>Country</th>\n",
       "      <th>City</th>\n",
       "      <th>...</th>\n",
       "      <th>Postal Code</th>\n",
       "      <th>Region</th>\n",
       "      <th>Product ID</th>\n",
       "      <th>Category</th>\n",
       "      <th>Sub-Category</th>\n",
       "      <th>Product Name</th>\n",
       "      <th>Sales</th>\n",
       "      <th>Quantity</th>\n",
       "      <th>Discount</th>\n",
       "      <th>Profit</th>\n",
       "    </tr>\n",
       "  </thead>\n",
       "  <tbody>\n",
       "    <tr>\n",
       "      <th>0</th>\n",
       "      <td>1</td>\n",
       "      <td>CA-2016-152156</td>\n",
       "      <td>2016-11-08</td>\n",
       "      <td>2016-11-11</td>\n",
       "      <td>Second Class</td>\n",
       "      <td>CG-12520</td>\n",
       "      <td>Claire Gute</td>\n",
       "      <td>Consumer</td>\n",
       "      <td>United States</td>\n",
       "      <td>Henderson</td>\n",
       "      <td>...</td>\n",
       "      <td>42420</td>\n",
       "      <td>South</td>\n",
       "      <td>FUR-BO-10001798</td>\n",
       "      <td>Furniture</td>\n",
       "      <td>Bookcases</td>\n",
       "      <td>Bush Somerset Collection Bookcase</td>\n",
       "      <td>261.9600</td>\n",
       "      <td>2</td>\n",
       "      <td>0.00</td>\n",
       "      <td>41.9136</td>\n",
       "    </tr>\n",
       "    <tr>\n",
       "      <th>1</th>\n",
       "      <td>2</td>\n",
       "      <td>CA-2016-152156</td>\n",
       "      <td>2016-11-08</td>\n",
       "      <td>2016-11-11</td>\n",
       "      <td>Second Class</td>\n",
       "      <td>CG-12520</td>\n",
       "      <td>Claire Gute</td>\n",
       "      <td>Consumer</td>\n",
       "      <td>United States</td>\n",
       "      <td>Henderson</td>\n",
       "      <td>...</td>\n",
       "      <td>42420</td>\n",
       "      <td>South</td>\n",
       "      <td>FUR-CH-10000454</td>\n",
       "      <td>Furniture</td>\n",
       "      <td>Chairs</td>\n",
       "      <td>Hon Deluxe Fabric Upholstered Stacking Chairs,...</td>\n",
       "      <td>731.9400</td>\n",
       "      <td>3</td>\n",
       "      <td>0.00</td>\n",
       "      <td>219.5820</td>\n",
       "    </tr>\n",
       "    <tr>\n",
       "      <th>2</th>\n",
       "      <td>3</td>\n",
       "      <td>CA-2016-138688</td>\n",
       "      <td>2016-06-12</td>\n",
       "      <td>2016-06-16</td>\n",
       "      <td>Second Class</td>\n",
       "      <td>DV-13045</td>\n",
       "      <td>Darrin Van Huff</td>\n",
       "      <td>Corporate</td>\n",
       "      <td>United States</td>\n",
       "      <td>Los Angeles</td>\n",
       "      <td>...</td>\n",
       "      <td>90036</td>\n",
       "      <td>West</td>\n",
       "      <td>OFF-LA-10000240</td>\n",
       "      <td>Office Supplies</td>\n",
       "      <td>Labels</td>\n",
       "      <td>Self-Adhesive Address Labels for Typewriters b...</td>\n",
       "      <td>14.6200</td>\n",
       "      <td>2</td>\n",
       "      <td>0.00</td>\n",
       "      <td>6.8714</td>\n",
       "    </tr>\n",
       "    <tr>\n",
       "      <th>3</th>\n",
       "      <td>4</td>\n",
       "      <td>US-2015-108966</td>\n",
       "      <td>2015-10-11</td>\n",
       "      <td>2015-10-18</td>\n",
       "      <td>Standard Class</td>\n",
       "      <td>SO-20335</td>\n",
       "      <td>Sean O'Donnell</td>\n",
       "      <td>Consumer</td>\n",
       "      <td>United States</td>\n",
       "      <td>Fort Lauderdale</td>\n",
       "      <td>...</td>\n",
       "      <td>33311</td>\n",
       "      <td>South</td>\n",
       "      <td>FUR-TA-10000577</td>\n",
       "      <td>Furniture</td>\n",
       "      <td>Tables</td>\n",
       "      <td>Bretford CR4500 Series Slim Rectangular Table</td>\n",
       "      <td>957.5775</td>\n",
       "      <td>5</td>\n",
       "      <td>0.45</td>\n",
       "      <td>-383.0310</td>\n",
       "    </tr>\n",
       "  </tbody>\n",
       "</table>\n",
       "<p>4 rows × 21 columns</p>\n",
       "</div>"
      ],
      "text/plain": [
       "   Row ID        Order ID Order Date  Ship Date       Ship Mode Customer ID  \\\n",
       "0       1  CA-2016-152156 2016-11-08 2016-11-11    Second Class    CG-12520   \n",
       "1       2  CA-2016-152156 2016-11-08 2016-11-11    Second Class    CG-12520   \n",
       "2       3  CA-2016-138688 2016-06-12 2016-06-16    Second Class    DV-13045   \n",
       "3       4  US-2015-108966 2015-10-11 2015-10-18  Standard Class    SO-20335   \n",
       "\n",
       "     Customer Name    Segment        Country             City  ...  \\\n",
       "0      Claire Gute   Consumer  United States        Henderson  ...   \n",
       "1      Claire Gute   Consumer  United States        Henderson  ...   \n",
       "2  Darrin Van Huff  Corporate  United States      Los Angeles  ...   \n",
       "3   Sean O'Donnell   Consumer  United States  Fort Lauderdale  ...   \n",
       "\n",
       "  Postal Code  Region       Product ID         Category Sub-Category  \\\n",
       "0       42420   South  FUR-BO-10001798        Furniture    Bookcases   \n",
       "1       42420   South  FUR-CH-10000454        Furniture       Chairs   \n",
       "2       90036    West  OFF-LA-10000240  Office Supplies       Labels   \n",
       "3       33311   South  FUR-TA-10000577        Furniture       Tables   \n",
       "\n",
       "                                        Product Name     Sales  Quantity  \\\n",
       "0                  Bush Somerset Collection Bookcase  261.9600         2   \n",
       "1  Hon Deluxe Fabric Upholstered Stacking Chairs,...  731.9400         3   \n",
       "2  Self-Adhesive Address Labels for Typewriters b...   14.6200         2   \n",
       "3      Bretford CR4500 Series Slim Rectangular Table  957.5775         5   \n",
       "\n",
       "   Discount    Profit  \n",
       "0      0.00   41.9136  \n",
       "1      0.00  219.5820  \n",
       "2      0.00    6.8714  \n",
       "3      0.45 -383.0310  \n",
       "\n",
       "[4 rows x 21 columns]"
      ]
     },
     "execution_count": 420,
     "metadata": {},
     "output_type": "execute_result"
    }
   ],
   "source": [
    "# xlrd is an Excel file reader library - You probably have to install this \n",
    "# pip install xlrd\n",
    "\n",
    "import xlrd\n",
    "\n",
    "# Read in a sales worksheet\n",
    "url = \"https://raw.githubusercontent.com/steviep42/bios_534_2021/main/data/superstore.xls\"\n",
    "df = pd.read_excel(url)\n",
    "\n",
    "# What have we here ?\n",
    "df.head(4)"
   ]
  },
  {
   "cell_type": "markdown",
   "metadata": {},
   "source": [
    "This looks like product sales information which includes a number of details. The first row, \"Row ID\" is redundant so we can probably get rid of it."
   ]
  },
  {
   "cell_type": "code",
   "execution_count": 51,
   "metadata": {},
   "outputs": [
    {
     "name": "stdout",
     "output_type": "stream",
     "text": [
      "There are 21 columns\n"
     ]
    },
    {
     "data": {
      "text/plain": [
       "['Row ID',\n",
       " 'Order ID',\n",
       " 'Order Date',\n",
       " 'Ship Date',\n",
       " 'Ship Mode',\n",
       " 'Customer ID',\n",
       " 'Customer Name',\n",
       " 'Segment',\n",
       " 'Country',\n",
       " 'City',\n",
       " 'State',\n",
       " 'Postal Code',\n",
       " 'Region',\n",
       " 'Product ID',\n",
       " 'Category',\n",
       " 'Sub-Category',\n",
       " 'Product Name',\n",
       " 'Sales',\n",
       " 'Quantity',\n",
       " 'Discount',\n",
       " 'Profit']"
      ]
     },
     "execution_count": 51,
     "metadata": {},
     "output_type": "execute_result"
    }
   ],
   "source": [
    "print(\"There are %d columns\" % df.columns.shape[0])\n",
    "[i for i in df.columns]"
   ]
  },
  {
   "cell_type": "code",
   "execution_count": 52,
   "metadata": {},
   "outputs": [],
   "source": [
    "df.drop('Row ID',axis=1,inplace=True)"
   ]
  },
  {
   "cell_type": "code",
   "execution_count": 53,
   "metadata": {},
   "outputs": [
    {
     "name": "stdout",
     "output_type": "stream",
     "text": [
      "There are 20 columns\n"
     ]
    },
    {
     "data": {
      "text/plain": [
       "['Order ID',\n",
       " 'Order Date',\n",
       " 'Ship Date',\n",
       " 'Ship Mode',\n",
       " 'Customer ID',\n",
       " 'Customer Name',\n",
       " 'Segment',\n",
       " 'Country',\n",
       " 'City',\n",
       " 'State',\n",
       " 'Postal Code',\n",
       " 'Region',\n",
       " 'Product ID',\n",
       " 'Category',\n",
       " 'Sub-Category',\n",
       " 'Product Name',\n",
       " 'Sales',\n",
       " 'Quantity',\n",
       " 'Discount',\n",
       " 'Profit']"
      ]
     },
     "execution_count": 53,
     "metadata": {},
     "output_type": "execute_result"
    }
   ],
   "source": [
    "print(\"There are %d columns\" % df.columns.shape[0])\n",
    "\n",
    "# Notice that Row ID has been removed\n",
    "[i for i in df.columns]"
   ]
  },
  {
   "cell_type": "markdown",
   "metadata": {},
   "source": [
    "### Subsetting\n",
    "\n",
    "Subsetting data is a big thing with dataframes. There are at least two scenarios at work here: \n",
    "\n",
    "   - Wanting to see some number of rows from the dataframe and/or \n",
    "   - some subset of data which satisfies some criteria. \n",
    "   \n",
    "In combination with either of these, you might want to limit the columns of interest. Pandas has two functions called [**loc**](https://pandas.pydata.org/pandas-docs/stable/reference/api/pandas.DataFrame.loc.html) and [**iloc**](https://pandas.pydata.org/pandas-docs/stable/reference/api/pandas.DataFrame.iloc.html) which are commonly used to access information residing in data frames. There are some shortcuts that don't require the use of either although in my opinion it's best to use one or the other until you become more proficient with pandas dataframe subsetting."
   ]
  },
  {
   "cell_type": "code",
   "execution_count": 54,
   "metadata": {},
   "outputs": [
    {
     "data": {
      "text/html": [
       "<div>\n",
       "<style scoped>\n",
       "    .dataframe tbody tr th:only-of-type {\n",
       "        vertical-align: middle;\n",
       "    }\n",
       "\n",
       "    .dataframe tbody tr th {\n",
       "        vertical-align: top;\n",
       "    }\n",
       "\n",
       "    .dataframe thead th {\n",
       "        text-align: right;\n",
       "    }\n",
       "</style>\n",
       "<table border=\"1\" class=\"dataframe\">\n",
       "  <thead>\n",
       "    <tr style=\"text-align: right;\">\n",
       "      <th></th>\n",
       "      <th>Order ID</th>\n",
       "      <th>Order Date</th>\n",
       "    </tr>\n",
       "  </thead>\n",
       "  <tbody>\n",
       "    <tr>\n",
       "      <th>0</th>\n",
       "      <td>CA-2016-152156</td>\n",
       "      <td>2016-11-08</td>\n",
       "    </tr>\n",
       "    <tr>\n",
       "      <th>1</th>\n",
       "      <td>CA-2016-152156</td>\n",
       "      <td>2016-11-08</td>\n",
       "    </tr>\n",
       "    <tr>\n",
       "      <th>2</th>\n",
       "      <td>CA-2016-138688</td>\n",
       "      <td>2016-06-12</td>\n",
       "    </tr>\n",
       "    <tr>\n",
       "      <th>3</th>\n",
       "      <td>US-2015-108966</td>\n",
       "      <td>2015-10-11</td>\n",
       "    </tr>\n",
       "    <tr>\n",
       "      <th>4</th>\n",
       "      <td>US-2015-108966</td>\n",
       "      <td>2015-10-11</td>\n",
       "    </tr>\n",
       "  </tbody>\n",
       "</table>\n",
       "</div>"
      ],
      "text/plain": [
       "         Order ID Order Date\n",
       "0  CA-2016-152156 2016-11-08\n",
       "1  CA-2016-152156 2016-11-08\n",
       "2  CA-2016-138688 2016-06-12\n",
       "3  US-2015-108966 2015-10-11\n",
       "4  US-2015-108966 2015-10-11"
      ]
     },
     "execution_count": 54,
     "metadata": {},
     "output_type": "execute_result"
    }
   ],
   "source": [
    "# iloc is used for numeric access\n",
    "df.iloc[0:5,0:2]"
   ]
  },
  {
   "cell_type": "code",
   "execution_count": 55,
   "metadata": {},
   "outputs": [
    {
     "data": {
      "text/html": [
       "<div>\n",
       "<style scoped>\n",
       "    .dataframe tbody tr th:only-of-type {\n",
       "        vertical-align: middle;\n",
       "    }\n",
       "\n",
       "    .dataframe tbody tr th {\n",
       "        vertical-align: top;\n",
       "    }\n",
       "\n",
       "    .dataframe thead th {\n",
       "        text-align: right;\n",
       "    }\n",
       "</style>\n",
       "<table border=\"1\" class=\"dataframe\">\n",
       "  <thead>\n",
       "    <tr style=\"text-align: right;\">\n",
       "      <th></th>\n",
       "      <th>Order ID</th>\n",
       "      <th>Order Date</th>\n",
       "    </tr>\n",
       "  </thead>\n",
       "  <tbody>\n",
       "    <tr>\n",
       "      <th>0</th>\n",
       "      <td>CA-2016-152156</td>\n",
       "      <td>2016-11-08</td>\n",
       "    </tr>\n",
       "    <tr>\n",
       "      <th>1</th>\n",
       "      <td>CA-2016-152156</td>\n",
       "      <td>2016-11-08</td>\n",
       "    </tr>\n",
       "    <tr>\n",
       "      <th>2</th>\n",
       "      <td>CA-2016-138688</td>\n",
       "      <td>2016-06-12</td>\n",
       "    </tr>\n",
       "    <tr>\n",
       "      <th>3</th>\n",
       "      <td>US-2015-108966</td>\n",
       "      <td>2015-10-11</td>\n",
       "    </tr>\n",
       "    <tr>\n",
       "      <th>4</th>\n",
       "      <td>US-2015-108966</td>\n",
       "      <td>2015-10-11</td>\n",
       "    </tr>\n",
       "    <tr>\n",
       "      <th>5</th>\n",
       "      <td>CA-2014-115812</td>\n",
       "      <td>2014-06-09</td>\n",
       "    </tr>\n",
       "  </tbody>\n",
       "</table>\n",
       "</div>"
      ],
      "text/plain": [
       "         Order ID Order Date\n",
       "0  CA-2016-152156 2016-11-08\n",
       "1  CA-2016-152156 2016-11-08\n",
       "2  CA-2016-138688 2016-06-12\n",
       "3  US-2015-108966 2015-10-11\n",
       "4  US-2015-108966 2015-10-11\n",
       "5  CA-2014-115812 2014-06-09"
      ]
     },
     "execution_count": 55,
     "metadata": {},
     "output_type": "execute_result"
    }
   ],
   "source": [
    "# loc is used for column or index access\n",
    "df.loc[0:5,['Order ID',\"Order Date\"]]"
   ]
  },
  {
   "cell_type": "code",
   "execution_count": 56,
   "metadata": {},
   "outputs": [
    {
     "data": {
      "text/plain": [
       "RangeIndex(start=0, stop=9994, step=1)"
      ]
     },
     "execution_count": 56,
     "metadata": {},
     "output_type": "execute_result"
    }
   ],
   "source": [
    "df.index"
   ]
  },
  {
   "cell_type": "markdown",
   "metadata": {},
   "source": [
    "We can access indivual columns a couple of ways"
   ]
  },
  {
   "cell_type": "code",
   "execution_count": 57,
   "metadata": {},
   "outputs": [
    {
     "data": {
      "text/plain": [
       "0       261.9600\n",
       "1       731.9400\n",
       "2        14.6200\n",
       "3       957.5775\n",
       "4        22.3680\n",
       "          ...   \n",
       "9989     25.2480\n",
       "9990     91.9600\n",
       "9991    258.5760\n",
       "9992     29.6000\n",
       "9993    243.1600\n",
       "Name: Sales, Length: 9994, dtype: float64"
      ]
     },
     "execution_count": 57,
     "metadata": {},
     "output_type": "execute_result"
    }
   ],
   "source": [
    "df.Sales"
   ]
  },
  {
   "cell_type": "code",
   "execution_count": 58,
   "metadata": {},
   "outputs": [
    {
     "data": {
      "text/plain": [
       "229.8580008304938"
      ]
     },
     "execution_count": 58,
     "metadata": {},
     "output_type": "execute_result"
    }
   ],
   "source": [
    "df.Sales.mean()"
   ]
  },
  {
   "cell_type": "code",
   "execution_count": 59,
   "metadata": {},
   "outputs": [
    {
     "data": {
      "text/html": [
       "<div>\n",
       "<style scoped>\n",
       "    .dataframe tbody tr th:only-of-type {\n",
       "        vertical-align: middle;\n",
       "    }\n",
       "\n",
       "    .dataframe tbody tr th {\n",
       "        vertical-align: top;\n",
       "    }\n",
       "\n",
       "    .dataframe thead th {\n",
       "        text-align: right;\n",
       "    }\n",
       "</style>\n",
       "<table border=\"1\" class=\"dataframe\">\n",
       "  <thead>\n",
       "    <tr style=\"text-align: right;\">\n",
       "      <th></th>\n",
       "      <th>Sales</th>\n",
       "      <th>Profit</th>\n",
       "    </tr>\n",
       "  </thead>\n",
       "  <tbody>\n",
       "    <tr>\n",
       "      <th>0</th>\n",
       "      <td>261.9600</td>\n",
       "      <td>41.9136</td>\n",
       "    </tr>\n",
       "    <tr>\n",
       "      <th>1</th>\n",
       "      <td>731.9400</td>\n",
       "      <td>219.5820</td>\n",
       "    </tr>\n",
       "    <tr>\n",
       "      <th>2</th>\n",
       "      <td>14.6200</td>\n",
       "      <td>6.8714</td>\n",
       "    </tr>\n",
       "    <tr>\n",
       "      <th>3</th>\n",
       "      <td>957.5775</td>\n",
       "      <td>-383.0310</td>\n",
       "    </tr>\n",
       "    <tr>\n",
       "      <th>4</th>\n",
       "      <td>22.3680</td>\n",
       "      <td>2.5164</td>\n",
       "    </tr>\n",
       "    <tr>\n",
       "      <th>...</th>\n",
       "      <td>...</td>\n",
       "      <td>...</td>\n",
       "    </tr>\n",
       "    <tr>\n",
       "      <th>9989</th>\n",
       "      <td>25.2480</td>\n",
       "      <td>4.1028</td>\n",
       "    </tr>\n",
       "    <tr>\n",
       "      <th>9990</th>\n",
       "      <td>91.9600</td>\n",
       "      <td>15.6332</td>\n",
       "    </tr>\n",
       "    <tr>\n",
       "      <th>9991</th>\n",
       "      <td>258.5760</td>\n",
       "      <td>19.3932</td>\n",
       "    </tr>\n",
       "    <tr>\n",
       "      <th>9992</th>\n",
       "      <td>29.6000</td>\n",
       "      <td>13.3200</td>\n",
       "    </tr>\n",
       "    <tr>\n",
       "      <th>9993</th>\n",
       "      <td>243.1600</td>\n",
       "      <td>72.9480</td>\n",
       "    </tr>\n",
       "  </tbody>\n",
       "</table>\n",
       "<p>9994 rows × 2 columns</p>\n",
       "</div>"
      ],
      "text/plain": [
       "         Sales    Profit\n",
       "0     261.9600   41.9136\n",
       "1     731.9400  219.5820\n",
       "2      14.6200    6.8714\n",
       "3     957.5775 -383.0310\n",
       "4      22.3680    2.5164\n",
       "...        ...       ...\n",
       "9989   25.2480    4.1028\n",
       "9990   91.9600   15.6332\n",
       "9991  258.5760   19.3932\n",
       "9992   29.6000   13.3200\n",
       "9993  243.1600   72.9480\n",
       "\n",
       "[9994 rows x 2 columns]"
      ]
     },
     "execution_count": 59,
     "metadata": {},
     "output_type": "execute_result"
    }
   ],
   "source": [
    "df.loc[:,['Sales','Profit']]"
   ]
  },
  {
   "cell_type": "code",
   "execution_count": 60,
   "metadata": {},
   "outputs": [
    {
     "data": {
      "text/plain": [
       "<AxesSubplot:>"
      ]
     },
     "execution_count": 60,
     "metadata": {},
     "output_type": "execute_result"
    },
    {
     "data": {
      "image/png": "[encoded data removed]",
      "text/plain": [
       "<Figure size 432x288 with 1 Axes>"
      ]
     },
     "metadata": {
      "needs_background": "light"
     },
     "output_type": "display_data"
    }
   ],
   "source": [
    "df.loc[:,['Sales','Profit']].boxplot()"
   ]
  },
  {
   "cell_type": "code",
   "execution_count": 61,
   "metadata": {},
   "outputs": [
    {
     "data": {
      "text/plain": [
       "<AxesSubplot:>"
      ]
     },
     "execution_count": 61,
     "metadata": {},
     "output_type": "execute_result"
    },
    {
     "data": {
      "image/png": "[encoded data removed]",
      "text/plain": [
       "<Figure size 432x288 with 1 Axes>"
      ]
     },
     "metadata": {
      "needs_background": "light"
     },
     "output_type": "display_data"
    }
   ],
   "source": [
    "df[['Sales','Profit']].boxplot()"
   ]
  },
  {
   "cell_type": "code",
   "execution_count": null,
   "metadata": {},
   "outputs": [],
   "source": [
    "df.loc[df.Sales < 100,['Sales','Profit']].boxplot()"
   ]
  },
  {
   "cell_type": "markdown",
   "metadata": {},
   "source": [
    "The way this works is that providing a boolean phrase results in a True / False value which in turn dictates what values get displayed."
   ]
  },
  {
   "cell_type": "code",
   "execution_count": 62,
   "metadata": {},
   "outputs": [
    {
     "data": {
      "text/plain": [
       "0       False\n",
       "1       False\n",
       "2       False\n",
       "3       False\n",
       "4       False\n",
       "        ...  \n",
       "9989    False\n",
       "9990    False\n",
       "9991    False\n",
       "9992    False\n",
       "9993    False\n",
       "Name: Sales, Length: 9994, dtype: bool"
      ]
     },
     "execution_count": 62,
     "metadata": {},
     "output_type": "execute_result"
    }
   ],
   "source": [
    "df.Sales > 3000"
   ]
  },
  {
   "cell_type": "code",
   "execution_count": 63,
   "metadata": {},
   "outputs": [
    {
     "data": {
      "text/html": [
       "<div>\n",
       "<style scoped>\n",
       "    .dataframe tbody tr th:only-of-type {\n",
       "        vertical-align: middle;\n",
       "    }\n",
       "\n",
       "    .dataframe tbody tr th {\n",
       "        vertical-align: top;\n",
       "    }\n",
       "\n",
       "    .dataframe thead th {\n",
       "        text-align: right;\n",
       "    }\n",
       "</style>\n",
       "<table border=\"1\" class=\"dataframe\">\n",
       "  <thead>\n",
       "    <tr style=\"text-align: right;\">\n",
       "      <th></th>\n",
       "      <th>Sales</th>\n",
       "      <th>Profit</th>\n",
       "    </tr>\n",
       "  </thead>\n",
       "  <tbody>\n",
       "    <tr>\n",
       "      <th>27</th>\n",
       "      <td>3083.430</td>\n",
       "      <td>-1665.0522</td>\n",
       "    </tr>\n",
       "    <tr>\n",
       "      <th>165</th>\n",
       "      <td>8159.952</td>\n",
       "      <td>-1359.9920</td>\n",
       "    </tr>\n",
       "    <tr>\n",
       "      <th>251</th>\n",
       "      <td>3347.370</td>\n",
       "      <td>636.0003</td>\n",
       "    </tr>\n",
       "    <tr>\n",
       "      <th>262</th>\n",
       "      <td>3059.982</td>\n",
       "      <td>-509.9970</td>\n",
       "    </tr>\n",
       "    <tr>\n",
       "      <th>318</th>\n",
       "      <td>3991.980</td>\n",
       "      <td>1995.9900</td>\n",
       "    </tr>\n",
       "    <tr>\n",
       "      <th>...</th>\n",
       "      <td>...</td>\n",
       "      <td>...</td>\n",
       "    </tr>\n",
       "    <tr>\n",
       "      <th>9639</th>\n",
       "      <td>4297.644</td>\n",
       "      <td>-1862.3124</td>\n",
       "    </tr>\n",
       "    <tr>\n",
       "      <th>9649</th>\n",
       "      <td>3406.664</td>\n",
       "      <td>160.3136</td>\n",
       "    </tr>\n",
       "    <tr>\n",
       "      <th>9660</th>\n",
       "      <td>3023.928</td>\n",
       "      <td>226.7946</td>\n",
       "    </tr>\n",
       "    <tr>\n",
       "      <th>9741</th>\n",
       "      <td>4404.900</td>\n",
       "      <td>1013.1270</td>\n",
       "    </tr>\n",
       "    <tr>\n",
       "      <th>9857</th>\n",
       "      <td>3393.680</td>\n",
       "      <td>610.8624</td>\n",
       "    </tr>\n",
       "  </tbody>\n",
       "</table>\n",
       "<p>63 rows × 2 columns</p>\n",
       "</div>"
      ],
      "text/plain": [
       "         Sales     Profit\n",
       "27    3083.430 -1665.0522\n",
       "165   8159.952 -1359.9920\n",
       "251   3347.370   636.0003\n",
       "262   3059.982  -509.9970\n",
       "318   3991.980  1995.9900\n",
       "...        ...        ...\n",
       "9639  4297.644 -1862.3124\n",
       "9649  3406.664   160.3136\n",
       "9660  3023.928   226.7946\n",
       "9741  4404.900  1013.1270\n",
       "9857  3393.680   610.8624\n",
       "\n",
       "[63 rows x 2 columns]"
      ]
     },
     "execution_count": 63,
     "metadata": {},
     "output_type": "execute_result"
    }
   ],
   "source": [
    "df.loc[df.Sales > 3000,['Sales','Profit']]"
   ]
  },
  {
   "cell_type": "markdown",
   "metadata": {},
   "source": [
    "One thing I always want to know is what columns are factors / categories and which are continuous in nature. This provides some insight into how I might summarize the data. For example, wanting to know how much profit there was by State might be useful to know. But first, let's see what the number of unique values there are for each column"
   ]
  },
  {
   "cell_type": "code",
   "execution_count": 64,
   "metadata": {},
   "outputs": [
    {
     "data": {
      "text/plain": [
       "Order ID         5009\n",
       "Order Date       1237\n",
       "Ship Date        1334\n",
       "Ship Mode           4\n",
       "Customer ID       793\n",
       "Customer Name     793\n",
       "Segment             3\n",
       "Country             1\n",
       "City              531\n",
       "State              49\n",
       "Postal Code       631\n",
       "Region              4\n",
       "Product ID       1862\n",
       "Category            3\n",
       "Sub-Category       17\n",
       "Product Name     1850\n",
       "Sales            6144\n",
       "Quantity           14\n",
       "Discount           12\n",
       "Profit           7545\n",
       "dtype: int64"
      ]
     },
     "execution_count": 64,
     "metadata": {},
     "output_type": "execute_result"
    }
   ],
   "source": [
    "df.nunique()"
   ]
  },
  {
   "cell_type": "markdown",
   "metadata": {},
   "source": [
    "This is very useful in that we can see that things like Segment, Ship Mode, Region, and Category are clearly categories since they take on only a few unique values. It's possible that columns like State are also categories even though there are 49 unique values. I would imagine that not every state has equal sales and profit. It looks like the creators of this information have already included a region column to make it easy for us to summarize sales by region. Now that we understand these differences, we can start to ask some questions."
   ]
  },
  {
   "cell_type": "code",
   "execution_count": 65,
   "metadata": {},
   "outputs": [
    {
     "data": {
      "text/plain": [
       "Standard Class    5968\n",
       "Second Class      1945\n",
       "First Class       1538\n",
       "Same Day           543\n",
       "Name: Ship Mode, dtype: int64"
      ]
     },
     "execution_count": 65,
     "metadata": {},
     "output_type": "execute_result"
    }
   ],
   "source": [
    "# What is the distribution of shipment methods\n",
    "df['Ship Mode'].value_counts()"
   ]
  },
  {
   "cell_type": "code",
   "execution_count": 66,
   "metadata": {},
   "outputs": [
    {
     "data": {
      "text/html": [
       "<div>\n",
       "<style scoped>\n",
       "    .dataframe tbody tr th:only-of-type {\n",
       "        vertical-align: middle;\n",
       "    }\n",
       "\n",
       "    .dataframe tbody tr th {\n",
       "        vertical-align: top;\n",
       "    }\n",
       "\n",
       "    .dataframe thead th {\n",
       "        text-align: right;\n",
       "    }\n",
       "</style>\n",
       "<table border=\"1\" class=\"dataframe\">\n",
       "  <thead>\n",
       "    <tr style=\"text-align: right;\">\n",
       "      <th></th>\n",
       "      <th>Sales</th>\n",
       "      <th>Ship Mode</th>\n",
       "    </tr>\n",
       "  </thead>\n",
       "  <tbody>\n",
       "    <tr>\n",
       "      <th>0</th>\n",
       "      <td>261.9600</td>\n",
       "      <td>Second Class</td>\n",
       "    </tr>\n",
       "    <tr>\n",
       "      <th>1</th>\n",
       "      <td>731.9400</td>\n",
       "      <td>Second Class</td>\n",
       "    </tr>\n",
       "    <tr>\n",
       "      <th>3</th>\n",
       "      <td>957.5775</td>\n",
       "      <td>Standard Class</td>\n",
       "    </tr>\n",
       "    <tr>\n",
       "      <th>7</th>\n",
       "      <td>907.1520</td>\n",
       "      <td>Standard Class</td>\n",
       "    </tr>\n",
       "    <tr>\n",
       "      <th>10</th>\n",
       "      <td>1706.1840</td>\n",
       "      <td>Standard Class</td>\n",
       "    </tr>\n",
       "    <tr>\n",
       "      <th>...</th>\n",
       "      <td>...</td>\n",
       "      <td>...</td>\n",
       "    </tr>\n",
       "    <tr>\n",
       "      <th>9973</th>\n",
       "      <td>271.9600</td>\n",
       "      <td>Standard Class</td>\n",
       "    </tr>\n",
       "    <tr>\n",
       "      <th>9976</th>\n",
       "      <td>249.5840</td>\n",
       "      <td>Standard Class</td>\n",
       "    </tr>\n",
       "    <tr>\n",
       "      <th>9979</th>\n",
       "      <td>437.4720</td>\n",
       "      <td>Standard Class</td>\n",
       "    </tr>\n",
       "    <tr>\n",
       "      <th>9991</th>\n",
       "      <td>258.5760</td>\n",
       "      <td>Standard Class</td>\n",
       "    </tr>\n",
       "    <tr>\n",
       "      <th>9993</th>\n",
       "      <td>243.1600</td>\n",
       "      <td>Second Class</td>\n",
       "    </tr>\n",
       "  </tbody>\n",
       "</table>\n",
       "<p>2360 rows × 2 columns</p>\n",
       "</div>"
      ],
      "text/plain": [
       "          Sales       Ship Mode\n",
       "0      261.9600    Second Class\n",
       "1      731.9400    Second Class\n",
       "3      957.5775  Standard Class\n",
       "7      907.1520  Standard Class\n",
       "10    1706.1840  Standard Class\n",
       "...         ...             ...\n",
       "9973   271.9600  Standard Class\n",
       "9976   249.5840  Standard Class\n",
       "9979   437.4720  Standard Class\n",
       "9991   258.5760  Standard Class\n",
       "9993   243.1600    Second Class\n",
       "\n",
       "[2360 rows x 2 columns]"
      ]
     },
     "execution_count": 66,
     "metadata": {},
     "output_type": "execute_result"
    }
   ],
   "source": [
    "# Let's see how many sales there were that exceed the mean Sales \n",
    "# Pull out only the Sales and Shipping Mode columns\n",
    "\n",
    "df.loc[df[\"Sales\"] > df[\"Sales\"].mean(),['Sales','Ship Mode']]"
   ]
  },
  {
   "cell_type": "code",
   "execution_count": 67,
   "metadata": {},
   "outputs": [
    {
     "data": {
      "text/plain": [
       "2360"
      ]
     },
     "execution_count": 67,
     "metadata": {},
     "output_type": "execute_result"
    }
   ],
   "source": [
    "# This will show only how many records there are\n",
    "df.loc[df[\"Sales\"] > df[\"Sales\"].mean(),['Sales','Ship Mode']].shape[0]"
   ]
  },
  {
   "cell_type": "code",
   "execution_count": 68,
   "metadata": {},
   "outputs": [
    {
     "data": {
      "text/plain": [
       "51"
      ]
     },
     "execution_count": 68,
     "metadata": {},
     "output_type": "execute_result"
    }
   ],
   "source": [
    "# How many orders were there from Georgia that exceeded the average sales ?\n",
    "df.loc[(df[\"State\"] == \"Georgia\") & (df[\"Sales\"] > df[\"Sales\"].mean())].shape[0]"
   ]
  },
  {
   "cell_type": "code",
   "execution_count": 69,
   "metadata": {},
   "outputs": [
    {
     "data": {
      "text/plain": [
       "51"
      ]
     },
     "execution_count": 69,
     "metadata": {},
     "output_type": "execute_result"
    }
   ],
   "source": [
    "# Note that if the column name has no spaces then we can do the following\n",
    "# which uses the \"dot\" notation\n",
    "df.loc[(df.State == \"Georgia\") & (df.Sales > df.Sales.mean())].shape[0]"
   ]
  },
  {
   "cell_type": "code",
   "execution_count": 70,
   "metadata": {},
   "outputs": [
    {
     "data": {
      "text/html": [
       "<div>\n",
       "<style scoped>\n",
       "    .dataframe tbody tr th:only-of-type {\n",
       "        vertical-align: middle;\n",
       "    }\n",
       "\n",
       "    .dataframe tbody tr th {\n",
       "        vertical-align: top;\n",
       "    }\n",
       "\n",
       "    .dataframe thead th {\n",
       "        text-align: right;\n",
       "    }\n",
       "</style>\n",
       "<table border=\"1\" class=\"dataframe\">\n",
       "  <thead>\n",
       "    <tr style=\"text-align: right;\">\n",
       "      <th></th>\n",
       "      <th>City</th>\n",
       "      <th>State</th>\n",
       "      <th>Ship Mode</th>\n",
       "      <th>Sales</th>\n",
       "    </tr>\n",
       "  </thead>\n",
       "  <tbody>\n",
       "    <tr>\n",
       "      <th>359</th>\n",
       "      <td>Columbus</td>\n",
       "      <td>Georgia</td>\n",
       "      <td>First Class</td>\n",
       "      <td>647.84</td>\n",
       "    </tr>\n",
       "    <tr>\n",
       "      <th>3048</th>\n",
       "      <td>Columbus</td>\n",
       "      <td>Georgia</td>\n",
       "      <td>First Class</td>\n",
       "      <td>411.80</td>\n",
       "    </tr>\n",
       "    <tr>\n",
       "      <th>3049</th>\n",
       "      <td>Columbus</td>\n",
       "      <td>Georgia</td>\n",
       "      <td>First Class</td>\n",
       "      <td>360.00</td>\n",
       "    </tr>\n",
       "    <tr>\n",
       "      <th>4423</th>\n",
       "      <td>Sandy Springs</td>\n",
       "      <td>Georgia</td>\n",
       "      <td>First Class</td>\n",
       "      <td>302.94</td>\n",
       "    </tr>\n",
       "    <tr>\n",
       "      <th>6150</th>\n",
       "      <td>Columbus</td>\n",
       "      <td>Georgia</td>\n",
       "      <td>First Class</td>\n",
       "      <td>354.90</td>\n",
       "    </tr>\n",
       "    <tr>\n",
       "      <th>7193</th>\n",
       "      <td>Atlanta</td>\n",
       "      <td>Georgia</td>\n",
       "      <td>First Class</td>\n",
       "      <td>1350.12</td>\n",
       "    </tr>\n",
       "    <tr>\n",
       "      <th>9882</th>\n",
       "      <td>Woodstock</td>\n",
       "      <td>Georgia</td>\n",
       "      <td>First Class</td>\n",
       "      <td>272.61</td>\n",
       "    </tr>\n",
       "  </tbody>\n",
       "</table>\n",
       "</div>"
      ],
      "text/plain": [
       "               City    State    Ship Mode    Sales\n",
       "359        Columbus  Georgia  First Class   647.84\n",
       "3048       Columbus  Georgia  First Class   411.80\n",
       "3049       Columbus  Georgia  First Class   360.00\n",
       "4423  Sandy Springs  Georgia  First Class   302.94\n",
       "6150       Columbus  Georgia  First Class   354.90\n",
       "7193        Atlanta  Georgia  First Class  1350.12\n",
       "9882      Woodstock  Georgia  First Class   272.61"
      ]
     },
     "execution_count": 70,
     "metadata": {},
     "output_type": "execute_result"
    }
   ],
   "source": [
    "# The same as above but get only those sales that were shipped first class\n",
    "\n",
    "# Might be more legible to create a Boolean expression first \n",
    "indices = (df.State == \"Georgia\") & (df.Sales > df.Sales.mean()) & (df[\"Ship Mode\"] == \"First Class\")\n",
    "\n",
    "# Now we use this to subset the data frame\n",
    "df.loc[indices,[\"City\",\"State\",\"Ship Mode\",\"Sales\"]]"
   ]
  },
  {
   "cell_type": "code",
   "execution_count": 71,
   "metadata": {},
   "outputs": [
    {
     "data": {
      "text/html": [
       "<div>\n",
       "<style scoped>\n",
       "    .dataframe tbody tr th:only-of-type {\n",
       "        vertical-align: middle;\n",
       "    }\n",
       "\n",
       "    .dataframe tbody tr th {\n",
       "        vertical-align: top;\n",
       "    }\n",
       "\n",
       "    .dataframe thead th {\n",
       "        text-align: right;\n",
       "    }\n",
       "</style>\n",
       "<table border=\"1\" class=\"dataframe\">\n",
       "  <thead>\n",
       "    <tr style=\"text-align: right;\">\n",
       "      <th></th>\n",
       "      <th>Order ID</th>\n",
       "      <th>Order Date</th>\n",
       "      <th>Ship Date</th>\n",
       "      <th>Ship Mode</th>\n",
       "      <th>Customer ID</th>\n",
       "      <th>Customer Name</th>\n",
       "      <th>Segment</th>\n",
       "      <th>Country</th>\n",
       "      <th>City</th>\n",
       "      <th>State</th>\n",
       "      <th>Postal Code</th>\n",
       "      <th>Region</th>\n",
       "      <th>Product ID</th>\n",
       "      <th>Category</th>\n",
       "      <th>Sub-Category</th>\n",
       "      <th>Product Name</th>\n",
       "      <th>Sales</th>\n",
       "      <th>Quantity</th>\n",
       "      <th>Discount</th>\n",
       "      <th>Profit</th>\n",
       "    </tr>\n",
       "  </thead>\n",
       "  <tbody>\n",
       "    <tr>\n",
       "      <th>2697</th>\n",
       "      <td>CA-2014-145317</td>\n",
       "      <td>2014-03-18</td>\n",
       "      <td>2014-03-23</td>\n",
       "      <td>Standard Class</td>\n",
       "      <td>SM-20320</td>\n",
       "      <td>Sean Miller</td>\n",
       "      <td>Home Office</td>\n",
       "      <td>United States</td>\n",
       "      <td>Jacksonville</td>\n",
       "      <td>Florida</td>\n",
       "      <td>32216</td>\n",
       "      <td>South</td>\n",
       "      <td>TEC-MA-10002412</td>\n",
       "      <td>Technology</td>\n",
       "      <td>Machines</td>\n",
       "      <td>Cisco TelePresence System EX90 Videoconferenci...</td>\n",
       "      <td>22638.480</td>\n",
       "      <td>6</td>\n",
       "      <td>0.5</td>\n",
       "      <td>-1811.0784</td>\n",
       "    </tr>\n",
       "    <tr>\n",
       "      <th>6826</th>\n",
       "      <td>CA-2016-118689</td>\n",
       "      <td>2016-10-02</td>\n",
       "      <td>2016-10-09</td>\n",
       "      <td>Standard Class</td>\n",
       "      <td>TC-20980</td>\n",
       "      <td>Tamara Chand</td>\n",
       "      <td>Corporate</td>\n",
       "      <td>United States</td>\n",
       "      <td>Lafayette</td>\n",
       "      <td>Indiana</td>\n",
       "      <td>47905</td>\n",
       "      <td>Central</td>\n",
       "      <td>TEC-CO-10004722</td>\n",
       "      <td>Technology</td>\n",
       "      <td>Copiers</td>\n",
       "      <td>Canon imageCLASS 2200 Advanced Copier</td>\n",
       "      <td>17499.950</td>\n",
       "      <td>5</td>\n",
       "      <td>0.0</td>\n",
       "      <td>8399.9760</td>\n",
       "    </tr>\n",
       "    <tr>\n",
       "      <th>8153</th>\n",
       "      <td>CA-2017-140151</td>\n",
       "      <td>2017-03-23</td>\n",
       "      <td>2017-03-25</td>\n",
       "      <td>First Class</td>\n",
       "      <td>RB-19360</td>\n",
       "      <td>Raymond Buch</td>\n",
       "      <td>Consumer</td>\n",
       "      <td>United States</td>\n",
       "      <td>Seattle</td>\n",
       "      <td>Washington</td>\n",
       "      <td>98115</td>\n",
       "      <td>West</td>\n",
       "      <td>TEC-CO-10004722</td>\n",
       "      <td>Technology</td>\n",
       "      <td>Copiers</td>\n",
       "      <td>Canon imageCLASS 2200 Advanced Copier</td>\n",
       "      <td>13999.960</td>\n",
       "      <td>4</td>\n",
       "      <td>0.0</td>\n",
       "      <td>6719.9808</td>\n",
       "    </tr>\n",
       "    <tr>\n",
       "      <th>2623</th>\n",
       "      <td>CA-2017-127180</td>\n",
       "      <td>2017-10-22</td>\n",
       "      <td>2017-10-24</td>\n",
       "      <td>First Class</td>\n",
       "      <td>TA-21385</td>\n",
       "      <td>Tom Ashbrook</td>\n",
       "      <td>Home Office</td>\n",
       "      <td>United States</td>\n",
       "      <td>New York City</td>\n",
       "      <td>New York</td>\n",
       "      <td>10024</td>\n",
       "      <td>East</td>\n",
       "      <td>TEC-CO-10004722</td>\n",
       "      <td>Technology</td>\n",
       "      <td>Copiers</td>\n",
       "      <td>Canon imageCLASS 2200 Advanced Copier</td>\n",
       "      <td>11199.968</td>\n",
       "      <td>4</td>\n",
       "      <td>0.2</td>\n",
       "      <td>3919.9888</td>\n",
       "    </tr>\n",
       "    <tr>\n",
       "      <th>4190</th>\n",
       "      <td>CA-2017-166709</td>\n",
       "      <td>2017-11-17</td>\n",
       "      <td>2017-11-22</td>\n",
       "      <td>Standard Class</td>\n",
       "      <td>HL-15040</td>\n",
       "      <td>Hunter Lopez</td>\n",
       "      <td>Consumer</td>\n",
       "      <td>United States</td>\n",
       "      <td>Newark</td>\n",
       "      <td>Delaware</td>\n",
       "      <td>19711</td>\n",
       "      <td>East</td>\n",
       "      <td>TEC-CO-10004722</td>\n",
       "      <td>Technology</td>\n",
       "      <td>Copiers</td>\n",
       "      <td>Canon imageCLASS 2200 Advanced Copier</td>\n",
       "      <td>10499.970</td>\n",
       "      <td>3</td>\n",
       "      <td>0.0</td>\n",
       "      <td>5039.9856</td>\n",
       "    </tr>\n",
       "  </tbody>\n",
       "</table>\n",
       "</div>"
      ],
      "text/plain": [
       "            Order ID Order Date  Ship Date       Ship Mode Customer ID  \\\n",
       "2697  CA-2014-145317 2014-03-18 2014-03-23  Standard Class    SM-20320   \n",
       "6826  CA-2016-118689 2016-10-02 2016-10-09  Standard Class    TC-20980   \n",
       "8153  CA-2017-140151 2017-03-23 2017-03-25     First Class    RB-19360   \n",
       "2623  CA-2017-127180 2017-10-22 2017-10-24     First Class    TA-21385   \n",
       "4190  CA-2017-166709 2017-11-17 2017-11-22  Standard Class    HL-15040   \n",
       "\n",
       "     Customer Name      Segment        Country           City       State  \\\n",
       "2697   Sean Miller  Home Office  United States   Jacksonville     Florida   \n",
       "6826  Tamara Chand    Corporate  United States      Lafayette     Indiana   \n",
       "8153  Raymond Buch     Consumer  United States        Seattle  Washington   \n",
       "2623  Tom Ashbrook  Home Office  United States  New York City    New York   \n",
       "4190  Hunter Lopez     Consumer  United States         Newark    Delaware   \n",
       "\n",
       "      Postal Code   Region       Product ID    Category Sub-Category  \\\n",
       "2697        32216    South  TEC-MA-10002412  Technology     Machines   \n",
       "6826        47905  Central  TEC-CO-10004722  Technology      Copiers   \n",
       "8153        98115     West  TEC-CO-10004722  Technology      Copiers   \n",
       "2623        10024     East  TEC-CO-10004722  Technology      Copiers   \n",
       "4190        19711     East  TEC-CO-10004722  Technology      Copiers   \n",
       "\n",
       "                                           Product Name      Sales  Quantity  \\\n",
       "2697  Cisco TelePresence System EX90 Videoconferenci...  22638.480         6   \n",
       "6826              Canon imageCLASS 2200 Advanced Copier  17499.950         5   \n",
       "8153              Canon imageCLASS 2200 Advanced Copier  13999.960         4   \n",
       "2623              Canon imageCLASS 2200 Advanced Copier  11199.968         4   \n",
       "4190              Canon imageCLASS 2200 Advanced Copier  10499.970         3   \n",
       "\n",
       "      Discount     Profit  \n",
       "2697       0.5 -1811.0784  \n",
       "6826       0.0  8399.9760  \n",
       "8153       0.0  6719.9808  \n",
       "2623       0.2  3919.9888  \n",
       "4190       0.0  5039.9856  "
      ]
     },
     "execution_count": 71,
     "metadata": {},
     "output_type": "execute_result"
    }
   ],
   "source": [
    "# What were the 5 highest sales ? \n",
    "df.nlargest(5,\"Sales\")"
   ]
  },
  {
   "cell_type": "code",
   "execution_count": 72,
   "metadata": {},
   "outputs": [
    {
     "data": {
      "text/html": [
       "<div>\n",
       "<style scoped>\n",
       "    .dataframe tbody tr th:only-of-type {\n",
       "        vertical-align: middle;\n",
       "    }\n",
       "\n",
       "    .dataframe tbody tr th {\n",
       "        vertical-align: top;\n",
       "    }\n",
       "\n",
       "    .dataframe thead th {\n",
       "        text-align: right;\n",
       "    }\n",
       "</style>\n",
       "<table border=\"1\" class=\"dataframe\">\n",
       "  <thead>\n",
       "    <tr style=\"text-align: right;\">\n",
       "      <th></th>\n",
       "      <th>City</th>\n",
       "      <th>Sales</th>\n",
       "    </tr>\n",
       "  </thead>\n",
       "  <tbody>\n",
       "    <tr>\n",
       "      <th>2697</th>\n",
       "      <td>Jacksonville</td>\n",
       "      <td>22638.480</td>\n",
       "    </tr>\n",
       "    <tr>\n",
       "      <th>6826</th>\n",
       "      <td>Lafayette</td>\n",
       "      <td>17499.950</td>\n",
       "    </tr>\n",
       "    <tr>\n",
       "      <th>8153</th>\n",
       "      <td>Seattle</td>\n",
       "      <td>13999.960</td>\n",
       "    </tr>\n",
       "    <tr>\n",
       "      <th>2623</th>\n",
       "      <td>New York City</td>\n",
       "      <td>11199.968</td>\n",
       "    </tr>\n",
       "    <tr>\n",
       "      <th>4190</th>\n",
       "      <td>Newark</td>\n",
       "      <td>10499.970</td>\n",
       "    </tr>\n",
       "  </tbody>\n",
       "</table>\n",
       "</div>"
      ],
      "text/plain": [
       "               City      Sales\n",
       "2697   Jacksonville  22638.480\n",
       "6826      Lafayette  17499.950\n",
       "8153        Seattle  13999.960\n",
       "2623  New York City  11199.968\n",
       "4190         Newark  10499.970"
      ]
     },
     "execution_count": 72,
     "metadata": {},
     "output_type": "execute_result"
    }
   ],
   "source": [
    "# In what cities did they occur ?\n",
    "df.nlargest(5,\"Sales\")[[\"City\",\"Sales\"]]"
   ]
  },
  {
   "cell_type": "markdown",
   "metadata": {},
   "source": [
    "### Grouping\n",
    "\n",
    "So remember when I talked about identifying which columns represented groups or categories ? This is where that exercise comes in handy. We can \"Split\" or \"group\" the data frame by a grouping factor which is the name of one of the columns. This is useful to split data into groups and implement some function over thowe gorups. We can also (re)combine this information into another structure. We can also apply some statistical summary functions to each group. Let's do some grouping of the Sales data and apply some summary functions to help us understand the data"
   ]
  },
  {
   "cell_type": "code",
   "execution_count": 73,
   "metadata": {},
   "outputs": [
    {
     "data": {
      "text/html": [
       "<div>\n",
       "<style scoped>\n",
       "    .dataframe tbody tr th:only-of-type {\n",
       "        vertical-align: middle;\n",
       "    }\n",
       "\n",
       "    .dataframe tbody tr th {\n",
       "        vertical-align: top;\n",
       "    }\n",
       "\n",
       "    .dataframe thead th {\n",
       "        text-align: right;\n",
       "    }\n",
       "</style>\n",
       "<table border=\"1\" class=\"dataframe\">\n",
       "  <thead>\n",
       "    <tr style=\"text-align: right;\">\n",
       "      <th></th>\n",
       "      <th>Ship Mode</th>\n",
       "      <th>State</th>\n",
       "      <th>Sales</th>\n",
       "    </tr>\n",
       "  </thead>\n",
       "  <tbody>\n",
       "    <tr>\n",
       "      <th>0</th>\n",
       "      <td>Second Class</td>\n",
       "      <td>Kentucky</td>\n",
       "      <td>261.9600</td>\n",
       "    </tr>\n",
       "    <tr>\n",
       "      <th>1</th>\n",
       "      <td>Second Class</td>\n",
       "      <td>Kentucky</td>\n",
       "      <td>731.9400</td>\n",
       "    </tr>\n",
       "    <tr>\n",
       "      <th>2</th>\n",
       "      <td>Second Class</td>\n",
       "      <td>California</td>\n",
       "      <td>14.6200</td>\n",
       "    </tr>\n",
       "    <tr>\n",
       "      <th>3</th>\n",
       "      <td>Standard Class</td>\n",
       "      <td>Florida</td>\n",
       "      <td>957.5775</td>\n",
       "    </tr>\n",
       "    <tr>\n",
       "      <th>4</th>\n",
       "      <td>Standard Class</td>\n",
       "      <td>Florida</td>\n",
       "      <td>22.3680</td>\n",
       "    </tr>\n",
       "  </tbody>\n",
       "</table>\n",
       "</div>"
      ],
      "text/plain": [
       "        Ship Mode       State     Sales\n",
       "0    Second Class    Kentucky  261.9600\n",
       "1    Second Class    Kentucky  731.9400\n",
       "2    Second Class  California   14.6200\n",
       "3  Standard Class     Florida  957.5775\n",
       "4  Standard Class     Florida   22.3680"
      ]
     },
     "execution_count": 73,
     "metadata": {},
     "output_type": "execute_result"
    }
   ],
   "source": [
    "df_subset = df.loc[:,[\"Ship Mode\",\"State\",\"Sales\"]]\n",
    "df_subset.head()"
   ]
  },
  {
   "cell_type": "code",
   "execution_count": 74,
   "metadata": {},
   "outputs": [
    {
     "data": {
      "text/plain": [
       "<pandas.core.groupby.generic.DataFrameGroupBy object at 0x1a1b3bda50>"
      ]
     },
     "execution_count": 74,
     "metadata": {},
     "output_type": "execute_result"
    }
   ],
   "source": [
    "# Do the grouping - Not much seems to be happening \n",
    "bystate = df_subset.groupby(\"State\")\n",
    "bystate"
   ]
  },
  {
   "cell_type": "code",
   "execution_count": 75,
   "metadata": {},
   "outputs": [
    {
     "data": {
      "text/html": [
       "<div>\n",
       "<style scoped>\n",
       "    .dataframe tbody tr th:only-of-type {\n",
       "        vertical-align: middle;\n",
       "    }\n",
       "\n",
       "    .dataframe tbody tr th {\n",
       "        vertical-align: top;\n",
       "    }\n",
       "\n",
       "    .dataframe thead th {\n",
       "        text-align: right;\n",
       "    }\n",
       "</style>\n",
       "<table border=\"1\" class=\"dataframe\">\n",
       "  <thead>\n",
       "    <tr style=\"text-align: right;\">\n",
       "      <th></th>\n",
       "      <th>Sales</th>\n",
       "    </tr>\n",
       "    <tr>\n",
       "      <th>State</th>\n",
       "      <th></th>\n",
       "    </tr>\n",
       "  </thead>\n",
       "  <tbody>\n",
       "    <tr>\n",
       "      <th>Alabama</th>\n",
       "      <td>319.846557</td>\n",
       "    </tr>\n",
       "    <tr>\n",
       "      <th>Arizona</th>\n",
       "      <td>157.508933</td>\n",
       "    </tr>\n",
       "    <tr>\n",
       "      <th>Arkansas</th>\n",
       "      <td>194.635500</td>\n",
       "    </tr>\n",
       "    <tr>\n",
       "      <th>California</th>\n",
       "      <td>228.729451</td>\n",
       "    </tr>\n",
       "    <tr>\n",
       "      <th>Colorado</th>\n",
       "      <td>176.418231</td>\n",
       "    </tr>\n",
       "    <tr>\n",
       "      <th>Connecticut</th>\n",
       "      <td>163.223866</td>\n",
       "    </tr>\n",
       "    <tr>\n",
       "      <th>Delaware</th>\n",
       "      <td>285.948635</td>\n",
       "    </tr>\n",
       "    <tr>\n",
       "      <th>District of Columbia</th>\n",
       "      <td>286.502000</td>\n",
       "    </tr>\n",
       "    <tr>\n",
       "      <th>Florida</th>\n",
       "      <td>233.612815</td>\n",
       "    </tr>\n",
       "    <tr>\n",
       "      <th>Georgia</th>\n",
       "      <td>266.825217</td>\n",
       "    </tr>\n",
       "    <tr>\n",
       "      <th>Idaho</th>\n",
       "      <td>208.689810</td>\n",
       "    </tr>\n",
       "    <tr>\n",
       "      <th>Illinois</th>\n",
       "      <td>162.939230</td>\n",
       "    </tr>\n",
       "    <tr>\n",
       "      <th>Indiana</th>\n",
       "      <td>359.431946</td>\n",
       "    </tr>\n",
       "    <tr>\n",
       "      <th>Iowa</th>\n",
       "      <td>152.658667</td>\n",
       "    </tr>\n",
       "    <tr>\n",
       "      <th>Kansas</th>\n",
       "      <td>121.429583</td>\n",
       "    </tr>\n",
       "    <tr>\n",
       "      <th>Kentucky</th>\n",
       "      <td>263.250000</td>\n",
       "    </tr>\n",
       "    <tr>\n",
       "      <th>Louisiana</th>\n",
       "      <td>219.453095</td>\n",
       "    </tr>\n",
       "    <tr>\n",
       "      <th>Maine</th>\n",
       "      <td>158.816250</td>\n",
       "    </tr>\n",
       "    <tr>\n",
       "      <th>Maryland</th>\n",
       "      <td>225.766886</td>\n",
       "    </tr>\n",
       "    <tr>\n",
       "      <th>Massachusetts</th>\n",
       "      <td>212.106919</td>\n",
       "    </tr>\n",
       "    <tr>\n",
       "      <th>Michigan</th>\n",
       "      <td>299.096525</td>\n",
       "    </tr>\n",
       "    <tr>\n",
       "      <th>Minnesota</th>\n",
       "      <td>335.541011</td>\n",
       "    </tr>\n",
       "    <tr>\n",
       "      <th>Mississippi</th>\n",
       "      <td>203.232830</td>\n",
       "    </tr>\n",
       "    <tr>\n",
       "      <th>Missouri</th>\n",
       "      <td>336.441667</td>\n",
       "    </tr>\n",
       "    <tr>\n",
       "      <th>Montana</th>\n",
       "      <td>372.623467</td>\n",
       "    </tr>\n",
       "    <tr>\n",
       "      <th>Nebraska</th>\n",
       "      <td>196.445526</td>\n",
       "    </tr>\n",
       "    <tr>\n",
       "      <th>Nevada</th>\n",
       "      <td>428.951333</td>\n",
       "    </tr>\n",
       "    <tr>\n",
       "      <th>New Hampshire</th>\n",
       "      <td>270.093481</td>\n",
       "    </tr>\n",
       "    <tr>\n",
       "      <th>New Jersey</th>\n",
       "      <td>275.110092</td>\n",
       "    </tr>\n",
       "    <tr>\n",
       "      <th>New Mexico</th>\n",
       "      <td>129.284378</td>\n",
       "    </tr>\n",
       "    <tr>\n",
       "      <th>New York</th>\n",
       "      <td>275.599531</td>\n",
       "    </tr>\n",
       "    <tr>\n",
       "      <th>North Carolina</th>\n",
       "      <td>223.305880</td>\n",
       "    </tr>\n",
       "    <tr>\n",
       "      <th>North Dakota</th>\n",
       "      <td>131.415714</td>\n",
       "    </tr>\n",
       "    <tr>\n",
       "      <th>Ohio</th>\n",
       "      <td>166.861697</td>\n",
       "    </tr>\n",
       "    <tr>\n",
       "      <th>Oklahoma</th>\n",
       "      <td>298.233182</td>\n",
       "    </tr>\n",
       "    <tr>\n",
       "      <th>Oregon</th>\n",
       "      <td>140.573790</td>\n",
       "    </tr>\n",
       "    <tr>\n",
       "      <th>Pennsylvania</th>\n",
       "      <td>198.487077</td>\n",
       "    </tr>\n",
       "    <tr>\n",
       "      <th>Rhode Island</th>\n",
       "      <td>404.070643</td>\n",
       "    </tr>\n",
       "    <tr>\n",
       "      <th>South Carolina</th>\n",
       "      <td>201.945476</td>\n",
       "    </tr>\n",
       "    <tr>\n",
       "      <th>South Dakota</th>\n",
       "      <td>109.630000</td>\n",
       "    </tr>\n",
       "    <tr>\n",
       "      <th>Tennessee</th>\n",
       "      <td>167.551219</td>\n",
       "    </tr>\n",
       "    <tr>\n",
       "      <th>Texas</th>\n",
       "      <td>172.779742</td>\n",
       "    </tr>\n",
       "    <tr>\n",
       "      <th>Utah</th>\n",
       "      <td>211.699170</td>\n",
       "    </tr>\n",
       "    <tr>\n",
       "      <th>Vermont</th>\n",
       "      <td>811.760909</td>\n",
       "    </tr>\n",
       "    <tr>\n",
       "      <th>Virginia</th>\n",
       "      <td>315.342500</td>\n",
       "    </tr>\n",
       "    <tr>\n",
       "      <th>Washington</th>\n",
       "      <td>273.994605</td>\n",
       "    </tr>\n",
       "    <tr>\n",
       "      <th>West Virginia</th>\n",
       "      <td>302.456000</td>\n",
       "    </tr>\n",
       "    <tr>\n",
       "      <th>Wisconsin</th>\n",
       "      <td>291.951000</td>\n",
       "    </tr>\n",
       "    <tr>\n",
       "      <th>Wyoming</th>\n",
       "      <td>1603.136000</td>\n",
       "    </tr>\n",
       "  </tbody>\n",
       "</table>\n",
       "</div>"
      ],
      "text/plain": [
       "                            Sales\n",
       "State                            \n",
       "Alabama                319.846557\n",
       "Arizona                157.508933\n",
       "Arkansas               194.635500\n",
       "California             228.729451\n",
       "Colorado               176.418231\n",
       "Connecticut            163.223866\n",
       "Delaware               285.948635\n",
       "District of Columbia   286.502000\n",
       "Florida                233.612815\n",
       "Georgia                266.825217\n",
       "Idaho                  208.689810\n",
       "Illinois               162.939230\n",
       "Indiana                359.431946\n",
       "Iowa                   152.658667\n",
       "Kansas                 121.429583\n",
       "Kentucky               263.250000\n",
       "Louisiana              219.453095\n",
       "Maine                  158.816250\n",
       "Maryland               225.766886\n",
       "Massachusetts          212.106919\n",
       "Michigan               299.096525\n",
       "Minnesota              335.541011\n",
       "Mississippi            203.232830\n",
       "Missouri               336.441667\n",
       "Montana                372.623467\n",
       "Nebraska               196.445526\n",
       "Nevada                 428.951333\n",
       "New Hampshire          270.093481\n",
       "New Jersey             275.110092\n",
       "New Mexico             129.284378\n",
       "New York               275.599531\n",
       "North Carolina         223.305880\n",
       "North Dakota           131.415714\n",
       "Ohio                   166.861697\n",
       "Oklahoma               298.233182\n",
       "Oregon                 140.573790\n",
       "Pennsylvania           198.487077\n",
       "Rhode Island           404.070643\n",
       "South Carolina         201.945476\n",
       "South Dakota           109.630000\n",
       "Tennessee              167.551219\n",
       "Texas                  172.779742\n",
       "Utah                   211.699170\n",
       "Vermont                811.760909\n",
       "Virginia               315.342500\n",
       "Washington             273.994605\n",
       "West Virginia          302.456000\n",
       "Wisconsin              291.951000\n",
       "Wyoming               1603.136000"
      ]
     },
     "execution_count": 75,
     "metadata": {},
     "output_type": "execute_result"
    }
   ],
   "source": [
    "bystate.mean()"
   ]
  },
  {
   "cell_type": "code",
   "execution_count": 76,
   "metadata": {},
   "outputs": [
    {
     "data": {
      "text/html": [
       "<div>\n",
       "<style scoped>\n",
       "    .dataframe tbody tr th:only-of-type {\n",
       "        vertical-align: middle;\n",
       "    }\n",
       "\n",
       "    .dataframe tbody tr th {\n",
       "        vertical-align: top;\n",
       "    }\n",
       "\n",
       "    .dataframe thead th {\n",
       "        text-align: right;\n",
       "    }\n",
       "</style>\n",
       "<table border=\"1\" class=\"dataframe\">\n",
       "  <thead>\n",
       "    <tr style=\"text-align: right;\">\n",
       "      <th></th>\n",
       "      <th>Sales</th>\n",
       "    </tr>\n",
       "    <tr>\n",
       "      <th>State</th>\n",
       "      <th></th>\n",
       "    </tr>\n",
       "  </thead>\n",
       "  <tbody>\n",
       "    <tr>\n",
       "      <th>Wyoming</th>\n",
       "      <td>1603.136000</td>\n",
       "    </tr>\n",
       "    <tr>\n",
       "      <th>Vermont</th>\n",
       "      <td>811.760909</td>\n",
       "    </tr>\n",
       "    <tr>\n",
       "      <th>Nevada</th>\n",
       "      <td>428.951333</td>\n",
       "    </tr>\n",
       "    <tr>\n",
       "      <th>Rhode Island</th>\n",
       "      <td>404.070643</td>\n",
       "    </tr>\n",
       "    <tr>\n",
       "      <th>Montana</th>\n",
       "      <td>372.623467</td>\n",
       "    </tr>\n",
       "  </tbody>\n",
       "</table>\n",
       "</div>"
      ],
      "text/plain": [
       "                    Sales\n",
       "State                    \n",
       "Wyoming       1603.136000\n",
       "Vermont        811.760909\n",
       "Nevada         428.951333\n",
       "Rhode Island   404.070643\n",
       "Montana        372.623467"
      ]
     },
     "execution_count": 76,
     "metadata": {},
     "output_type": "execute_result"
    }
   ],
   "source": [
    "# Let's get the highest sales\n",
    "bystate.mean().nlargest(5,\"Sales\")"
   ]
  },
  {
   "cell_type": "code",
   "execution_count": 77,
   "metadata": {},
   "outputs": [
    {
     "data": {
      "text/html": [
       "<div>\n",
       "<style scoped>\n",
       "    .dataframe tbody tr th:only-of-type {\n",
       "        vertical-align: middle;\n",
       "    }\n",
       "\n",
       "    .dataframe tbody tr th {\n",
       "        vertical-align: top;\n",
       "    }\n",
       "\n",
       "    .dataframe thead th {\n",
       "        text-align: right;\n",
       "    }\n",
       "</style>\n",
       "<table border=\"1\" class=\"dataframe\">\n",
       "  <thead>\n",
       "    <tr style=\"text-align: right;\">\n",
       "      <th></th>\n",
       "      <th>Sales</th>\n",
       "    </tr>\n",
       "    <tr>\n",
       "      <th>State</th>\n",
       "      <th></th>\n",
       "    </tr>\n",
       "  </thead>\n",
       "  <tbody>\n",
       "    <tr>\n",
       "      <th>Wyoming</th>\n",
       "      <td>1603.136000</td>\n",
       "    </tr>\n",
       "    <tr>\n",
       "      <th>Vermont</th>\n",
       "      <td>811.760909</td>\n",
       "    </tr>\n",
       "    <tr>\n",
       "      <th>Nevada</th>\n",
       "      <td>428.951333</td>\n",
       "    </tr>\n",
       "    <tr>\n",
       "      <th>Rhode Island</th>\n",
       "      <td>404.070643</td>\n",
       "    </tr>\n",
       "    <tr>\n",
       "      <th>Montana</th>\n",
       "      <td>372.623467</td>\n",
       "    </tr>\n",
       "  </tbody>\n",
       "</table>\n",
       "</div>"
      ],
      "text/plain": [
       "                    Sales\n",
       "State                    \n",
       "Wyoming       1603.136000\n",
       "Vermont        811.760909\n",
       "Nevada         428.951333\n",
       "Rhode Island   404.070643\n",
       "Montana        372.623467"
      ]
     },
     "execution_count": 77,
     "metadata": {},
     "output_type": "execute_result"
    }
   ],
   "source": [
    "# Could also just sort the dataframe\n",
    "bystate.mean().sort_values(by='Sales', ascending=False).iloc[0:5]"
   ]
  },
  {
   "cell_type": "code",
   "execution_count": 78,
   "metadata": {},
   "outputs": [
    {
     "data": {
      "text/html": [
       "<div>\n",
       "<style scoped>\n",
       "    .dataframe tbody tr th:only-of-type {\n",
       "        vertical-align: middle;\n",
       "    }\n",
       "\n",
       "    .dataframe tbody tr th {\n",
       "        vertical-align: top;\n",
       "    }\n",
       "\n",
       "    .dataframe thead tr th {\n",
       "        text-align: left;\n",
       "    }\n",
       "\n",
       "    .dataframe thead tr:last-of-type th {\n",
       "        text-align: right;\n",
       "    }\n",
       "</style>\n",
       "<table border=\"1\" class=\"dataframe\">\n",
       "  <thead>\n",
       "    <tr>\n",
       "      <th></th>\n",
       "      <th colspan=\"8\" halign=\"left\">Sales</th>\n",
       "    </tr>\n",
       "    <tr>\n",
       "      <th></th>\n",
       "      <th>count</th>\n",
       "      <th>mean</th>\n",
       "      <th>std</th>\n",
       "      <th>min</th>\n",
       "      <th>25%</th>\n",
       "      <th>50%</th>\n",
       "      <th>75%</th>\n",
       "      <th>max</th>\n",
       "    </tr>\n",
       "    <tr>\n",
       "      <th>State</th>\n",
       "      <th></th>\n",
       "      <th></th>\n",
       "      <th></th>\n",
       "      <th></th>\n",
       "      <th></th>\n",
       "      <th></th>\n",
       "      <th></th>\n",
       "      <th></th>\n",
       "    </tr>\n",
       "  </thead>\n",
       "  <tbody>\n",
       "    <tr>\n",
       "      <th>California</th>\n",
       "      <td>2001.0</td>\n",
       "      <td>228.729451</td>\n",
       "      <td>491.005264</td>\n",
       "      <td>0.99</td>\n",
       "      <td>19.76</td>\n",
       "      <td>61.020</td>\n",
       "      <td>225.296</td>\n",
       "      <td>8187.65</td>\n",
       "    </tr>\n",
       "    <tr>\n",
       "      <th>Georgia</th>\n",
       "      <td>184.0</td>\n",
       "      <td>266.825217</td>\n",
       "      <td>637.796228</td>\n",
       "      <td>1.78</td>\n",
       "      <td>19.23</td>\n",
       "      <td>70.955</td>\n",
       "      <td>250.440</td>\n",
       "      <td>6354.95</td>\n",
       "    </tr>\n",
       "  </tbody>\n",
       "</table>\n",
       "</div>"
      ],
      "text/plain": [
       "             Sales                                                        \\\n",
       "             count        mean         std   min    25%     50%      75%   \n",
       "State                                                                      \n",
       "California  2001.0  228.729451  491.005264  0.99  19.76  61.020  225.296   \n",
       "Georgia      184.0  266.825217  637.796228  1.78  19.23  70.955  250.440   \n",
       "\n",
       "                     \n",
       "                max  \n",
       "State                \n",
       "California  8187.65  \n",
       "Georgia     6354.95  "
      ]
     },
     "execution_count": 78,
     "metadata": {},
     "output_type": "execute_result"
    }
   ],
   "source": [
    "# Get summary sales statistics for California and Georgia\n",
    "bystate.describe().loc[['California','Georgia']]"
   ]
  },
  {
   "cell_type": "code",
   "execution_count": 79,
   "metadata": {},
   "outputs": [
    {
     "data": {
      "text/html": [
       "<div>\n",
       "<style scoped>\n",
       "    .dataframe tbody tr th:only-of-type {\n",
       "        vertical-align: middle;\n",
       "    }\n",
       "\n",
       "    .dataframe tbody tr th {\n",
       "        vertical-align: top;\n",
       "    }\n",
       "\n",
       "    .dataframe thead th {\n",
       "        text-align: right;\n",
       "    }\n",
       "</style>\n",
       "<table border=\"1\" class=\"dataframe\">\n",
       "  <thead>\n",
       "    <tr style=\"text-align: right;\">\n",
       "      <th></th>\n",
       "      <th></th>\n",
       "      <th>count</th>\n",
       "      <th>mean</th>\n",
       "      <th>std</th>\n",
       "      <th>min</th>\n",
       "      <th>25%</th>\n",
       "      <th>50%</th>\n",
       "      <th>75%</th>\n",
       "      <th>max</th>\n",
       "    </tr>\n",
       "    <tr>\n",
       "      <th>State</th>\n",
       "      <th>City</th>\n",
       "      <th></th>\n",
       "      <th></th>\n",
       "      <th></th>\n",
       "      <th></th>\n",
       "      <th></th>\n",
       "      <th></th>\n",
       "      <th></th>\n",
       "      <th></th>\n",
       "    </tr>\n",
       "  </thead>\n",
       "  <tbody>\n",
       "    <tr>\n",
       "      <th rowspan=\"5\" valign=\"top\">Alabama</th>\n",
       "      <th>Auburn</th>\n",
       "      <td>6.0</td>\n",
       "      <td>294.471667</td>\n",
       "      <td>361.914543</td>\n",
       "      <td>3.760</td>\n",
       "      <td>8.8050</td>\n",
       "      <td>182.030</td>\n",
       "      <td>456.4075</td>\n",
       "      <td>900.080</td>\n",
       "    </tr>\n",
       "    <tr>\n",
       "      <th>Decatur</th>\n",
       "      <td>13.0</td>\n",
       "      <td>259.601538</td>\n",
       "      <td>385.660903</td>\n",
       "      <td>14.940</td>\n",
       "      <td>23.9200</td>\n",
       "      <td>44.950</td>\n",
       "      <td>239.9200</td>\n",
       "      <td>1215.920</td>\n",
       "    </tr>\n",
       "    <tr>\n",
       "      <th>Florence</th>\n",
       "      <td>5.0</td>\n",
       "      <td>399.470000</td>\n",
       "      <td>796.488863</td>\n",
       "      <td>4.980</td>\n",
       "      <td>7.2700</td>\n",
       "      <td>12.480</td>\n",
       "      <td>152.7600</td>\n",
       "      <td>1819.860</td>\n",
       "    </tr>\n",
       "    <tr>\n",
       "      <th>Hoover</th>\n",
       "      <td>4.0</td>\n",
       "      <td>131.462500</td>\n",
       "      <td>230.646923</td>\n",
       "      <td>7.160</td>\n",
       "      <td>13.3925</td>\n",
       "      <td>20.725</td>\n",
       "      <td>138.7950</td>\n",
       "      <td>477.240</td>\n",
       "    </tr>\n",
       "    <tr>\n",
       "      <th>Huntsville</th>\n",
       "      <td>10.0</td>\n",
       "      <td>248.437000</td>\n",
       "      <td>419.576667</td>\n",
       "      <td>3.620</td>\n",
       "      <td>26.8700</td>\n",
       "      <td>81.920</td>\n",
       "      <td>171.8075</td>\n",
       "      <td>1319.960</td>\n",
       "    </tr>\n",
       "    <tr>\n",
       "      <th>...</th>\n",
       "      <th>...</th>\n",
       "      <td>...</td>\n",
       "      <td>...</td>\n",
       "      <td>...</td>\n",
       "      <td>...</td>\n",
       "      <td>...</td>\n",
       "      <td>...</td>\n",
       "      <td>...</td>\n",
       "      <td>...</td>\n",
       "    </tr>\n",
       "    <tr>\n",
       "      <th rowspan=\"4\" valign=\"top\">Wisconsin</th>\n",
       "      <th>Superior</th>\n",
       "      <td>9.0</td>\n",
       "      <td>144.414444</td>\n",
       "      <td>213.394065</td>\n",
       "      <td>5.560</td>\n",
       "      <td>17.1200</td>\n",
       "      <td>47.400</td>\n",
       "      <td>125.9900</td>\n",
       "      <td>629.100</td>\n",
       "    </tr>\n",
       "    <tr>\n",
       "      <th>Waukesha</th>\n",
       "      <td>1.0</td>\n",
       "      <td>54.500000</td>\n",
       "      <td>NaN</td>\n",
       "      <td>54.500</td>\n",
       "      <td>54.5000</td>\n",
       "      <td>54.500</td>\n",
       "      <td>54.5000</td>\n",
       "      <td>54.500</td>\n",
       "    </tr>\n",
       "    <tr>\n",
       "      <th>Wausau</th>\n",
       "      <td>4.0</td>\n",
       "      <td>79.370000</td>\n",
       "      <td>111.450605</td>\n",
       "      <td>12.390</td>\n",
       "      <td>20.0325</td>\n",
       "      <td>29.605</td>\n",
       "      <td>88.9425</td>\n",
       "      <td>245.880</td>\n",
       "    </tr>\n",
       "    <tr>\n",
       "      <th>West Allis</th>\n",
       "      <td>2.0</td>\n",
       "      <td>125.240000</td>\n",
       "      <td>165.067007</td>\n",
       "      <td>8.520</td>\n",
       "      <td>66.8800</td>\n",
       "      <td>125.240</td>\n",
       "      <td>183.6000</td>\n",
       "      <td>241.960</td>\n",
       "    </tr>\n",
       "    <tr>\n",
       "      <th>Wyoming</th>\n",
       "      <th>Cheyenne</th>\n",
       "      <td>1.0</td>\n",
       "      <td>1603.136000</td>\n",
       "      <td>NaN</td>\n",
       "      <td>1603.136</td>\n",
       "      <td>1603.1360</td>\n",
       "      <td>1603.136</td>\n",
       "      <td>1603.1360</td>\n",
       "      <td>1603.136</td>\n",
       "    </tr>\n",
       "  </tbody>\n",
       "</table>\n",
       "<p>604 rows × 8 columns</p>\n",
       "</div>"
      ],
      "text/plain": [
       "                      count         mean         std       min        25%  \\\n",
       "State     City                                                              \n",
       "Alabama   Auburn        6.0   294.471667  361.914543     3.760     8.8050   \n",
       "          Decatur      13.0   259.601538  385.660903    14.940    23.9200   \n",
       "          Florence      5.0   399.470000  796.488863     4.980     7.2700   \n",
       "          Hoover        4.0   131.462500  230.646923     7.160    13.3925   \n",
       "          Huntsville   10.0   248.437000  419.576667     3.620    26.8700   \n",
       "...                     ...          ...         ...       ...        ...   \n",
       "Wisconsin Superior      9.0   144.414444  213.394065     5.560    17.1200   \n",
       "          Waukesha      1.0    54.500000         NaN    54.500    54.5000   \n",
       "          Wausau        4.0    79.370000  111.450605    12.390    20.0325   \n",
       "          West Allis    2.0   125.240000  165.067007     8.520    66.8800   \n",
       "Wyoming   Cheyenne      1.0  1603.136000         NaN  1603.136  1603.1360   \n",
       "\n",
       "                           50%        75%       max  \n",
       "State     City                                       \n",
       "Alabama   Auburn       182.030   456.4075   900.080  \n",
       "          Decatur       44.950   239.9200  1215.920  \n",
       "          Florence      12.480   152.7600  1819.860  \n",
       "          Hoover        20.725   138.7950   477.240  \n",
       "          Huntsville    81.920   171.8075  1319.960  \n",
       "...                        ...        ...       ...  \n",
       "Wisconsin Superior      47.400   125.9900   629.100  \n",
       "          Waukesha      54.500    54.5000    54.500  \n",
       "          Wausau        29.605    88.9425   245.880  \n",
       "          West Allis   125.240   183.6000   241.960  \n",
       "Wyoming   Cheyenne    1603.136  1603.1360  1603.136  \n",
       "\n",
       "[604 rows x 8 columns]"
      ]
     },
     "execution_count": 79,
     "metadata": {},
     "output_type": "execute_result"
    }
   ],
   "source": [
    "# Now get the sales statisitcs for every City in each State\n",
    "byStateCity = df.groupby(['State','City'])\n",
    "\n",
    "# This is probably too much info\n",
    "byStateCity.describe()['Sales']"
   ]
  },
  {
   "cell_type": "code",
   "execution_count": 81,
   "metadata": {},
   "outputs": [
    {
     "data": {
      "text/html": [
       "<div>\n",
       "<style scoped>\n",
       "    .dataframe tbody tr th:only-of-type {\n",
       "        vertical-align: middle;\n",
       "    }\n",
       "\n",
       "    .dataframe tbody tr th {\n",
       "        vertical-align: top;\n",
       "    }\n",
       "\n",
       "    .dataframe thead th {\n",
       "        text-align: right;\n",
       "    }\n",
       "</style>\n",
       "<table border=\"1\" class=\"dataframe\">\n",
       "  <thead>\n",
       "    <tr style=\"text-align: right;\">\n",
       "      <th></th>\n",
       "      <th>count</th>\n",
       "      <th>mean</th>\n",
       "      <th>std</th>\n",
       "      <th>min</th>\n",
       "      <th>25%</th>\n",
       "      <th>50%</th>\n",
       "      <th>75%</th>\n",
       "      <th>max</th>\n",
       "    </tr>\n",
       "    <tr>\n",
       "      <th>City</th>\n",
       "      <th></th>\n",
       "      <th></th>\n",
       "      <th></th>\n",
       "      <th></th>\n",
       "      <th></th>\n",
       "      <th></th>\n",
       "      <th></th>\n",
       "      <th></th>\n",
       "    </tr>\n",
       "  </thead>\n",
       "  <tbody>\n",
       "    <tr>\n",
       "      <th>Athens</th>\n",
       "      <td>8.0</td>\n",
       "      <td>215.101250</td>\n",
       "      <td>346.513785</td>\n",
       "      <td>12.78</td>\n",
       "      <td>15.5625</td>\n",
       "      <td>117.445</td>\n",
       "      <td>191.4300</td>\n",
       "      <td>1049.93</td>\n",
       "    </tr>\n",
       "    <tr>\n",
       "      <th>Atlanta</th>\n",
       "      <td>39.0</td>\n",
       "      <td>440.970256</td>\n",
       "      <td>1134.579541</td>\n",
       "      <td>2.74</td>\n",
       "      <td>14.9050</td>\n",
       "      <td>67.800</td>\n",
       "      <td>223.7750</td>\n",
       "      <td>6354.95</td>\n",
       "    </tr>\n",
       "    <tr>\n",
       "      <th>Columbus</th>\n",
       "      <td>68.0</td>\n",
       "      <td>218.309559</td>\n",
       "      <td>404.271301</td>\n",
       "      <td>3.76</td>\n",
       "      <td>31.8650</td>\n",
       "      <td>69.170</td>\n",
       "      <td>294.9775</td>\n",
       "      <td>2939.93</td>\n",
       "    </tr>\n",
       "    <tr>\n",
       "      <th>East Point</th>\n",
       "      <td>3.0</td>\n",
       "      <td>89.466667</td>\n",
       "      <td>70.403705</td>\n",
       "      <td>27.42</td>\n",
       "      <td>51.2100</td>\n",
       "      <td>75.000</td>\n",
       "      <td>120.4900</td>\n",
       "      <td>165.98</td>\n",
       "    </tr>\n",
       "    <tr>\n",
       "      <th>Macon</th>\n",
       "      <td>6.0</td>\n",
       "      <td>60.668333</td>\n",
       "      <td>47.597718</td>\n",
       "      <td>7.16</td>\n",
       "      <td>34.4475</td>\n",
       "      <td>48.800</td>\n",
       "      <td>77.5900</td>\n",
       "      <td>142.40</td>\n",
       "    </tr>\n",
       "    <tr>\n",
       "      <th>Marietta</th>\n",
       "      <td>7.0</td>\n",
       "      <td>419.802857</td>\n",
       "      <td>535.060752</td>\n",
       "      <td>5.64</td>\n",
       "      <td>80.0100</td>\n",
       "      <td>182.670</td>\n",
       "      <td>663.4950</td>\n",
       "      <td>1263.30</td>\n",
       "    </tr>\n",
       "    <tr>\n",
       "      <th>Roswell</th>\n",
       "      <td>18.0</td>\n",
       "      <td>369.573333</td>\n",
       "      <td>666.660391</td>\n",
       "      <td>1.78</td>\n",
       "      <td>15.9450</td>\n",
       "      <td>104.130</td>\n",
       "      <td>337.6800</td>\n",
       "      <td>2690.97</td>\n",
       "    </tr>\n",
       "    <tr>\n",
       "      <th>Sandy Springs</th>\n",
       "      <td>14.0</td>\n",
       "      <td>142.645000</td>\n",
       "      <td>332.815411</td>\n",
       "      <td>5.95</td>\n",
       "      <td>15.3075</td>\n",
       "      <td>25.995</td>\n",
       "      <td>81.4200</td>\n",
       "      <td>1266.86</td>\n",
       "    </tr>\n",
       "    <tr>\n",
       "      <th>Smyrna</th>\n",
       "      <td>17.0</td>\n",
       "      <td>140.606471</td>\n",
       "      <td>140.443873</td>\n",
       "      <td>5.67</td>\n",
       "      <td>17.9400</td>\n",
       "      <td>119.560</td>\n",
       "      <td>167.9600</td>\n",
       "      <td>484.83</td>\n",
       "    </tr>\n",
       "    <tr>\n",
       "      <th>Warner Robins</th>\n",
       "      <td>2.0</td>\n",
       "      <td>217.400000</td>\n",
       "      <td>248.251049</td>\n",
       "      <td>41.86</td>\n",
       "      <td>129.6300</td>\n",
       "      <td>217.400</td>\n",
       "      <td>305.1700</td>\n",
       "      <td>392.94</td>\n",
       "    </tr>\n",
       "    <tr>\n",
       "      <th>Woodstock</th>\n",
       "      <td>2.0</td>\n",
       "      <td>143.325000</td>\n",
       "      <td>182.836600</td>\n",
       "      <td>14.04</td>\n",
       "      <td>78.6825</td>\n",
       "      <td>143.325</td>\n",
       "      <td>207.9675</td>\n",
       "      <td>272.61</td>\n",
       "    </tr>\n",
       "  </tbody>\n",
       "</table>\n",
       "</div>"
      ],
      "text/plain": [
       "               count        mean          std    min       25%      50%  \\\n",
       "City                                                                      \n",
       "Athens           8.0  215.101250   346.513785  12.78   15.5625  117.445   \n",
       "Atlanta         39.0  440.970256  1134.579541   2.74   14.9050   67.800   \n",
       "Columbus        68.0  218.309559   404.271301   3.76   31.8650   69.170   \n",
       "East Point       3.0   89.466667    70.403705  27.42   51.2100   75.000   \n",
       "Macon            6.0   60.668333    47.597718   7.16   34.4475   48.800   \n",
       "Marietta         7.0  419.802857   535.060752   5.64   80.0100  182.670   \n",
       "Roswell         18.0  369.573333   666.660391   1.78   15.9450  104.130   \n",
       "Sandy Springs   14.0  142.645000   332.815411   5.95   15.3075   25.995   \n",
       "Smyrna          17.0  140.606471   140.443873   5.67   17.9400  119.560   \n",
       "Warner Robins    2.0  217.400000   248.251049  41.86  129.6300  217.400   \n",
       "Woodstock        2.0  143.325000   182.836600  14.04   78.6825  143.325   \n",
       "\n",
       "                    75%      max  \n",
       "City                              \n",
       "Athens         191.4300  1049.93  \n",
       "Atlanta        223.7750  6354.95  \n",
       "Columbus       294.9775  2939.93  \n",
       "East Point     120.4900   165.98  \n",
       "Macon           77.5900   142.40  \n",
       "Marietta       663.4950  1263.30  \n",
       "Roswell        337.6800  2690.97  \n",
       "Sandy Springs   81.4200  1266.86  \n",
       "Smyrna         167.9600   484.83  \n",
       "Warner Robins  305.1700   392.94  \n",
       "Woodstock      207.9675   272.61  "
      ]
     },
     "execution_count": 81,
     "metadata": {},
     "output_type": "execute_result"
    }
   ],
   "source": [
    "# Let's zone in on Georgia \n",
    "byStateCity.describe()['Sales'].loc[\"Georgia\"]"
   ]
  },
  {
   "cell_type": "code",
   "execution_count": 82,
   "metadata": {},
   "outputs": [
    {
     "data": {
      "text/html": [
       "<div>\n",
       "<style scoped>\n",
       "    .dataframe tbody tr th:only-of-type {\n",
       "        vertical-align: middle;\n",
       "    }\n",
       "\n",
       "    .dataframe tbody tr th {\n",
       "        vertical-align: top;\n",
       "    }\n",
       "\n",
       "    .dataframe thead th {\n",
       "        text-align: right;\n",
       "    }\n",
       "</style>\n",
       "<table border=\"1\" class=\"dataframe\">\n",
       "  <thead>\n",
       "    <tr style=\"text-align: right;\">\n",
       "      <th></th>\n",
       "      <th>count</th>\n",
       "      <th>mean</th>\n",
       "    </tr>\n",
       "    <tr>\n",
       "      <th>City</th>\n",
       "      <th></th>\n",
       "      <th></th>\n",
       "    </tr>\n",
       "  </thead>\n",
       "  <tbody>\n",
       "    <tr>\n",
       "      <th>Atlanta</th>\n",
       "      <td>39.0</td>\n",
       "      <td>440.970256</td>\n",
       "    </tr>\n",
       "    <tr>\n",
       "      <th>Marietta</th>\n",
       "      <td>7.0</td>\n",
       "      <td>419.802857</td>\n",
       "    </tr>\n",
       "    <tr>\n",
       "      <th>Roswell</th>\n",
       "      <td>18.0</td>\n",
       "      <td>369.573333</td>\n",
       "    </tr>\n",
       "    <tr>\n",
       "      <th>Columbus</th>\n",
       "      <td>68.0</td>\n",
       "      <td>218.309559</td>\n",
       "    </tr>\n",
       "    <tr>\n",
       "      <th>Warner Robins</th>\n",
       "      <td>2.0</td>\n",
       "      <td>217.400000</td>\n",
       "    </tr>\n",
       "    <tr>\n",
       "      <th>Athens</th>\n",
       "      <td>8.0</td>\n",
       "      <td>215.101250</td>\n",
       "    </tr>\n",
       "    <tr>\n",
       "      <th>Woodstock</th>\n",
       "      <td>2.0</td>\n",
       "      <td>143.325000</td>\n",
       "    </tr>\n",
       "    <tr>\n",
       "      <th>Sandy Springs</th>\n",
       "      <td>14.0</td>\n",
       "      <td>142.645000</td>\n",
       "    </tr>\n",
       "    <tr>\n",
       "      <th>Smyrna</th>\n",
       "      <td>17.0</td>\n",
       "      <td>140.606471</td>\n",
       "    </tr>\n",
       "    <tr>\n",
       "      <th>East Point</th>\n",
       "      <td>3.0</td>\n",
       "      <td>89.466667</td>\n",
       "    </tr>\n",
       "    <tr>\n",
       "      <th>Macon</th>\n",
       "      <td>6.0</td>\n",
       "      <td>60.668333</td>\n",
       "    </tr>\n",
       "  </tbody>\n",
       "</table>\n",
       "</div>"
      ],
      "text/plain": [
       "               count        mean\n",
       "City                            \n",
       "Atlanta         39.0  440.970256\n",
       "Marietta         7.0  419.802857\n",
       "Roswell         18.0  369.573333\n",
       "Columbus        68.0  218.309559\n",
       "Warner Robins    2.0  217.400000\n",
       "Athens           8.0  215.101250\n",
       "Woodstock        2.0  143.325000\n",
       "Sandy Springs   14.0  142.645000\n",
       "Smyrna          17.0  140.606471\n",
       "East Point       3.0   89.466667\n",
       "Macon            6.0   60.668333"
      ]
     },
     "execution_count": 82,
     "metadata": {},
     "output_type": "execute_result"
    }
   ],
   "source": [
    "# Let's zone in on Georgia and get just the number of sales and average sales amount\n",
    "# Let's sort the result on the mean to see what cities ordered the most stuff\n",
    "\n",
    "byStateCity.describe()['Sales'].loc[\"Georgia\"][[\"count\",\"mean\"]].sort_values(by=\"mean\",ascending=False)"
   ]
  },
  {
   "cell_type": "code",
   "execution_count": 85,
   "metadata": {},
   "outputs": [
    {
     "data": {
      "text/html": [
       "<div>\n",
       "<style scoped>\n",
       "    .dataframe tbody tr th:only-of-type {\n",
       "        vertical-align: middle;\n",
       "    }\n",
       "\n",
       "    .dataframe tbody tr th {\n",
       "        vertical-align: top;\n",
       "    }\n",
       "\n",
       "    .dataframe thead th {\n",
       "        text-align: right;\n",
       "    }\n",
       "</style>\n",
       "<table border=\"1\" class=\"dataframe\">\n",
       "  <thead>\n",
       "    <tr style=\"text-align: right;\">\n",
       "      <th></th>\n",
       "      <th>count</th>\n",
       "      <th>mean</th>\n",
       "    </tr>\n",
       "    <tr>\n",
       "      <th>City</th>\n",
       "      <th></th>\n",
       "      <th></th>\n",
       "    </tr>\n",
       "  </thead>\n",
       "  <tbody>\n",
       "    <tr>\n",
       "      <th>Atlanta</th>\n",
       "      <td>39.0</td>\n",
       "      <td>440.970256</td>\n",
       "    </tr>\n",
       "    <tr>\n",
       "      <th>Marietta</th>\n",
       "      <td>7.0</td>\n",
       "      <td>419.802857</td>\n",
       "    </tr>\n",
       "    <tr>\n",
       "      <th>Roswell</th>\n",
       "      <td>18.0</td>\n",
       "      <td>369.573333</td>\n",
       "    </tr>\n",
       "    <tr>\n",
       "      <th>Columbus</th>\n",
       "      <td>68.0</td>\n",
       "      <td>218.309559</td>\n",
       "    </tr>\n",
       "    <tr>\n",
       "      <th>Warner Robins</th>\n",
       "      <td>2.0</td>\n",
       "      <td>217.400000</td>\n",
       "    </tr>\n",
       "    <tr>\n",
       "      <th>Athens</th>\n",
       "      <td>8.0</td>\n",
       "      <td>215.101250</td>\n",
       "    </tr>\n",
       "    <tr>\n",
       "      <th>Woodstock</th>\n",
       "      <td>2.0</td>\n",
       "      <td>143.325000</td>\n",
       "    </tr>\n",
       "    <tr>\n",
       "      <th>Sandy Springs</th>\n",
       "      <td>14.0</td>\n",
       "      <td>142.645000</td>\n",
       "    </tr>\n",
       "    <tr>\n",
       "      <th>Smyrna</th>\n",
       "      <td>17.0</td>\n",
       "      <td>140.606471</td>\n",
       "    </tr>\n",
       "    <tr>\n",
       "      <th>East Point</th>\n",
       "      <td>3.0</td>\n",
       "      <td>89.466667</td>\n",
       "    </tr>\n",
       "    <tr>\n",
       "      <th>Macon</th>\n",
       "      <td>6.0</td>\n",
       "      <td>60.668333</td>\n",
       "    </tr>\n",
       "  </tbody>\n",
       "</table>\n",
       "</div>"
      ],
      "text/plain": [
       "               count        mean\n",
       "City                            \n",
       "Atlanta         39.0  440.970256\n",
       "Marietta         7.0  419.802857\n",
       "Roswell         18.0  369.573333\n",
       "Columbus        68.0  218.309559\n",
       "Warner Robins    2.0  217.400000\n",
       "Athens           8.0  215.101250\n",
       "Woodstock        2.0  143.325000\n",
       "Sandy Springs   14.0  142.645000\n",
       "Smyrna          17.0  140.606471\n",
       "East Point       3.0   89.466667\n",
       "Macon            6.0   60.668333"
      ]
     },
     "execution_count": 85,
     "metadata": {},
     "output_type": "execute_result"
    }
   ],
   "source": [
    "# If the above is too much at once then feel free to break it down \n",
    "\n",
    "bysales = byStateCity.describe()['Sales']\n",
    "gasales = bysales.loc[\"Georgia\"]\n",
    "summary = gasales[[\"count\",\"mean\"]].sort_values(by=\"mean\",ascending=False)\n",
    "\n",
    "summary"
   ]
  },
  {
   "cell_type": "markdown",
   "metadata": {},
   "source": [
    "### Outliers\n",
    "\n",
    "We'll cover this in more detail when we discuss Data PreProcessing. There are a number of ways to do identify outliers but we'll cover a few here. First, let's intentionally introduce some outlier information. "
   ]
  },
  {
   "cell_type": "code",
   "execution_count": 421,
   "metadata": {},
   "outputs": [
    {
     "name": "stderr",
     "output_type": "stream",
     "text": [
      "/Users/esteban/opt/anaconda3/lib/python3.7/site-packages/pandas/core/indexing.py:670: SettingWithCopyWarning: \n",
      "A value is trying to be set on a copy of a slice from a DataFrame\n",
      "\n",
      "See the caveats in the documentation: https://pandas.pydata.org/pandas-docs/stable/user_guide/indexing.html#returning-a-view-versus-a-copy\n",
      "  iloc._setitem_with_indexer(indexer, value)\n"
     ]
    }
   ],
   "source": [
    "# Sample 50 rows from the larger data set\n",
    "df_sample = df[['Customer Name','State','Sales','Profit']] \\\n",
    "               .sample(n=50).copy()\n",
    "\n",
    "# On the 6th and 16th rows, set the corresponding sales \n",
    "# values to -1000 and -500 respectively\n",
    "\n",
    "df_sample['Sales'].iloc[5] = -1000\n",
    "df_sample['Sales'].iloc[15]= -500.0"
   ]
  },
  {
   "cell_type": "markdown",
   "metadata": {},
   "source": [
    "Let's plot the data in the form of a boxplot. Outliers are typically outside the IQR, the inter quartile range, and in this case we can see the -1000 value in the Sales column. Having negative values in Profit, however, can be legitimate since not all sales result in a profit. "
   ]
  },
  {
   "cell_type": "code",
   "execution_count": 422,
   "metadata": {},
   "outputs": [
    {
     "data": {
      "image/png": "[encoded data removed]",
      "text/plain": [
       "<Figure size 640x480 with 1 Axes>"
      ]
     },
     "metadata": {},
     "output_type": "display_data"
    }
   ],
   "source": [
    "df_sample.plot.box()\n",
    "plt.title(\"Boxplot of sales and profit\", fontsize=15)\n",
    "plt.xticks(fontsize=15)\n",
    "plt.yticks(fontsize=15)\n",
    "plt.grid(True)"
   ]
  },
  {
   "cell_type": "code",
   "execution_count": 423,
   "metadata": {},
   "outputs": [
    {
     "data": {
      "text/plain": [
       "<AxesSubplot:ylabel='Frequency'>"
      ]
     },
     "execution_count": 423,
     "metadata": {},
     "output_type": "execute_result"
    },
    {
     "data": {
      "image/png": "[encoded data removed]",
      "text/plain": [
       "<Figure size 640x480 with 1 Axes>"
      ]
     },
     "metadata": {},
     "output_type": "display_data"
    }
   ],
   "source": [
    "\n",
    "df_sample[\"Sales\"].plot.hist(bins=10)"
   ]
  },
  {
   "cell_type": "markdown",
   "metadata": {},
   "source": [
    "The following example is taken from [this web site](https://machinelearningmastery.com/model-based-outlier-detection-and-removal-in-python/). This illustrates a couple of approaches to outlier detection."
   ]
  },
  {
   "cell_type": "code",
   "execution_count": 89,
   "metadata": {},
   "outputs": [
    {
     "data": {
      "text/html": [
       "<div>\n",
       "<style scoped>\n",
       "    .dataframe tbody tr th:only-of-type {\n",
       "        vertical-align: middle;\n",
       "    }\n",
       "\n",
       "    .dataframe tbody tr th {\n",
       "        vertical-align: top;\n",
       "    }\n",
       "\n",
       "    .dataframe thead th {\n",
       "        text-align: right;\n",
       "    }\n",
       "</style>\n",
       "<table border=\"1\" class=\"dataframe\">\n",
       "  <thead>\n",
       "    <tr style=\"text-align: right;\">\n",
       "      <th></th>\n",
       "      <th>Customer Name</th>\n",
       "      <th>State</th>\n",
       "      <th>Sales</th>\n",
       "      <th>Profit</th>\n",
       "    </tr>\n",
       "  </thead>\n",
       "  <tbody>\n",
       "    <tr>\n",
       "      <th>5297</th>\n",
       "      <td>Tony Molinari</td>\n",
       "      <td>New York</td>\n",
       "      <td>-1000.000</td>\n",
       "      <td>135.9800</td>\n",
       "    </tr>\n",
       "    <tr>\n",
       "      <th>8178</th>\n",
       "      <td>Toby Gnade</td>\n",
       "      <td>Washington</td>\n",
       "      <td>999.980</td>\n",
       "      <td>449.9910</td>\n",
       "    </tr>\n",
       "    <tr>\n",
       "      <th>3484</th>\n",
       "      <td>Corey Catlett</td>\n",
       "      <td>Virginia</td>\n",
       "      <td>1202.940</td>\n",
       "      <td>300.7350</td>\n",
       "    </tr>\n",
       "    <tr>\n",
       "      <th>4639</th>\n",
       "      <td>Jill Fjeld</td>\n",
       "      <td>Virginia</td>\n",
       "      <td>1599.920</td>\n",
       "      <td>751.9624</td>\n",
       "    </tr>\n",
       "    <tr>\n",
       "      <th>5869</th>\n",
       "      <td>Michelle Arnett</td>\n",
       "      <td>Wyoming</td>\n",
       "      <td>1603.136</td>\n",
       "      <td>100.1960</td>\n",
       "    </tr>\n",
       "  </tbody>\n",
       "</table>\n",
       "</div>"
      ],
      "text/plain": [
       "        Customer Name       State     Sales    Profit\n",
       "5297    Tony Molinari    New York -1000.000  135.9800\n",
       "8178       Toby Gnade  Washington   999.980  449.9910\n",
       "3484    Corey Catlett    Virginia  1202.940  300.7350\n",
       "4639       Jill Fjeld    Virginia  1599.920  751.9624\n",
       "5869  Michelle Arnett     Wyoming  1603.136  100.1960"
      ]
     },
     "execution_count": 89,
     "metadata": {},
     "output_type": "execute_result"
    }
   ],
   "source": [
    "from sklearn.ensemble import IsolationForest\n",
    "\n",
    "# The contamination arguments let's us specify and expected amount\n",
    "# of outliers within the dataset\n",
    "iso = IsolationForest(contamination=0.1)\n",
    "\n",
    "# Next we do some predictions to see which rows might be outliers\n",
    "yhat = iso.fit_predict(df_sample[[\"Sales\",\"Profit\"]])\n",
    "\n",
    "# select all rows that are outliers\n",
    "mask = yhat == -1\n",
    "df_sample.loc[mask]"
   ]
  },
  {
   "cell_type": "code",
   "execution_count": 90,
   "metadata": {},
   "outputs": [
    {
     "data": {
      "text/html": [
       "<div>\n",
       "<style scoped>\n",
       "    .dataframe tbody tr th:only-of-type {\n",
       "        vertical-align: middle;\n",
       "    }\n",
       "\n",
       "    .dataframe tbody tr th {\n",
       "        vertical-align: top;\n",
       "    }\n",
       "\n",
       "    .dataframe thead th {\n",
       "        text-align: right;\n",
       "    }\n",
       "</style>\n",
       "<table border=\"1\" class=\"dataframe\">\n",
       "  <thead>\n",
       "    <tr style=\"text-align: right;\">\n",
       "      <th></th>\n",
       "      <th>Customer Name</th>\n",
       "      <th>State</th>\n",
       "      <th>Sales</th>\n",
       "      <th>Profit</th>\n",
       "    </tr>\n",
       "  </thead>\n",
       "  <tbody>\n",
       "    <tr>\n",
       "      <th>5297</th>\n",
       "      <td>Tony Molinari</td>\n",
       "      <td>New York</td>\n",
       "      <td>-1000.000</td>\n",
       "      <td>135.9800</td>\n",
       "    </tr>\n",
       "    <tr>\n",
       "      <th>7516</th>\n",
       "      <td>John Lee</td>\n",
       "      <td>Kentucky</td>\n",
       "      <td>-500.000</td>\n",
       "      <td>7.4824</td>\n",
       "    </tr>\n",
       "    <tr>\n",
       "      <th>9476</th>\n",
       "      <td>Janet Molinari</td>\n",
       "      <td>Illinois</td>\n",
       "      <td>51.560</td>\n",
       "      <td>-61.8720</td>\n",
       "    </tr>\n",
       "    <tr>\n",
       "      <th>8512</th>\n",
       "      <td>Noel Staavos</td>\n",
       "      <td>Texas</td>\n",
       "      <td>73.784</td>\n",
       "      <td>-77.4732</td>\n",
       "    </tr>\n",
       "    <tr>\n",
       "      <th>4056</th>\n",
       "      <td>Suzanne McNair</td>\n",
       "      <td>Pennsylvania</td>\n",
       "      <td>67.176</td>\n",
       "      <td>-20.1528</td>\n",
       "    </tr>\n",
       "    <tr>\n",
       "      <th>9717</th>\n",
       "      <td>Annie Thurman</td>\n",
       "      <td>Texas</td>\n",
       "      <td>79.960</td>\n",
       "      <td>7.9960</td>\n",
       "    </tr>\n",
       "  </tbody>\n",
       "</table>\n",
       "</div>"
      ],
      "text/plain": [
       "       Customer Name         State     Sales    Profit\n",
       "5297   Tony Molinari      New York -1000.000  135.9800\n",
       "7516        John Lee      Kentucky  -500.000    7.4824\n",
       "9476  Janet Molinari      Illinois    51.560  -61.8720\n",
       "8512    Noel Staavos         Texas    73.784  -77.4732\n",
       "4056  Suzanne McNair  Pennsylvania    67.176  -20.1528\n",
       "9717   Annie Thurman         Texas    79.960    7.9960"
      ]
     },
     "execution_count": 90,
     "metadata": {},
     "output_type": "execute_result"
    }
   ],
   "source": [
    "from sklearn.neighbors import LocalOutlierFactor\n",
    "clf = LocalOutlierFactor(n_neighbors=3)\n",
    "\n",
    "# Next we do some predictions to see which rows might be outliers\n",
    "yhat = clf.fit_predict(df_sample[[\"Sales\",\"Profit\"]])\n",
    "\n",
    "# select all rows that are outliers\n",
    "mask = yhat == -1\n",
    "df_sample.loc[mask]"
   ]
  },
  {
   "cell_type": "markdown",
   "metadata": {},
   "source": [
    "### Apply User Defined Functions\n",
    "\n",
    "We can apply user defined functions to specific columns in a data frame. This gives us the ability to create new columns on the fly which might later be useful such as when plotting data."
   ]
  },
  {
   "cell_type": "code",
   "execution_count": 91,
   "metadata": {},
   "outputs": [
    {
     "data": {
      "text/html": [
       "<div>\n",
       "<style scoped>\n",
       "    .dataframe tbody tr th:only-of-type {\n",
       "        vertical-align: middle;\n",
       "    }\n",
       "\n",
       "    .dataframe tbody tr th {\n",
       "        vertical-align: top;\n",
       "    }\n",
       "\n",
       "    .dataframe thead th {\n",
       "        text-align: right;\n",
       "    }\n",
       "</style>\n",
       "<table border=\"1\" class=\"dataframe\">\n",
       "  <thead>\n",
       "    <tr style=\"text-align: right;\">\n",
       "      <th></th>\n",
       "      <th>Order ID</th>\n",
       "      <th>Order Date</th>\n",
       "      <th>Ship Date</th>\n",
       "      <th>Ship Mode</th>\n",
       "      <th>Customer ID</th>\n",
       "      <th>Customer Name</th>\n",
       "      <th>Segment</th>\n",
       "      <th>Country</th>\n",
       "      <th>City</th>\n",
       "      <th>State</th>\n",
       "      <th>Postal Code</th>\n",
       "      <th>Region</th>\n",
       "      <th>Product ID</th>\n",
       "      <th>Category</th>\n",
       "      <th>Sub-Category</th>\n",
       "      <th>Product Name</th>\n",
       "      <th>Sales</th>\n",
       "      <th>Quantity</th>\n",
       "      <th>Discount</th>\n",
       "      <th>Profit</th>\n",
       "    </tr>\n",
       "  </thead>\n",
       "  <tbody>\n",
       "    <tr>\n",
       "      <th>0</th>\n",
       "      <td>CA-2016-152156</td>\n",
       "      <td>2016-11-08</td>\n",
       "      <td>2016-11-11</td>\n",
       "      <td>Second Class</td>\n",
       "      <td>CG-12520</td>\n",
       "      <td>Claire Gute</td>\n",
       "      <td>Consumer</td>\n",
       "      <td>United States</td>\n",
       "      <td>Henderson</td>\n",
       "      <td>Kentucky</td>\n",
       "      <td>42420</td>\n",
       "      <td>South</td>\n",
       "      <td>FUR-BO-10001798</td>\n",
       "      <td>High</td>\n",
       "      <td>Bookcases</td>\n",
       "      <td>Bush Somerset Collection Bookcase</td>\n",
       "      <td>261.9600</td>\n",
       "      <td>2</td>\n",
       "      <td>0.00</td>\n",
       "      <td>41.9136</td>\n",
       "    </tr>\n",
       "    <tr>\n",
       "      <th>1</th>\n",
       "      <td>CA-2016-152156</td>\n",
       "      <td>2016-11-08</td>\n",
       "      <td>2016-11-11</td>\n",
       "      <td>Second Class</td>\n",
       "      <td>CG-12520</td>\n",
       "      <td>Claire Gute</td>\n",
       "      <td>Consumer</td>\n",
       "      <td>United States</td>\n",
       "      <td>Henderson</td>\n",
       "      <td>Kentucky</td>\n",
       "      <td>42420</td>\n",
       "      <td>South</td>\n",
       "      <td>FUR-CH-10000454</td>\n",
       "      <td>High</td>\n",
       "      <td>Chairs</td>\n",
       "      <td>Hon Deluxe Fabric Upholstered Stacking Chairs,...</td>\n",
       "      <td>731.9400</td>\n",
       "      <td>3</td>\n",
       "      <td>0.00</td>\n",
       "      <td>219.5820</td>\n",
       "    </tr>\n",
       "    <tr>\n",
       "      <th>2</th>\n",
       "      <td>CA-2016-138688</td>\n",
       "      <td>2016-06-12</td>\n",
       "      <td>2016-06-16</td>\n",
       "      <td>Second Class</td>\n",
       "      <td>DV-13045</td>\n",
       "      <td>Darrin Van Huff</td>\n",
       "      <td>Corporate</td>\n",
       "      <td>United States</td>\n",
       "      <td>Los Angeles</td>\n",
       "      <td>California</td>\n",
       "      <td>90036</td>\n",
       "      <td>West</td>\n",
       "      <td>OFF-LA-10000240</td>\n",
       "      <td>Low</td>\n",
       "      <td>Labels</td>\n",
       "      <td>Self-Adhesive Address Labels for Typewriters b...</td>\n",
       "      <td>14.6200</td>\n",
       "      <td>2</td>\n",
       "      <td>0.00</td>\n",
       "      <td>6.8714</td>\n",
       "    </tr>\n",
       "    <tr>\n",
       "      <th>3</th>\n",
       "      <td>US-2015-108966</td>\n",
       "      <td>2015-10-11</td>\n",
       "      <td>2015-10-18</td>\n",
       "      <td>Standard Class</td>\n",
       "      <td>SO-20335</td>\n",
       "      <td>Sean O'Donnell</td>\n",
       "      <td>Consumer</td>\n",
       "      <td>United States</td>\n",
       "      <td>Fort Lauderdale</td>\n",
       "      <td>Florida</td>\n",
       "      <td>33311</td>\n",
       "      <td>South</td>\n",
       "      <td>FUR-TA-10000577</td>\n",
       "      <td>High</td>\n",
       "      <td>Tables</td>\n",
       "      <td>Bretford CR4500 Series Slim Rectangular Table</td>\n",
       "      <td>957.5775</td>\n",
       "      <td>5</td>\n",
       "      <td>0.45</td>\n",
       "      <td>-383.0310</td>\n",
       "    </tr>\n",
       "    <tr>\n",
       "      <th>4</th>\n",
       "      <td>US-2015-108966</td>\n",
       "      <td>2015-10-11</td>\n",
       "      <td>2015-10-18</td>\n",
       "      <td>Standard Class</td>\n",
       "      <td>SO-20335</td>\n",
       "      <td>Sean O'Donnell</td>\n",
       "      <td>Consumer</td>\n",
       "      <td>United States</td>\n",
       "      <td>Fort Lauderdale</td>\n",
       "      <td>Florida</td>\n",
       "      <td>33311</td>\n",
       "      <td>South</td>\n",
       "      <td>OFF-ST-10000760</td>\n",
       "      <td>Low</td>\n",
       "      <td>Storage</td>\n",
       "      <td>Eldon Fold 'N Roll Cart System</td>\n",
       "      <td>22.3680</td>\n",
       "      <td>2</td>\n",
       "      <td>0.20</td>\n",
       "      <td>2.5164</td>\n",
       "    </tr>\n",
       "  </tbody>\n",
       "</table>\n",
       "</div>"
      ],
      "text/plain": [
       "         Order ID Order Date  Ship Date       Ship Mode Customer ID  \\\n",
       "0  CA-2016-152156 2016-11-08 2016-11-11    Second Class    CG-12520   \n",
       "1  CA-2016-152156 2016-11-08 2016-11-11    Second Class    CG-12520   \n",
       "2  CA-2016-138688 2016-06-12 2016-06-16    Second Class    DV-13045   \n",
       "3  US-2015-108966 2015-10-11 2015-10-18  Standard Class    SO-20335   \n",
       "4  US-2015-108966 2015-10-11 2015-10-18  Standard Class    SO-20335   \n",
       "\n",
       "     Customer Name    Segment        Country             City       State  \\\n",
       "0      Claire Gute   Consumer  United States        Henderson    Kentucky   \n",
       "1      Claire Gute   Consumer  United States        Henderson    Kentucky   \n",
       "2  Darrin Van Huff  Corporate  United States      Los Angeles  California   \n",
       "3   Sean O'Donnell   Consumer  United States  Fort Lauderdale     Florida   \n",
       "4   Sean O'Donnell   Consumer  United States  Fort Lauderdale     Florida   \n",
       "\n",
       "   Postal Code Region       Product ID Category Sub-Category  \\\n",
       "0        42420  South  FUR-BO-10001798     High    Bookcases   \n",
       "1        42420  South  FUR-CH-10000454     High       Chairs   \n",
       "2        90036   West  OFF-LA-10000240      Low       Labels   \n",
       "3        33311  South  FUR-TA-10000577     High       Tables   \n",
       "4        33311  South  OFF-ST-10000760      Low      Storage   \n",
       "\n",
       "                                        Product Name     Sales  Quantity  \\\n",
       "0                  Bush Somerset Collection Bookcase  261.9600         2   \n",
       "1  Hon Deluxe Fabric Upholstered Stacking Chairs,...  731.9400         3   \n",
       "2  Self-Adhesive Address Labels for Typewriters b...   14.6200         2   \n",
       "3      Bretford CR4500 Series Slim Rectangular Table  957.5775         5   \n",
       "4                     Eldon Fold 'N Roll Cart System   22.3680         2   \n",
       "\n",
       "   Discount    Profit  \n",
       "0      0.00   41.9136  \n",
       "1      0.00  219.5820  \n",
       "2      0.00    6.8714  \n",
       "3      0.45 -383.0310  \n",
       "4      0.20    2.5164  "
      ]
     },
     "execution_count": 91,
     "metadata": {},
     "output_type": "execute_result"
    }
   ],
   "source": [
    "# Define a function\n",
    "def categorize_sales(price):\n",
    "    if price < 50:\n",
    "        return \"Low\"\n",
    "    elif price < 200:\n",
    "        return \"Medium\"\n",
    "    else:\n",
    "        return \"High\"\n",
    "\n",
    "# Apply it to the Sales column\n",
    "df[\"Sales\"].apply(categorize_sales)\n",
    "\n",
    "# Now attach it to a data frame\n",
    "df[\"Category\"] = df[\"Sales\"].apply(categorize_sales)\n",
    "\n",
    "# Verify that the new column exists\n",
    "df.head()"
   ]
  },
  {
   "cell_type": "code",
   "execution_count": 92,
   "metadata": {},
   "outputs": [
    {
     "data": {
      "text/plain": [
       "<AxesSubplot:>"
      ]
     },
     "execution_count": 92,
     "metadata": {},
     "output_type": "execute_result"
    },
    {
     "data": {
      "image/png": "[encoded data removed]",
      "text/plain": [
       "<Figure size 432x288 with 1 Axes>"
      ]
     },
     "metadata": {
      "needs_background": "light"
     },
     "output_type": "display_data"
    }
   ],
   "source": [
    "df.Category.value_counts().plot(kind=\"bar\")"
   ]
  },
  {
   "cell_type": "code",
   "execution_count": null,
   "metadata": {},
   "outputs": [],
   "source": []
  },
  {
   "cell_type": "markdown",
   "metadata": {},
   "source": [
    "It bears pointing out that there can be different data types in a data frame which we can see via the **dtypes** attribute."
   ]
  },
  {
   "cell_type": "code",
   "execution_count": 93,
   "metadata": {},
   "outputs": [
    {
     "data": {
      "text/plain": [
       "Order ID                 object\n",
       "Order Date       datetime64[ns]\n",
       "Ship Date        datetime64[ns]\n",
       "Ship Mode                object\n",
       "Customer ID              object\n",
       "Customer Name            object\n",
       "Segment                  object\n",
       "Country                  object\n",
       "City                     object\n",
       "State                    object\n",
       "Postal Code               int64\n",
       "Region                   object\n",
       "Product ID               object\n",
       "Category                 object\n",
       "Sub-Category             object\n",
       "Product Name             object\n",
       "Sales                   float64\n",
       "Quantity                  int64\n",
       "Discount                float64\n",
       "Profit                  float64\n",
       "dtype: object"
      ]
     },
     "execution_count": 93,
     "metadata": {},
     "output_type": "execute_result"
    }
   ],
   "source": [
    "df.dtypes"
   ]
  },
  {
   "cell_type": "code",
   "execution_count": 94,
   "metadata": {},
   "outputs": [
    {
     "data": {
      "text/html": [
       "<div>\n",
       "<style scoped>\n",
       "    .dataframe tbody tr th:only-of-type {\n",
       "        vertical-align: middle;\n",
       "    }\n",
       "\n",
       "    .dataframe tbody tr th {\n",
       "        vertical-align: top;\n",
       "    }\n",
       "\n",
       "    .dataframe thead th {\n",
       "        text-align: right;\n",
       "    }\n",
       "</style>\n",
       "<table border=\"1\" class=\"dataframe\">\n",
       "  <thead>\n",
       "    <tr style=\"text-align: right;\">\n",
       "      <th></th>\n",
       "      <th>Sales</th>\n",
       "      <th>Discount</th>\n",
       "      <th>Profit</th>\n",
       "    </tr>\n",
       "  </thead>\n",
       "  <tbody>\n",
       "    <tr>\n",
       "      <th>0</th>\n",
       "      <td>261.9600</td>\n",
       "      <td>0.00</td>\n",
       "      <td>41.9136</td>\n",
       "    </tr>\n",
       "    <tr>\n",
       "      <th>1</th>\n",
       "      <td>731.9400</td>\n",
       "      <td>0.00</td>\n",
       "      <td>219.5820</td>\n",
       "    </tr>\n",
       "    <tr>\n",
       "      <th>2</th>\n",
       "      <td>14.6200</td>\n",
       "      <td>0.00</td>\n",
       "      <td>6.8714</td>\n",
       "    </tr>\n",
       "    <tr>\n",
       "      <th>3</th>\n",
       "      <td>957.5775</td>\n",
       "      <td>0.45</td>\n",
       "      <td>-383.0310</td>\n",
       "    </tr>\n",
       "    <tr>\n",
       "      <th>4</th>\n",
       "      <td>22.3680</td>\n",
       "      <td>0.20</td>\n",
       "      <td>2.5164</td>\n",
       "    </tr>\n",
       "    <tr>\n",
       "      <th>...</th>\n",
       "      <td>...</td>\n",
       "      <td>...</td>\n",
       "      <td>...</td>\n",
       "    </tr>\n",
       "    <tr>\n",
       "      <th>9989</th>\n",
       "      <td>25.2480</td>\n",
       "      <td>0.20</td>\n",
       "      <td>4.1028</td>\n",
       "    </tr>\n",
       "    <tr>\n",
       "      <th>9990</th>\n",
       "      <td>91.9600</td>\n",
       "      <td>0.00</td>\n",
       "      <td>15.6332</td>\n",
       "    </tr>\n",
       "    <tr>\n",
       "      <th>9991</th>\n",
       "      <td>258.5760</td>\n",
       "      <td>0.20</td>\n",
       "      <td>19.3932</td>\n",
       "    </tr>\n",
       "    <tr>\n",
       "      <th>9992</th>\n",
       "      <td>29.6000</td>\n",
       "      <td>0.00</td>\n",
       "      <td>13.3200</td>\n",
       "    </tr>\n",
       "    <tr>\n",
       "      <th>9993</th>\n",
       "      <td>243.1600</td>\n",
       "      <td>0.00</td>\n",
       "      <td>72.9480</td>\n",
       "    </tr>\n",
       "  </tbody>\n",
       "</table>\n",
       "<p>9994 rows × 3 columns</p>\n",
       "</div>"
      ],
      "text/plain": [
       "         Sales  Discount    Profit\n",
       "0     261.9600      0.00   41.9136\n",
       "1     731.9400      0.00  219.5820\n",
       "2      14.6200      0.00    6.8714\n",
       "3     957.5775      0.45 -383.0310\n",
       "4      22.3680      0.20    2.5164\n",
       "...        ...       ...       ...\n",
       "9989   25.2480      0.20    4.1028\n",
       "9990   91.9600      0.00   15.6332\n",
       "9991  258.5760      0.20   19.3932\n",
       "9992   29.6000      0.00   13.3200\n",
       "9993  243.1600      0.00   72.9480\n",
       "\n",
       "[9994 rows x 3 columns]"
      ]
     },
     "execution_count": 94,
     "metadata": {},
     "output_type": "execute_result"
    }
   ],
   "source": [
    "# We can select or exclude specific types\n",
    "df.select_dtypes(\"float\")"
   ]
  },
  {
   "cell_type": "code",
   "execution_count": 95,
   "metadata": {},
   "outputs": [
    {
     "data": {
      "text/html": [
       "<div>\n",
       "<style scoped>\n",
       "    .dataframe tbody tr th:only-of-type {\n",
       "        vertical-align: middle;\n",
       "    }\n",
       "\n",
       "    .dataframe tbody tr th {\n",
       "        vertical-align: top;\n",
       "    }\n",
       "\n",
       "    .dataframe thead th {\n",
       "        text-align: right;\n",
       "    }\n",
       "</style>\n",
       "<table border=\"1\" class=\"dataframe\">\n",
       "  <thead>\n",
       "    <tr style=\"text-align: right;\">\n",
       "      <th></th>\n",
       "      <th>Order ID</th>\n",
       "      <th>Order Date</th>\n",
       "      <th>Ship Date</th>\n",
       "      <th>Ship Mode</th>\n",
       "      <th>Customer ID</th>\n",
       "    </tr>\n",
       "  </thead>\n",
       "  <tbody>\n",
       "    <tr>\n",
       "      <th>0</th>\n",
       "      <td>CA-2016-152156</td>\n",
       "      <td>2016-11-08</td>\n",
       "      <td>2016-11-11</td>\n",
       "      <td>Second Class</td>\n",
       "      <td>CG-12520</td>\n",
       "    </tr>\n",
       "    <tr>\n",
       "      <th>1</th>\n",
       "      <td>CA-2016-152156</td>\n",
       "      <td>2016-11-08</td>\n",
       "      <td>2016-11-11</td>\n",
       "      <td>Second Class</td>\n",
       "      <td>CG-12520</td>\n",
       "    </tr>\n",
       "    <tr>\n",
       "      <th>2</th>\n",
       "      <td>CA-2016-138688</td>\n",
       "      <td>2016-06-12</td>\n",
       "      <td>2016-06-16</td>\n",
       "      <td>Second Class</td>\n",
       "      <td>DV-13045</td>\n",
       "    </tr>\n",
       "    <tr>\n",
       "      <th>3</th>\n",
       "      <td>US-2015-108966</td>\n",
       "      <td>2015-10-11</td>\n",
       "      <td>2015-10-18</td>\n",
       "      <td>Standard Class</td>\n",
       "      <td>SO-20335</td>\n",
       "    </tr>\n",
       "    <tr>\n",
       "      <th>4</th>\n",
       "      <td>US-2015-108966</td>\n",
       "      <td>2015-10-11</td>\n",
       "      <td>2015-10-18</td>\n",
       "      <td>Standard Class</td>\n",
       "      <td>SO-20335</td>\n",
       "    </tr>\n",
       "  </tbody>\n",
       "</table>\n",
       "</div>"
      ],
      "text/plain": [
       "         Order ID Order Date  Ship Date       Ship Mode Customer ID\n",
       "0  CA-2016-152156 2016-11-08 2016-11-11    Second Class    CG-12520\n",
       "1  CA-2016-152156 2016-11-08 2016-11-11    Second Class    CG-12520\n",
       "2  CA-2016-138688 2016-06-12 2016-06-16    Second Class    DV-13045\n",
       "3  US-2015-108966 2015-10-11 2015-10-18  Standard Class    SO-20335\n",
       "4  US-2015-108966 2015-10-11 2015-10-18  Standard Class    SO-20335"
      ]
     },
     "execution_count": 95,
     "metadata": {},
     "output_type": "execute_result"
    }
   ],
   "source": [
    "df.select_dtypes(exclude=\"float\").iloc[0:5,0:5]"
   ]
  },
  {
   "cell_type": "markdown",
   "metadata": {},
   "source": [
    "## Plotting\n",
    "\n",
    "This is probably one of the more tedious aspects of Python just as learning ggplot2 or lattice graphics might be in R. Graphics packages are developed using somewhat arbitrary concepts but once you have worked a few examples at least you have a shot at making things work. For this course, you will see many examples. "
   ]
  },
  {
   "cell_type": "code",
   "execution_count": 272,
   "metadata": {},
   "outputs": [
    {
     "data": {
      "text/plain": [
       "Text(0.5, 1.0, 'Two Functions')"
      ]
     },
     "execution_count": 272,
     "metadata": {},
     "output_type": "execute_result"
    },
    {
     "data": {
      "image/png": "[encoded data removed]",
      "text/plain": [
       "<Figure size 432x288 with 1 Axes>"
      ]
     },
     "metadata": {
      "needs_background": "light"
     },
     "output_type": "display_data"
    }
   ],
   "source": [
    "x = np.linspace(1,100,200)\n",
    "y1 = 2*x\n",
    "y2 = 10*x\n",
    "# \n",
    "plt.figure(figsize=(6,4))\n",
    "plt.plot(x,y1,label=\"y=2x\",lw=4,c=\"green\")\n",
    "plt.plot(x,y2,label=\"y=10x\",ls=\"--\",c=\"blue\")\n",
    "plt.legend()\n",
    "plt.grid()\n",
    "plt.title(\"Two Functions\")"
   ]
  },
  {
   "cell_type": "code",
   "execution_count": 273,
   "metadata": {},
   "outputs": [
    {
     "data": {
      "image/png": "[encoded data removed]",
      "text/plain": [
       "<Figure size 432x288 with 1 Axes>"
      ]
     },
     "metadata": {
      "needs_background": "light"
     },
     "output_type": "display_data"
    }
   ],
   "source": [
    "import matplotlib.pyplot as plt\n",
    "# You can start plotting\n",
    "\n",
    "plt.scatter('Profit','Sales',data=df)\n",
    "plt.xlabel(\"Profit\")\n",
    "plt.ylabel(\"Sales\")\n",
    "plt.title(\"Profit vs Sales\")\n",
    "plt.grid()"
   ]
  },
  {
   "cell_type": "code",
   "execution_count": 607,
   "metadata": {},
   "outputs": [
    {
     "data": {
      "image/png": "[encoded data removed]",
      "text/plain": [
       "<Figure size 900x500 with 1 Axes>"
      ]
     },
     "metadata": {},
     "output_type": "display_data"
    }
   ],
   "source": [
    "# But we can setup a plot with some defaults\n",
    "plt.figure(figsize=(9,5))   # Setup a Plot with some defaults\n",
    "plt.scatter(\"Quantity\",\"Sales\",data=df)\n",
    "plt.xlabel(\"Quantity\")\n",
    "plt.ylabel(\"Sales $\")\n",
    "plt.title(\"Sales vs Quantity\")\n",
    "plt.grid()"
   ]
  },
  {
   "cell_type": "code",
   "execution_count": 275,
   "metadata": {},
   "outputs": [
    {
     "data": {
      "image/png": "[encoded data removed]",
      "text/plain": [
       "<Figure size 576x432 with 2 Axes>"
      ]
     },
     "metadata": {
      "needs_background": "light"
     },
     "output_type": "display_data"
    }
   ],
   "source": [
    "plt.figure(figsize=(8,6),tight_layout=True)   # Setup a Plot with some defaults\n",
    "#plt.tight_layout(h_pad=2)\n",
    "\n",
    "# A figure can contain subplots\n",
    "\n",
    "plt.subplot(2,1,1) \n",
    "plt.scatter(\"Sales\",\"Discount\",data=df,c=\"red\")\n",
    "plt.xlabel(\"Sales\")\n",
    "plt.ylabel(\"Discount\")\n",
    "plt.title(\"Discount % vs Sales\")\n",
    "plt.grid()\n",
    "\n",
    "# \n",
    "\n",
    "plt.subplot(2,1,2)\n",
    "plt.scatter(\"Sales\",\"Quantity\",data=df,c=\"blue\")\n",
    "plt.xlabel(\"Quantity\")\n",
    "plt.ylabel(\"Discount\")\n",
    "plt.title(\"Discount % vs Sales\")\n",
    "plt.grid()\n"
   ]
  },
  {
   "cell_type": "code",
   "execution_count": 276,
   "metadata": {},
   "outputs": [],
   "source": [
    "# Let's plot the Ga Sales per Order vs Alabama Sales per Order\n",
    "ga_sales = df[df.State == \"Georgia\"]\n",
    "ala_sales = df[df.State == \"Alabama\"]"
   ]
  },
  {
   "cell_type": "code",
   "execution_count": 277,
   "metadata": {},
   "outputs": [
    {
     "data": {
      "image/png": "[encoded data removed]",
      "text/plain": [
       "<Figure size 432x288 with 1 Axes>"
      ]
     },
     "metadata": {
      "needs_background": "light"
     },
     "output_type": "display_data"
    }
   ],
   "source": [
    "plt.scatter(range(0,len(ga_sales)),ga_sales.Profit,label=\"GA\")\n",
    "plt.scatter(range(0,len(ala_sales)),ala_sales.Profit,label=\"AL\",alpha=0.8)\n",
    "plt.legend()\n",
    "plt.xlabel(\"Sales Order Number\")\n",
    "plt.ylabel(\"Sales\")\n",
    "plt.title(\"Ga and Alabama Sales\")\n",
    "plt.grid()"
   ]
  },
  {
   "cell_type": "code",
   "execution_count": 278,
   "metadata": {},
   "outputs": [
    {
     "data": {
      "text/plain": [
       "<AxesSubplot:title={'center':'Sales'}, xlabel='State'>"
      ]
     },
     "execution_count": 278,
     "metadata": {},
     "output_type": "execute_result"
    },
    {
     "data": {
      "image/png": "[encoded data removed]",
      "text/plain": [
       "<Figure size 432x288 with 1 Axes>"
      ]
     },
     "metadata": {
      "needs_background": "light"
     },
     "output_type": "display_data"
    }
   ],
   "source": [
    "ga_ala = pd.concat([ga_sales,ala_sales])\n",
    "ga_ala.boxplot(column='Sales',by='State')"
   ]
  },
  {
   "cell_type": "code",
   "execution_count": 279,
   "metadata": {},
   "outputs": [
    {
     "data": {
      "text/plain": [
       "array([<AxesSubplot:title={'center':'Alabama'}>,\n",
       "       <AxesSubplot:title={'center':'Georgia'}>], dtype=object)"
      ]
     },
     "execution_count": 279,
     "metadata": {},
     "output_type": "execute_result"
    },
    {
     "data": {
      "image/png": "[encoded data removed]",
      "text/plain": [
       "<Figure size 432x288 with 2 Axes>"
      ]
     },
     "metadata": {
      "needs_background": "light"
     },
     "output_type": "display_data"
    }
   ],
   "source": [
    "ga_ala = pd.concat([ga_sales,ala_sales])\n",
    "ga_ala.hist(column='Sales',by='State',sharex=True,bins=16)"
   ]
  },
  {
   "cell_type": "markdown",
   "metadata": {},
   "source": [
    "Here is a more practical example that builds a regression model to predict the MPG of a car related data set. We use something called Cross Fold Validation where we look at, in this case, four different versions of the data. We build on each of these versionsand then plot the predicted MPG vs the actual MPG in the "
   ]
  },
  {
   "cell_type": "code",
   "execution_count": 523,
   "metadata": {},
   "outputs": [
    {
     "data": {
      "image/png": "[encoded data removed]",
      "text/plain": [
       "<Figure size 1000x1000 with 4 Axes>"
      ]
     },
     "metadata": {},
     "output_type": "display_data"
    }
   ],
   "source": [
    "from sklearn.model_selection import KFold\n",
    "from sklearn.linear_model import LinearRegression\n",
    "from sklearn.tree import DecisionTreeRegressor\n",
    "\n",
    "ii = 1\n",
    "url = \"https://raw.githubusercontent.com/steviep42/bios534_spring_2020/master/data/mtcars.csv\"\n",
    "mtcars = pd.read_csv(url)\n",
    "\n",
    "mtvals = mtcars.values            # creates a numpy array\n",
    "y = mtvals[:,0]         # Gets the mpg column\n",
    "X = mtvals[:,1:10]      # Gets everything BUT the mpg column\n",
    "\n",
    "wtcol = 4\n",
    "nfold = 4\n",
    "kfold = KFold(nfold)\n",
    "\n",
    "# Main processing loop for the folds\n",
    "\n",
    "plt.figure(figsize=(10,10),tight_layout=True)\n",
    "\n",
    "for train_index, test_index in kfold.split(X, y):\n",
    "  # split data coming from each of the 4 folds\n",
    "        X_train, X_test = X[train_index], X[test_index]\n",
    "        Y_train, Y_test = y[train_index], y[test_index]\n",
    "        \n",
    "        # Initialize a model\n",
    "        regress = LinearRegression()\n",
    "        \n",
    "        # Fit the Model\n",
    "        regress.fit(X_train,Y_train)\n",
    "        \n",
    "        # Now let's do a prediction on the test data\n",
    "        predict_test = regress.predict(X_test)\n",
    "    \n",
    "        # This zip is necessary sometimes to sort the X values with their\n",
    "        # correspinding y values \n",
    "        xs, ys = zip(*sorted(zip(X_test[:,wtcol], predict_test)))\n",
    "    \n",
    "        plotfac = 1    # A spacing factor\n",
    "        \n",
    "        # Create some subplots\n",
    "        plt.subplot(nfold,1,ii)\n",
    "        \n",
    "        # Create some annotation info and axis limits\n",
    "        label = f'Predicted MPG for fold %s' % ii\n",
    "        plt.plot(xs,ys,label=label)\n",
    "        plt.xlim([X[:,4].min()-plotfac,X[:,wtcol].max()+plotfac])\n",
    "        plt.ylim([y.min()-plotfac,y.max()+plotfac])\n",
    "        \n",
    "        # correlate the Xs to the Ys like before \n",
    "        xs, ys = zip(*sorted(zip(X_test[:,wtcol], Y_test)))\n",
    "        label = f'Actual MPG for Fold %s' % ii\n",
    "        plt.plot(xs,ys,label=label)\n",
    "        plt.grid()\n",
    "        plt.legend()\n",
    "        plt.title(f'Predicted vs Actual MPG for Fold %s' % ii)\n",
    "        ii = ii+1\n",
    "\n",
    "plt.show()"
   ]
  },
  {
   "cell_type": "code",
   "execution_count": null,
   "metadata": {},
   "outputs": [],
   "source": []
  },
  {
   "cell_type": "code",
   "execution_count": 498,
   "metadata": {},
   "outputs": [
    {
     "data": {
      "text/html": [
       "<div>\n",
       "<style scoped>\n",
       "    .dataframe tbody tr th:only-of-type {\n",
       "        vertical-align: middle;\n",
       "    }\n",
       "\n",
       "    .dataframe tbody tr th {\n",
       "        vertical-align: top;\n",
       "    }\n",
       "\n",
       "    .dataframe thead th {\n",
       "        text-align: right;\n",
       "    }\n",
       "</style>\n",
       "<table border=\"1\" class=\"dataframe\">\n",
       "  <thead>\n",
       "    <tr style=\"text-align: right;\">\n",
       "      <th></th>\n",
       "      <th>Subject</th>\n",
       "      <th>time</th>\n",
       "      <th>conc</th>\n",
       "    </tr>\n",
       "  </thead>\n",
       "  <tbody>\n",
       "    <tr>\n",
       "      <th>count</th>\n",
       "      <td>66.000000</td>\n",
       "      <td>66.000000</td>\n",
       "      <td>66.000000</td>\n",
       "    </tr>\n",
       "    <tr>\n",
       "      <th>mean</th>\n",
       "      <td>3.500000</td>\n",
       "      <td>2.886364</td>\n",
       "      <td>0.591818</td>\n",
       "    </tr>\n",
       "    <tr>\n",
       "      <th>std</th>\n",
       "      <td>1.720912</td>\n",
       "      <td>2.464432</td>\n",
       "      <td>0.632584</td>\n",
       "    </tr>\n",
       "    <tr>\n",
       "      <th>min</th>\n",
       "      <td>1.000000</td>\n",
       "      <td>0.250000</td>\n",
       "      <td>0.050000</td>\n",
       "    </tr>\n",
       "    <tr>\n",
       "      <th>25%</th>\n",
       "      <td>2.000000</td>\n",
       "      <td>0.750000</td>\n",
       "      <td>0.110000</td>\n",
       "    </tr>\n",
       "    <tr>\n",
       "      <th>50%</th>\n",
       "      <td>3.500000</td>\n",
       "      <td>2.000000</td>\n",
       "      <td>0.340000</td>\n",
       "    </tr>\n",
       "    <tr>\n",
       "      <th>75%</th>\n",
       "      <td>5.000000</td>\n",
       "      <td>5.000000</td>\n",
       "      <td>0.832500</td>\n",
       "    </tr>\n",
       "    <tr>\n",
       "      <th>max</th>\n",
       "      <td>6.000000</td>\n",
       "      <td>8.000000</td>\n",
       "      <td>2.720000</td>\n",
       "    </tr>\n",
       "  </tbody>\n",
       "</table>\n",
       "</div>"
      ],
      "text/plain": [
       "         Subject       time       conc\n",
       "count  66.000000  66.000000  66.000000\n",
       "mean    3.500000   2.886364   0.591818\n",
       "std     1.720912   2.464432   0.632584\n",
       "min     1.000000   0.250000   0.050000\n",
       "25%     2.000000   0.750000   0.110000\n",
       "50%     3.500000   2.000000   0.340000\n",
       "75%     5.000000   5.000000   0.832500\n",
       "max     6.000000   8.000000   2.720000"
      ]
     },
     "execution_count": 498,
     "metadata": {},
     "output_type": "execute_result"
    }
   ],
   "source": [
    "url = \"https://raw.githubusercontent.com/steviep42/bios_534_2021/master/data/indometh.csv\"\n",
    "indo = pd.read_csv(url)\n",
    "indo.head()\n",
    "indo.describe()"
   ]
  },
  {
   "cell_type": "code",
   "execution_count": 519,
   "metadata": {},
   "outputs": [
    {
     "data": {
      "image/png": "[encoded data removed]",
      "text/plain": [
       "<Figure size 600x600 with 1 Axes>"
      ]
     },
     "metadata": {},
     "output_type": "display_data"
    }
   ],
   "source": [
    "plt.figure(figsize=(6,6))\n",
    "indo.Subject.unique()\n",
    "\n",
    "for ii in indo.Subject.unique():\n",
    "    temp = indo.loc[indo.Subject == ii]\n",
    "    plt.plot('time','conc',data=temp,label=f'Patient %s' % ii)\n",
    "\n",
    "plt.legend()\n",
    "plt.ylabel(\"indometacin concentration (mcg/ml)\")\n",
    "plt.xlabel(\"Times of blood sample collection\")\n",
    "plt.title(\"Indometh Concentration (mcg/ml) over Time\")\n",
    "plt.grid()"
   ]
  },
  {
   "cell_type": "code",
   "execution_count": 520,
   "metadata": {},
   "outputs": [
    {
     "data": {
      "image/png": "[encoded data removed]",
      "text/plain": [
       "<Figure size 600x600 with 1 Axes>"
      ]
     },
     "metadata": {},
     "output_type": "display_data"
    }
   ],
   "source": [
    "def indometh(log=False):\n",
    "    import numpy as np\n",
    "    plt.figure(figsize=(6,6))\n",
    "\n",
    "    for ii in indo.Subject.unique():\n",
    "        temp = indo.loc[indo.Subject == ii]\n",
    "        if log:\n",
    "            plt.plot(temp.time,np.log(temp.conc),label=f'Subject %s' % ii)\n",
    "            title = f'Indometh Concentration (conc log transformed)'\n",
    "        else:\n",
    "            plt.plot(temp.time,temp.conc,label=f'Subject %s' % ii)\n",
    "            title = f'Indometh Concentration %s' % i\n",
    "    plt.legend()\n",
    "    plt.title(title)\n",
    "    plt.grid()\n",
    "    plt.xlabel(\"Times of blood sample collection\")\n",
    "    plt.ylabel(\"indometacin concentration (mcg/ml)\")\n",
    "\n",
    "indometh(log=True)"
   ]
  },
  {
   "cell_type": "code",
   "execution_count": 521,
   "metadata": {},
   "outputs": [
    {
     "data": {
      "text/plain": [
       "Text(0.5, 0, 'Patient Number')"
      ]
     },
     "execution_count": 521,
     "metadata": {},
     "output_type": "execute_result"
    },
    {
     "data": {
      "image/png": "[encoded data removed]",
      "text/plain": [
       "<Figure size 640x480 with 1 Axes>"
      ]
     },
     "metadata": {},
     "output_type": "display_data"
    }
   ],
   "source": [
    "indo.boxplot('conc',by=\"Subject\")\n",
    "plt.title(\"IndoMeth Concentration over Time\")\n",
    "plt.ylabel(\"indometacin concentration (mcg/ml)\")\n",
    "plt.xlabel(\"Patient Number\")"
   ]
  },
  {
   "cell_type": "markdown",
   "metadata": {},
   "source": [
    "So let's build a Logistic Regression object to predict whether a car has an automatic (0) or a manual transmission (1). We'll then plot the MPG vs wt and then color the points by whether the model indicates it is automatic or manual. "
   ]
  },
  {
   "cell_type": "code",
   "execution_count": 546,
   "metadata": {},
   "outputs": [
    {
     "data": {
      "text/plain": [
       "<matplotlib.collections.PathCollection at 0x1a4ff07050>"
      ]
     },
     "execution_count": 546,
     "metadata": {},
     "output_type": "execute_result"
    },
    {
     "data": {
      "image/png": "[encoded data removed]",
      "text/plain": [
       "<Figure size 640x480 with 1 Axes>"
      ]
     },
     "metadata": {},
     "output_type": "display_data"
    }
   ],
   "source": [
    "from sklearn.linear_model import LogisticRegression\n",
    "url = \"https://raw.githubusercontent.com/steviep42/bios534_spring_2020/master/data/mtcars.csv\"\n",
    "mtcars = pd.read_csv(url)\n",
    "\n",
    "y = mtcars.am\n",
    "X = mtcars.drop('am',axis=1)\n",
    "\n",
    "logreg = LogisticRegression()\n",
    "logreg.fit(X,y)\n",
    "\n",
    "# these preds will be either 0 or 1\n",
    "am_preds = logreg.predict(X)\n",
    "plt.scatter(X.wt,X.mpg,c=am_preds)"
   ]
  },
  {
   "cell_type": "code",
   "execution_count": null,
   "metadata": {},
   "outputs": [],
   "source": []
  }
 ],
 "metadata": {
  "kernelspec": {
   "display_name": "Python 3",
   "language": "python",
   "name": "python3"
  },
  "language_info": {
   "codemirror_mode": {
    "name": "ipython",
    "version": 3
   },
   "file_extension": ".py",
   "mimetype": "text/x-python",
   "name": "python",
   "nbconvert_exporter": "python",
   "pygments_lexer": "ipython3",
   "version": "3.7.7"
  }
 },
 "nbformat": 4,
 "nbformat_minor": 4
}
