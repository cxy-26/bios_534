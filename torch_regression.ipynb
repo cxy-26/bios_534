{
 "cells": [
  {
   "cell_type": "markdown",
   "id": "static-course",
   "metadata": {},
   "source": [
    "In Data Science much of the data arrives in the form of what one might call tabular or Excel-like structure which is convenenient for importing into a data frame. This then makes it realtively straightforward to use as input with traditional modeling approaches such as regression, support vector machines, decision trees, and naive bayes. \n",
    "\n",
    "<img src=\"pics/ml_graph.png\" width =\"600\" height=600>\n",
    "\n",
    "\n",
    "Moreover, if the data size is manageable on your local computer then maybe sticking with these approaches is fine. On the other hand, we can in fact use Deep Learning tools in the modeling of simple data structures, it's just that it might be over kill. Nonetheless, there are plenty of organizations who more or less do everything with DL approaches under the premise that it centralizes thinking and activity around a basic set of tools. The discussion then becomes about:\n",
    "\n",
    "- model architectures\n",
    "- batch sizes\n",
    "- activation functions\n",
    "- cost functions\n",
    "- learning rates\n",
    "- regularization\n",
    "\n",
    "So while a committment is made to Deep Learning it doesn't then mean that the considerations are few and simple. Deep Learning is ususally discussed in contexts where the data is unstructured to the extent that it is not so easy to \"mold\" it into the tpyical tabular approach. Or if you can, then you have to create a containing super-structure to manage it in total. We could use tools like Python's **numpy** module because it does in fact allow us to flexibly represent data in interesting ways that facilitate computational efficiency. However, it does not run on GPUs which are the next generation processors for aggressive and at-scale computing. \n",
    "\n",
    "\n",
    "<img src=\"pics/numpy.png\" width =\"400\" height=400>\n",
    "\n",
    "\n",
    "This need has led, in part, to the development of things like tensors which allow us to represent unstructured data as arrays of matrices, or arrays of arrays, with all the underlying connectivity (via graphs) being maintained for you so yo don't have to worry about that. Then you can present this structure to Deep Learning networks such as TensorFlow, Keras (which sits on top of Tensorflow), and of course PyTorch. Note that using arrays of arrays/matrices is not a new thing altough calculations of this sort used to require very large \"mainframes\" though now we can run them on laptops. Moever, using tensors gives us efficiencies that allow is to run on both CPUs and GPU without having to change our code. Lastly, tensors, at least as implemented by PyTorch and Tensorflow, can have linkages in the for of Directed Graphs which means they can keep track out calculations over time. \n",
    "\n",
    "<img src=\"pics/tensors.png\" width =\"600\" height=600>\n",
    "\n",
    "<small>https://www.freecodecamp.org/news/get-to-know-tensorflow-js-in-7-minutes-afcd0dfd3d2f/</small>\n",
    "\n",
    "One thing to know is that many times people will use the words **arrays** and **matrices** synonymously. In my view this should not be the case but people smarter than me do it all the time so maybe they know something I don't.\n",
    "\n",
    "<img src=\"pics/moretens.png\" width =\"600\" height=600>\n",
    "\n",
    "However, it is fair to say that Deep Learning is more commonly used in non-traditional contexts such as image classification and object recognition, Natural Language Processing, population segmentation, as well dialogue generation and processing tools (e.g. Siri, Alexa). Also, Deep Learning shines becasue the tensor concept allows us to use at-scale and very large datasets\n",
    "\n",
    "\n",
    "Libraries such as <a href=\"https://keras.io/\">Keras</a> can \"sit on top\" of Tensorflow to leverage one's knowledge of Python which can make the Deep Learning experuience easier if you alreadu know Python. <a href=\"http://pytorch.org\">PyTorch</a> is also a framework which allows use of Python as an interface language though it does not rely upon Tensorflow. Here are some benefits of PyTorch which you might recall from last week's lecture. \n",
    "\n",
    "- Optimize performance in both research and production by taking advantage of native support for asynchronous execution of collective operations and peer-to-peer communication that is accessible from Python and C++.\n",
    "    \n",
    "- PyTorch supports an end-to-end workflow from Python to deployment on iOS and Android. \n",
    "\n",
    "- PyTorch is well supported on major cloud platforms, providing frictionless development and easy scaling through prebuilt images, large scale training on GPUs, ability to run models in a production scale environment, and more.\n",
    "    \n",
    "<h3>Autograd module</h3>\n",
    "\n",
    "<p>PyTorch uses a method called <b>automatic differentiation</b>. A recorder records what operations have performed, and then it replays it backward to compute the gradients. This method is especially powerful when building neural networks to save time on one epoch (trip through the network) by calculating differentiation of the parameters at the forward pass.</p>\n",
    "    \n",
    "<h3>Optim module</h3>\n",
    "\n",
    "<b>torch.optim</b> is a module that implements various optimization algorithms used for building neural networks. Most of the commonly used methods are already supported, so there is no need to build them from scratch.\n",
    "\n",
    "<h3>nn module</h3>\n",
    "\n",
    "<p>PyTorch autograd makes it easy to define computational graphs and take gradients, but raw autograd can be a bit too low-level for defining complex neural networks. This is where the nn module can help. </p>"
   ]
  },
  {
   "cell_type": "markdown",
   "id": "computational-happiness",
   "metadata": {},
   "source": [
    "Let's continue with PyTorch and dig some more into it. In Python we tend to use numpy for manipulating matrices as it is optimized for managing large collections of numbers in a memory efficient manner while also supporting most of the common linear algebra techniques likely to be of interest to a Data Scientist. \n",
    "\n",
    "We can take numpy arrays and use them with PyTorch since PyTorch opens the door to using GPUs which can greatly speed up the creation of models using very large data sets. The so called \"Deep Learning\" revolution has involved using things like Google's <a href=\"https://www.tensorflow.org/\">Tensorflow </a>product which requires learning approaches specific to that environment. \n",
    "\n",
    "If you have numpy arrays you can create tensors from them. Again, this is something we learned previously. Using tensors gives us the ability to benefit from GPUs but when looking or viewing tensors they look a lot like arrays."
   ]
  },
  {
   "cell_type": "code",
   "execution_count": 283,
   "id": "velvet-auckland",
   "metadata": {},
   "outputs": [
    {
     "name": "stdout",
     "output_type": "stream",
     "text": [
      "tensor([[ 73.,  67.,  43.],\n",
      "        [ 91.,  88.,  64.],\n",
      "        [ 87., 134.,  58.],\n",
      "        [102.,  43.,  37.],\n",
      "        [ 69.,  96.,  70.]], dtype=torch.float64)\n",
      "tensor([ 56.,  81., 101., 119., 133.], dtype=torch.float64)\n"
     ]
    }
   ],
   "source": [
    "import numpy as np\n",
    "\n",
    "inputs = np.array([[73, 67, 43], \n",
    "                   [91, 88, 64], \n",
    "                   [87, 134, 58], \n",
    "                   [102, 43, 37], \n",
    "                   [69, 96, 70]], dtype='float')\n",
    "\n",
    "targets = np.array([56, 81, 101, 119, 133], dtype='float')\n",
    "                    \n",
    "\n",
    "import torch \n",
    "import torch.nn as nn\n",
    "inputs = torch.from_numpy(inputs)\n",
    "targets = torch.from_numpy(targets)\n",
    "print(inputs)\n",
    "print(targets)"
   ]
  },
  {
   "cell_type": "code",
   "execution_count": 284,
   "id": "serial-shade",
   "metadata": {},
   "outputs": [
    {
     "name": "stdout",
     "output_type": "stream",
     "text": [
      "torch.Size([5, 3])\n",
      "tensor([[ 73.,  67.,  43.],\n",
      "        [ 91.,  88.,  64.],\n",
      "        [ 87., 134.,  58.]], dtype=torch.float64)\n",
      "Tensor of type: torch.float64\n"
     ]
    }
   ],
   "source": [
    "# Tensors can be indexed as matrices\n",
    "print(inputs.shape)\n",
    "\n",
    "# Get first three rows\n",
    "print(inputs[0:3,:])\n",
    "\n",
    "# Print type of tensor\n",
    "print(\"Tensor of type:\",inputs.dtype)"
   ]
  },
  {
   "cell_type": "markdown",
   "id": "worldwide-alcohol",
   "metadata": {},
   "source": [
    "We can reshape the tensors to suit our purposes. This is usually, of not always, motivated by an interest in some form of linear algebrea computation. That is, multipling one tensor by another has to make operating sense frame a matrix multiplication point of view."
   ]
  },
  {
   "cell_type": "code",
   "execution_count": 285,
   "id": "joined-breathing",
   "metadata": {},
   "outputs": [
    {
     "data": {
      "text/plain": [
       "tensor([41561., 42299., 27163.], dtype=torch.float64)"
      ]
     },
     "execution_count": 285,
     "metadata": {},
     "output_type": "execute_result"
    }
   ],
   "source": [
    "# Matrix multiplication NOT element wise multiplication\n",
    "targets @ inputs\n",
    "\n",
    "# but not\n",
    "# inputs @ targets"
   ]
  },
  {
   "cell_type": "code",
   "execution_count": 286,
   "id": "naval-labor",
   "metadata": {},
   "outputs": [
    {
     "name": "stdout",
     "output_type": "stream",
     "text": [
      "tensor([ 56.,  81., 101., 119., 133.], dtype=torch.float64) \n",
      "\n",
      "tensor([[ 56.],\n",
      "        [ 81.],\n",
      "        [101.],\n",
      "        [119.],\n",
      "        [133.]], dtype=torch.float64) \n",
      "\n",
      "tensor([[ 73.,  67.,  43.,  91.,  88.],\n",
      "        [ 64.,  87., 134.,  58., 102.],\n",
      "        [ 43.,  37.,  69.,  96.,  70.]], dtype=torch.float64)\n"
     ]
    }
   ],
   "source": [
    "print(targets,\"\\n\")\n",
    "\n",
    "# Show targets as a 5 x 1 instead of 1 x 5\n",
    "print(targets.view(5,-1),\"\\n\")\n",
    "\n",
    "# Show inputs as a 3 x 5 instead of a 5 x 3\n",
    "print(inputs.view(3,-1))"
   ]
  },
  {
   "cell_type": "markdown",
   "id": "seeing-behavior",
   "metadata": {},
   "source": [
    "Let's work with some real data. This is the California real estate data set wherein we use features of a home to predict its ultimate selling price. \n",
    "\n",
    "**Data Set Characteristics:**\n",
    "\n",
    "     Number of Instances: 20640\n",
    "\n",
    "     Number of Attributes: 8 numeric, 7 predictive features and 1 target\n",
    "\n",
    "     Attribute Information:\n",
    "        - MedInc        median income in block\n",
    "        - HouseAge      median house age in block\n",
    "        - AveRooms      average number of rooms\n",
    "        - AveBedrms     average number of bedrooms\n",
    "        - Population    block population\n",
    "        - AveOccup      average house occupancy\n",
    "        - Latitude      house block latitude\n",
    "        - Longitude     house block longitude\n",
    "        \n",
    "The *target variable* is the median house value for California districts.\n",
    "\n",
    "This dataset was derived from the 1990 U.S. census, using one row per census\n",
    "block group. A block group is the smallest geographical unit for which the U.S.\n",
    "Census Bureau publishes sample data (a block group typically has a population\n",
    "of 600 to 3,000 people).\n",
    "\n",
    "This dataset was obtained from the StatLib repository.\n",
    "http://lib.stat.cmu.edu/datasets/\n",
    "\n",
    "\n",
    "It can be downloaded/loaded using the\n",
    ":func:`sklearn.datasets.fetch_california_housing` function.\n",
    "\n",
    ".. topic:: References\n",
    "\n",
    "    - Pace, R. Kelley and Ronald Barry, Sparse Spatial Autoregressions,\n",
    "      Statistics and Probability Letters, 33 (1997) 291-297\n",
    "\n",
    "\n",
    "If we want to employ a method such as regression we could do so. We could also represent the regression problem as a graph. See this [excellent blog post](https://joshuagoings.com/2020/05/05/neural-network/) for more informaton on Deep Learning as applied to Linear Regression.\n",
    "\n",
    "\n",
    "<img src=\"pics/regr_graph.png\" width =\"600\" height=600>\n",
    "\n",
    "\n",
    "<img src=\"pics/regress2.png\" width =\"600\" height=600>\n",
    "\n",
    "We can solve this a number of ways including use of SGD Stochastic Gradient Descent which we have discussed. Thus, we can train the model using the following steps:\n",
    "\n",
    "    Generate predictions\n",
    "\n",
    "    Calculate the loss\n",
    "\n",
    "    Compute gradients w.r.t the weights and biases\n",
    "\n",
    "    Adjust the weights by subtracting a small quantity proportional to the gradient\n",
    "\n",
    "    Reset the gradients to zero\n",
    "\n",
    "We reduce the loss and improve our model using the gradient descent optimization algorithm"
   ]
  },
  {
   "cell_type": "code",
   "execution_count": 325,
   "id": "congressional-blake",
   "metadata": {},
   "outputs": [
    {
     "data": {
      "text/html": [
       "<div>\n",
       "<style scoped>\n",
       "    .dataframe tbody tr th:only-of-type {\n",
       "        vertical-align: middle;\n",
       "    }\n",
       "\n",
       "    .dataframe tbody tr th {\n",
       "        vertical-align: top;\n",
       "    }\n",
       "\n",
       "    .dataframe thead th {\n",
       "        text-align: right;\n",
       "    }\n",
       "</style>\n",
       "<table border=\"1\" class=\"dataframe\">\n",
       "  <thead>\n",
       "    <tr style=\"text-align: right;\">\n",
       "      <th></th>\n",
       "      <th>MedInc</th>\n",
       "      <th>HouseAge</th>\n",
       "      <th>AveRooms</th>\n",
       "      <th>AveBedrms</th>\n",
       "      <th>Population</th>\n",
       "      <th>AveOccup</th>\n",
       "      <th>Price</th>\n",
       "    </tr>\n",
       "  </thead>\n",
       "  <tbody>\n",
       "    <tr>\n",
       "      <th>0</th>\n",
       "      <td>8.3252</td>\n",
       "      <td>41.0</td>\n",
       "      <td>6.984127</td>\n",
       "      <td>1.023810</td>\n",
       "      <td>322.0</td>\n",
       "      <td>2.555556</td>\n",
       "      <td>4.526</td>\n",
       "    </tr>\n",
       "    <tr>\n",
       "      <th>1</th>\n",
       "      <td>8.3014</td>\n",
       "      <td>21.0</td>\n",
       "      <td>6.238137</td>\n",
       "      <td>0.971880</td>\n",
       "      <td>2401.0</td>\n",
       "      <td>2.109842</td>\n",
       "      <td>3.585</td>\n",
       "    </tr>\n",
       "    <tr>\n",
       "      <th>2</th>\n",
       "      <td>7.2574</td>\n",
       "      <td>52.0</td>\n",
       "      <td>8.288136</td>\n",
       "      <td>1.073446</td>\n",
       "      <td>496.0</td>\n",
       "      <td>2.802260</td>\n",
       "      <td>3.521</td>\n",
       "    </tr>\n",
       "    <tr>\n",
       "      <th>3</th>\n",
       "      <td>5.6431</td>\n",
       "      <td>52.0</td>\n",
       "      <td>5.817352</td>\n",
       "      <td>1.073059</td>\n",
       "      <td>558.0</td>\n",
       "      <td>2.547945</td>\n",
       "      <td>3.413</td>\n",
       "    </tr>\n",
       "    <tr>\n",
       "      <th>4</th>\n",
       "      <td>3.8462</td>\n",
       "      <td>52.0</td>\n",
       "      <td>6.281853</td>\n",
       "      <td>1.081081</td>\n",
       "      <td>565.0</td>\n",
       "      <td>2.181467</td>\n",
       "      <td>3.422</td>\n",
       "    </tr>\n",
       "    <tr>\n",
       "      <th>...</th>\n",
       "      <td>...</td>\n",
       "      <td>...</td>\n",
       "      <td>...</td>\n",
       "      <td>...</td>\n",
       "      <td>...</td>\n",
       "      <td>...</td>\n",
       "      <td>...</td>\n",
       "    </tr>\n",
       "    <tr>\n",
       "      <th>20635</th>\n",
       "      <td>1.5603</td>\n",
       "      <td>25.0</td>\n",
       "      <td>5.045455</td>\n",
       "      <td>1.133333</td>\n",
       "      <td>845.0</td>\n",
       "      <td>2.560606</td>\n",
       "      <td>0.781</td>\n",
       "    </tr>\n",
       "    <tr>\n",
       "      <th>20636</th>\n",
       "      <td>2.5568</td>\n",
       "      <td>18.0</td>\n",
       "      <td>6.114035</td>\n",
       "      <td>1.315789</td>\n",
       "      <td>356.0</td>\n",
       "      <td>3.122807</td>\n",
       "      <td>0.771</td>\n",
       "    </tr>\n",
       "    <tr>\n",
       "      <th>20637</th>\n",
       "      <td>1.7000</td>\n",
       "      <td>17.0</td>\n",
       "      <td>5.205543</td>\n",
       "      <td>1.120092</td>\n",
       "      <td>1007.0</td>\n",
       "      <td>2.325635</td>\n",
       "      <td>0.923</td>\n",
       "    </tr>\n",
       "    <tr>\n",
       "      <th>20638</th>\n",
       "      <td>1.8672</td>\n",
       "      <td>18.0</td>\n",
       "      <td>5.329513</td>\n",
       "      <td>1.171920</td>\n",
       "      <td>741.0</td>\n",
       "      <td>2.123209</td>\n",
       "      <td>0.847</td>\n",
       "    </tr>\n",
       "    <tr>\n",
       "      <th>20639</th>\n",
       "      <td>2.3886</td>\n",
       "      <td>16.0</td>\n",
       "      <td>5.254717</td>\n",
       "      <td>1.162264</td>\n",
       "      <td>1387.0</td>\n",
       "      <td>2.616981</td>\n",
       "      <td>0.894</td>\n",
       "    </tr>\n",
       "  </tbody>\n",
       "</table>\n",
       "<p>20640 rows × 7 columns</p>\n",
       "</div>"
      ],
      "text/plain": [
       "       MedInc  HouseAge  AveRooms  AveBedrms  Population  AveOccup  Price\n",
       "0      8.3252      41.0  6.984127   1.023810       322.0  2.555556  4.526\n",
       "1      8.3014      21.0  6.238137   0.971880      2401.0  2.109842  3.585\n",
       "2      7.2574      52.0  8.288136   1.073446       496.0  2.802260  3.521\n",
       "3      5.6431      52.0  5.817352   1.073059       558.0  2.547945  3.413\n",
       "4      3.8462      52.0  6.281853   1.081081       565.0  2.181467  3.422\n",
       "...       ...       ...       ...        ...         ...       ...    ...\n",
       "20635  1.5603      25.0  5.045455   1.133333       845.0  2.560606  0.781\n",
       "20636  2.5568      18.0  6.114035   1.315789       356.0  3.122807  0.771\n",
       "20637  1.7000      17.0  5.205543   1.120092      1007.0  2.325635  0.923\n",
       "20638  1.8672      18.0  5.329513   1.171920       741.0  2.123209  0.847\n",
       "20639  2.3886      16.0  5.254717   1.162264      1387.0  2.616981  0.894\n",
       "\n",
       "[20640 rows x 7 columns]"
      ]
     },
     "execution_count": 325,
     "metadata": {},
     "output_type": "execute_result"
    }
   ],
   "source": [
    "import numpy as np\n",
    "import pandas as pd\n",
    "import torch\n",
    "\n",
    "url = \"https://raw.githubusercontent.com/steviep42/bios_534_2021/main/data/cal.csv\"\n",
    "cal = pd.read_csv(url)\n",
    "cal.shape\n",
    "cal"
   ]
  },
  {
   "cell_type": "markdown",
   "id": "tamil-fifteen",
   "metadata": {},
   "source": [
    "So let's separate data into X (predictor variables) and the target variable being predicted which in this case will be the price of the house that was sold."
   ]
  },
  {
   "cell_type": "code",
   "execution_count": 326,
   "id": "different-environment",
   "metadata": {},
   "outputs": [],
   "source": [
    "X_numpy = np.array(cal.drop('Price',axis=1), dtype='float32')\n",
    "y_numpy = np.array(cal.Price, dtype='float32')\n",
    "\n",
    "# We normalize the inputs because the features are not on the same scale\n",
    "from sklearn import preprocessing\n",
    "scaler = preprocessing.StandardScaler().fit(X_numpy)\n",
    "X_scaled = scaler.transform(X_numpy)"
   ]
  },
  {
   "cell_type": "markdown",
   "id": "muslim-access",
   "metadata": {},
   "source": [
    "But we can then turn these into tensors which can be more flexibly used with GPUs, CPUs, and TPUs to benefit from greatly enhanced speed."
   ]
  },
  {
   "cell_type": "code",
   "execution_count": 327,
   "id": "suffering-compression",
   "metadata": {},
   "outputs": [],
   "source": [
    "X = torch.from_numpy(X_scaled.astype(np.float32))\n",
    "y = torch.from_numpy(y_numpy.astype(np.float32))\n",
    "\n",
    "n_samples, n_features = X_numpy.shape\n",
    "input_size = n_features\n",
    "\n",
    "# Sometimes you will need to reshape the target to match dimensions of predictor\n",
    "y = y.view(y.shape[0],1)"
   ]
  },
  {
   "cell_type": "markdown",
   "id": "advised-gibraltar",
   "metadata": {},
   "source": [
    "So we might wish to predict the targets (mpg) in terms of some predictors\n",
    "\n",
    "Price = w11 * MedInc + w12 * HouseAge + w13 * AveRooms ..... + w16 * AveOccup + b1\n",
    "\n",
    "The weights and biases (w11, w12,... w16) can also be represented as matrices, initialized as random values. The first row of w and the first element of b are used to predict the target variable which is <b>Price</b>.The weights and biases (w11, w12,... w163, b1) can also be represented as matrices, initialized as random values. The first row of w and the first element of b are used to predict the target variable which is <b>Price</b>.\n",
    "\n"
   ]
  },
  {
   "cell_type": "code",
   "execution_count": 328,
   "id": "developing-particle",
   "metadata": {},
   "outputs": [
    {
     "name": "stdout",
     "output_type": "stream",
     "text": [
      "tensor([[ 1.0960, -0.0298, -1.3001, -0.4818,  0.0927,  0.7975]],\n",
      "       requires_grad=True)\n",
      "tensor([0.9297], requires_grad=True)\n"
     ]
    }
   ],
   "source": [
    "# Weights and biases - notice how we use the n_features to help us\n",
    "# figure out how many weights we need.\n",
    "\n",
    "w = torch.randn(1, n_features, requires_grad=True)\n",
    "b = torch.randn(1, requires_grad=True)\n",
    "print(w)\n",
    "print(b)"
   ]
  },
  {
   "cell_type": "markdown",
   "id": "meaningful-cover",
   "metadata": {},
   "source": [
    "torch.randn creates a tensor with the given shape, with elements picked randomly from a normal distribution with mean 0 and standard deviation 1.\n",
    "\n",
    "Our model is simply a function that performs a matrix multiplication of the inputs and the weights w (transposed) and adds the bias b (replicated for each observation)."
   ]
  },
  {
   "cell_type": "markdown",
   "id": "demonstrated-palestinian",
   "metadata": {},
   "source": [
    "<img src=\"pics/regress2.png\" width =\"600\" height=600>\n"
   ]
  },
  {
   "cell_type": "markdown",
   "id": "identified-webster",
   "metadata": {},
   "source": [
    "The <b>\"@\"</b> represents matrix multiplication in PyTorch, and the <b>.t</b> method returns the transpose of a tensor. The matrix obtained by passing the input data into the model is a set of predictions for the target variables. So what we are doing here is defining a model. We don't really have a neural network. It's just some matrix operations whose loss will be minimized in accordance with some optimization techniques. "
   ]
  },
  {
   "cell_type": "code",
   "execution_count": 329,
   "id": "nutritional-hollywood",
   "metadata": {},
   "outputs": [
    {
     "name": "stdout",
     "output_type": "stream",
     "text": [
      "tensor([[ 2.5972],\n",
      "        [ 3.2115],\n",
      "        [ 1.2527],\n",
      "        ...,\n",
      "        [-0.2929],\n",
      "        [-0.3539],\n",
      "        [ 0.0915]], grad_fn=<AddBackward0>)\n"
     ]
    }
   ],
   "source": [
    "def model(x):\n",
    "    return x @ w.t() + b\n",
    "\n",
    "# Generate predictions\n",
    "preds = model(X)\n",
    "\n",
    "# Generate predictions\n",
    "print(preds)"
   ]
  },
  {
   "cell_type": "markdown",
   "id": "graduate-annual",
   "metadata": {},
   "source": [
    "Let's print out the predictions. Are these close ? How would we know ?"
   ]
  },
  {
   "cell_type": "code",
   "execution_count": 330,
   "id": "applied-burden",
   "metadata": {},
   "outputs": [
    {
     "name": "stdout",
     "output_type": "stream",
     "text": [
      "Actual y values are: \n",
      " tensor([[4.5260],\n",
      "        [3.5850],\n",
      "        [3.5210],\n",
      "        [3.4130],\n",
      "        [3.4220]]) \n",
      "\n",
      "The corresponding predictions are: \n",
      " tensor([[2.5972],\n",
      "        [3.2115],\n",
      "        [1.2527],\n",
      "        [1.6057],\n",
      "        [0.2893]], grad_fn=<SliceBackward>)\n"
     ]
    }
   ],
   "source": [
    "print(\"Actual y values are: \\n\",y[0:5],\"\\n\")\n",
    "print(\"The corresponding predictions are: \\n\",preds[0:5])"
   ]
  },
  {
   "cell_type": "markdown",
   "id": "regulation-potential",
   "metadata": {},
   "source": [
    "You can see a significant difference between our model's predictions and the actual targets because we've initialized our model with random weights and biases. Obviously, we can't expect a randomly initialized model to just work out of the box. This is just a starting point and it's quite common to see a first round of predictions to not be so impressive. \n",
    "\n",
    "Before we try to improve our model, we need a way to evaluate how well our model is performing. We can compare the model's predictions with the actual targets using the following method:\n",
    "\n",
    "    Calculate the difference between the two matrices (preds and targets).\n",
    "    Square all elements of the difference matrix to remove negative values.\n",
    "    Calculate the average of the elements in the resulting matrix.\n",
    "\n",
    "The result is a single number, known as the mean squared error (MSE). Here, we'll implement our own version of this function although PyTorch has a method for doing it also. For now, we'll just stick to our own way of doing this. \n",
    "\n",
    "$$ MSE = \\frac{1}{\\text{n}} \\sum_{\\text{i}=1}^\\text{n} \\left(\\hat{\\text{Y}_\\text{i}} - \\text{Y}_\\text{i}\\right)^2 $$"
   ]
  },
  {
   "cell_type": "code",
   "execution_count": 331,
   "id": "turkish-bundle",
   "metadata": {},
   "outputs": [
    {
     "name": "stdout",
     "output_type": "stream",
     "text": [
      "5.39\n"
     ]
    }
   ],
   "source": [
    "# MSE loss \n",
    "def mse(t1, t2):\n",
    "    diff = t1 - t2\n",
    "    return (torch.sum(diff * diff) / diff.numel())\n",
    "\n",
    "# Compute loss\n",
    "loss = mse(preds, y)\n",
    "print(round(loss.item(),2))"
   ]
  },
  {
   "cell_type": "markdown",
   "id": "possible-stock",
   "metadata": {},
   "source": [
    "Here’s how we can interpret the result: On average, each element in the prediction differs from the actual target by the square root of the loss. The result is called the loss because it indicates how bad the model is at predicting the target variables. It represents information loss in the model: the lower the loss, the better the model. See https://www.hackerearth.com/blog/developers/3-types-gradient-descent-algorithms-small-large-data-sets/\n",
    "\n",
    "<img src=\"pics/sgd.png\" width =\"600\" height=600>\n",
    "\n",
    "\n",
    "<h2>Compute Gradients</h2>\n",
    "\n",
    "Since we are using the SGD approach With PyTorch, we can automatically compute the gradient or derivative of the loss with respect to the weights and biases because they have requires_grad set to True. We'll see how this is useful in just a moment.\n",
    "\n",
    "The loss is a function of our weights and biases, and our objective is to find the set of weights where the loss is the lowest. If we plot a graph of the loss with respect to any individual weight or bias element, it will look like the figure shown below. An important insight from calculus is that the gradient indicates the rate of change of the loss, i.e., the loss function's slope w.r.t. the weights and biases.\n",
    "\n",
    "If a gradient element is positive:\n",
    "\n",
    "    increasing the weight element's value slightly will increase the loss\n",
    "    decreasing the weight element's value slightly will decrease the loss\n",
    "    \n",
    "<img src=\"pics/q1.png\" width =\"600\" height=600>\n",
    "\n",
    "\n",
    "If a gradient element is negative:\n",
    "\n",
    "    increasing the weight element's value slightly will decrease the loss\n",
    "    decreasing the weight element's value slightly will increase the loss\n",
    "   \n",
    "<img src=\"pics/q2.png\" width =\"600\" height=600>\n",
    "\n",
    "The increase or decrease in the loss by changing a weight element is proportional to the gradient of the loss w.r.t. that element. This observation forms the basis of the gradient descent optimization algorithm that we'll use to improve our model (by descending along the gradient).\n",
    "\n",
    "We can subtract from each weight element a small quantity proportional to the derivative of the loss w.r.t. that element to reduce the loss slightly.\n"
   ]
  },
  {
   "cell_type": "code",
   "execution_count": 332,
   "id": "individual-distance",
   "metadata": {},
   "outputs": [
    {
     "name": "stdout",
     "output_type": "stream",
     "text": [
      "tensor([[ 1.0960, -0.0298, -1.3001, -0.4818,  0.0927,  0.7975]],\n",
      "       requires_grad=True)\n",
      "tensor([[-0.1484, -0.1246, -3.0630, -3.2132,  0.6335,  1.7217]])\n"
     ]
    }
   ],
   "source": [
    "# Compute gradients\n",
    "loss.backward()\n",
    "\n",
    "# Gradients for weights\n",
    "print(w)\n",
    "print(w.grad)"
   ]
  },
  {
   "cell_type": "markdown",
   "id": "pursuant-editor",
   "metadata": {},
   "source": [
    "The gradients are stored in the .grad property of the respective tensors. Note that the derivative of the loss w.r.t. the weights matrix is itself a matrix with the same dimensions. We can offset the weights and bias using a \"learning rate\" which allows us to adjust the gradient with this offset."
   ]
  },
  {
   "cell_type": "code",
   "execution_count": 333,
   "id": "weekly-handling",
   "metadata": {},
   "outputs": [
    {
     "name": "stdout",
     "output_type": "stream",
     "text": [
      "tensor(5.3900, grad_fn=<DivBackward0>)\n"
     ]
    }
   ],
   "source": [
    "learning_rate = 1e-2\n",
    "#learning_rate = 1e-5\n",
    "with torch.no_grad():\n",
    "    w -= w.grad * learning_rate\n",
    "    b -= b.grad * learning_rate\n",
    "\n",
    "    # Let's check the loss\n",
    "loss = mse(preds, y)\n",
    "print(loss)"
   ]
  },
  {
   "cell_type": "markdown",
   "id": "painted-level",
   "metadata": {},
   "source": [
    "So now let's reset the gradients to 0."
   ]
  },
  {
   "cell_type": "code",
   "execution_count": 334,
   "id": "pediatric-status",
   "metadata": {},
   "outputs": [
    {
     "name": "stdout",
     "output_type": "stream",
     "text": [
      "tensor([[0., 0., 0., 0., 0., 0.]])\n",
      "tensor([0.])\n"
     ]
    }
   ],
   "source": [
    "w.grad.zero_()\n",
    "b.grad.zero_()\n",
    "print(w.grad)\n",
    "print(b.grad)"
   ]
  },
  {
   "cell_type": "code",
   "execution_count": 335,
   "id": "facial-essence",
   "metadata": {},
   "outputs": [
    {
     "name": "stdout",
     "output_type": "stream",
     "text": [
      "Actual y values are: \n",
      " tensor([[4.5260],\n",
      "        [3.5850],\n",
      "        [3.5210],\n",
      "        [3.4130],\n",
      "        [3.4220]]) \n",
      "\n",
      "The corresponding predictions are: \n",
      " tensor([[2.6461],\n",
      "        [3.2347],\n",
      "        [1.3199],\n",
      "        [1.6411],\n",
      "        [0.3302]], grad_fn=<SliceBackward>)\n"
     ]
    }
   ],
   "source": [
    "# Generate predictions\n",
    "preds = model(X)\n",
    "print(\"Actual y values are: \\n\",y[0:5],\"\\n\")\n",
    "print(\"The corresponding predictions are: \\n\",preds[0:5])"
   ]
  },
  {
   "cell_type": "code",
   "execution_count": 336,
   "id": "complete-funds",
   "metadata": {},
   "outputs": [
    {
     "name": "stdout",
     "output_type": "stream",
     "text": [
      "tensor(5.1116, grad_fn=<DivBackward0>)\n"
     ]
    }
   ],
   "source": [
    "# Calculate the loss\n",
    "loss = mse(preds, y)\n",
    "print(loss)"
   ]
  },
  {
   "cell_type": "markdown",
   "id": "monthly-midnight",
   "metadata": {},
   "source": [
    "So we could do all of this in one go."
   ]
  },
  {
   "cell_type": "code",
   "execution_count": 337,
   "id": "threatened-commodity",
   "metadata": {},
   "outputs": [
    {
     "name": "stdout",
     "output_type": "stream",
     "text": [
      "tensor([[ 1.0974, -0.0285, -1.2694, -0.4496,  0.0863,  0.7803]],\n",
      "       requires_grad=True)\n",
      "tensor([0.9524], requires_grad=True)\n"
     ]
    }
   ],
   "source": [
    "# Adjust weights & reset gradients\n",
    "with torch.no_grad():\n",
    "    w -= w.grad * learning_rate\n",
    "    b -= b.grad * learning_rate\n",
    "    w.grad.zero_()\n",
    "    b.grad.zero_()\n",
    "#\n",
    "print(w)\n",
    "print(b)"
   ]
  },
  {
   "cell_type": "code",
   "execution_count": 338,
   "id": "ranking-control",
   "metadata": {},
   "outputs": [
    {
     "name": "stdout",
     "output_type": "stream",
     "text": [
      "tensor(5.1116, grad_fn=<DivBackward0>)\n"
     ]
    }
   ],
   "source": [
    "# Calculate loss\n",
    "preds = model(X)\n",
    "loss = mse(preds, y)\n",
    "print(loss)"
   ]
  },
  {
   "cell_type": "markdown",
   "id": "residential-cleanup",
   "metadata": {},
   "source": [
    "So now we can code up a simple loop to make some predictions, compute the loss, compute the gradient, offset the weights and bias, and then reset the gradient to 0. "
   ]
  },
  {
   "cell_type": "code",
   "execution_count": 339,
   "id": "noted-washer",
   "metadata": {},
   "outputs": [
    {
     "name": "stdout",
     "output_type": "stream",
     "text": [
      "Epoch [5/100], Loss: 4.1637\n",
      "Epoch [10/100], Loss: 3.2757\n",
      "Epoch [15/100], Loss: 2.6273\n",
      "Epoch [20/100], Loss: 2.1499\n",
      "Epoch [25/100], Loss: 1.7952\n",
      "Epoch [30/100], Loss: 1.5293\n",
      "Epoch [35/100], Loss: 1.3284\n",
      "Epoch [40/100], Loss: 1.1753\n",
      "Epoch [45/100], Loss: 1.0576\n",
      "Epoch [50/100], Loss: 0.9664\n",
      "Epoch [55/100], Loss: 0.8954\n",
      "Epoch [60/100], Loss: 0.8396\n",
      "Epoch [65/100], Loss: 0.7955\n",
      "Epoch [70/100], Loss: 0.7606\n",
      "Epoch [75/100], Loss: 0.7327\n",
      "Epoch [80/100], Loss: 0.7103\n",
      "Epoch [85/100], Loss: 0.6924\n",
      "Epoch [90/100], Loss: 0.6779\n",
      "Epoch [95/100], Loss: 0.6661\n",
      "Epoch [100/100], Loss: 0.6566\n"
     ]
    },
    {
     "data": {
      "image/png": "[encoded data removed]",
      "text/plain": [
       "<Figure size 432x288 with 1 Axes>"
      ]
     },
     "metadata": {
      "needs_background": "light"
     },
     "output_type": "display_data"
    }
   ],
   "source": [
    "# Train for 100 epochs\n",
    "\n",
    "EPOCHS = 100\n",
    "mse_list = []\n",
    "for i in range(EPOCHS):\n",
    "    \n",
    "    # Make some predictions using our basic model\n",
    "    preds = model(X)\n",
    "    \n",
    "    # compute the loss\n",
    "    loss = mse(preds, y)\n",
    "    \n",
    "    # print(\"MSE in epoch %d is %3.4f\" % (i,loss.item()),\"\\n\")\n",
    "    if (i+1) % 5 == 0:\n",
    "            print('Epoch [{}/{}], Loss: {:.4f}'.format(i+1, EPOCHS, loss.item()))\n",
    "\n",
    "    mse_list.append(loss.item())\n",
    "    \n",
    "    # compute gradients with respect to the weights and biases\n",
    "    loss.backward()\n",
    "    \n",
    "    # adjust the weights using a learning rate and reset gradients\n",
    "    with torch.no_grad():\n",
    "        w -= w.grad * learning_rate\n",
    "        b -= b.grad * learning_rate\n",
    "        w.grad.zero_()\n",
    "        b.grad.zero_() \n",
    "        \n",
    "import matplotlib.pyplot as plt\n",
    "pd.Series(mse_list).plot()\n",
    "plt.xlabel(\"Epoch Number\")\n",
    "plt.ylabel(\"MSE\")\n",
    "plt.title(\"MSE over Training EPOCHS\")\n",
    "plt.grid()"
   ]
  },
  {
   "cell_type": "code",
   "execution_count": 302,
   "id": "green-radar",
   "metadata": {},
   "outputs": [
    {
     "name": "stdout",
     "output_type": "stream",
     "text": [
      "Final loss computation is: 0.79\n"
     ]
    }
   ],
   "source": [
    "# Calculate loss\n",
    "preds = model(X)\n",
    "loss = mse(preds, y)\n",
    "print(\"Final loss computation is:\",round(loss.item(),2))"
   ]
  },
  {
   "cell_type": "markdown",
   "id": "approved-union",
   "metadata": {},
   "source": [
    "<h2>Linear Regression using PyTorch</h2>\n",
    "\n",
    "<img src=\"pics/spinning.png\" width =\"400\" height=400>\n",
    "\n",
    "We've implemented linear regression & gradient descent model using some basic tensor operations and we even used our own loss function. However, since this is a common pattern in deep learning, PyTorch provides several built-in functions and classes to make it easy to create and train models with just a few lines of code. **Let's be more trustful of PyTorch and use more of its considerable capabilites**. Keep in mind that what we are doing is along the following lines:\n",
    "\n",
    "1. Identify a target in our data and separate it from the predictors\n",
    "2. Perform any normalization (not always required)\n",
    "3. \"Tensorfy\" the X and y (target) structures\n",
    "4. Feed them into a Data Loader which simplifies the creation of batches\n",
    "5. Define an architecture for your model (e.g. layers, activation functions, dropouts)\n",
    "   - This will be a function of number of features \n",
    "   - Eventual output will match the unique values of your target\n",
    "6. Decide on a cost function (e.g. MSE) to minimize\n",
    "7. Pick an optimizer (e.g. SGD) to work in conjunction with number 5\n",
    "8. Pick a learning rate for number 6.\n",
    "\n",
    "Let's begin by importing the torch.nn package from PyTorch, which contains utility classes for building neural networks and ingesting data which simplifies downstream work. We'll use the **TensorDataset** function to help prep our X and y data from above. It's always a good idea to verify the type of data you have, specifically if it's already a tensor (nor not)."
   ]
  },
  {
   "cell_type": "code",
   "execution_count": 353,
   "id": "dramatic-union",
   "metadata": {},
   "outputs": [
    {
     "name": "stdout",
     "output_type": "stream",
     "text": [
      "X is of type <class 'torch.Tensor'>  and has shape torch.Size([20640, 6])\n",
      "y is of type <class 'torch.Tensor'>  and has shape torch.Size([20640, 1])\n"
     ]
    }
   ],
   "source": [
    "print(\"X is of type\",type(X),\" and has shape\",X.shape)\n",
    "print(\"y is of type\",type(X),\" and has shape\",y.shape)"
   ]
  },
  {
   "cell_type": "code",
   "execution_count": 354,
   "id": "thirty-jewelry",
   "metadata": {},
   "outputs": [
    {
     "name": "stdout",
     "output_type": "stream",
     "text": [
      "Firs three rows and of X and y are: (tensor([[ 2.3448,  0.9821,  0.6286, -0.1538, -0.9744, -0.0496],\n",
      "        [ 2.3322, -0.6070,  0.3270, -0.2633,  0.8614, -0.0925],\n",
      "        [ 1.7827,  1.8562,  1.1556, -0.0490, -0.8208, -0.0258]]), tensor([[4.5260],\n",
      "        [3.5850],\n",
      "        [3.5210]]))\n"
     ]
    }
   ],
   "source": [
    "from torch.utils.data import TensorDataset\n",
    "# Define dataset\n",
    "train_ds = TensorDataset(X, y)\n",
    "print(\"Firs three rows and of X and y are:\",train_ds[0:3])"
   ]
  },
  {
   "cell_type": "markdown",
   "id": "scientific-maine",
   "metadata": {},
   "source": [
    "### Data Loaders\n",
    "\n",
    "One strength of PyTorch is its ability to manage very large data files which might require some for of subdivision to \"feed\" data into a network for efficient processing. While we could do this outselves it would be tedious. To this end, PyTorch has a class of utilities called **DataLoaders** which helps with this task.  \n",
    "\n",
    "In this case, the <b>DataLoader</b> function can take  a training dataset, (which itself has been prepared with **TensorDataset**) along with an indicated *batch_size*. We get back a series of X and y pairs, as tensors of course, which are then pushed into the network. When all batches have been processed we have completed one epoch. This includes foward and back propogation. And then for each subsequent epoch. we do it all again. "
   ]
  },
  {
   "cell_type": "code",
   "execution_count": 355,
   "id": "metallic-chess",
   "metadata": {},
   "outputs": [],
   "source": [
    "from torch.utils.data import DataLoader\n",
    "# Define data loader\n",
    "batch_size = 1000\n",
    "train_dl = DataLoader(train_ds, batch_size, shuffle=True)"
   ]
  },
  {
   "cell_type": "markdown",
   "id": "solid-bottom",
   "metadata": {},
   "source": [
    "So the DataLoader operation will give is an iterable structure that provides batches of 1000 rows of data at a time which in this case that our model / network will consume approximately 21 batchs of 1000 rows each. 20460/1000. We could change this of course and use it a source of experimentation. When all batches have been through the network once, we call this an EPOCH."
   ]
  },
  {
   "cell_type": "code",
   "execution_count": 356,
   "id": "impressed-caribbean",
   "metadata": {},
   "outputs": [
    {
     "name": "stdout",
     "output_type": "stream",
     "text": [
      "Size of xb: torch.Size([1000, 6])\n",
      "Size if yb: torch.Size([1000, 1])\n"
     ]
    }
   ],
   "source": [
    "# Batch Loaders\n",
    "for xb, yb in train_dl:\n",
    "    print(\"Size of xb:\",xb.shape)\n",
    "    print(\"Size if yb:\",yb.shape)\n",
    "    break"
   ]
  },
  {
   "cell_type": "markdown",
   "id": "joint-curve",
   "metadata": {},
   "source": [
    "Next we can create a model which in this case is painfully simple. It's just a single Linear layer although this time we are actually using a PyTorch method. Remeber, in the previous example we used our set of equations (which was more or less a linear model).\n",
    "\n",
    "It's worth it to point out that here, I am using the **Functional** interace to PyTorch as opposed to the Object Oriented interface which is commonly used when processing images. In reality, either approach works. It becomes a matter of taste and common practice within one's domain. I find the Functional interface a little less verbose but this is up to you. "
   ]
  },
  {
   "cell_type": "code",
   "execution_count": 357,
   "id": "complimentary-burning",
   "metadata": {},
   "outputs": [
    {
     "name": "stdout",
     "output_type": "stream",
     "text": [
      "Parameter containing:\n",
      "tensor([[ 0.3320, -0.4063, -0.0011,  0.0133, -0.0015,  0.0647]],\n",
      "       requires_grad=True)\n",
      "Parameter containing:\n",
      "tensor([0.4070], requires_grad=True)\n"
     ]
    }
   ],
   "source": [
    "# Define model - number of predictors is 6\n",
    "num_of_predictors = 6\n",
    "\n",
    "# This comes from PyTorch\n",
    "model = nn.Linear(num_of_predictors, 1)\n",
    "\n",
    "print(model.weight)\n",
    "print(model.bias)\n",
    "\n",
    "# Parameters\n",
    "list(model.parameters())\n",
    "\n",
    "# Import nn.functional\n",
    "import torch.nn.functional as F\n",
    "\n",
    "# Define loss function - MSE\n",
    "loss_fn = F.mse_loss\n",
    "\n",
    "#loss = loss_fn(model(X), y, reduction=\"none\")\n",
    "loss = loss_fn(model(X), y)\n",
    "#print(loss)"
   ]
  },
  {
   "cell_type": "code",
   "execution_count": 358,
   "id": "billion-attribute",
   "metadata": {},
   "outputs": [
    {
     "name": "stdout",
     "output_type": "stream",
     "text": [
      "Epoch [5/100], Training Loss: 2.9595\n",
      "Epoch [10/100], Training Loss: 2.3396\n",
      "Epoch [15/100], Training Loss: 1.8167\n",
      "Epoch [20/100], Training Loss: 1.3399\n",
      "Epoch [25/100], Training Loss: 0.9588\n",
      "Epoch [30/100], Training Loss: 1.0017\n",
      "Epoch [35/100], Training Loss: 0.9662\n",
      "Epoch [40/100], Training Loss: 0.8087\n",
      "Epoch [45/100], Training Loss: 0.7685\n",
      "Epoch [50/100], Training Loss: 0.6659\n",
      "Epoch [55/100], Training Loss: 0.6852\n",
      "Epoch [60/100], Training Loss: 0.6666\n",
      "Epoch [65/100], Training Loss: 0.7278\n",
      "Epoch [70/100], Training Loss: 0.6701\n",
      "Epoch [75/100], Training Loss: 0.5747\n",
      "Epoch [80/100], Training Loss: 0.6284\n",
      "Epoch [85/100], Training Loss: 0.6154\n",
      "Epoch [90/100], Training Loss: 0.6189\n",
      "Epoch [95/100], Training Loss: 0.5654\n",
      "Epoch [100/100], Training Loss: 0.5840\n"
     ]
    }
   ],
   "source": [
    "# So we also need an optimizer to work in conjunction with our\n",
    "# loss function. \n",
    "\n",
    "# Learning rate can impact this\n",
    "opt = torch.optim.SGD(model.parameters(), lr=1e-3)\n",
    "\n",
    "# This a function desgined to process \n",
    "def fit(num_epochs, model, loss_fn, opt, train_dl):\n",
    "    \n",
    "    # Repeat for given number of epochs\n",
    "    for epoch in range(num_epochs):\n",
    "        \n",
    "        # Train with batches of data\n",
    "        for xb,yb in train_dl:\n",
    "            \n",
    "            # 1. Generate predictions\n",
    "            pred = model(xb)\n",
    "            \n",
    "            # 2. Calculate loss\n",
    "            loss = loss_fn(pred, yb)\n",
    "            \n",
    "            # 3. Compute gradients\n",
    "            loss.backward()\n",
    "            \n",
    "            # 4. Update parameters using gradients\n",
    "            opt.step()\n",
    "            \n",
    "            # 5. Reset the gradients to zero\n",
    "            opt.zero_grad()\n",
    "        \n",
    "        # Print the progress\n",
    "        if (epoch+1) % 5 == 0:\n",
    "            print('Epoch [{}/{}], Training Loss: {:.4f}'.format(epoch+1, num_epochs, loss.item()))\n",
    "\n",
    "fit(100, model, loss_fn, opt, train_dl)"
   ]
  },
  {
   "cell_type": "markdown",
   "id": "returning-receipt",
   "metadata": {},
   "source": [
    "## Things To Consider\n",
    "\n",
    "1. What impact does the learning rate have on this process ? \n",
    "2. How about the batch size ? \n",
    "3. Do the number of Epochs matter ? \n",
    "4. How about choice of optimizer ? \n",
    "5. What about creating a more sophisticated model architecture ?\n",
    "6. Have we learned anything about this model's applicability to unseen data ? "
   ]
  },
  {
   "cell_type": "markdown",
   "id": "congressional-alloy",
   "metadata": {},
   "source": [
    "<h2> Another Look At All of This </h2>"
   ]
  },
  {
   "cell_type": "markdown",
   "id": "adopted-smoke",
   "metadata": {},
   "source": [
    "Okay, we've walked through the process of regression with a progressive immersion into the PyTorch way of doing things. This has been instructive but perhaps we should look at a more integrated example that more or less pulls it all together. There are also a few things we could do to make things more interesting:\n",
    "\n",
    "* A more sophisticated model architecture\n",
    "* Try the model on test / holdout data\n",
    "* Experiment with the learning rate and batch sizes\n",
    "\n",
    "There are other things we could try in addition to these but this is plenty for now. "
   ]
  },
  {
   "cell_type": "code",
   "execution_count": 384,
   "id": "nonprofit-hazard",
   "metadata": {},
   "outputs": [],
   "source": [
    "import torch\n",
    "from torch.autograd import Variable\n",
    "import torch.nn.functional as F\n",
    "import torch.utils.data as Data\n",
    "from sklearn.datasets import fetch_california_housing\n",
    "import numpy as np\n",
    "import pandas as pd\n",
    "import matplotlib.pyplot as plt"
   ]
  },
  {
   "cell_type": "markdown",
   "id": "intelligent-constant",
   "metadata": {},
   "source": [
    "We'll stick with the California data but let's read it in using a different approach so you can see how scikit-learn provides a convenient way to access a number of datasets. We will also attempt to carve off the first N number of records from the data to reserve for later use as a test data set. "
   ]
  },
  {
   "cell_type": "code",
   "execution_count": 385,
   "id": "abandoned-shift",
   "metadata": {},
   "outputs": [
    {
     "name": "stdout",
     "output_type": "stream",
     "text": [
      "torch.Size([16640, 1])\n",
      "torch.Size([16640, 1])\n"
     ]
    }
   ],
   "source": [
    "numtoholdout = 4000\n",
    "# Here we'll fetch the California and pull out the first \n",
    "# some number of rows as a test set\n",
    "\n",
    "# This fetches the X and y data\n",
    "(Xc,yc) = fetch_california_housing(return_X_y=True)\n",
    "\n",
    "# Now create a holdout / test set\n",
    "Xhold = Xc[0:numtoholdout,]\n",
    "yhold = yc[0:numtoholdout,]\n",
    "\n",
    "# Create the training data\n",
    "Xc = Xc[:-numtoholdout]\n",
    "yc = yc[:-numtoholdout]\n",
    "\n",
    "# Turn numpy structures into tensors\n",
    "y = torch.tensor(yc,dtype=torch.float)\n",
    "y = torch.unsqueeze(y,dim=1)\n",
    "#\n",
    "x = torch.tensor(Xc[:,0],dtype=torch.float)\n",
    "x = torch.unsqueeze(x,dim=1)\n",
    "#\n",
    "print(y.size())\n",
    "print(x.size())\n"
   ]
  },
  {
   "cell_type": "code",
   "execution_count": 386,
   "id": "alive-public",
   "metadata": {},
   "outputs": [],
   "source": [
    "# Do the same for the holdout\n",
    "yt = torch.tensor(yhold,dtype=torch.float)\n",
    "yt = torch.unsqueeze(yt,dim=1)\n",
    "xt = torch.tensor(Xhold[:,0],dtype=torch.float)\n",
    "xt = torch.unsqueeze(xt,dim=1)\n"
   ]
  },
  {
   "cell_type": "markdown",
   "id": "included-imagination",
   "metadata": {},
   "source": [
    "Let's define a Sequential network that will contain more than just a single layer. We can experiment with this in any number of ways and you should feel free to do so. Many times there is not \"right\" architecture although the research in your domain of interest will frequently point to certain combinations of layers and whether to use drop puts. "
   ]
  },
  {
   "cell_type": "code",
   "execution_count": 387,
   "id": "lined-greensboro",
   "metadata": {},
   "outputs": [],
   "source": [
    "layers = 200\n",
    "net = torch.nn.Sequential(\n",
    "#        torch.nn.Dropout(),\n",
    "        torch.nn.Linear(1, layers),\n",
    "        torch.nn.LeakyReLU(),\n",
    "        torch.nn.Linear(layers, 100),\n",
    "        torch.nn.LeakyReLU(),\n",
    "        torch.nn.Linear(100, 1),\n",
    "    )"
   ]
  },
  {
   "cell_type": "markdown",
   "id": "speaking-fundamentals",
   "metadata": {},
   "source": [
    "Let's look at a different optimizer which in this case is Adam. We'll stick with MSE as our loss / cost function. Let's work in batches of 2000 over the course of 150 epochs."
   ]
  },
  {
   "cell_type": "code",
   "execution_count": 388,
   "id": "addressed-outline",
   "metadata": {},
   "outputs": [],
   "source": [
    "optimizer = torch.optim.Adam(net.parameters(), lr=0.00001)\n",
    "loss_func = torch.nn.MSELoss()  # this is for regression mean squared loss\n",
    "\n",
    "BATCH_SIZE = 2000\n",
    "EPOCH = 150"
   ]
  },
  {
   "cell_type": "code",
   "execution_count": 389,
   "id": "occasional-referral",
   "metadata": {},
   "outputs": [],
   "source": [
    "torch_dataset = Data.TensorDataset(x, y)\n",
    "\n",
    "loader = Data.DataLoader(\n",
    "    dataset=torch_dataset, \n",
    "    batch_size=BATCH_SIZE, \n",
    "#    shuffle=True, num_workers=2,)\n",
    "    shuffle=True,)"
   ]
  },
  {
   "cell_type": "code",
   "execution_count": 390,
   "id": "answering-smart",
   "metadata": {},
   "outputs": [
    {
     "name": "stdout",
     "output_type": "stream",
     "text": [
      "Epoch [5/150], Train Loss: 5.4329, Test Loss: 3.5938\n",
      "Epoch [10/150], Train Loss: 4.4658, Test Loss: 2.8413\n",
      "Epoch [15/150], Train Loss: 3.6584, Test Loss: 2.2290\n",
      "Epoch [20/150], Train Loss: 2.9211, Test Loss: 1.6891\n",
      "Epoch [25/150], Train Loss: 2.2883, Test Loss: 1.2309\n",
      "Epoch [30/150], Train Loss: 1.7819, Test Loss: 0.8930\n",
      "Epoch [35/150], Train Loss: 1.3812, Test Loss: 0.6471\n",
      "Epoch [40/150], Train Loss: 1.1460, Test Loss: 0.5080\n",
      "Epoch [45/150], Train Loss: 0.9595, Test Loss: 0.4329\n",
      "Epoch [50/150], Train Loss: 0.8683, Test Loss: 0.3965\n",
      "Epoch [55/150], Train Loss: 0.7971, Test Loss: 0.3874\n",
      "Epoch [60/150], Train Loss: 0.7600, Test Loss: 0.3931\n",
      "Epoch [65/150], Train Loss: 0.7308, Test Loss: 0.4045\n",
      "Epoch [70/150], Train Loss: 0.7235, Test Loss: 0.4167\n",
      "Epoch [75/150], Train Loss: 0.7238, Test Loss: 0.4278\n",
      "Epoch [80/150], Train Loss: 0.7281, Test Loss: 0.4366\n",
      "Epoch [85/150], Train Loss: 0.7143, Test Loss: 0.4432\n",
      "Epoch [90/150], Train Loss: 0.7133, Test Loss: 0.4478\n",
      "Epoch [95/150], Train Loss: 0.7126, Test Loss: 0.4510\n",
      "Epoch [100/150], Train Loss: 0.7234, Test Loss: 0.4538\n",
      "Epoch [105/150], Train Loss: 0.7107, Test Loss: 0.4590\n",
      "Epoch [110/150], Train Loss: 0.7184, Test Loss: 0.4599\n",
      "Epoch [115/150], Train Loss: 0.7118, Test Loss: 0.4604\n",
      "Epoch [120/150], Train Loss: 0.7158, Test Loss: 0.4607\n",
      "Epoch [125/150], Train Loss: 0.7176, Test Loss: 0.4620\n",
      "Epoch [130/150], Train Loss: 0.7183, Test Loss: 0.4621\n",
      "Epoch [135/150], Train Loss: 0.7015, Test Loss: 0.4627\n",
      "Epoch [140/150], Train Loss: 0.7099, Test Loss: 0.4629\n",
      "Epoch [145/150], Train Loss: 0.7096, Test Loss: 0.4634\n",
      "Epoch [150/150], Train Loss: 0.7053, Test Loss: 0.4642\n"
     ]
    },
    {
     "data": {
      "text/plain": [
       "Text(0.5, 0, 'Epoch')"
      ]
     },
     "execution_count": 390,
     "metadata": {},
     "output_type": "execute_result"
    },
    {
     "data": {
      "image/png": "[encoded data removed]",
      "text/plain": [
       "<Figure size 432x288 with 1 Axes>"
      ]
     },
     "metadata": {
      "needs_background": "light"
     },
     "output_type": "display_data"
    }
   ],
   "source": [
    "# Set up some accumulators for average training and test loss\n",
    "avloss = []\n",
    "avtestloss = []\n",
    "for epoch in range(EPOCH):\n",
    "    acc_loss = []\n",
    "    test_loss = []\n",
    "    for step, (batch_x, batch_y) in enumerate(loader): # for each training ste\n",
    "        \n",
    "        # the Variable function is a wrapper\n",
    "        # for tensor objects\n",
    "        \n",
    "#        b_x = Variable(batch_x)\n",
    "#        b_y = Variable(batch_y)\n",
    "        b_x = batch_x\n",
    "        b_y = batch_y\n",
    "\n",
    "        # Get the training loss per batch\n",
    "        prediction = net(b_x)     # input x and predict based on x\n",
    "        loss = loss_func(prediction, b_y)     # must be (1. nn output, 2. target)\n",
    "        acc_loss.append(loss.item())\n",
    "        \n",
    "        # Get the test loss per batch\n",
    "        testpred = net(xt)\n",
    "        predloss = loss_func(testpred,yt)\n",
    "        test_loss.append(predloss.item())\n",
    "\n",
    "        optimizer.zero_grad()   # clear gradients for next train\n",
    "        loss.backward()         # backpropagation, compute gradients\n",
    "        optimizer.step()        # apply gradients\n",
    "        \n",
    "        # print(\"Epoch %d: Train Loss %6.4f, Test Loss %6.4f\" % (epoch,np.mean(acc_loss),np.mean(test_loss)))\n",
    "    \n",
    "    avloss.append(np.mean(acc_loss))\n",
    "    avtestloss.append(np.mean(test_loss))\n",
    "    \n",
    "    if (epoch+1) % 5 == 0:\n",
    "        print('Epoch [{}/{}], Train Loss: {:.4f}, Test Loss: {:.4f}'.format(epoch+1, EPOCH, np.mean(acc_loss),np.mean(test_loss)))\n",
    "\n",
    "d = {'TrainLoss':avloss,'TestLoss':avtestloss}\n",
    "errdf = pd.DataFrame(d)\n",
    "\n",
    "errdf.plot.line()\n",
    "plt.ylabel(\"MSE\")\n",
    "plt.xlabel(\"Epoch\")\n",
    "plt.title(\"Training / Test Loss\")\n",
    "plt.grid()"
   ]
  },
  {
   "cell_type": "code",
   "execution_count": null,
   "id": "governing-martial",
   "metadata": {},
   "outputs": [],
   "source": []
  }
 ],
 "metadata": {
  "kernelspec": {
   "display_name": "Python 3",
   "language": "python",
   "name": "python3"
  },
  "language_info": {
   "codemirror_mode": {
    "name": "ipython",
    "version": 3
   },
   "file_extension": ".py",
   "mimetype": "text/x-python",
   "name": "python",
   "nbconvert_exporter": "python",
   "pygments_lexer": "ipython3",
   "version": "3.7.7"
  }
 },
 "nbformat": 4,
 "nbformat_minor": 5
}
