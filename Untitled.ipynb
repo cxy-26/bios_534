{
 "cells": [
  {
   "cell_type": "markdown",
   "id": "practical-lafayette",
   "metadata": {},
   "source": [
    "## Hello Section\n",
    "\n",
    "This is some text"
   ]
  },
  {
   "cell_type": "code",
   "execution_count": null,
   "id": "entitled-cement",
   "metadata": {},
   "outputs": [],
   "source": [
    "import pandas as pd\n",
    "\n",
    "print(\"hello\")"
   ]
  },
  {
   "cell_type": "code",
   "execution_count": null,
   "id": "taken-enhancement",
   "metadata": {},
   "outputs": [],
   "source": []
  }
 ],
 "metadata": {
  "kernelspec": {
   "display_name": "Python 3",
   "language": "python",
   "name": "python3"
  },
  "language_info": {
   "name": ""
  }
 },
 "nbformat": 4,
 "nbformat_minor": 5
}
