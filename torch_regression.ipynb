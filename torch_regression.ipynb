{
 "cells": [
  {
   "cell_type": "markdown",
   "id": "f1d33d35",
   "metadata": {},
   "source": [
    "In Data Science much of the data arrives in the form of what one might call tabular or Excel-like structure which is convenenient for importing into a data frame. This then makes it realtively straightforward to use as input with traditional modeling approaches such as regression, support vector machines, decision trees, and naive bayes. \n",
    "\n",
    "<img src=\"pics/ml_graph.png\" width =\"600\" height=600>\n",
    "\n",
    "\n",
    "Moreover, if the data size is manageable on your local computer then maybe sticking with these approaches is fine. On the other hand, we can in fact use Deep Learning tools in the modeling of simple data structures, it's just that it might be over kill. Nonetheless, there are plenty of organizations who more or less do everything with DL approaches under the premise that it centralizes thinking and activity around a basic set of tools. The discussion then becomes about:\n",
    "\n",
    "- model architectures\n",
    "- batch sizes\n",
    "- activation functions\n",
    "- cost functions\n",
    "- learning rates\n",
    "- regularization\n",
    "\n",
    "<img src=\"pics/dlpubs.png\" width =\"600\" height=600>\n",
    "\n"
   ]
  },
  {
   "cell_type": "markdown",
   "id": "957198b7-e466-4acd-bed5-25bbf015b6dc",
   "metadata": {},
   "source": [
    "## Different Frameworks\n",
    "\n",
    "<img src=\"pics/threeframe.png\" width =\"600\" height=600>\n",
    "\n",
    "<img src=\"pics/gtrendlegend.png\" width =\"600\" height=600>\n",
    "\n",
    "<img src=\"pics/gtrend.png\" width =\"600\" height=600>\n",
    "\n",
    "<img src=\"pics/pytorchg.png\" width =\"600\" height=600>\n",
    "\n",
    "<img src=\"pics/keras.png\" width =\"600\" height=600>\n"
   ]
  },
  {
   "cell_type": "markdown",
   "id": "541ddd69-d171-4925-aa61-f8b2102db390",
   "metadata": {},
   "source": [
    "## Associated Concepts\n",
    "\n",
    "So while a committment is made to Deep Learning it doesn't then mean that the considerations are few and simple. Deep Learning is ususally discussed in contexts where the data is unstructured to the extent that it is not so easy to \"mold\" it into the tpyical tabular approach. Or if you can, then you have to create a containing super-structure to manage it in total. We could use tools like Python's **numpy** module because it does in fact allow us to flexibly represent data in interesting ways that facilitate computational efficiency. However, it does not run on GPUs which are the next generation processors for aggressive and at-scale computing. \n",
    "\n",
    "This need has led, in part, to the development of things like tensors which allow us to represent unstructured data as arrays of matrices, or arrays of arrays, with all the underlying connectivity (via graphs) being maintained for you so yo don't have to worry about that. Then you can present this structure to Deep Learning networks such as TensorFlow, Keras (which sits on top of Tensorflow), and of course PyTorch. \n",
    "\n",
    "Note that using arrays of arrays/matrices is not a new thing altough calculations of this sort used to require very large \"mainframes\" though now we can run them on laptops. Moever, using tensors gives us efficiencies that allow is to run on both CPUs and GPU without having to change our code. Lastly, tensors, at least as implemented by PyTorch and Tensorflow, can have linkages in the for of Directed Graphs which means they can keep track out calculations over time. \n",
    "\n",
    "<img src=\"pics/tensors.png\" width =\"600\" height=600>\n",
    "\n",
    "<small>https://www.freecodecamp.org/news/get-to-know-tensorflow-js-in-7-minutes-afcd0dfd3d2f/</small>\n",
    "\n",
    "One thing to know is that many times people will use the words **arrays** and **matrices** synonymously. In my view this should not be the case but people smarter than me do it all the time so maybe they know something I don't.\n",
    "\n",
    "<img src=\"pics/moretens.png\" width =\"600\" height=600>\n",
    "\n",
    "However, it is fair to say that Deep Learning is more commonly used in non-traditional contexts such as image classification and object recognition, Natural Language Processing, population segmentation, as well dialogue generation and processing tools (e.g. Siri, Alexa). Also, Deep Learning shines becasue the tensor concept allows us to use at-scale and very large datasets\n",
    "\n",
    "\n",
    "Libraries such as <a href=\"https://keras.io/\">Keras</a> can \"sit on top\" of Tensorflow to leverage one's knowledge of Python which can make the Deep Learning experuience easier if you alreadu know Python. <a href=\"http://pytorch.org\">PyTorch</a> is also a framework which allows use of Python as an interface language though it does not rely upon Tensorflow. Here are some benefits of PyTorch which you might recall from last week's lecture. \n",
    "\n",
    "- Optimize performance in both research and production by taking advantage of native support for asynchronous execution of collective operations and peer-to-peer communication that is accessible from Python and C++.\n",
    "    \n",
    "- PyTorch supports an end-to-end workflow from Python to deployment on iOS and Android. \n",
    "\n",
    "- PyTorch is well supported on major cloud platforms, providing frictionless development and easy scaling through prebuilt images, large scale training on GPUs, ability to run models in a production scale environment, and more.\n",
    "    \n",
    "<h3>Autograd module</h3>\n",
    "\n",
    "<p>PyTorch uses a method called <b>automatic differentiation</b>. A recorder records what operations have performed, and then it replays it backward to compute the gradients. This method is especially powerful when building neural networks to save time on one epoch (trip through the network) by calculating differentiation of the parameters at the forward pass.</p>\n",
    "    \n",
    "<h3>Optim module</h3>\n",
    "\n",
    "<b>torch.optim</b> is a module that implements various optimization algorithms used for building neural networks. Most of the commonly used methods are already supported, so there is no need to build them from scratch.\n",
    "\n",
    "<h3>nn module</h3>\n",
    "\n",
    "<p>PyTorch autograd makes it easy to define computational graphs and take gradients, but raw autograd can be a bit too low-level for defining complex neural networks. This is where the nn module can help. </p>"
   ]
  },
  {
   "cell_type": "markdown",
   "id": "5aa3e01d",
   "metadata": {},
   "source": [
    "Let's continue with PyTorch and dig some more into it. In Python we tend to use numpy for manipulating matrices as it is optimized for managing large collections of numbers in a memory efficient manner while also supporting most of the common linear algebra techniques likely to be of interest to a Data Scientist. \n",
    "\n",
    "We can take numpy arrays and use them with PyTorch since PyTorch opens the door to using GPUs which can greatly speed up the creation of models using very large data sets. The so called \"Deep Learning\" revolution has involved using things like Google's <a href=\"https://www.tensorflow.org/\">Tensorflow </a>product which requires learning approaches specific to that environment. \n",
    "\n",
    "<img src=\"pics/numpyt.png\" width =\"400\" height=400>\n",
    "\n",
    "If you have numpy arrays you can create tensors from them. Again, this is something we learned previously. Using tensors gives us the ability to benefit from GPUs but when looking or viewing tensors they look a lot like arrays. Benefits of tensors include:\n",
    "\n",
    "1. Can be used with CPUs or GPUS\n",
    "2. Memory efficient \n",
    "3. Have a \"memory\" of previous operations\n",
    "4. Underneath the hood they are Connected Graphs\n",
    "5. Can be treated like numpy arrays (well for the most part)\n",
    "6. Can be converted back to numpy if you desire\n",
    "7. Neural networks take tensors as input and produce tensors as outputs \n",
    "8. Operations within a neural network and during optimization are operations between tensors\n",
    "9. All parameters (for example, weights and biases) in a neural network are tensors."
   ]
  },
  {
   "cell_type": "markdown",
   "id": "88eb6dcf",
   "metadata": {},
   "source": [
    "Note that some of the code herein is adapted directly or in part from https://jovian.ai/aakashns/02-linear-regression "
   ]
  },
  {
   "cell_type": "code",
   "execution_count": 1,
   "id": "f7f709eb",
   "metadata": {},
   "outputs": [],
   "source": [
    "import numpy as np\n",
    "\n",
    "inputs = np.array([[73, 67, 43], \n",
    "                   [91, 88, 64], \n",
    "                   [87, 134, 58], \n",
    "                   [102, 43, 37], \n",
    "                   [69, 96, 70]], dtype='float')\n",
    "\n",
    "targets = np.array([56, 81, 101, 119, 133], dtype='float')"
   ]
  },
  {
   "cell_type": "code",
   "execution_count": 2,
   "id": "41f4072b",
   "metadata": {},
   "outputs": [
    {
     "name": "stdout",
     "output_type": "stream",
     "text": [
      "tensor([[ 73.,  67.,  43.],\n",
      "        [ 91.,  88.,  64.],\n",
      "        [ 87., 134.,  58.],\n",
      "        [102.,  43.,  37.],\n",
      "        [ 69.,  96.,  70.]], dtype=torch.float64)\n",
      "tensor([ 56.,  81., 101., 119., 133.], dtype=torch.float64)\n"
     ]
    }
   ],
   "source": [
    "import torch \n",
    "import torch.nn as nn\n",
    "inputs = torch.from_numpy(inputs)\n",
    "targets = torch.from_numpy(targets)\n",
    "print(inputs)\n",
    "print(targets)"
   ]
  },
  {
   "cell_type": "code",
   "execution_count": 3,
   "id": "9d9d88a9",
   "metadata": {},
   "outputs": [
    {
     "name": "stdout",
     "output_type": "stream",
     "text": [
      "torch.Size([5, 3])\n",
      "tensor([[ 73.,  67.,  43.],\n",
      "        [ 91.,  88.,  64.],\n",
      "        [ 87., 134.,  58.]], dtype=torch.float64)\n",
      "Tensor of type: torch.float64\n"
     ]
    }
   ],
   "source": [
    "# Tensors can be indexed as matrices\n",
    "print(inputs.shape)\n",
    "\n",
    "# Get first three rows\n",
    "print(inputs[0:3,:])\n",
    "\n",
    "# Print type of tensor\n",
    "print(\"Tensor of type:\",inputs.dtype)"
   ]
  },
  {
   "cell_type": "markdown",
   "id": "89ad1a48",
   "metadata": {},
   "source": [
    "We can reshape the tensors to suit our purposes. This is usually, of not always, motivated by an interest in some form of linear algebra computation. That is, multipling one tensor by another has to make operating sense frame a matrix multiplication point of view."
   ]
  },
  {
   "cell_type": "code",
   "execution_count": 4,
   "id": "a9b269cf",
   "metadata": {},
   "outputs": [
    {
     "data": {
      "text/plain": [
       "tensor([41561., 42299., 27163.], dtype=torch.float64)"
      ]
     },
     "execution_count": 4,
     "metadata": {},
     "output_type": "execute_result"
    }
   ],
   "source": [
    "# Matrix multiplication NOT element wise multiplication\n",
    "targets @ inputs\n",
    "\n",
    "# but not\n",
    "# inputs @ targets"
   ]
  },
  {
   "cell_type": "code",
   "execution_count": 5,
   "id": "cd240b83",
   "metadata": {},
   "outputs": [
    {
     "name": "stdout",
     "output_type": "stream",
     "text": [
      "tensor([ 56.,  81., 101., 119., 133.], dtype=torch.float64) \n",
      "\n",
      "tensor([[ 56.],\n",
      "        [ 81.],\n",
      "        [101.],\n",
      "        [119.],\n",
      "        [133.]], dtype=torch.float64) \n",
      "\n",
      "tensor([[ 73.,  67.,  43.,  91.,  88.],\n",
      "        [ 64.,  87., 134.,  58., 102.],\n",
      "        [ 43.,  37.,  69.,  96.,  70.]], dtype=torch.float64)\n"
     ]
    }
   ],
   "source": [
    "print(targets,\"\\n\")\n",
    "\n",
    "# Show targets as a 5 x 1 instead of 1 x 5\n",
    "print(targets.view(5,-1),\"\\n\")\n",
    "\n",
    "# Show inputs as a 3 x 5 instead of a 5 x 3\n",
    "print(inputs.view(3,-1))"
   ]
  },
  {
   "cell_type": "markdown",
   "id": "abf3314e-207c-4146-82a7-77492210f5cd",
   "metadata": {},
   "source": [
    "## Using Regression As An Example\n",
    "\n",
    "I think everyone can easily relate to the idea of Linear Regression as a way to create a model to predict a continuous outcome. It is a favored introductory approach as:\n",
    "\n",
    "    1) It is an easy algorithm to understand and visualize\n",
    "    2) The method is well supported by a large body of literature \n",
    "    3) The diagnostic methods are well known\n",
    "    \n",
    "<img src=\"pics/regr_graph.png\" width =\"600\" height=600>\n",
    "\n",
    "\n",
    "<img src=\"pics/regress2.png\" width =\"600\" height=600>\n",
    "\n",
    "\n"
   ]
  },
  {
   "cell_type": "markdown",
   "id": "cc3367ae-08df-440b-ad7c-2e7cb0b69c66",
   "metadata": {},
   "source": [
    "Checkout the following (taken from Andrew Ng's Deep Learning Course).\n",
    "\n",
    "<img src=\"pics/predprice1.png\" width =\"600\" height=600>\n",
    "\n",
    "<img src=\"pics/predprice2.png\" width =\"600\" height=600>\n",
    "\n",
    "<img src=\"pics/predprice3.png\" width =\"600\" height=600>\n"
   ]
  },
  {
   "cell_type": "code",
   "execution_count": 6,
   "id": "8d399f00-edd2-43ca-a080-c36c81d1fe14",
   "metadata": {},
   "outputs": [],
   "source": [
    "import statsmodels.api as sm\n",
    "import statsmodels.formula.api as smf\n",
    "import matplotlib.pyplot as plt\n",
    "url = \"https://raw.githubusercontent.com/bcaffo/ds4bme_intro/master/data/oasis.csv\"\n",
    "\n",
    "# See YouTube video by Brian Caffo at https://www.youtube.com/watch?v=hu7FhlT_a24\n"
   ]
  },
  {
   "cell_type": "markdown",
   "id": "0ecc8cdf-86ee-4916-a418-7c3833dfbf49",
   "metadata": {},
   "source": [
    "## Some Actual Data\n",
    "\n",
    "Lets look at some real data. Note this is taken from Brian Caffo's lecture. "
   ]
  },
  {
   "cell_type": "code",
   "execution_count": 7,
   "id": "5dc8d59a-2379-483e-b826-41710ac3d2db",
   "metadata": {},
   "outputs": [
    {
     "data": {
      "text/html": [
       "<div>\n",
       "<style scoped>\n",
       "    .dataframe tbody tr th:only-of-type {\n",
       "        vertical-align: middle;\n",
       "    }\n",
       "\n",
       "    .dataframe tbody tr th {\n",
       "        vertical-align: top;\n",
       "    }\n",
       "\n",
       "    .dataframe thead th {\n",
       "        text-align: right;\n",
       "    }\n",
       "</style>\n",
       "<table border=\"1\" class=\"dataframe\">\n",
       "  <thead>\n",
       "    <tr style=\"text-align: right;\">\n",
       "      <th></th>\n",
       "      <th>FLAIR</th>\n",
       "      <th>PD</th>\n",
       "      <th>T1</th>\n",
       "      <th>T2</th>\n",
       "      <th>FLAIR_10</th>\n",
       "      <th>PD_10</th>\n",
       "      <th>T1_10</th>\n",
       "      <th>T2_10</th>\n",
       "      <th>FLAIR_20</th>\n",
       "      <th>PD_20</th>\n",
       "      <th>T1_20</th>\n",
       "      <th>T2_20</th>\n",
       "      <th>GOLD_Lesions</th>\n",
       "    </tr>\n",
       "  </thead>\n",
       "  <tbody>\n",
       "    <tr>\n",
       "      <th>0</th>\n",
       "      <td>1.143692</td>\n",
       "      <td>1.586219</td>\n",
       "      <td>-0.799859</td>\n",
       "      <td>1.634467</td>\n",
       "      <td>0.437568</td>\n",
       "      <td>0.823800</td>\n",
       "      <td>-0.002059</td>\n",
       "      <td>0.573663</td>\n",
       "      <td>0.279832</td>\n",
       "      <td>0.548341</td>\n",
       "      <td>0.219136</td>\n",
       "      <td>0.298662</td>\n",
       "      <td>0</td>\n",
       "    </tr>\n",
       "    <tr>\n",
       "      <th>1</th>\n",
       "      <td>1.652552</td>\n",
       "      <td>1.766672</td>\n",
       "      <td>-1.250992</td>\n",
       "      <td>0.921230</td>\n",
       "      <td>0.663037</td>\n",
       "      <td>0.880250</td>\n",
       "      <td>-0.422060</td>\n",
       "      <td>0.542597</td>\n",
       "      <td>0.422182</td>\n",
       "      <td>0.549711</td>\n",
       "      <td>0.061573</td>\n",
       "      <td>0.280972</td>\n",
       "      <td>0</td>\n",
       "    </tr>\n",
       "    <tr>\n",
       "      <th>2</th>\n",
       "      <td>1.036099</td>\n",
       "      <td>0.262042</td>\n",
       "      <td>-0.858565</td>\n",
       "      <td>-0.058211</td>\n",
       "      <td>-0.044280</td>\n",
       "      <td>-0.308569</td>\n",
       "      <td>0.014766</td>\n",
       "      <td>-0.256075</td>\n",
       "      <td>-0.136532</td>\n",
       "      <td>-0.350905</td>\n",
       "      <td>0.020673</td>\n",
       "      <td>-0.259914</td>\n",
       "      <td>0</td>\n",
       "    </tr>\n",
       "    <tr>\n",
       "      <th>3</th>\n",
       "      <td>1.037692</td>\n",
       "      <td>0.011104</td>\n",
       "      <td>-1.228796</td>\n",
       "      <td>-0.470222</td>\n",
       "      <td>-0.013971</td>\n",
       "      <td>-0.000498</td>\n",
       "      <td>-0.395575</td>\n",
       "      <td>-0.221900</td>\n",
       "      <td>0.000807</td>\n",
       "      <td>-0.003085</td>\n",
       "      <td>-0.193249</td>\n",
       "      <td>-0.139284</td>\n",
       "      <td>0</td>\n",
       "    </tr>\n",
       "    <tr>\n",
       "      <th>4</th>\n",
       "      <td>1.580589</td>\n",
       "      <td>1.730152</td>\n",
       "      <td>-0.860949</td>\n",
       "      <td>1.245609</td>\n",
       "      <td>0.617957</td>\n",
       "      <td>0.866352</td>\n",
       "      <td>-0.099919</td>\n",
       "      <td>0.384261</td>\n",
       "      <td>0.391133</td>\n",
       "      <td>0.608826</td>\n",
       "      <td>0.071648</td>\n",
       "      <td>0.340601</td>\n",
       "      <td>0</td>\n",
       "    </tr>\n",
       "  </tbody>\n",
       "</table>\n",
       "</div>"
      ],
      "text/plain": [
       "      FLAIR        PD        T1        T2  FLAIR_10     PD_10     T1_10  \\\n",
       "0  1.143692  1.586219 -0.799859  1.634467  0.437568  0.823800 -0.002059   \n",
       "1  1.652552  1.766672 -1.250992  0.921230  0.663037  0.880250 -0.422060   \n",
       "2  1.036099  0.262042 -0.858565 -0.058211 -0.044280 -0.308569  0.014766   \n",
       "3  1.037692  0.011104 -1.228796 -0.470222 -0.013971 -0.000498 -0.395575   \n",
       "4  1.580589  1.730152 -0.860949  1.245609  0.617957  0.866352 -0.099919   \n",
       "\n",
       "      T2_10  FLAIR_20     PD_20     T1_20     T2_20  GOLD_Lesions  \n",
       "0  0.573663  0.279832  0.548341  0.219136  0.298662             0  \n",
       "1  0.542597  0.422182  0.549711  0.061573  0.280972             0  \n",
       "2 -0.256075 -0.136532 -0.350905  0.020673 -0.259914             0  \n",
       "3 -0.221900  0.000807 -0.003085 -0.193249 -0.139284             0  \n",
       "4  0.384261  0.391133  0.608826  0.071648  0.340601             0  "
      ]
     },
     "execution_count": 7,
     "metadata": {},
     "output_type": "execute_result"
    }
   ],
   "source": [
    "# Read in the Imaging Data - \n",
    "import pandas as pd\n",
    "imaging = pd.read_csv(url)\n",
    "imaging.head()"
   ]
  },
  {
   "cell_type": "markdown",
   "id": "194c4bfa-5b06-4937-8c0f-75dd8963aeb5",
   "metadata": {},
   "source": [
    "This is imaging data. \"When imaging with computed tomography (CT), there is only one intrinsic contrast mechanism, and that is the electron density of the tissues being examined. Also, with CT, one does not adjust any extrinsic contrast parameters in that the kilovolts (kV) used remains high. This is not the case, however, with MRI.\n",
    "\n",
    "There are many intrinsic contrast mechanisms that one can use in MRI. The ones discussed in this chapter include proton (spin) density (PD), T1 relaxation time, and T2 relaxation time. Images are usually acquired for which the contrast is weighted more toward one of these parameters.\" https://radiologykey.com/t1-t2-and-proton-density/\n",
    "\n",
    "So let's focus on two columns. We'll plot PD (Proton Density) vs T2 to see if there is a relationship that could reasonable be modeled using Ordinary Least Squares approach."
   ]
  },
  {
   "cell_type": "code",
   "execution_count": 8,
   "id": "ccbfd06b-fb65-4f76-abe5-2f7f30471ddc",
   "metadata": {},
   "outputs": [
    {
     "data": {
      "image/png": "[encoded data removed]",
      "text/plain": [
       "<Figure size 432x288 with 1 Axes>"
      ]
     },
     "metadata": {
      "needs_background": "light"
     },
     "output_type": "display_data"
    }
   ],
   "source": [
    "# Simple scatterplot\n",
    "import seaborn as sns\n",
    "sns.scatterplot(x=imaging['T2'],y=imaging['PD'])\n",
    "plt.title(\"PD vs T2\")\n",
    "plt.grid()"
   ]
  },
  {
   "cell_type": "markdown",
   "id": "3dabbd6c-2847-4a13-8e5e-1805b95d027e",
   "metadata": {},
   "source": [
    "So we could use the OLS method from statsmodels which does the fit and then gives us lots of information in return."
   ]
  },
  {
   "cell_type": "code",
   "execution_count": 9,
   "id": "525ae3ac-c13b-4ce3-91c1-503db87aa194",
   "metadata": {},
   "outputs": [
    {
     "data": {
      "text/html": [
       "<table class=\"simpletable\">\n",
       "<caption>OLS Regression Results</caption>\n",
       "<tr>\n",
       "  <th>Dep. Variable:</th>           <td>PD</td>        <th>  R-squared:         </th> <td>   0.661</td>\n",
       "</tr>\n",
       "<tr>\n",
       "  <th>Model:</th>                   <td>OLS</td>       <th>  Adj. R-squared:    </th> <td>   0.657</td>\n",
       "</tr>\n",
       "<tr>\n",
       "  <th>Method:</th>             <td>Least Squares</td>  <th>  F-statistic:       </th> <td>   190.9</td>\n",
       "</tr>\n",
       "<tr>\n",
       "  <th>Date:</th>             <td>Wed, 23 Feb 2022</td> <th>  Prob (F-statistic):</th> <td>9.77e-25</td>\n",
       "</tr>\n",
       "<tr>\n",
       "  <th>Time:</th>                 <td>14:41:08</td>     <th>  Log-Likelihood:    </th> <td> -57.347</td>\n",
       "</tr>\n",
       "<tr>\n",
       "  <th>No. Observations:</th>      <td>   100</td>      <th>  AIC:               </th> <td>   118.7</td>\n",
       "</tr>\n",
       "<tr>\n",
       "  <th>Df Residuals:</th>          <td>    98</td>      <th>  BIC:               </th> <td>   123.9</td>\n",
       "</tr>\n",
       "<tr>\n",
       "  <th>Df Model:</th>              <td>     1</td>      <th>                     </th>     <td> </td>   \n",
       "</tr>\n",
       "<tr>\n",
       "  <th>Covariance Type:</th>      <td>nonrobust</td>    <th>                     </th>     <td> </td>   \n",
       "</tr>\n",
       "</table>\n",
       "<table class=\"simpletable\">\n",
       "<tr>\n",
       "      <td></td>         <th>coef</th>     <th>std err</th>      <th>t</th>      <th>P>|t|</th>  <th>[0.025</th>    <th>0.975]</th>  \n",
       "</tr>\n",
       "<tr>\n",
       "  <th>Intercept</th> <td>    0.3138</td> <td>    0.052</td> <td>    6.010</td> <td> 0.000</td> <td>    0.210</td> <td>    0.417</td>\n",
       "</tr>\n",
       "<tr>\n",
       "  <th>T2</th>        <td>    0.7832</td> <td>    0.057</td> <td>   13.815</td> <td> 0.000</td> <td>    0.671</td> <td>    0.896</td>\n",
       "</tr>\n",
       "</table>\n",
       "<table class=\"simpletable\">\n",
       "<tr>\n",
       "  <th>Omnibus:</th>       <td> 1.171</td> <th>  Durbin-Watson:     </th> <td>   1.501</td>\n",
       "</tr>\n",
       "<tr>\n",
       "  <th>Prob(Omnibus):</th> <td> 0.557</td> <th>  Jarque-Bera (JB):  </th> <td>   0.972</td>\n",
       "</tr>\n",
       "<tr>\n",
       "  <th>Skew:</th>          <td> 0.241</td> <th>  Prob(JB):          </th> <td>   0.615</td>\n",
       "</tr>\n",
       "<tr>\n",
       "  <th>Kurtosis:</th>      <td> 2.995</td> <th>  Cond. No.          </th> <td>    1.89</td>\n",
       "</tr>\n",
       "</table><br/><br/>Notes:<br/>[1] Standard Errors assume that the covariance matrix of the errors is correctly specified."
      ],
      "text/plain": [
       "<class 'statsmodels.iolib.summary.Summary'>\n",
       "\"\"\"\n",
       "                            OLS Regression Results                            \n",
       "==============================================================================\n",
       "Dep. Variable:                     PD   R-squared:                       0.661\n",
       "Model:                            OLS   Adj. R-squared:                  0.657\n",
       "Method:                 Least Squares   F-statistic:                     190.9\n",
       "Date:                Wed, 23 Feb 2022   Prob (F-statistic):           9.77e-25\n",
       "Time:                        14:41:08   Log-Likelihood:                -57.347\n",
       "No. Observations:                 100   AIC:                             118.7\n",
       "Df Residuals:                      98   BIC:                             123.9\n",
       "Df Model:                           1                                         \n",
       "Covariance Type:            nonrobust                                         \n",
       "==============================================================================\n",
       "                 coef    std err          t      P>|t|      [0.025      0.975]\n",
       "------------------------------------------------------------------------------\n",
       "Intercept      0.3138      0.052      6.010      0.000       0.210       0.417\n",
       "T2             0.7832      0.057     13.815      0.000       0.671       0.896\n",
       "==============================================================================\n",
       "Omnibus:                        1.171   Durbin-Watson:                   1.501\n",
       "Prob(Omnibus):                  0.557   Jarque-Bera (JB):                0.972\n",
       "Skew:                           0.241   Prob(JB):                        0.615\n",
       "Kurtosis:                       2.995   Cond. No.                         1.89\n",
       "==============================================================================\n",
       "\n",
       "Notes:\n",
       "[1] Standard Errors assume that the covariance matrix of the errors is correctly specified.\n",
       "\"\"\""
      ]
     },
     "execution_count": 9,
     "metadata": {},
     "output_type": "execute_result"
    }
   ],
   "source": [
    "fit = smf.ols('PD ~ T2',data=imaging).fit()\n",
    "fit.summary()"
   ]
  },
  {
   "cell_type": "code",
   "execution_count": 10,
   "id": "e1dbf76c-f023-45d6-8fde-48ddf0ca607a",
   "metadata": {},
   "outputs": [
    {
     "data": {
      "text/plain": [
       "Intercept    0.313763\n",
       "T2           0.783151\n",
       "dtype: float64"
      ]
     },
     "execution_count": 10,
     "metadata": {},
     "output_type": "execute_result"
    }
   ],
   "source": [
    "# Extract the found parameters which correspond to an intercept and a slope \n",
    "fit.params"
   ]
  },
  {
   "cell_type": "code",
   "execution_count": 11,
   "id": "bf11d9c4-e45b-4b9a-9948-4b491c6d679f",
   "metadata": {},
   "outputs": [
    {
     "data": {
      "image/png": "[encoded data removed]",
      "text/plain": [
       "<Figure size 432x288 with 1 Axes>"
      ]
     },
     "metadata": {
      "needs_background": "light"
     },
     "output_type": "display_data"
    }
   ],
   "source": [
    "from sklearn.metrics import mean_squared_error\n",
    "from math import sqrt\n",
    "m = fit.params.T2\n",
    "b = fit.params.Intercept\n",
    "# Get the predicted y values which are approxomations of the actual u values\n",
    "yhat = fit.predict(imaging['T2'])\n",
    "\n",
    "# Plot the \n",
    "sns.scatterplot(x=yhat,y=imaging['PD'])\n",
    "plt.plot([-1,3],[-1,3],linewidth=2)\n",
    "\n",
    "#add linear regression line to scatterplot \n",
    "plt.plot(imaging['T2'], m*imaging['T2'] + b)\n",
    "plt.xlabel(\"yhat\")\n",
    "plt.legend(['Identity','OLS'])\n",
    "plt.grid()"
   ]
  },
  {
   "cell_type": "code",
   "execution_count": 12,
   "id": "adb4af72-5fd1-4e9c-b44e-ea1e1463819f",
   "metadata": {},
   "outputs": [
    {
     "name": "stdout",
     "output_type": "stream",
     "text": [
      "OLS RMSE: 0.42935456\n",
      "0.7831514763656003\n",
      "0.3137632272381782\n"
     ]
    }
   ],
   "source": [
    "#calculate RMSE\n",
    "rmse = sqrt(mean_squared_error(imaging['PD'], m*imaging['T2'] + b)) \n",
    "print(f'OLS RMSE: {rmse:.8f}')\n",
    "\n",
    "\n",
    "# Extract the slope m and intercept b from the model\n",
    "m = fit.params.T2\n",
    "b = fit.params.Intercept\n",
    "\n",
    "print(m)\n",
    "print(b)"
   ]
  },
  {
   "cell_type": "markdown",
   "id": "69ba0b38-b212-4b3c-908b-c202a55db596",
   "metadata": {},
   "source": [
    "So one of the irritating things when working with tensors and numpy is that you will have to convert data structures to make them usable. It's not always clear when this needs to be done and you will encounter problems. However, you will generally see error messages that make reference to incorrect dimensions or how a certain function expects a tensor (or a numpy array).  "
   ]
  },
  {
   "cell_type": "code",
   "execution_count": 13,
   "id": "fb0cde5f-84d3-45dd-8942-e47c2d479403",
   "metadata": {},
   "outputs": [],
   "source": [
    "xtraining = torch.from_numpy(imaging['T2'].values)\n",
    "ytraining = torch.from_numpy(imaging['PD'].values)\n",
    "\n",
    "# So we will need to reshape the data to make it a column instead of a row\n",
    "# You couls also use the unsqueeze function for this.\n",
    "\n",
    "xtraining = xtraining.reshape(-1,1).float()\n",
    "ytraining = ytraining.reshape(-1,1).float()"
   ]
  },
  {
   "cell_type": "markdown",
   "id": "ead65598-8d47-426e-9f85-1df8383ed6fb",
   "metadata": {},
   "source": [
    "## Model classes\n",
    "\n",
    "PyTorch lets us define models as object classes that can store multiple model layers. For now, though, we only need a single <tt>linear</tt> layer. This is quite easy to do here."
   ]
  },
  {
   "cell_type": "code",
   "execution_count": 14,
   "id": "b9ba7345-5dfc-4322-8748-687da9f1dc60",
   "metadata": {},
   "outputs": [],
   "source": [
    "class LinearRegressionModel(torch.nn.Module):\n",
    "    def __init__(self, input_dim, output_dim):\n",
    "        super(LinearRegressionModel, self).__init__()\n",
    "        self.linear = nn.Linear(input_dim, output_dim) \n",
    "\n",
    "    def forward(self, x):\n",
    "        out = self.linear(x)\n",
    "        return out\n"
   ]
  },
  {
   "cell_type": "markdown",
   "id": "91567e7f-81d1-4b16-8aa1-5c4333c09df4",
   "metadata": {},
   "source": [
    "When <tt>Model</tt> is instantiated, we need to pass in the size (dimensions) of the incoming and outgoing features. For our purposes we'll use (1,1).<br><br>As above, we can see the initial hyperparameters. So we could initiate the process ourselves where we create a model instance and then immediately check the resulting weight and bias."
   ]
  },
  {
   "cell_type": "code",
   "execution_count": 15,
   "id": "1a48592d-3040-4d29-b840-75b6695a01c5",
   "metadata": {},
   "outputs": [
    {
     "name": "stdout",
     "output_type": "stream",
     "text": [
      "LinearRegressionModel(\n",
      "  (linear): Linear(in_features=1, out_features=1, bias=True)\n",
      ")\n",
      "Weight: 0.10597813129425049\n",
      "Bias:   0.9637961387634277\n"
     ]
    }
   ],
   "source": [
    "torch.manual_seed(59)\n",
    "model = LinearRegressionModel(1, 1)\n",
    "print(model)\n",
    "print('Weight:', model.linear.weight.item())\n",
    "print('Bias:  ', model.linear.bias.item())"
   ]
  },
  {
   "cell_type": "code",
   "execution_count": 16,
   "id": "f814cbdd-85d2-4b5e-8493-2302a1e2323a",
   "metadata": {},
   "outputs": [
    {
     "name": "stdout",
     "output_type": "stream",
     "text": [
      "tensor([1.1758], grad_fn=<AddBackward0>)\n"
     ]
    }
   ],
   "source": [
    "x = torch.tensor([2.0])\n",
    "print(model.forward(x))   # equivalent to print(model(x))"
   ]
  },
  {
   "cell_type": "code",
   "execution_count": 17,
   "id": "b714a8a1-b760-4ae4-8354-b5e36bf9a1e1",
   "metadata": {},
   "outputs": [
    {
     "name": "stdout",
     "output_type": "stream",
     "text": [
      "[-0.8178608  2.8526049]\n",
      "[0.8771208 1.26611  ]\n"
     ]
    }
   ],
   "source": [
    "# Let's now try a very basic first effort\n",
    "x1 = np.array([xtraining.min(),xtraining.max()])\n",
    "print(x1)\n",
    "\n",
    "#\n",
    "w1 = model.linear.weight.item()\n",
    "b1 = model.linear.bias.item()\n",
    "y1 = x1*w1 + b1\n",
    "print(y1)"
   ]
  },
  {
   "cell_type": "code",
   "execution_count": 18,
   "id": "97fec9ee-adc2-4634-bc37-e8e714183894",
   "metadata": {},
   "outputs": [
    {
     "data": {
      "image/png": "[encoded data removed]",
      "text/plain": [
       "<Figure size 432x288 with 1 Axes>"
      ]
     },
     "metadata": {
      "needs_background": "light"
     },
     "output_type": "display_data"
    }
   ],
   "source": [
    "plt.scatter(xtraining, ytraining)\n",
    "plt.plot(x1,y1,'r')\n",
    "plt.title('A (Poor) Initial Model')\n",
    "plt.ylabel('y')\n",
    "plt.xlabel('x')\n",
    "plt.grid()"
   ]
  },
  {
   "cell_type": "markdown",
   "id": "6e46c7e3-227e-4471-9b3d-6b226f3c4e21",
   "metadata": {},
   "source": [
    "## Develop The Model\n",
    "\n",
    "Let's further develop this model to see if we can improve the weights and biases to hopefully obtain as good as model as the OLS solution."
   ]
  },
  {
   "cell_type": "code",
   "execution_count": 19,
   "id": "43b3886e-209d-4341-8bab-12027225dc16",
   "metadata": {},
   "outputs": [],
   "source": [
    "# Create a model\n",
    "model = LinearRegressionModel(1,1)"
   ]
  },
  {
   "cell_type": "markdown",
   "id": "bc6b07d8-0f96-451c-8e89-28dc85fbd4e1",
   "metadata": {},
   "source": [
    "## Set the loss function\n",
    "We could write our own function to apply a Mean Squared Error (MSE) that follows<br>\n",
    "\n",
    "$\\begin{split}MSE &= \\frac {1} {n} \\sum_{i=1}^n {(y_i - \\hat y_i)}^2 \\\\\n",
    "&= \\frac {1} {n} \\sum_{i=1}^n {(y_i - (wx_i + b))}^2\\end{split}$<br>\n",
    "\n",
    "Fortunately PyTorch has it built in.<br>\n",
    "<em>By convention, you'll see the variable name \"criterion\" used, but feel free to use something like \"linear_loss_func\" if that's clearer.</em>"
   ]
  },
  {
   "cell_type": "code",
   "execution_count": 20,
   "id": "e441312b-1300-4abf-902b-63dfb768cd89",
   "metadata": {},
   "outputs": [],
   "source": [
    "# Setup up a loss function\n",
    "loss_fn = torch.nn.MSELoss(reduction=\"sum\")"
   ]
  },
  {
   "cell_type": "markdown",
   "id": "0f309333-657f-44fe-aa48-9ec01e286ea9",
   "metadata": {},
   "source": [
    "## Set the optimization\n",
    "Here we'll use <a href='https://en.wikipedia.org/wiki/Stochastic_gradient_descent'>Stochastic Gradient Descent</a> (SGD) with an applied <a href='https://en.wikipedia.org/wiki/Learning_rate'>learning rate</a> (lr) of 0.0001. Recall that the learning rate tells the optimizer how much to adjust each parameter on the next round of calculations. Too large a step and we run the risk of overshooting the minimum, causing the algorithm to diverge. Too small and it will take a long time to converge.\n",
    "\n",
    "For more information, see <a href='https://pytorch.org/docs/stable/optim.html'><strong><tt>torch.optim</tt></strong></a>"
   ]
  },
  {
   "cell_type": "code",
   "execution_count": 21,
   "id": "ec679b0c-758c-445e-a7d6-a6c42931e993",
   "metadata": {},
   "outputs": [],
   "source": [
    "# Create an optimizer and specify a learning rate\n",
    "optimizer = torch.optim.SGD(model.parameters(),lr=1e-4)"
   ]
  },
  {
   "cell_type": "markdown",
   "id": "9a9b9e43-245c-41d0-b754-1091774e17be",
   "metadata": {},
   "source": [
    "## Train the model\n",
    "An <em>epoch</em> is a single pass through the entire dataset. We want to pick a sufficiently large number of epochs to reach a plateau close to our known parameters of $\\mathrm {weight} = 0.783,\\; \\mathrm {bias} = 0.313$ Remember, we know what these should from our earlier use of the OLS function from statsmodels."
   ]
  },
  {
   "cell_type": "markdown",
   "id": "a3c62bd2-2fc2-4730-ae4b-8499cd138ad3",
   "metadata": {},
   "source": [
    "## Quick Review\n",
    "\n",
    "So the following presents a summary of what we will do to full exploit the power of the Nueral Net in this example."
   ]
  },
  {
   "cell_type": "markdown",
   "id": "59141baf-437a-4466-9fc7-11013bc14d7f",
   "metadata": {},
   "source": [
    "<div class=\"alert alert-success\"\"><strong>Let's walk through the steps we're about to take:</strong><br>\n",
    "\n",
    "1. Set a reasonably large number of passes<br>\n",
    "<tt><font color=black>epochs = 400</font></tt><br>\n",
    "2. Create a list to store loss values. This will let us view our progress afterward.<br>\n",
    "<tt><font color=black>losses = []</font></tt><br>\n",
    "<tt><font color=black>for t in range(epochs):</font></tt><br>\n",
    "3. Bump \"t\" so that the printed report starts at 1<br>\n",
    "<tt><font color=black>&nbsp;&nbsp;&nbsp;&nbsp;t+=1</font></tt><br>\n",
    "4. Create a prediction set by running \"X\" through the current model parameters<br>\n",
    "<tt><font color=black>&nbsp;&nbsp;&nbsp;&nbsp;y_pred = model.forward(X)</font></tt><br>\n",
    "5. Calculate the loss<br>\n",
    "<tt><font color=black>&nbsp;&nbsp;&nbsp;&nbsp;loss = criterion(y_pred, y)</font></tt><br>\n",
    "6. Add the loss value to our tracking list<br>\n",
    "<tt><font color=black>&nbsp;&nbsp;&nbsp;&nbsp;losses.append(loss)</font></tt><br>\n",
    "7. Print the current line of results<br>\n",
    "<tt><font color=black>&nbsp;&nbsp;&nbsp;&nbsp;print(f'epoch: {t:2} loss: {loss.item():10.8f}')</font></tt><br>\n",
    "8. Gradients accumulate with every backprop. To prevent compounding we need to reset the stored gradient for each new epoch.<br>\n",
    "<tt><font color=black>&nbsp;&nbsp;&nbsp;&nbsp;optimizer.zero_grad()</font></tt><br>\n",
    "9. Now we can backprop<br>\n",
    "<tt><font color=black>&nbsp;&nbsp;&nbsp;&nbsp;loss.backward()</font></tt><br>\n",
    "10. Finally, we can update the hyperparameters of our model<br>\n",
    "<tt><font color=black>&nbsp;&nbsp;&nbsp;&nbsp;optimizer.step()</font></tt>\n",
    "</div>"
   ]
  },
  {
   "cell_type": "code",
   "execution_count": 22,
   "id": "2869782a-394a-42e3-9545-30e403299824",
   "metadata": {},
   "outputs": [
    {
     "name": "stdout",
     "output_type": "stream",
     "text": [
      "epoch:  0  loss: 279.87173462                 weight: -0.17026365                bias: -0.64054596\n",
      "epoch: 10  loss: 164.14356995                 weight: 0.05857323                bias: -0.38710508\n",
      "epoch: 20  loss: 99.67747498                 weight: 0.23036841                bias: -0.19885704\n",
      "epoch: 30  loss: 63.76173019                 weight: 0.35951567                bias: -0.05919041\n",
      "epoch: 40  loss: 43.74781418                 weight: 0.45676285                bias: 0.04428581\n",
      "epoch: 50  loss: 32.59148788                 weight: 0.53013623                bias: 0.12081349\n",
      "epoch: 60  loss: 26.36952019                 weight: 0.58563089                bias: 0.17728488\n",
      "epoch: 70  loss: 22.89685059                 weight: 0.62772554                bias: 0.21883900\n",
      "epoch: 80  loss: 20.95641136                 weight: 0.65976703                bias: 0.24930710\n",
      "epoch: 90  loss: 19.87024307                 weight: 0.68425727                bias: 0.27154458\n",
      "epoch: 100  loss: 19.26065254                 weight: 0.70306689                bias: 0.28767902\n",
      "epoch: 110  loss: 18.91717720                 weight: 0.71759552                bias: 0.29929510\n",
      "epoch: 120  loss: 18.72249985                 weight: 0.72889096                bias: 0.30757248\n",
      "epoch: 130  loss: 18.61119843                 weight: 0.73773813                bias: 0.31338900\n",
      "epoch: 140  loss: 18.54676628                 weight: 0.74472558                bias: 0.31739733\n",
      "epoch: 150  loss: 18.50879860                 weight: 0.75029504                bias: 0.32008225\n",
      "epoch: 160  loss: 18.48588562                 weight: 0.75477856                bias: 0.32180357\n",
      "epoch: 170  loss: 18.47162247                 weight: 0.75842601                bias: 0.32282779\n",
      "epoch: 180  loss: 18.46240234                 weight: 0.76142597                bias: 0.32335231\n",
      "epoch: 190  loss: 18.45618248                 weight: 0.76392090                bias: 0.32352266\n",
      "epoch: 200  loss: 18.45179558                 weight: 0.76601899                bias: 0.32344598\n",
      "epoch: 210  loss: 18.44857025                 weight: 0.76780254                bias: 0.32320097\n",
      "epoch: 220  loss: 18.44610977                 weight: 0.76933408                bias: 0.32284492\n",
      "epoch: 230  loss: 18.44417191                 weight: 0.77066201                bias: 0.32241967\n",
      "epoch: 240  loss: 18.44261360                 weight: 0.77182341                bias: 0.32195523\n",
      "epoch: 250  loss: 18.44133949                 weight: 0.77284729                bias: 0.32147306\n",
      "epoch: 260  loss: 18.44028091                 weight: 0.77375633                bias: 0.32098830\n",
      "epoch: 270  loss: 18.43939590                 weight: 0.77456820                bias: 0.32051134\n",
      "epoch: 280  loss: 18.43865585                 weight: 0.77529705                bias: 0.32004926\n",
      "epoch: 290  loss: 18.43803024                 weight: 0.77595443                bias: 0.31960657\n",
      "epoch: 300  loss: 18.43750000                 weight: 0.77654952                bias: 0.31918597\n",
      "epoch: 310  loss: 18.43705177                 weight: 0.77709001                bias: 0.31878901\n",
      "epoch: 320  loss: 18.43667221                 weight: 0.77758217                bias: 0.31841612\n",
      "epoch: 330  loss: 18.43634987                 weight: 0.77803123                bias: 0.31806713\n",
      "epoch: 340  loss: 18.43607712                 weight: 0.77844197                bias: 0.31774169\n",
      "epoch: 350  loss: 18.43584442                 weight: 0.77881795                bias: 0.31743884\n",
      "epoch: 360  loss: 18.43564796                 weight: 0.77916276                bias: 0.31715748\n",
      "epoch: 370  loss: 18.43548012                 weight: 0.77947903                bias: 0.31689653\n",
      "epoch: 380  loss: 18.43533707                 weight: 0.77976948                bias: 0.31665483\n",
      "epoch: 390  loss: 18.43521881                 weight: 0.78003645                bias: 0.31643113\n"
     ]
    }
   ],
   "source": [
    "# Capture the losses in a list of the same name\n",
    "losses = []\n",
    "\n",
    "# Determine the number of epochs (this is subject to experimentation)\n",
    "epochs = 400\n",
    "\n",
    "# Loop through all the data for each epoch number\n",
    "for t in range(epochs):\n",
    "    \n",
    "    # Get a prediction\n",
    "    y_pred = model(xtraining)\n",
    "    \n",
    "    # Determine how good it was in terms of the loss function\n",
    "    loss = loss_fn(y_pred,ytraining)\n",
    "    \n",
    "    # Track the loss for each epoch\n",
    "    losses.append(loss)\n",
    "    \n",
    "    # This let's us print out progress for every 10 epochs\n",
    "    if t%10 == 0:\n",
    "        print(f'epoch: {t:2}  loss: {loss.item():10.8f}   \\\n",
    "              weight: {model.linear.weight.item():10.8f}  \\\n",
    "              bias: {model.linear.bias.item():10.8f}') \n",
    "\n",
    "    # Zero out the gradients so they won't carryover into subsequent iterations\n",
    "    optimizer.zero_grad()\n",
    "    \n",
    "    # This does the back propogation\n",
    "    loss.backward()\n",
    "    \n",
    "    # This updates the hyperparameters - in this case the weights and bias\n",
    "    optimizer.step()\n"
   ]
  },
  {
   "cell_type": "code",
   "execution_count": 23,
   "id": "0342e5e8-2db9-45f6-9e80-94b2a8768b60",
   "metadata": {},
   "outputs": [
    {
     "name": "stdout",
     "output_type": "stream",
     "text": [
      "TORCH RMSE: 0.42936132\n"
     ]
    },
    {
     "data": {
      "image/png": "[encoded data removed]",
      "text/plain": [
       "<Figure size 432x288 with 1 Axes>"
      ]
     },
     "metadata": {
      "needs_background": "light"
     },
     "output_type": "display_data"
    }
   ],
   "source": [
    "torchpreds = model(xtraining).detach().numpy().reshape(-1)\n",
    "sns.scatterplot(x=torchpreds,y=yhat)\n",
    "plt.title('OLS predictions vs torch predictions')\n",
    "plt.xlabel('Torch Predictions')\n",
    "plt.ylabel('OLS Predictions')\n",
    "plt.grid()\n",
    "#calculate RMSE\n",
    "\n",
    "rmse = sqrt(mean_squared_error(ytraining, model(xtraining).detach().numpy().reshape(-1)))\n",
    "print(f'TORCH RMSE: {rmse:.8f}')"
   ]
  },
  {
   "cell_type": "code",
   "execution_count": 24,
   "id": "3e55efae-5610-4b3b-b85f-ce99b0da7743",
   "metadata": {},
   "outputs": [
    {
     "data": {
      "image/png": "[encoded data removed]",
      "text/plain": [
       "<Figure size 432x288 with 1 Axes>"
      ]
     },
     "metadata": {
      "needs_background": "light"
     },
     "output_type": "display_data"
    }
   ],
   "source": [
    "plt.plot(range(epochs), losses)\n",
    "plt.ylabel('Loss')\n",
    "plt.xlabel('epoch')\n",
    "plt.title(\"Loss Over Epochs\")\n",
    "plt.grid()"
   ]
  },
  {
   "cell_type": "code",
   "execution_count": 25,
   "id": "6889bad5-2d61-4c0b-88f4-9b45e2f7daa1",
   "metadata": {},
   "outputs": [
    {
     "name": "stdout",
     "output_type": "stream",
     "text": [
      "Current weight: 0.78028202, Current bias: 0.31622428\n",
      "\n",
      "[-0.8178608  2.8526049]\n",
      "[-0.3219378  2.5420606]\n",
      "OLS solution:\n"
     ]
    },
    {
     "data": {
      "text/plain": [
       "Intercept    0.313763\n",
       "T2           0.783151\n",
       "dtype: float64"
      ]
     },
     "execution_count": 25,
     "metadata": {},
     "output_type": "execute_result"
    }
   ],
   "source": [
    "w1,b1 = model.linear.weight.item(), model.linear.bias.item()\n",
    "print(f'Current weight: {w1:.8f}, Current bias: {b1:.8f}')\n",
    "print()\n",
    "\n",
    "y1 = x1*w1 + b1\n",
    "print(x1)\n",
    "print(y1)\n",
    "\n",
    "# Let's recall the solution coming for the OLS appr\n",
    "print(\"OLS solution:\")\n",
    "fit.params"
   ]
  },
  {
   "cell_type": "code",
   "execution_count": 26,
   "id": "b7a791c0-719c-4ff3-b817-f4da873e5b7d",
   "metadata": {},
   "outputs": [
    {
     "data": {
      "image/png": "[encoded data removed]",
      "text/plain": [
       "<Figure size 432x288 with 1 Axes>"
      ]
     },
     "metadata": {
      "needs_background": "light"
     },
     "output_type": "display_data"
    }
   ],
   "source": [
    "plt.scatter(xtraining, ytraining)\n",
    "plt.plot(x1,y1,'r')\n",
    "plt.title('Current Model')\n",
    "plt.ylabel('y')\n",
    "plt.xlabel('x')\n",
    "plt.grid()"
   ]
  },
  {
   "cell_type": "markdown",
   "id": "597823b0",
   "metadata": {},
   "source": [
    "Let's work with some real data. This is the California real estate data set wherein we use features of a home to predict its ultimate selling price. \n",
    "\n",
    "**Data Set Characteristics:**\n",
    "\n",
    "     Number of Instances: 20640\n",
    "\n",
    "     Number of Attributes: 8 numeric, 7 predictive features and 1 target\n",
    "\n",
    "     Attribute Information:\n",
    "        - MedInc        median income in block\n",
    "        - HouseAge      median house age in block\n",
    "        - AveRooms      average number of rooms\n",
    "        - AveBedrms     average number of bedrooms\n",
    "        - Population    block population\n",
    "        - AveOccup      average house occupancy\n",
    "        \n",
    "The *target variable* is the median house value for California districts.\n",
    "\n",
    "This dataset was derived from the 1990 U.S. census, using one row per census\n",
    "block group. A block group is the smallest geographical unit for which the U.S.\n",
    "Census Bureau publishes sample data (a block group typically has a population\n",
    "of 600 to 3,000 people).\n",
    "\n",
    "This dataset was obtained from the StatLib repository.\n",
    "http://lib.stat.cmu.edu/datasets/\n",
    "\n",
    "\n",
    "It can be downloaded/loaded using the\n",
    ":func:`sklearn.datasets.fetch_california_housing` function.\n",
    "\n",
    ".. topic:: References\n",
    "\n",
    "    - Pace, R. Kelley and Ronald Barry, Sparse Spatial Autoregressions,\n",
    "      Statistics and Probability Letters, 33 (1997) 291-297\n",
    "\n",
    "\n",
    "If we want to employ a method such as regression we could do so. We could also represent the regression problem as a graph. See this [excellent blog post](https://joshuagoings.com/2020/05/05/neural-network/) for more informaton on Deep Learning as applied to Linear Regression. The figure below comes from this blog. \n",
    "\n",
    "\n",
    "<img src=\"pics/regr_graph.png\" width =\"600\" height=600>\n",
    "\n",
    "\n",
    "<img src=\"pics/regress2.png\" width =\"600\" height=600>\n",
    "\n",
    "We can solve this a number of ways including use of SGD Stochastic Gradient Descent which we have discussed. Thus, we can train the model using the following steps:\n",
    "\n",
    "    Generate predictions\n",
    "\n",
    "    Calculate the loss\n",
    "\n",
    "    Compute gradients w.r.t the weights and biases\n",
    "\n",
    "    Adjust the weights by subtracting a small quantity proportional to the gradient\n",
    "\n",
    "    Reset the gradients to zero\n",
    "\n",
    "We reduce the loss and improve our model using the gradient descent optimization algorithm"
   ]
  },
  {
   "cell_type": "code",
   "execution_count": 27,
   "id": "05547694",
   "metadata": {},
   "outputs": [
    {
     "data": {
      "text/html": [
       "<div>\n",
       "<style scoped>\n",
       "    .dataframe tbody tr th:only-of-type {\n",
       "        vertical-align: middle;\n",
       "    }\n",
       "\n",
       "    .dataframe tbody tr th {\n",
       "        vertical-align: top;\n",
       "    }\n",
       "\n",
       "    .dataframe thead th {\n",
       "        text-align: right;\n",
       "    }\n",
       "</style>\n",
       "<table border=\"1\" class=\"dataframe\">\n",
       "  <thead>\n",
       "    <tr style=\"text-align: right;\">\n",
       "      <th></th>\n",
       "      <th>MedInc</th>\n",
       "      <th>HouseAge</th>\n",
       "      <th>AveRooms</th>\n",
       "      <th>AveBedrms</th>\n",
       "      <th>Population</th>\n",
       "      <th>AveOccup</th>\n",
       "      <th>Price</th>\n",
       "    </tr>\n",
       "  </thead>\n",
       "  <tbody>\n",
       "    <tr>\n",
       "      <th>0</th>\n",
       "      <td>8.3252</td>\n",
       "      <td>41.0</td>\n",
       "      <td>6.984127</td>\n",
       "      <td>1.023810</td>\n",
       "      <td>322.0</td>\n",
       "      <td>2.555556</td>\n",
       "      <td>4.526</td>\n",
       "    </tr>\n",
       "    <tr>\n",
       "      <th>1</th>\n",
       "      <td>8.3014</td>\n",
       "      <td>21.0</td>\n",
       "      <td>6.238137</td>\n",
       "      <td>0.971880</td>\n",
       "      <td>2401.0</td>\n",
       "      <td>2.109842</td>\n",
       "      <td>3.585</td>\n",
       "    </tr>\n",
       "    <tr>\n",
       "      <th>2</th>\n",
       "      <td>7.2574</td>\n",
       "      <td>52.0</td>\n",
       "      <td>8.288136</td>\n",
       "      <td>1.073446</td>\n",
       "      <td>496.0</td>\n",
       "      <td>2.802260</td>\n",
       "      <td>3.521</td>\n",
       "    </tr>\n",
       "    <tr>\n",
       "      <th>3</th>\n",
       "      <td>5.6431</td>\n",
       "      <td>52.0</td>\n",
       "      <td>5.817352</td>\n",
       "      <td>1.073059</td>\n",
       "      <td>558.0</td>\n",
       "      <td>2.547945</td>\n",
       "      <td>3.413</td>\n",
       "    </tr>\n",
       "    <tr>\n",
       "      <th>4</th>\n",
       "      <td>3.8462</td>\n",
       "      <td>52.0</td>\n",
       "      <td>6.281853</td>\n",
       "      <td>1.081081</td>\n",
       "      <td>565.0</td>\n",
       "      <td>2.181467</td>\n",
       "      <td>3.422</td>\n",
       "    </tr>\n",
       "    <tr>\n",
       "      <th>...</th>\n",
       "      <td>...</td>\n",
       "      <td>...</td>\n",
       "      <td>...</td>\n",
       "      <td>...</td>\n",
       "      <td>...</td>\n",
       "      <td>...</td>\n",
       "      <td>...</td>\n",
       "    </tr>\n",
       "    <tr>\n",
       "      <th>20635</th>\n",
       "      <td>1.5603</td>\n",
       "      <td>25.0</td>\n",
       "      <td>5.045455</td>\n",
       "      <td>1.133333</td>\n",
       "      <td>845.0</td>\n",
       "      <td>2.560606</td>\n",
       "      <td>0.781</td>\n",
       "    </tr>\n",
       "    <tr>\n",
       "      <th>20636</th>\n",
       "      <td>2.5568</td>\n",
       "      <td>18.0</td>\n",
       "      <td>6.114035</td>\n",
       "      <td>1.315789</td>\n",
       "      <td>356.0</td>\n",
       "      <td>3.122807</td>\n",
       "      <td>0.771</td>\n",
       "    </tr>\n",
       "    <tr>\n",
       "      <th>20637</th>\n",
       "      <td>1.7000</td>\n",
       "      <td>17.0</td>\n",
       "      <td>5.205543</td>\n",
       "      <td>1.120092</td>\n",
       "      <td>1007.0</td>\n",
       "      <td>2.325635</td>\n",
       "      <td>0.923</td>\n",
       "    </tr>\n",
       "    <tr>\n",
       "      <th>20638</th>\n",
       "      <td>1.8672</td>\n",
       "      <td>18.0</td>\n",
       "      <td>5.329513</td>\n",
       "      <td>1.171920</td>\n",
       "      <td>741.0</td>\n",
       "      <td>2.123209</td>\n",
       "      <td>0.847</td>\n",
       "    </tr>\n",
       "    <tr>\n",
       "      <th>20639</th>\n",
       "      <td>2.3886</td>\n",
       "      <td>16.0</td>\n",
       "      <td>5.254717</td>\n",
       "      <td>1.162264</td>\n",
       "      <td>1387.0</td>\n",
       "      <td>2.616981</td>\n",
       "      <td>0.894</td>\n",
       "    </tr>\n",
       "  </tbody>\n",
       "</table>\n",
       "<p>20640 rows × 7 columns</p>\n",
       "</div>"
      ],
      "text/plain": [
       "       MedInc  HouseAge  AveRooms  AveBedrms  Population  AveOccup  Price\n",
       "0      8.3252      41.0  6.984127   1.023810       322.0  2.555556  4.526\n",
       "1      8.3014      21.0  6.238137   0.971880      2401.0  2.109842  3.585\n",
       "2      7.2574      52.0  8.288136   1.073446       496.0  2.802260  3.521\n",
       "3      5.6431      52.0  5.817352   1.073059       558.0  2.547945  3.413\n",
       "4      3.8462      52.0  6.281853   1.081081       565.0  2.181467  3.422\n",
       "...       ...       ...       ...        ...         ...       ...    ...\n",
       "20635  1.5603      25.0  5.045455   1.133333       845.0  2.560606  0.781\n",
       "20636  2.5568      18.0  6.114035   1.315789       356.0  3.122807  0.771\n",
       "20637  1.7000      17.0  5.205543   1.120092      1007.0  2.325635  0.923\n",
       "20638  1.8672      18.0  5.329513   1.171920       741.0  2.123209  0.847\n",
       "20639  2.3886      16.0  5.254717   1.162264      1387.0  2.616981  0.894\n",
       "\n",
       "[20640 rows x 7 columns]"
      ]
     },
     "execution_count": 27,
     "metadata": {},
     "output_type": "execute_result"
    }
   ],
   "source": [
    "import numpy as np\n",
    "import pandas as pd\n",
    "import torch\n",
    "\n",
    "url = \"https://raw.githubusercontent.com/steviep42/bios_534_2021/main/data/cal.csv\"\n",
    "cal = pd.read_csv(url)\n",
    "cal.shape\n",
    "cal"
   ]
  },
  {
   "cell_type": "markdown",
   "id": "d4616300",
   "metadata": {},
   "source": [
    "So let's separate data into X (predictor variables) and the target variable being predicted which in this case will be the price of the house that was sold."
   ]
  },
  {
   "cell_type": "code",
   "execution_count": 28,
   "id": "577a4897",
   "metadata": {},
   "outputs": [],
   "source": [
    "# Separate the target (y) from the predictors (X)\n",
    "\n",
    "X_numpy = np.array(cal.drop('Price',axis=1), dtype='float32')\n",
    "y_numpy = np.array(cal.Price, dtype='float32')\n",
    "\n",
    "# We can use the scikit preprocessing module to normalize the inputs \n",
    "# because the features are not on the same scale\n",
    "\n",
    "from sklearn import preprocessing\n",
    "scaler = preprocessing.StandardScaler().fit(X_numpy)\n",
    "X_scaled = scaler.transform(X_numpy)"
   ]
  },
  {
   "cell_type": "code",
   "execution_count": 29,
   "id": "43bfd54f",
   "metadata": {},
   "outputs": [
    {
     "data": {
      "text/plain": [
       "<AxesSubplot:xlabel='MedInc', ylabel='Price'>"
      ]
     },
     "execution_count": 29,
     "metadata": {},
     "output_type": "execute_result"
    },
    {
     "data": {
      "image/png": "[encoded data removed]",
      "text/plain": [
       "<Figure size 432x288 with 2 Axes>"
      ]
     },
     "metadata": {
      "needs_background": "light"
     },
     "output_type": "display_data"
    },
    {
     "data": {
      "image/png": "[encoded data removed]",
      "text/plain": [
       "<Figure size 432x288 with 1 Axes>"
      ]
     },
     "metadata": {
      "needs_background": "light"
     },
     "output_type": "display_data"
    },
    {
     "data": {
      "image/png": "[encoded data removed]",
      "text/plain": [
       "<Figure size 432x288 with 1 Axes>"
      ]
     },
     "metadata": {
      "needs_background": "light"
     },
     "output_type": "display_data"
    },
    {
     "data": {
      "image/png": "[encoded data removed]",
      "text/plain": [
       "<Figure size 432x288 with 2 Axes>"
      ]
     },
     "metadata": {
      "needs_background": "light"
     },
     "output_type": "display_data"
    },
    {
     "data": {
      "image/png": "[encoded data removed]",
      "text/plain": [
       "<Figure size 432x288 with 2 Axes>"
      ]
     },
     "metadata": {
      "needs_background": "light"
     },
     "output_type": "display_data"
    }
   ],
   "source": [
    "\n",
    "# Let's check for any major correlations\n",
    "import seaborn as sns\n",
    "corr_matrix = cal.corr()\n",
    "sns.heatmap(corr_matrix,annot=True)\n",
    "cal.plot.scatter(x='MedInc',y='Price')\n",
    "cal.plot.scatter(x='MedInc',y='Price',alpha=0.1,s=1)\n",
    "cal.plot.hexbin(x='MedInc',y='Price')\n",
    "cal.plot.hexbin(x='MedInc',y='Price',bins=\"log\")"
   ]
  },
  {
   "cell_type": "code",
   "execution_count": null,
   "id": "46fe2bcd-720c-430f-b0a9-328fadb36836",
   "metadata": {},
   "outputs": [],
   "source": [
    "import statsmodels.formula.api as smf\n",
    "import statsmodels as sm\n",
    "fit = smf.ols('y_numpy ~ X_numpy',data=X_numpy).fit()\n",
    "fit.summary('y_numpy ~ X_numpy')"
   ]
  },
  {
   "cell_type": "markdown",
   "id": "dc5aacf8",
   "metadata": {},
   "source": [
    "We can then turn the predictors and targets into tensors which can be more flexibly used with GPUs, CPUs, and TPUs to benefit from greatly enhanced speed."
   ]
  },
  {
   "cell_type": "code",
   "execution_count": 30,
   "id": "25cdd251",
   "metadata": {},
   "outputs": [],
   "source": [
    "# So now we can turn the data into tensors\n",
    "X = torch.from_numpy(X_scaled.astype(np.float32))\n",
    "y = torch.from_numpy(y_numpy.astype(np.float32))\n",
    "\n",
    "# Get the number of samples (rows) and features (columns)\n",
    "n_samples, n_features = X_numpy.shape\n",
    "input_size = n_features\n",
    "\n",
    "# Sometimes you will need to reshape the target to match dimensions of \n",
    "# predictor. I don't always do this in advance - almost never in fact\n",
    "# until I get an error message about shape mismtaches\n",
    "y = y.view(y.shape[0],1)"
   ]
  },
  {
   "cell_type": "markdown",
   "id": "baa3fe9c",
   "metadata": {},
   "source": [
    "So we might wish to predict the target (Price) in terms of some predictors\n",
    "\n",
    "Price = w11 * MedInc + w12 * HouseAge + w13 * AveRooms ..... + w16 * AveOccup + b1\n",
    "\n",
    "The weights and biases (w11, w12,... w16) can also be represented as matrices, initialized as random values. The first row of w and the first element of b are used to predict the target variable which is <b>Price</b>.The weights and biases (w11, w12,... w163, b1) can also be represented as matrices, initialized as random values. The first row of w and the first element of b are used to predict the target variable which is <b>Price</b>.\n",
    "\n"
   ]
  },
  {
   "cell_type": "code",
   "execution_count": 31,
   "id": "c6ff089a",
   "metadata": {},
   "outputs": [
    {
     "name": "stdout",
     "output_type": "stream",
     "text": [
      "ERROR! Session/line number was not unique in database. History logging moved to new session 682\n",
      "tensor([[-0.8727,  0.3325, -0.4457, -0.9303,  0.1654, -0.1935]],\n",
      "       requires_grad=True)\n",
      "tensor([0.3101], requires_grad=True)\n"
     ]
    }
   ],
   "source": [
    "# Weights and biases - notice how we use the n_features to help us\n",
    "# figure out how many weights we need.\n",
    "\n",
    "w = torch.randn(1, n_features, requires_grad=True)\n",
    "b = torch.randn(1, requires_grad=True)\n",
    "print(w)\n",
    "print(b)"
   ]
  },
  {
   "cell_type": "markdown",
   "id": "e99ea02f",
   "metadata": {},
   "source": [
    "torch.randn creates a tensor with the given shape, with elements picked randomly from a normal distribution with mean 0 and standard deviation 1.\n",
    "\n",
    "Our model is simply a function that performs a matrix multiplication of the inputs and the weights w (transposed) and adds the bias b (replicated for each observation)."
   ]
  },
  {
   "cell_type": "markdown",
   "id": "75b9cd69",
   "metadata": {},
   "source": [
    "<img src=\"pics/regress2.png\" width =\"600\" height=600>\n"
   ]
  },
  {
   "cell_type": "markdown",
   "id": "eafdfd68",
   "metadata": {},
   "source": [
    "The <b>\"@\"</b> represents matrix multiplication in PyTorch, and the <b>.t</b> method returns the transpose of a tensor. The matrix obtained by passing the input data into the model is a set of predictions for the target variables. So what we are doing here is defining a model. We don't really have a neural network. It's just some matrix operations whose loss will be minimized in accordance with some optimization techniques. "
   ]
  },
  {
   "cell_type": "code",
   "execution_count": 32,
   "id": "8329fbe3",
   "metadata": {},
   "outputs": [
    {
     "name": "stdout",
     "output_type": "stream",
     "text": [
      "tensor([[-1.6983],\n",
      "        [-1.6674],\n",
      "        [-1.2288],\n",
      "        ...,\n",
      "        [ 0.9468],\n",
      "        [ 0.7372],\n",
      "        [ 0.5625]], grad_fn=<AddBackward0>)\n"
     ]
    }
   ],
   "source": [
    "def model(x):\n",
    "    return x @ w.t() + b\n",
    "\n",
    "# Generate predictions\n",
    "preds = model(X)\n",
    "\n",
    "# Generate predictions\n",
    "print(preds)"
   ]
  },
  {
   "cell_type": "markdown",
   "id": "630b17d5",
   "metadata": {},
   "source": [
    "Let's print out the predictions. Are these close ? How would we know ?"
   ]
  },
  {
   "cell_type": "code",
   "execution_count": 33,
   "id": "22a7973c",
   "metadata": {},
   "outputs": [
    {
     "name": "stdout",
     "output_type": "stream",
     "text": [
      "Actual y values are: \n",
      " tensor([[4.5260],\n",
      "        [3.5850],\n",
      "        [3.5210],\n",
      "        [3.4130],\n",
      "        [3.4220]]) \n",
      "\n",
      "The corresponding predictions are: \n",
      " tensor([[-1.6983],\n",
      "        [-1.6674],\n",
      "        [-1.2288],\n",
      "        [-0.0276],\n",
      "        [ 0.7063]], grad_fn=<SliceBackward>)\n"
     ]
    }
   ],
   "source": [
    "print(\"Actual y values are: \\n\",y[0:5],\"\\n\")\n",
    "print(\"The corresponding predictions are: \\n\",preds[0:5])"
   ]
  },
  {
   "cell_type": "markdown",
   "id": "bab598b4",
   "metadata": {},
   "source": [
    "You can see a significant difference between our model's predictions and the actual targets because we've initialized our model with random weights and biases. Obviously, we can't expect a randomly initialized model to just work out of the box. This is just a starting point and it's quite common to see a first round of predictions to not be so impressive. \n",
    "\n",
    "Before we try to improve our model, we need a way to evaluate how well our model is performing. We can compare the model's predictions with the actual targets using the following method:\n",
    "\n",
    "    Calculate the difference between the two matrices (preds and targets).\n",
    "    Square all elements of the difference matrix to remove negative values.\n",
    "    Calculate the average of the elements in the resulting matrix.\n",
    "\n",
    "The result is a single number, known as the mean squared error (MSE). Here, we'll implement our own version of this function although PyTorch has a method for doing it also. For now, we'll just stick to our own way of doing this. \n",
    "\n",
    "$$ MSE = \\frac{1}{\\text{n}} \\sum_{\\text{i}=1}^\\text{n} \\left(\\hat{\\text{Y}_\\text{i}} - \\text{Y}_\\text{i}\\right)^2 $$"
   ]
  },
  {
   "cell_type": "code",
   "execution_count": 34,
   "id": "27ee014b",
   "metadata": {},
   "outputs": [
    {
     "name": "stdout",
     "output_type": "stream",
     "text": [
      "8.8\n"
     ]
    }
   ],
   "source": [
    "# MSE loss \n",
    "def mse(t1, t2):\n",
    "    diff = t1 - t2\n",
    "    return (torch.sum(diff * diff) / diff.numel())\n",
    "\n",
    "# Compute loss\n",
    "loss = mse(preds, y)\n",
    "print(round(loss.item(),2))"
   ]
  },
  {
   "cell_type": "markdown",
   "id": "9a90545c",
   "metadata": {},
   "source": [
    "Here’s how we can interpret the result: On average, each element in the prediction differs from the actual target by the square root of the loss. The result is called the loss because it indicates how bad the model is at predicting the target variables. It represents information loss in the model: the lower the loss, the better the model. See https://www.hackerearth.com/blog/developers/3-types-gradient-descent-algorithms-small-large-data-sets/\n",
    "\n",
    "<img src=\"pics/sgd.png\" width =\"600\" height=600>\n",
    "\n",
    "\n",
    "<h2>Compute Gradients</h2>\n",
    "\n",
    "Since we are using the SGD approach With PyTorch, we can automatically compute the gradient or derivative of the loss with respect to the weights and biases because they have requires_grad set to True. We'll see how this is useful in just a moment.\n",
    "\n",
    "The loss is a function of our weights and biases, and our objective is to find the set of weights where the loss is the lowest. If we plot a graph of the loss with respect to any individual weight or bias element, it will look like the figure shown below. An important insight from calculus is that the gradient indicates the rate of change of the loss, i.e., the loss function's slope w.r.t. the weights and biases.\n",
    "\n",
    "If a gradient element is positive:\n",
    "\n",
    "    increasing the weight element's value slightly will increase the loss\n",
    "    decreasing the weight element's value slightly will decrease the loss\n",
    "    \n",
    "<img src=\"pics/q1.png\" width =\"600\" height=600>\n",
    "\n",
    "\n",
    "If a gradient element is negative:\n",
    "\n",
    "    increasing the weight element's value slightly will decrease the loss\n",
    "    decreasing the weight element's value slightly will increase the loss\n",
    "   \n",
    "<img src=\"pics/q2.png\" width =\"600\" height=600>\n",
    "\n",
    "The increase or decrease in the loss by changing a weight element is proportional to the gradient of the loss w.r.t. that element. This observation forms the basis of the gradient descent optimization algorithm that we'll use to improve our model (by descending along the gradient).\n",
    "\n",
    "We can subtract from each weight element a small quantity proportional to the derivative of the loss w.r.t. that element to reduce the loss slightly.\n"
   ]
  },
  {
   "cell_type": "code",
   "execution_count": 35,
   "id": "37165cf5",
   "metadata": {},
   "outputs": [
    {
     "name": "stdout",
     "output_type": "stream",
     "text": [
      "tensor([[-0.8727,  0.3325, -0.4457, -0.9303,  0.1654, -0.1935]],\n",
      "       requires_grad=True)\n",
      "tensor([[-3.5941,  0.8071, -3.5137, -2.4714,  0.3428, -0.3172]])\n"
     ]
    }
   ],
   "source": [
    "# Compute gradients\n",
    "loss.backward()\n",
    "\n",
    "# Gradients for weights\n",
    "print(w)\n",
    "print(w.grad)"
   ]
  },
  {
   "cell_type": "markdown",
   "id": "b940354e",
   "metadata": {},
   "source": [
    "The gradients are stored in the .grad property of the respective tensors. Note that the derivative of the loss w.r.t. the weights matrix is itself a matrix with the same dimensions. We can offset the weights and bias using a \"learning rate\" which allows us to adjust the gradient with this offset."
   ]
  },
  {
   "cell_type": "code",
   "execution_count": 36,
   "id": "eebbce10",
   "metadata": {},
   "outputs": [
    {
     "name": "stdout",
     "output_type": "stream",
     "text": [
      "tensor(8.7977, grad_fn=<DivBackward0>)\n"
     ]
    }
   ],
   "source": [
    "learning_rate = 1e-2\n",
    "#learning_rate = 1e-5\n",
    "with torch.no_grad():\n",
    "    w -= w.grad * learning_rate\n",
    "    b -= b.grad * learning_rate\n",
    "\n",
    "    # Let's check the loss\n",
    "loss = mse(preds, y)\n",
    "print(loss)"
   ]
  },
  {
   "cell_type": "markdown",
   "id": "d7760a0f",
   "metadata": {},
   "source": [
    "So now let's reset the gradients to 0."
   ]
  },
  {
   "cell_type": "code",
   "execution_count": 37,
   "id": "fa8b5151",
   "metadata": {},
   "outputs": [
    {
     "name": "stdout",
     "output_type": "stream",
     "text": [
      "tensor([[0., 0., 0., 0., 0., 0.]])\n",
      "tensor([0.])\n"
     ]
    }
   ],
   "source": [
    "w.grad.zero_()\n",
    "b.grad.zero_()\n",
    "print(w.grad)\n",
    "print(b.grad)"
   ]
  },
  {
   "cell_type": "code",
   "execution_count": 38,
   "id": "68a71115",
   "metadata": {},
   "outputs": [
    {
     "name": "stdout",
     "output_type": "stream",
     "text": [
      "Actual y values are: \n",
      " tensor([[4.5260],\n",
      "        [3.5850],\n",
      "        [3.5210],\n",
      "        [3.4130],\n",
      "        [3.4220]]) \n",
      "\n",
      "The corresponding predictions are: \n",
      " tensor([[-1.5653],\n",
      "        [-1.5418],\n",
      "        [-1.1024],\n",
      "        [ 0.0329],\n",
      "        [ 0.7396]], grad_fn=<SliceBackward>)\n"
     ]
    }
   ],
   "source": [
    "# Generate predictions\n",
    "preds = model(X)\n",
    "print(\"Actual y values are: \\n\",y[0:5],\"\\n\")\n",
    "print(\"The corresponding predictions are: \\n\",preds[0:5])"
   ]
  },
  {
   "cell_type": "code",
   "execution_count": 39,
   "id": "26bd7fa7",
   "metadata": {},
   "outputs": [
    {
     "name": "stdout",
     "output_type": "stream",
     "text": [
      "tensor(8.3585, grad_fn=<DivBackward0>)\n"
     ]
    }
   ],
   "source": [
    "# Calculate the loss\n",
    "loss = mse(preds, y)\n",
    "print(loss)"
   ]
  },
  {
   "cell_type": "markdown",
   "id": "89763352",
   "metadata": {},
   "source": [
    "So we could do all of this in one go."
   ]
  },
  {
   "cell_type": "code",
   "execution_count": 40,
   "id": "d047001d",
   "metadata": {},
   "outputs": [
    {
     "name": "stdout",
     "output_type": "stream",
     "text": [
      "tensor([[-0.8367,  0.3244, -0.4106, -0.9056,  0.1620, -0.1903]],\n",
      "       requires_grad=True)\n",
      "tensor([0.3453], requires_grad=True)\n"
     ]
    }
   ],
   "source": [
    "# Adjust weights & reset gradients\n",
    "with torch.no_grad():\n",
    "    w -= w.grad * learning_rate\n",
    "    b -= b.grad * learning_rate\n",
    "    w.grad.zero_()\n",
    "    b.grad.zero_()\n",
    "#\n",
    "print(w)\n",
    "print(b)"
   ]
  },
  {
   "cell_type": "code",
   "execution_count": 41,
   "id": "ae216b35",
   "metadata": {},
   "outputs": [
    {
     "name": "stdout",
     "output_type": "stream",
     "text": [
      "tensor(8.3585, grad_fn=<DivBackward0>)\n"
     ]
    }
   ],
   "source": [
    "# Calculate loss\n",
    "preds = model(X)\n",
    "loss = mse(preds, y)\n",
    "print(loss)"
   ]
  },
  {
   "cell_type": "markdown",
   "id": "d443678d",
   "metadata": {},
   "source": [
    "So now we can code up a simple loop to make some predictions, compute the loss, compute the gradient, offset the weights and bias, and then reset the gradient to 0. "
   ]
  },
  {
   "cell_type": "code",
   "execution_count": 42,
   "id": "f08eb235",
   "metadata": {},
   "outputs": [
    {
     "name": "stdout",
     "output_type": "stream",
     "text": [
      "Epoch [5/100], Loss: 6.8495\n",
      "Epoch [10/100], Loss: 5.4118\n",
      "Epoch [15/100], Loss: 4.3413\n",
      "Epoch [20/100], Loss: 3.5369\n",
      "Epoch [25/100], Loss: 2.9270\n",
      "Epoch [30/100], Loss: 2.4607\n",
      "Epoch [35/100], Loss: 2.1013\n",
      "Epoch [40/100], Loss: 1.8221\n",
      "Epoch [45/100], Loss: 1.6036\n",
      "Epoch [50/100], Loss: 1.4316\n",
      "Epoch [55/100], Loss: 1.2954\n",
      "Epoch [60/100], Loss: 1.1869\n",
      "Epoch [65/100], Loss: 1.1001\n",
      "Epoch [70/100], Loss: 1.0302\n",
      "Epoch [75/100], Loss: 0.9739\n",
      "Epoch [80/100], Loss: 0.9282\n",
      "Epoch [85/100], Loss: 0.8910\n",
      "Epoch [90/100], Loss: 0.8606\n",
      "Epoch [95/100], Loss: 0.8357\n",
      "Epoch [100/100], Loss: 0.8153\n"
     ]
    },
    {
     "data": {
      "image/png": "[encoded data removed]",
      "text/plain": [
       "<Figure size 432x288 with 1 Axes>"
      ]
     },
     "metadata": {
      "needs_background": "light"
     },
     "output_type": "display_data"
    }
   ],
   "source": [
    "# Train for 100 epochs\n",
    "\n",
    "EPOCHS = 100\n",
    "mse_list = []\n",
    "for i in range(EPOCHS):\n",
    "    \n",
    "    # Make some predictions using our basic model\n",
    "    preds = model(X)\n",
    "    \n",
    "    # compute the loss\n",
    "    loss = mse(preds, y)\n",
    "    \n",
    "    # print(\"MSE in epoch %d is %3.4f\" % (i,loss.item()),\"\\n\")\n",
    "    if (i+1) % 5 == 0:\n",
    "            print('Epoch [{}/{}], Loss: {:.4f}'.format(i+1, EPOCHS, loss.item()))\n",
    "\n",
    "    mse_list.append(loss.item())\n",
    "    \n",
    "    # compute gradients with respect to the weights and biases\n",
    "    loss.backward()\n",
    "    \n",
    "    # adjust the weights using a learning rate and reset gradients\n",
    "    with torch.no_grad():\n",
    "        w -= w.grad * learning_rate\n",
    "        b -= b.grad * learning_rate\n",
    "        w.grad.zero_()\n",
    "        b.grad.zero_() \n",
    "        \n",
    "import matplotlib.pyplot as plt\n",
    "pd.Series(mse_list).plot()\n",
    "plt.xlabel(\"Epoch Number\")\n",
    "plt.ylabel(\"MSE\")\n",
    "plt.title(\"MSE over Training EPOCHS\")\n",
    "plt.grid()"
   ]
  },
  {
   "cell_type": "code",
   "execution_count": 43,
   "id": "ea2023de",
   "metadata": {},
   "outputs": [
    {
     "name": "stdout",
     "output_type": "stream",
     "text": [
      "Final loss computation is: 0.81\n"
     ]
    }
   ],
   "source": [
    "# Calculate loss\n",
    "preds = model(X)\n",
    "loss = mse(preds, y)\n",
    "print(\"Final loss computation is:\",round(loss.item(),2))"
   ]
  },
  {
   "cell_type": "markdown",
   "id": "df94b090",
   "metadata": {},
   "source": [
    "<h2>Linear Regression using PyTorch</h2>\n",
    "\n",
    "<img src=\"pics/spinning.png\" width =\"400\" height=400>\n",
    "\n",
    "We've implemented linear regression & gradient descent model using some basic tensor operations and we even used our own loss function. However, since this is a common pattern in deep learning, PyTorch provides several built-in functions and classes to make it easy to create and train models with just a few lines of code. **Let's be more trustful of PyTorch and use more of its considerable capabilites**. Keep in mind that what we are doing is along the following lines:\n",
    "\n",
    "1. Identify a target in our data and separate it from the predictors\n",
    "2. Perform any normalization (not always required)\n",
    "3. \"Tensorfy\" the X and y (target) structures\n",
    "4. Feed them into a Data Loader which simplifies the creation of batches\n",
    "5. Define an architecture for your model (e.g. layers, activation functions, dropouts)\n",
    "   - This will be a function of number of features \n",
    "   - Eventual output will match the unique values of your target\n",
    "6. Decide on a cost / loss function (e.g. MSE) to minimize\n",
    "7. Pick an optimizer (e.g. SGD) to work in conjunction with number 5\n",
    "8. Pick a learning rate for number 6.\n",
    "\n",
    "Let's begin by importing the torch.nn package from PyTorch, which contains utility classes for building neural networks and ingesting data which simplifies downstream work. We'll use the **TensorDataset** function to help prep our X and y data from above. It's always a good idea to verify the type of data you have, specifically if it's already a tensor (nor not)."
   ]
  },
  {
   "cell_type": "code",
   "execution_count": 44,
   "id": "1b43c108",
   "metadata": {},
   "outputs": [
    {
     "name": "stdout",
     "output_type": "stream",
     "text": [
      "X is of type <class 'torch.Tensor'>  and has shape torch.Size([20640, 6])\n",
      "y is of type <class 'torch.Tensor'>  and has shape torch.Size([20640, 1])\n"
     ]
    }
   ],
   "source": [
    "print(\"X is of type\",type(X),\" and has shape\",X.shape)\n",
    "print(\"y is of type\",type(X),\" and has shape\",y.shape)"
   ]
  },
  {
   "cell_type": "code",
   "execution_count": 45,
   "id": "e219602a",
   "metadata": {},
   "outputs": [
    {
     "name": "stdout",
     "output_type": "stream",
     "text": [
      "First three rows and of X and y are: (tensor([[ 2.3448,  0.9821,  0.6286, -0.1538, -0.9744, -0.0496],\n",
      "        [ 2.3322, -0.6070,  0.3270, -0.2633,  0.8614, -0.0925],\n",
      "        [ 1.7827,  1.8562,  1.1556, -0.0490, -0.8208, -0.0258]]), tensor([[4.5260],\n",
      "        [3.5850],\n",
      "        [3.5210]]))\n"
     ]
    }
   ],
   "source": [
    "from torch.utils.data import TensorDataset\n",
    "# Define dataset\n",
    "train_ds = TensorDataset(X, y)\n",
    "print(\"First three rows and of X and y are:\",train_ds[0:3])"
   ]
  },
  {
   "cell_type": "markdown",
   "id": "017933da",
   "metadata": {},
   "source": [
    "### Data Loaders\n",
    "\n",
    "One strength of PyTorch is its ability to manage very large data files which might require some form of subdivision to \"feed\" data into a network for efficient processing. While we could do this outselves it would be tedious. To this end, PyTorch has a class of utilities called **DataLoaders** which helps with this task.  \n",
    "\n",
    "In this case, the <b>DataLoader</b> function can take a training dataset, (which itself has been prepared with **TensorDataset**) along with an indicated *batch_size*. We get back a series of X and y pairs, as tensors of course, which are then pushed <b><i>into the network</i></b>. When all batches have been processed we have completed one epoch. This includes foward and back propogation. And then for each subsequent epoch - we do it all again. \n",
    "\n",
    "<img src=\"pics/dataload.png\" >\n"
   ]
  },
  {
   "cell_type": "code",
   "execution_count": 46,
   "id": "dc7e0277",
   "metadata": {},
   "outputs": [],
   "source": [
    "# Next, we will pass the train_ds into the DataLoader function\n",
    "# which will chop it up into batches within a single object\n",
    "\n",
    "from torch.utils.data import DataLoader\n",
    "# Define data loader\n",
    "batch_size = 1000   # Create batches of 1,000 each\n",
    "train_dl = DataLoader(train_ds, batch_size, shuffle=True)\n"
   ]
  },
  {
   "cell_type": "markdown",
   "id": "9754b0ab",
   "metadata": {},
   "source": [
    "So the DataLoader operation will give is an iterable structure that provides batches of 1000 rows of data at a time which in this case that our model / network will consume approximately 21 batchs of 1000 rows each. 20460/1000. We could change this of course and use it a source of experimentation. When all batches have been through the network once, we call this an EPOCH."
   ]
  },
  {
   "cell_type": "code",
   "execution_count": 47,
   "id": "a101a9ef",
   "metadata": {},
   "outputs": [
    {
     "name": "stdout",
     "output_type": "stream",
     "text": [
      "Batch 1 Size of xb: torch.Size([1000, 6]) Size of yb: torch.Size([1000, 1])\n",
      "Batch 2 Size of xb: torch.Size([1000, 6]) Size of yb: torch.Size([1000, 1])\n",
      "Batch 3 Size of xb: torch.Size([1000, 6]) Size of yb: torch.Size([1000, 1])\n",
      "Batch 4 Size of xb: torch.Size([1000, 6]) Size of yb: torch.Size([1000, 1])\n",
      "Batch 5 Size of xb: torch.Size([1000, 6]) Size of yb: torch.Size([1000, 1])\n",
      "Batch 6 Size of xb: torch.Size([1000, 6]) Size of yb: torch.Size([1000, 1])\n",
      "Batch 7 Size of xb: torch.Size([1000, 6]) Size of yb: torch.Size([1000, 1])\n",
      "Batch 8 Size of xb: torch.Size([1000, 6]) Size of yb: torch.Size([1000, 1])\n",
      "Batch 9 Size of xb: torch.Size([1000, 6]) Size of yb: torch.Size([1000, 1])\n",
      "Batch 10 Size of xb: torch.Size([1000, 6]) Size of yb: torch.Size([1000, 1])\n",
      "Batch 11 Size of xb: torch.Size([1000, 6]) Size of yb: torch.Size([1000, 1])\n",
      "Batch 12 Size of xb: torch.Size([1000, 6]) Size of yb: torch.Size([1000, 1])\n",
      "Batch 13 Size of xb: torch.Size([1000, 6]) Size of yb: torch.Size([1000, 1])\n",
      "Batch 14 Size of xb: torch.Size([1000, 6]) Size of yb: torch.Size([1000, 1])\n",
      "Batch 15 Size of xb: torch.Size([1000, 6]) Size of yb: torch.Size([1000, 1])\n",
      "Batch 16 Size of xb: torch.Size([1000, 6]) Size of yb: torch.Size([1000, 1])\n",
      "Batch 17 Size of xb: torch.Size([1000, 6]) Size of yb: torch.Size([1000, 1])\n",
      "Batch 18 Size of xb: torch.Size([1000, 6]) Size of yb: torch.Size([1000, 1])\n",
      "Batch 19 Size of xb: torch.Size([1000, 6]) Size of yb: torch.Size([1000, 1])\n",
      "Batch 20 Size of xb: torch.Size([1000, 6]) Size of yb: torch.Size([1000, 1])\n",
      "Batch 21 Size of xb: torch.Size([640, 6]) Size of yb: torch.Size([640, 1])\n"
     ]
    }
   ],
   "source": [
    "# Batch Loaders\n",
    "batch_num = 1\n",
    "for xb, yb in train_dl:\n",
    "    print(\"Batch\",batch_num,\"Size of xb:\",xb.shape,\"Size of yb:\",yb.shape)\n",
    "    batch_num += 1\n",
    "    "
   ]
  },
  {
   "cell_type": "markdown",
   "id": "74a38aaf",
   "metadata": {},
   "source": [
    "Next we can create a model which in this case is painfully simple. It's just a single Linear layer although this time we are actually using a PyTorch method. Remeber, in the previous example we used our set of equations (which was more or less a linear model).\n",
    "\n",
    "It's worth it to point out that here, I am using the **Functional** interace to PyTorch as opposed to the Object Oriented interface which is commonly used when processing images. In reality, either approach works. It becomes a matter of taste and common practice within one's domain. I find the Functional interface a little less verbose but this is up to you. "
   ]
  },
  {
   "cell_type": "code",
   "execution_count": 48,
   "id": "d4e5a8b6",
   "metadata": {},
   "outputs": [
    {
     "name": "stdout",
     "output_type": "stream",
     "text": [
      "Parameter containing:\n",
      "tensor([[ 0.1840, -0.2647, -0.0113, -0.3067, -0.1360,  0.0281]],\n",
      "       requires_grad=True)\n",
      "Parameter containing:\n",
      "tensor([-0.1195], requires_grad=True)\n"
     ]
    }
   ],
   "source": [
    "# Define model - number of predictors is 6\n",
    "num_of_predictors = 6\n",
    "\n",
    "# This comes from PyTorch\n",
    "model = nn.Linear(num_of_predictors, 1)\n",
    "\n",
    "print(model.weight)\n",
    "print(model.bias)\n",
    "\n",
    "# Parameters\n",
    "list(model.parameters())\n",
    "\n",
    "# Import nn.functional\n",
    "import torch.nn.functional as F\n",
    "\n",
    "# Define loss function - MSE\n",
    "loss_fn = F.mse_loss\n",
    "\n",
    "#loss = loss_fn(model(X), y, reduction=\"none\")\n",
    "loss = loss_fn(model(X), y)\n",
    "#print(loss)"
   ]
  },
  {
   "cell_type": "code",
   "execution_count": 49,
   "id": "f70625ef",
   "metadata": {},
   "outputs": [
    {
     "name": "stdout",
     "output_type": "stream",
     "text": [
      "Epoch [5/100], Training Loss: 4.1287\n",
      "Epoch [10/100], Training Loss: 2.7784\n",
      "Epoch [15/100], Training Loss: 2.2692\n",
      "Epoch [20/100], Training Loss: 1.7123\n",
      "Epoch [25/100], Training Loss: 1.3470\n",
      "Epoch [30/100], Training Loss: 1.1267\n",
      "Epoch [35/100], Training Loss: 0.9089\n",
      "Epoch [40/100], Training Loss: 0.7933\n",
      "Epoch [45/100], Training Loss: 0.8767\n",
      "Epoch [50/100], Training Loss: 0.7525\n",
      "Epoch [55/100], Training Loss: 0.6425\n",
      "Epoch [60/100], Training Loss: 0.6929\n",
      "Epoch [65/100], Training Loss: 0.6795\n",
      "Epoch [70/100], Training Loss: 0.8030\n",
      "Epoch [75/100], Training Loss: 0.6529\n",
      "Epoch [80/100], Training Loss: 0.7419\n",
      "Epoch [85/100], Training Loss: 0.6874\n",
      "Epoch [90/100], Training Loss: 0.6547\n",
      "Epoch [95/100], Training Loss: 0.7203\n",
      "Epoch [100/100], Training Loss: 0.6642\n"
     ]
    }
   ],
   "source": [
    "# So we also need an optimizer to work in conjunction with our\n",
    "# loss function. \n",
    "\n",
    "# Learning rate can impact this\n",
    "opt = torch.optim.SGD(model.parameters(), lr=1e-3)\n",
    "\n",
    "# This a function desgined to process \n",
    "def fit(num_epochs, model, loss_fn, opt, train_dl):\n",
    "    \n",
    "    # Repeat for given number of epochs\n",
    "    for epoch in range(num_epochs):\n",
    "        \n",
    "        # Train with batches of data\n",
    "        for xb,yb in train_dl:\n",
    "            \n",
    "            # 1. Generate predictions\n",
    "            pred = model(xb)\n",
    "            \n",
    "            # 2. Calculate loss\n",
    "            loss = loss_fn(pred, yb)\n",
    "            \n",
    "            # 3. Compute gradients\n",
    "            loss.backward()\n",
    "            \n",
    "            # 4. Update parameters using gradients\n",
    "            opt.step()\n",
    "            \n",
    "            # 5. Reset the gradients to zero\n",
    "            opt.zero_grad()\n",
    "        \n",
    "        # Print the progress\n",
    "        if (epoch+1) % 5 == 0:\n",
    "            print('Epoch [{}/{}], Training Loss: {:.4f}'.format(epoch+1, num_epochs, loss.item()))\n",
    "\n",
    "fit(100, model, loss_fn, opt, train_dl)"
   ]
  },
  {
   "cell_type": "markdown",
   "id": "23e886cc",
   "metadata": {},
   "source": [
    "## Things To Consider\n",
    "\n",
    "1. What impact does the learning rate have on this process ? \n",
    "2. How about the batch size ? \n",
    "3. Do the number of Epochs matter ? \n",
    "4. How about choice of optimizer ? \n",
    "5. What about creating a more sophisticated model architecture ?\n",
    "6. Have we learned anything about this model's applicability to unseen data ? "
   ]
  },
  {
   "cell_type": "markdown",
   "id": "4620c00d",
   "metadata": {},
   "source": [
    "<h2> Another Look At All of This </h2>"
   ]
  },
  {
   "cell_type": "markdown",
   "id": "beb0e71e",
   "metadata": {},
   "source": [
    "Okay, we've walked through the process of regression with a progressive immersion into the PyTorch way of doing things. This has been instructive but perhaps we should look at a more integrated example that more or less pulls it all together. There are also a few things we could do to make things more interesting:\n",
    "\n",
    "### What have we done thus far ? \n",
    "\n",
    "1. We read in some \"real\" data (The California Housing Data)\n",
    "2. We separated the predictors (X) from the target (y) which is Price\n",
    "3. We then turned X and y into tensors\n",
    "4. We then used the data as input into a NN\n",
    "5. We plotted the resulting training error\n",
    "\n",
    "### Then What ? \n",
    "\n",
    "1. Well we then took the X and y data and passed it into..\n",
    "2. The TensorDataSet and DataLoader functions to get smaller input batches\n",
    "3. We then re-ran the model on this to see the impact\n",
    "4. This approach will work for much larger data sets\n",
    "\n",
    "### Now What ? \n",
    "\n",
    "Well we have an opportunity to go a little deeper by separating the data into training and testing data which is how we might do this in so called real life. So, we'll start over by re-reading in the data and processing it would some scikit tools. \n",
    "\n",
    "We will also scale the X values since they are on different levels of measurement. This might (or not) make a big difference in the outcome but it's good practice. \n"
   ]
  },
  {
   "cell_type": "code",
   "execution_count": 50,
   "id": "bc1026a6",
   "metadata": {},
   "outputs": [],
   "source": [
    "import torch\n",
    "from torch.autograd import Variable\n",
    "import torch.nn.functional as F\n",
    "import torch.utils.data as Data\n",
    "from sklearn.datasets import fetch_california_housing\n",
    "import numpy as np\n",
    "import pandas as pd\n",
    "import matplotlib.pyplot as plt"
   ]
  },
  {
   "cell_type": "markdown",
   "id": "f8201961",
   "metadata": {},
   "source": [
    "We'll stick with the California data but let's read it in using a different approach. We will also attempt to carve off the first N number of records from the data to reserve for later use as a test data set. "
   ]
  },
  {
   "cell_type": "code",
   "execution_count": 51,
   "id": "66f02280-1ebe-41ed-a450-15dd5531f02f",
   "metadata": {},
   "outputs": [
    {
     "name": "stdout",
     "output_type": "stream",
     "text": [
      "torch.Size([16640, 1])\n",
      "torch.Size([16640, 6])\n"
     ]
    }
   ],
   "source": [
    "\n",
    "Xc = np.array(cal.drop('Price',axis=1), dtype='float32')\n",
    "yc = np.array(cal.Price, dtype='float32')\n",
    "\n",
    "# This fetches the X and y data\n",
    "#(Xc,yc) = fetch_california_housing(return_X_y=True)\n",
    "\n",
    "# Let's hold out 4,000 rows from the data to be used as test data\n",
    "numtoholdout = 4000\n",
    "\n",
    "# Now create a holdout / test set\n",
    "Xhold = Xc[0:numtoholdout,]\n",
    "yhold = yc[0:numtoholdout,]\n",
    "\n",
    "# Create the training data\n",
    "Xc = Xc[:-numtoholdout]\n",
    "yc = yc[:-numtoholdout]\n",
    "\n",
    "# Turn numpy structures into tensors\n",
    "y = torch.tensor(yc,dtype=torch.float)\n",
    "y = torch.unsqueeze(y,dim=1)\n",
    "\n",
    "x = torch.tensor(Xc,dtype=torch.float)\n",
    "#x = torch.tensor(Xc[:,0],dtype=torch.float)\n",
    "#x = torch.unsqueeze(x,dim=1)\n",
    "#\n",
    "print(y.size())\n",
    "print(x.size())\n"
   ]
  },
  {
   "cell_type": "code",
   "execution_count": 52,
   "id": "2c9cb9ba",
   "metadata": {},
   "outputs": [],
   "source": [
    "# Do the same for the holdout\n",
    "yt = torch.tensor(yhold,dtype=torch.float)\n",
    "yt = torch.unsqueeze(yt,dim=1)\n",
    "#xt = torch.tensor(Xhold[:,0],dtype=torch.float)\n",
    "xt = torch.tensor(Xhold,dtype=torch.float)\n",
    "#xt = torch.unsqueeze(xt,dim=1)\n"
   ]
  },
  {
   "cell_type": "markdown",
   "id": "5efcd689",
   "metadata": {},
   "source": [
    "Let's define a Sequential network that will contain more than just a single layer. We can experiment with this in any number of ways and you should feel free to do so. Many times there is not \"right\" architecture although the research in your domain of interest will frequently point to certain combinations of layers and whether to use drop puts. "
   ]
  },
  {
   "cell_type": "code",
   "execution_count": 53,
   "id": "fdb9059a",
   "metadata": {},
   "outputs": [],
   "source": [
    "from torch.utils.data import DataLoader\n",
    "nodes = 300\n",
    "num_of_predictors = 6\n",
    "net = torch.nn.Sequential(\n",
    "#       torch.nn.Dropout(), \n",
    "        torch.nn.Linear(num_of_predictors, nodes),\n",
    "        torch.nn.LeakyReLU(),\n",
    "        torch.nn.Linear(nodes, 100),\n",
    "        torch.nn.LeakyReLU(),\n",
    "        torch.nn.Linear(100, 1),\n",
    "    )\n",
    "\n",
    "optimizer = torch.optim.Adam(net.parameters(), lr=0.0001)\n",
    "#optimizer = torch.optim.SGD(net.parameters(), lr=0.0001)\n",
    "loss_func = torch.nn.MSELoss()  # this is for regression mean squared loss\n",
    "\n",
    "# Figure out a batch size (this can be something to experiment with)\n",
    "# For example, try 1000 instead of 2000\n",
    "BATCH_SIZE = 2000\n",
    "\n",
    "# Read the data with TensorDataset\n",
    "train_ds = TensorDataset(x, y)\n",
    "\n",
    "# Now load the torch_dataset stucture into DataLoader to chop it up\n",
    "train_dl = DataLoader(dataset=train_ds, batch_size=BATCH_SIZE, shuffle=True)"
   ]
  },
  {
   "cell_type": "code",
   "execution_count": 54,
   "id": "0e7c184c-00bb-49c8-a6ba-c7fd456bfefb",
   "metadata": {},
   "outputs": [
    {
     "name": "stdout",
     "output_type": "stream",
     "text": [
      "Epoch [5/150], Train Loss: 121.9610, Test Loss: 93.6237\n",
      "Epoch [10/150], Train Loss: 3.0984, Test Loss: 2.1441\n",
      "Epoch [15/150], Train Loss: 2.0655, Test Loss: 1.5266\n",
      "Epoch [20/150], Train Loss: 2.0312, Test Loss: 1.4992\n",
      "Epoch [25/150], Train Loss: 2.0078, Test Loss: 1.4834\n",
      "Epoch [30/150], Train Loss: 2.0359, Test Loss: 1.4787\n",
      "Epoch [35/150], Train Loss: 1.9537, Test Loss: 1.4978\n",
      "Epoch [40/150], Train Loss: 1.9259, Test Loss: 1.5029\n",
      "Epoch [45/150], Train Loss: 1.8961, Test Loss: 1.5161\n",
      "Epoch [50/150], Train Loss: 1.8825, Test Loss: 1.5182\n",
      "Epoch [55/150], Train Loss: 1.8664, Test Loss: 1.5388\n",
      "Epoch [60/150], Train Loss: 1.8516, Test Loss: 1.5311\n",
      "Epoch [65/150], Train Loss: 1.8633, Test Loss: 1.5353\n",
      "Epoch [70/150], Train Loss: 1.8230, Test Loss: 1.5335\n",
      "Epoch [75/150], Train Loss: 1.8354, Test Loss: 1.5179\n",
      "Epoch [80/150], Train Loss: 1.8088, Test Loss: 1.5227\n",
      "Epoch [85/150], Train Loss: 1.7859, Test Loss: 1.5141\n",
      "Epoch [90/150], Train Loss: 1.7665, Test Loss: 1.4948\n",
      "Epoch [95/150], Train Loss: 1.7800, Test Loss: 1.4827\n",
      "Epoch [100/150], Train Loss: 1.7491, Test Loss: 1.4755\n",
      "Epoch [105/150], Train Loss: 1.7282, Test Loss: 1.4574\n",
      "Epoch [110/150], Train Loss: 1.7144, Test Loss: 1.4510\n",
      "Epoch [115/150], Train Loss: 1.6899, Test Loss: 1.4330\n",
      "Epoch [120/150], Train Loss: 1.6924, Test Loss: 1.4128\n",
      "Epoch [125/150], Train Loss: 1.6668, Test Loss: 1.4150\n",
      "Epoch [130/150], Train Loss: 1.6492, Test Loss: 1.3846\n",
      "Epoch [135/150], Train Loss: 1.5687, Test Loss: 1.2756\n",
      "Epoch [140/150], Train Loss: 1.5263, Test Loss: 1.2495\n",
      "Epoch [145/150], Train Loss: 1.4910, Test Loss: 1.2135\n",
      "Epoch [150/150], Train Loss: 1.4564, Test Loss: 1.1659\n"
     ]
    },
    {
     "data": {
      "image/png": "[encoded data removed]",
      "text/plain": [
       "<Figure size 432x288 with 1 Axes>"
      ]
     },
     "metadata": {
      "needs_background": "light"
     },
     "output_type": "display_data"
    }
   ],
   "source": [
    "# Set up some accumulators for average training and test loss\n",
    "EPOCH = 150\n",
    "avloss = []\n",
    "avtestloss = []\n",
    "for epoch in range(EPOCH):\n",
    "    acc_loss = []\n",
    "    test_loss = []\n",
    "    for step, (batch_x, batch_y) in enumerate(train_dl): # for each training ste\n",
    "        \n",
    "        b_x = batch_x\n",
    "        b_y = batch_y\n",
    "\n",
    "        # Get the training loss per batch\n",
    "        prediction = net(b_x)     # input x and predict based on x\n",
    "        loss = loss_func(prediction, b_y)     # must be (1. nn output, 2. target)\n",
    "        acc_loss.append(loss.item())\n",
    "        \n",
    "        # Get the test loss per batch\n",
    "        testpred = net(xt)\n",
    "        predloss = loss_func(testpred,yt)\n",
    "        test_loss.append(predloss.item())\n",
    "\n",
    "        optimizer.zero_grad()   # clear gradients for next train\n",
    "        loss.backward()         # backpropagation, compute gradients\n",
    "        optimizer.step()        # apply gradients\n",
    "        \n",
    "        # print(\"Epoch %d: Train Loss %6.4f, Test Loss %6.4f\" % (epoch,np.mean(acc_loss),np.mean(test_loss)))\n",
    "    \n",
    "    avloss.append(np.mean(acc_loss))\n",
    "    avtestloss.append(np.mean(test_loss))\n",
    "    \n",
    "    if (epoch+1) % 5 == 0:\n",
    "        print('Epoch [{}/{}], Train Loss: {:.4f}, Test Loss: {:.4f}'.format(epoch+1, EPOCH, np.mean(acc_loss),np.mean(test_loss)))\n",
    "\n",
    "d = {'TrainLoss':avloss,'TestLoss':avtestloss}\n",
    "errdf = pd.DataFrame(d)\n",
    "\n",
    "errdf.plot.line()\n",
    "plt.ylabel(\"MSE\")\n",
    "plt.xlabel(\"Epoch\")\n",
    "plt.title(\"Training / Test Loss\")\n",
    "plt.grid()"
   ]
  },
  {
   "cell_type": "markdown",
   "id": "6ecd056d",
   "metadata": {},
   "source": [
    "## Make a Function\n",
    "\n",
    "So what happened above? We chopped the data up into batches. Well we didn't do that, the DataLoader did it for us. In any case we processed each batch during which we:\n",
    "\n",
    "1. Trained the model on the X data for that batch\n",
    "2. Observed the training error by making training predictions\n",
    "3. Observed the testing error by making predictions using the test data\n",
    "\n",
    "So now we could make a function to encapsulate that acitvity. We could also make functions to setup the model, select an optimizer, and indicate things like batch sizes. But we'll start with just the training activity. "
   ]
  },
  {
   "cell_type": "code",
   "execution_count": 55,
   "id": "ea45e624-2490-47ff-aead-030b45ff5297",
   "metadata": {},
   "outputs": [
    {
     "name": "stdout",
     "output_type": "stream",
     "text": [
      "Epoch [5/150], Train Loss: 2.7670, Test Loss: 1.6420\n",
      "Epoch [10/150], Train Loss: 1.5819, Test Loss: 0.9163\n",
      "Epoch [15/150], Train Loss: 1.3755, Test Loss: 0.9224\n",
      "Epoch [20/150], Train Loss: 1.3113, Test Loss: 0.9839\n",
      "Epoch [25/150], Train Loss: 1.2828, Test Loss: 0.9939\n",
      "Epoch [30/150], Train Loss: 1.2548, Test Loss: 0.9972\n",
      "Epoch [35/150], Train Loss: 1.2055, Test Loss: 0.9800\n",
      "Epoch [40/150], Train Loss: 1.1563, Test Loss: 0.9376\n",
      "Epoch [45/150], Train Loss: 1.1169, Test Loss: 0.9026\n",
      "Epoch [50/150], Train Loss: 1.0708, Test Loss: 0.8777\n",
      "Epoch [55/150], Train Loss: 1.0544, Test Loss: 0.8615\n",
      "Epoch [60/150], Train Loss: 1.0213, Test Loss: 0.8311\n",
      "Epoch [65/150], Train Loss: 1.0087, Test Loss: 0.8182\n",
      "Epoch [70/150], Train Loss: 0.9860, Test Loss: 0.7988\n",
      "Epoch [75/150], Train Loss: 0.9758, Test Loss: 0.7787\n",
      "Epoch [80/150], Train Loss: 0.9439, Test Loss: 0.7603\n",
      "Epoch [85/150], Train Loss: 0.9203, Test Loss: 0.7446\n",
      "Epoch [90/150], Train Loss: 0.9056, Test Loss: 0.7269\n",
      "Epoch [95/150], Train Loss: 0.9091, Test Loss: 0.7080\n",
      "Epoch [100/150], Train Loss: 0.8802, Test Loss: 0.7100\n",
      "Epoch [105/150], Train Loss: 0.8602, Test Loss: 0.6981\n",
      "Epoch [110/150], Train Loss: 0.8388, Test Loss: 0.6674\n",
      "Epoch [115/150], Train Loss: 0.8480, Test Loss: 0.6620\n",
      "Epoch [120/150], Train Loss: 0.8237, Test Loss: 0.6401\n",
      "Epoch [125/150], Train Loss: 0.8158, Test Loss: 0.6425\n",
      "Epoch [130/150], Train Loss: 0.7738, Test Loss: 0.5997\n",
      "Epoch [135/150], Train Loss: 0.7662, Test Loss: 0.5983\n",
      "Epoch [140/150], Train Loss: 0.7270, Test Loss: 0.5611\n",
      "Epoch [145/150], Train Loss: 0.7218, Test Loss: 0.5504\n",
      "Epoch [150/150], Train Loss: 0.7193, Test Loss: 0.5469\n"
     ]
    }
   ],
   "source": [
    "# Summary\n",
    "\n",
    "# Setup a model called \"net\"\n",
    "nodes = 200\n",
    "num_of_predictors = 6\n",
    "\n",
    "net = torch.nn.Sequential(\n",
    "#       torch.nn.Dropout(), \n",
    "        torch.nn.Linear(num_of_predictors, nodes),\n",
    "        torch.nn.LeakyReLU(),\n",
    "        torch.nn.Linear(nodes, 100),\n",
    "        torch.nn.LeakyReLU(),\n",
    "        torch.nn.Linear(100, 1),\n",
    ")\n",
    "\n",
    "# The optimizer type and learning rate can impact performance\n",
    "#opt = torch.optim.SGD(net.parameters(), lr=1e-4)\n",
    "opt = torch.optim.Adam(net.parameters(), lr=0.0001)\n",
    "\n",
    "# Establish a loss function\n",
    "loss_func = torch.nn.MSELoss()  # this is for regression mean squared loss\n",
    "\n",
    "# \n",
    "# This a function designed to process the data using the above \n",
    "# Note we could experiment with different epochs, models, loss functions\n",
    "# and optimizers using this approach\n",
    "#\n",
    "\n",
    "def fit(num_epochs, model, loss_fn, opt, train_dl):\n",
    "\n",
    "    avloss = []\n",
    "    avtestloss = []\n",
    "    \n",
    "    for epoch in range(num_epochs):\n",
    "        acc_loss = []\n",
    "        test_loss = []\n",
    "        for step, (batch_x, batch_y) in enumerate(train_dl): \n",
    "            b_x = batch_x\n",
    "            b_y = batch_y\n",
    "\n",
    "        # Get the training loss per batch\n",
    "            prediction = model(b_x)     # input x and predict based on x\n",
    "            loss = loss_fn(prediction, b_y)     # must be (1. nn output, 2. target)\n",
    "            acc_loss.append(loss.item())\n",
    "        \n",
    "        # Get the test loss per batch\n",
    "            testpred = model(xt)\n",
    "            predloss = loss_fn(testpred,yt)\n",
    "            test_loss.append(predloss.item())\n",
    "\n",
    "            opt.zero_grad()   # clear gradients for next train\n",
    "            loss.backward()         # backpropagation, compute gradients\n",
    "            opt.step()        # apply gradients\n",
    "        \n",
    "            #print(\"Epoch %d: Train Loss %6.4f, Test Loss %6.4f\" % (epoch,np.mean(acc_loss),np.mean(test_loss)))\n",
    "    \n",
    "        avloss.append(np.mean(acc_loss))\n",
    "        avtestloss.append(np.mean(test_loss))\n",
    "    \n",
    "        if (epoch+1) % 5 == 0:\n",
    "             print('Epoch [{}/{}], Train Loss: {:.4f}, Test Loss: {:.4f}'.format(epoch+1, num_epochs, np.mean(acc_loss),np.mean(test_loss)))\n",
    "\n",
    "    d = {'TrainLoss':avloss,'TestLoss':avtestloss}\n",
    "    errdf = pd.DataFrame(d)\n",
    "    return errdf\n",
    "\n",
    "# Now call the function\n",
    "holddf = fit(150, net, loss_func, opt, train_dl)"
   ]
  },
  {
   "cell_type": "code",
   "execution_count": 56,
   "id": "159c6f4d-20bf-4149-9ab5-57fef336b5cd",
   "metadata": {},
   "outputs": [
    {
     "data": {
      "image/png": "[encoded data removed]",
      "text/plain": [
       "<Figure size 432x288 with 1 Axes>"
      ]
     },
     "metadata": {
      "needs_background": "light"
     },
     "output_type": "display_data"
    }
   ],
   "source": [
    "# Plot the errors \n",
    "holddf.plot.line()\n",
    "plt.ylabel(\"MSE\")\n",
    "plt.xlabel(\"Epoch\")\n",
    "plt.title(\"Training / Test Loss\")\n",
    "plt.grid()"
   ]
  },
  {
   "cell_type": "code",
   "execution_count": null,
   "id": "9de5f765-f16d-4e86-b81e-c59a0e85dc43",
   "metadata": {},
   "outputs": [],
   "source": []
  }
 ],
 "metadata": {
  "kernelspec": {
   "display_name": "Python 3 (ipykernel)",
   "language": "python",
   "name": "python3"
  },
  "language_info": {
   "codemirror_mode": {
    "name": "ipython",
    "version": 3
   },
   "file_extension": ".py",
   "mimetype": "text/x-python",
   "name": "python",
   "nbconvert_exporter": "python",
   "pygments_lexer": "ipython3",
   "version": "3.8.12"
  }
 },
 "nbformat": 4,
 "nbformat_minor": 5
}
